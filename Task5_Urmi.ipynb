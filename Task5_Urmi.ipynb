{
  "nbformat": 4,
  "nbformat_minor": 0,
  "metadata": {
    "colab": {
      "name": "Task5_Urmi.ipynb",
      "provenance": [],
      "collapsed_sections": [],
      "toc_visible": true,
      "include_colab_link": true
    },
    "interpreter": {
      "hash": "6f6a9d06c0fd64bf60e6e1c5f52d9e61e3a0d126987fc458258eb07643fb7172"
    },
    "kernelspec": {
      "display_name": "Python 3",
      "language": "python",
      "name": "python3"
    },
    "language_info": {
      "codemirror_mode": {
        "name": "ipython",
        "version": 3
      },
      "file_extension": ".py",
      "mimetype": "text/x-python",
      "name": "python",
      "nbconvert_exporter": "python",
      "pygments_lexer": "ipython3",
      "version": "3.8.5"
    }
  },
  "cells": [
    {
      "cell_type": "markdown",
      "metadata": {
        "id": "view-in-github",
        "colab_type": "text"
      },
      "source": [
        "<a href=\"https://colab.research.google.com/github/urmidedhia/Synapse-Learning-Period/blob/week-5/Task5_Urmi.ipynb\" target=\"_parent\"><img src=\"https://colab.research.google.com/assets/colab-badge.svg\" alt=\"Open In Colab\"/></a>"
      ]
    },
    {
      "cell_type": "markdown",
      "metadata": {
        "id": "jYysdyb-CaWM"
      },
      "source": [
        "# Intro to TensorFlow: Classify images of clothing"
      ]
    },
    {
      "cell_type": "code",
      "metadata": {
        "id": "dzLKpmZICaWN"
      },
      "source": [
        "# import Tensorflow\n",
        "import tensorflow as tf\n",
        "from tensorflow import keras\n",
        "from tensorflow.keras.models import Sequential\n",
        "from tensorflow.keras.layers import Activation, Dense, Flatten, BatchNormalization, Softmax, Dropout\n",
        "from tensorflow.keras.optimizers import Adam\n",
        "from tensorflow.keras.metrics import SparseCategoricalCrossentropy\n",
        "import pandas as pd\n",
        "import numpy as np\n",
        "import matplotlib.pyplot as plt\n",
        "# import the other helper libraries required\n",
        "\n",
        "\n"
      ],
      "execution_count": 358,
      "outputs": []
    },
    {
      "cell_type": "markdown",
      "metadata": {
        "id": "yR0EdgrLCaWR"
      },
      "source": [
        "## Import the Fashion MNIST dataset"
      ]
    },
    {
      "cell_type": "markdown",
      "metadata": {
        "id": "DLdCchMdCaWQ"
      },
      "source": [
        "This guide uses the [Fashion MNIST](https://github.com/zalandoresearch/fashion-mnist) dataset which contains 70,000 grayscale images in 10 categories. The images show individual articles of clothing at low resolution (28 by 28 pixels), as seen here:\n",
        "\n",
        "<table>\n",
        "  <tr><td>\n",
        "    <img src=\"https://tensorflow.org/images/fashion-mnist-sprite.png\"\n",
        "         alt=\"Fashion MNIST sprite\"  width=\"600\">\n",
        "  </td></tr>\n",
        "  <tr><td align=\"center\">\n",
        "    <b>Figure 1.</b> <a href=\"https://github.com/zalandoresearch/fashion-mnist\">Fashion-MNIST samples</a> (by Zalando, MIT License).<br/>&nbsp;\n",
        "  </td></tr>\n",
        "</table>\n",
        "\n",
        "Fashion MNIST is intended as a drop-in replacement for the classic [MNIST](http://yann.lecun.com/exdb/mnist/) dataset—often used as the \"Hello, World\" of machine learning programs for computer vision. The MNIST dataset contains images of handwritten digits (0, 1, 2, etc.) in a format identical to that of the articles of clothing you'll use here.\n",
        "\n",
        "This guide uses Fashion MNIST for variety, and because it's a slightly more challenging problem than regular MNIST. Both datasets are relatively small and are used to verify that an algorithm works as expected. They're good starting points to test and debug code.\n",
        "\n",
        "Here, 60,000 images are used to train the network and 10,000 images to evaluate how accurately the network learned to classify images. You can access the Fashion MNIST directly from TensorFlow. Import and [load the Fashion MNIST data](https://www.tensorflow.org/api_docs/python/tf/keras/datasets/fashion_mnist/load_data) directly from TensorFlow:"
      ]
    },
    {
      "cell_type": "code",
      "metadata": {
        "id": "7MqDQO0KCaWS"
      },
      "source": [
        "#complete the code below:\n",
        "fashion_mnist = tf.keras.datasets.fashion_mnist\n",
        "\n",
        "#load the data into train_images, train_labels, test_images, test_labels\n",
        "(train_images, train_labels), (test_images, test_labels) = fashion_mnist.load_data()"
      ],
      "execution_count": 359,
      "outputs": []
    },
    {
      "cell_type": "markdown",
      "metadata": {
        "id": "t9FDsUlxCaWW"
      },
      "source": [
        "Loading the dataset returns four NumPy arrays:\n",
        "\n",
        "* The `train_images` and `train_labels` arrays are the *training set*—the data the model uses to learn.\n",
        "* The model is tested against the *test set*, the `test_images`, and `test_labels` arrays.\n",
        "\n",
        "The images are 28x28 NumPy arrays, with pixel values ranging from 0 to 255. The *labels* are an array of integers, ranging from 0 to 9. These correspond to the *class* of clothing the image represents:\n",
        "\n",
        "<table>\n",
        "  <tr>\n",
        "    <th>Label</th>\n",
        "    <th>Class</th>\n",
        "  </tr>\n",
        "  <tr>\n",
        "    <td>0</td>\n",
        "    <td>T-shirt/top</td>\n",
        "  </tr>\n",
        "  <tr>\n",
        "    <td>1</td>\n",
        "    <td>Trouser</td>\n",
        "  </tr>\n",
        "    <tr>\n",
        "    <td>2</td>\n",
        "    <td>Pullover</td>\n",
        "  </tr>\n",
        "    <tr>\n",
        "    <td>3</td>\n",
        "    <td>Dress</td>\n",
        "  </tr>\n",
        "    <tr>\n",
        "    <td>4</td>\n",
        "    <td>Coat</td>\n",
        "  </tr>\n",
        "    <tr>\n",
        "    <td>5</td>\n",
        "    <td>Sandal</td>\n",
        "  </tr>\n",
        "    <tr>\n",
        "    <td>6</td>\n",
        "    <td>Shirt</td>\n",
        "  </tr>\n",
        "    <tr>\n",
        "    <td>7</td>\n",
        "    <td>Sneaker</td>\n",
        "  </tr>\n",
        "    <tr>\n",
        "    <td>8</td>\n",
        "    <td>Bag</td>\n",
        "  </tr>\n",
        "    <tr>\n",
        "    <td>9</td>\n",
        "    <td>Ankle boot</td>\n",
        "  </tr>\n",
        "</table>\n",
        "\n",
        "Each image is mapped to a single label. Since the *class names* are not included with the dataset, store them here to use later when plotting the images:"
      ]
    },
    {
      "cell_type": "code",
      "metadata": {
        "id": "IjnLH5S2CaWx"
      },
      "source": [
        "#store the class names in a list\n",
        "#complete the code below\n",
        "class_names = [\"T-shirt/Top\",\"Trouser\",\"Pullover\",\"Dress\",\"Coat\",\"Sandal\",\"Shirt\",\"Sneaker\",\"Bag\",\"Ankle boot\"]"
      ],
      "execution_count": 360,
      "outputs": []
    },
    {
      "cell_type": "markdown",
      "metadata": {
        "id": "Brm0b_KACaWX"
      },
      "source": [
        "## Explore the data\n",
        "\n",
        "Let's explore the format of the dataset before training the model. The following shows there are 60,000 images in the training set, with each image represented as 28 x 28 pixels:"
      ]
    },
    {
      "cell_type": "code",
      "metadata": {
        "id": "zW5k_xz1CaWX",
        "colab": {
          "base_uri": "https://localhost:8080/"
        },
        "outputId": "4e109f46-14a2-4fe8-98bb-4427d145ac46"
      },
      "source": [
        "#check the dimensions of the training data\n",
        "print(len(train_images))\n",
        "print(len(train_images[0]))\n",
        "print(len(train_images[0][0]))\n",
        "train_images.shape"
      ],
      "execution_count": 361,
      "outputs": [
        {
          "output_type": "stream",
          "name": "stdout",
          "text": [
            "60000\n",
            "28\n",
            "28\n"
          ]
        },
        {
          "output_type": "execute_result",
          "data": {
            "text/plain": [
              "(60000, 28, 28)"
            ]
          },
          "metadata": {},
          "execution_count": 361
        }
      ]
    },
    {
      "cell_type": "markdown",
      "metadata": {
        "id": "cIAcvQqMCaWf"
      },
      "source": [
        "Likewise, there are 60,000 labels in the training set:"
      ]
    },
    {
      "cell_type": "code",
      "metadata": {
        "id": "TRFYHB2mCaWb",
        "colab": {
          "base_uri": "https://localhost:8080/"
        },
        "outputId": "f7335194-2c47-4d1d-d894-1cadeafc0f69"
      },
      "source": [
        "#verify the number of train_lables\n",
        "train_labels.shape"
      ],
      "execution_count": 362,
      "outputs": [
        {
          "output_type": "execute_result",
          "data": {
            "text/plain": [
              "(60000,)"
            ]
          },
          "metadata": {},
          "execution_count": 362
        }
      ]
    },
    {
      "cell_type": "markdown",
      "metadata": {
        "id": "TMPI88iZpO2T"
      },
      "source": [
        "There are 10,000 images in the test set. Again, each image is represented as 28 x 28 pixels:"
      ]
    },
    {
      "cell_type": "code",
      "metadata": {
        "id": "2KFnYlcwCaWl",
        "colab": {
          "base_uri": "https://localhost:8080/"
        },
        "outputId": "f3ce6ac1-c80b-4afc-8705-c528b686f907"
      },
      "source": [
        "#verify the number of images in test_images by checking the dimensions\n",
        "print(len(test_images))\n",
        "print(len(test_images[0]))\n",
        "print(len(test_images[0][0]))\n",
        "test_images.shape"
      ],
      "execution_count": 363,
      "outputs": [
        {
          "output_type": "stream",
          "name": "stdout",
          "text": [
            "10000\n",
            "28\n",
            "28\n"
          ]
        },
        {
          "output_type": "execute_result",
          "data": {
            "text/plain": [
              "(10000, 28, 28)"
            ]
          },
          "metadata": {},
          "execution_count": 363
        }
      ]
    },
    {
      "cell_type": "markdown",
      "metadata": {
        "id": "rd0A0Iu0CaWq"
      },
      "source": [
        "And the test set contains 10,000 images labels:"
      ]
    },
    {
      "cell_type": "code",
      "metadata": {
        "id": "iJmPr5-ACaWn",
        "colab": {
          "base_uri": "https://localhost:8080/"
        },
        "outputId": "015ab15b-059d-479f-f34c-d6a2a56ed26c"
      },
      "source": [
        "#verify the number of images in test_labels\n",
        "test_labels.shape\n"
      ],
      "execution_count": 364,
      "outputs": [
        {
          "output_type": "execute_result",
          "data": {
            "text/plain": [
              "(10000,)"
            ]
          },
          "metadata": {},
          "execution_count": 364
        }
      ]
    },
    {
      "cell_type": "markdown",
      "metadata": {
        "id": "ES6uQoLKCaWr"
      },
      "source": [
        "## Preprocess the data\n",
        "\n",
        "The data must be preprocessed before training the network. If you inspect the first image in the training set, you will see that the pixel values fall in the range of 0 to 255:"
      ]
    },
    {
      "cell_type": "code",
      "metadata": {
        "id": "m4VEw8Ud9Quh",
        "colab": {
          "base_uri": "https://localhost:8080/",
          "height": 282
        },
        "outputId": "2d4b6426-6b92-4a75-90c1-5eb1c015a752"
      },
      "source": [
        "#plot a figure using the imshow() function to view the first image in train_images (train_images[0])\n",
        "plt.imshow(train_images[0])\n"
      ],
      "execution_count": 365,
      "outputs": [
        {
          "output_type": "execute_result",
          "data": {
            "text/plain": [
              "<matplotlib.image.AxesImage at 0x7f051070b890>"
            ]
          },
          "metadata": {},
          "execution_count": 365
        },
        {
          "output_type": "display_data",
          "data": {
            "image/png": "[encoded data removed]",
            "text/plain": [
              "<Figure size 432x288 with 1 Axes>"
            ]
          },
          "metadata": {}
        }
      ]
    },
    {
      "cell_type": "markdown",
      "metadata": {
        "id": "Wz7l27Lz9S1P"
      },
      "source": [
        "Scale these values to a range of 0 to 1 before feeding them to the neural network model. To do so, divide the values by 255. It's important that the *training set* and the *testing set* be preprocessed in the same way:"
      ]
    },
    {
      "cell_type": "code",
      "metadata": {
        "id": "bW5WzIPlCaWv"
      },
      "source": [
        "#complete the code below\n",
        "train_images = train_images/255.0\n",
        "\n",
        "test_images = test_images/255.0"
      ],
      "execution_count": 366,
      "outputs": []
    },
    {
      "cell_type": "markdown",
      "metadata": {
        "id": "Ee638AlnCaWz"
      },
      "source": [
        "To verify that the data is in the correct format and that you're ready to build and train the network, display the first 25 images from the *training set* and display the class name below each image."
      ]
    },
    {
      "cell_type": "code",
      "metadata": {
        "id": "oZTImqg_CaW1",
        "colab": {
          "base_uri": "https://localhost:8080/",
          "height": 864
        },
        "outputId": "425e103c-f2b6-4d75-c1bb-13ba02eb6c90"
      },
      "source": [
        "#write code below\n",
        "plt.figure(figsize=(15,15))\n",
        "\n",
        "for i in range(0,25):\n",
        "  plt.subplot(5,5,i+1)    \n",
        "  plt.imshow(train_images[i])\n",
        "  plt.xticks([])\n",
        "  plt.yticks([])\n",
        "  plt.title(class_names[train_labels[i]], y = -0.15)\n",
        "  "
      ],
      "execution_count": 367,
      "outputs": [
        {
          "output_type": "display_data",
          "data": {
            "image/png": "[encoded data removed]",
            "text/plain": [
              "<Figure size 1080x1080 with 25 Axes>"
            ]
          },
          "metadata": {}
        }
      ]
    },
    {
      "cell_type": "markdown",
      "metadata": {
        "id": "59veuiEZCaW4"
      },
      "source": [
        "## Build the model\n",
        "\n",
        "Building the neural network requires configuring the layers of the model, then compiling the model."
      ]
    },
    {
      "cell_type": "markdown",
      "metadata": {
        "id": "Gxg1XGm0eOBy"
      },
      "source": [
        "### Set up the layers\n",
        "\n",
        "The basic building block of a neural network is the [*layer*](https://www.tensorflow.org/api_docs/python/tf/keras/layers). Layers extract representations from the data fed into them. Hopefully, these representations are meaningful for the problem at hand.\n",
        "\n",
        "Most of deep learning consists of chaining together simple layers. Most layers, such as `tf.keras.layers.Dense`, have parameters that are learned during training."
      ]
    },
    {
      "cell_type": "code",
      "metadata": {
        "id": "9ODch-OFCaW4"
      },
      "source": [
        "#create a model having the layers defined below this cell\n",
        "\n",
        "model = Sequential([\n",
        "    Flatten(input_shape=(28,28)),\n",
        "    Dense(units=128, activation='relu'),\n",
        "    BatchNormalization(),\n",
        "    Dense(units=10)\n",
        "])"
      ],
      "execution_count": 368,
      "outputs": []
    },
    {
      "cell_type": "markdown",
      "metadata": {
        "id": "gut8A_7rCaW6"
      },
      "source": [
        "The first layer in this network, `tf.keras.layers.Flatten`, transforms the format of the images from a two-dimensional array (of 28 by 28 pixels) to a one-dimensional array (of 28 * 28 = 784 pixels). Think of this layer as unstacking rows of pixels in the image and lining them up. This layer has no parameters to learn; it only reformats the data.\n",
        "\n",
        "After the pixels are flattened, the network consists of a sequence of two `tf.keras.layers.Dense` layers with a 'BatchNormalization()' layer in between the 2 dense layers. These are densely connected, or fully connected, neural layers. The first `Dense` layer has 128 nodes (or neurons). The second (and last) layer returns a logits array with length of 10. Each node contains a score that indicates the current image belongs to one of the 10 classes. \n",
        "The Batch Normalization layer works by performing a series of operations on the incoming input data. The set of operations involves standardization, normalization, rescaling and shifting of offset of input values coming into the BN layer.\n",
        "\n",
        "### Compile the model\n",
        "\n",
        "Before the model is ready for training, it needs a few more settings. These are added during the model's [*compile*](https://www.tensorflow.org/api_docs/python/tf/keras/Model#compile) step:\n",
        "\n",
        "* [*Loss function*](https://www.tensorflow.org/api_docs/python/tf/keras/losses) —This measures how accurate the model is during training. You want to minimize this function to \"steer\" the model in the right direction.\n",
        "* [*Optimizer*](https://www.tensorflow.org/api_docs/python/tf/keras/optimizers) —This is how the model is updated based on the data it sees and its loss function.\n",
        "* [*Metrics*](https://www.tensorflow.org/api_docs/python/tf/keras/metrics) —Used to monitor the training and testing steps. The following example uses *accuracy*, the fraction of the images that are correctly classified."
      ]
    },
    {
      "cell_type": "code",
      "metadata": {
        "id": "Lhan11blCaW7"
      },
      "source": [
        "#compile the model using model.compile using the adam optimizer, SparseCategoricalCrossentropy loss and accuracy as metrics\n",
        "\n",
        "model.compile(optimizer='Adam', loss=tf.keras.losses.SparseCategoricalCrossentropy(from_logits=True), metrics=['accuracy'])"
      ],
      "execution_count": 369,
      "outputs": []
    },
    {
      "cell_type": "markdown",
      "metadata": {
        "id": "qKF6uW-BCaW-"
      },
      "source": [
        "## Train the model\n",
        "\n",
        "Training the neural network model requires the following steps:\n",
        "\n",
        "1. Feed the training data to the model. In this example, the training data is in the `train_images` and `train_labels` arrays.\n",
        "2. The model learns to associate images and labels.\n",
        "3. You ask the model to make predictions about a test set—in this example, the `test_images` array.\n",
        "4. Verify that the predictions match the labels from the `test_labels` array.\n"
      ]
    },
    {
      "cell_type": "markdown",
      "metadata": {
        "id": "Z4P4zIV7E28Z"
      },
      "source": [
        "### Feed the model\n",
        "\n",
        "To start training,  call the [`model.fit`](https://www.tensorflow.org/api_docs/python/tf/keras/Model#fit) method—so called because it \"fits\" the model to the training data:"
      ]
    },
    {
      "cell_type": "code",
      "metadata": {
        "id": "xvwvpA64CaW_",
        "colab": {
          "base_uri": "https://localhost:8080/"
        },
        "outputId": "1593c930-7d96-4e40-cd7b-82c92870651e"
      },
      "source": [
        "#write code below setting epochs=10:\n",
        "model.fit(train_images, train_labels, epochs=10, validation_split=0.2)\n"
      ],
      "execution_count": 370,
      "outputs": [
        {
          "output_type": "stream",
          "name": "stdout",
          "text": [
            "Epoch 1/10\n",
            "1500/1500 [==============================] - 4s 3ms/step - loss: 0.5032 - accuracy: 0.8234 - val_loss: 0.4149 - val_accuracy: 0.8571\n",
            "Epoch 2/10\n",
            "1500/1500 [==============================] - 4s 3ms/step - loss: 0.4062 - accuracy: 0.8554 - val_loss: 0.4146 - val_accuracy: 0.8568\n",
            "Epoch 3/10\n",
            "1500/1500 [==============================] - 4s 2ms/step - loss: 0.3809 - accuracy: 0.8630 - val_loss: 0.3692 - val_accuracy: 0.8692\n",
            "Epoch 4/10\n",
            "1500/1500 [==============================] - 4s 3ms/step - loss: 0.3575 - accuracy: 0.8734 - val_loss: 0.4232 - val_accuracy: 0.8524\n",
            "Epoch 5/10\n",
            "1500/1500 [==============================] - 4s 3ms/step - loss: 0.3458 - accuracy: 0.8745 - val_loss: 0.3618 - val_accuracy: 0.8721\n",
            "Epoch 6/10\n",
            "1500/1500 [==============================] - 4s 2ms/step - loss: 0.3413 - accuracy: 0.8767 - val_loss: 0.3902 - val_accuracy: 0.8602\n",
            "Epoch 7/10\n",
            "1500/1500 [==============================] - 4s 2ms/step - loss: 0.3265 - accuracy: 0.8828 - val_loss: 0.3806 - val_accuracy: 0.8650\n",
            "Epoch 8/10\n",
            "1500/1500 [==============================] - 4s 3ms/step - loss: 0.3159 - accuracy: 0.8851 - val_loss: 0.3893 - val_accuracy: 0.8622\n",
            "Epoch 9/10\n",
            "1500/1500 [==============================] - 4s 2ms/step - loss: 0.3070 - accuracy: 0.8878 - val_loss: 0.3869 - val_accuracy: 0.8643\n",
            "Epoch 10/10\n",
            "1500/1500 [==============================] - 4s 3ms/step - loss: 0.3027 - accuracy: 0.8895 - val_loss: 0.3942 - val_accuracy: 0.8560\n"
          ]
        },
        {
          "output_type": "execute_result",
          "data": {
            "text/plain": [
              "<keras.callbacks.History at 0x7f050fb4c4d0>"
            ]
          },
          "metadata": {},
          "execution_count": 370
        }
      ]
    },
    {
      "cell_type": "markdown",
      "metadata": {
        "id": "W3ZVOhugCaXA"
      },
      "source": [
        "As the model trains, the loss and accuracy metrics are displayed. This model reaches an accuracy of about 0.91 (or 91%) on the training data."
      ]
    },
    {
      "cell_type": "markdown",
      "metadata": {
        "id": "wCpr6DGyE28h"
      },
      "source": [
        "### Evaluate accuracy\n",
        "\n",
        "Next, compare how the model performs on the test dataset using model.evaluate():"
      ]
    },
    {
      "cell_type": "code",
      "metadata": {
        "id": "VflXLEeECaXC",
        "colab": {
          "base_uri": "https://localhost:8080/"
        },
        "outputId": "625957ee-43ef-4afd-9861-868a32fdcac2"
      },
      "source": [
        "#complete code below\n",
        "\n",
        "test_loss, test_acc = model.evaluate(test_images, test_labels)\n",
        "\n",
        "print('\\nTest accuracy:', test_acc)"
      ],
      "execution_count": 371,
      "outputs": [
        {
          "output_type": "stream",
          "name": "stdout",
          "text": [
            "313/313 [==============================] - 1s 2ms/step - loss: 0.4269 - accuracy: 0.8492\n",
            "\n",
            "Test accuracy: 0.8492000102996826\n"
          ]
        }
      ]
    },
    {
      "cell_type": "markdown",
      "metadata": {
        "id": "yWfgsmVXCaXG"
      },
      "source": [
        "It turns out that the accuracy on the test dataset is a little less than the accuracy on the training dataset. This gap between training accuracy and test accuracy represents *overfitting*. Overfitting happens when a machine learning model performs worse on new, previously unseen inputs than it does on the training data. An overfitted model \"memorizes\" the noise and details in the training dataset to a point where it negatively impacts the performance of the model on the new data. For more information, see the following:\n",
        "*   [Demonstrate overfitting](https://www.tensorflow.org/tutorials/keras/overfit_and_underfit#demonstrate_overfitting)\n",
        "*   [Strategies to prevent overfitting](https://www.tensorflow.org/tutorials/keras/overfit_and_underfit#strategies_to_prevent_overfitting)"
      ]
    },
    {
      "cell_type": "markdown",
      "metadata": {
        "id": "v-PyD1SYE28q"
      },
      "source": [
        "### Make predictions\n",
        "\n",
        "With the model trained, you can use it to make predictions about some images.\n",
        "The model's linear outputs, [logits](https://developers.google.com/machine-learning/glossary#logits). Attach a softmax layer to convert the logits to probabilities, which are easier to interpret. "
      ]
    },
    {
      "cell_type": "code",
      "metadata": {
        "id": "DnfNA0CrQLSD",
        "colab": {
          "base_uri": "https://localhost:8080/"
        },
        "outputId": "0053b7ad-3173-45e1-d9aa-73504b4fed21"
      },
      "source": [
        "#complete code below\n",
        "probability_model = Sequential([model,Softmax()])\n",
        "probability_model.summary()\n"
      ],
      "execution_count": 372,
      "outputs": [
        {
          "output_type": "stream",
          "name": "stdout",
          "text": [
            "Model: \"sequential_40\"\n",
            "_________________________________________________________________\n",
            "Layer (type)                 Output Shape              Param #   \n",
            "=================================================================\n",
            "sequential_39 (Sequential)   (None, 10)                102282    \n",
            "_________________________________________________________________\n",
            "softmax_4 (Softmax)          (None, 10)                0         \n",
            "=================================================================\n",
            "Total params: 102,282\n",
            "Trainable params: 102,026\n",
            "Non-trainable params: 256\n",
            "_________________________________________________________________\n"
          ]
        }
      ]
    },
    {
      "cell_type": "code",
      "metadata": {
        "id": "Gl91RPhdCaXI"
      },
      "source": [
        "#predict on the test_images using the probability_model\n",
        "predictions = probability_model.predict(test_images)"
      ],
      "execution_count": 373,
      "outputs": []
    },
    {
      "cell_type": "markdown",
      "metadata": {
        "id": "x9Kk1voUCaXJ"
      },
      "source": [
        "Here, the model has predicted the label for each image in the testing set. Let's take a look at the first prediction:"
      ]
    },
    {
      "cell_type": "code",
      "metadata": {
        "id": "3DmJEUinCaXK",
        "colab": {
          "base_uri": "https://localhost:8080/"
        },
        "outputId": "af428bb8-92b0-4483-de92-28a5a4fc69ec"
      },
      "source": [
        "predictions[0]"
      ],
      "execution_count": 374,
      "outputs": [
        {
          "output_type": "execute_result",
          "data": {
            "text/plain": [
              "array([1.2565681e-04, 7.5465728e-08, 9.0653630e-05, 2.5149164e-04,\n",
              "       3.8643871e-04, 2.4847135e-02, 4.5225368e-04, 8.8940136e-02,\n",
              "       3.2399377e-05, 8.8487381e-01], dtype=float32)"
            ]
          },
          "metadata": {},
          "execution_count": 374
        }
      ]
    },
    {
      "cell_type": "markdown",
      "metadata": {
        "id": "-hw1hgeSCaXN"
      },
      "source": [
        "A prediction is an array of 10 numbers. They represent the model's \"confidence\" that the image corresponds to each of the 10 different articles of clothing. You can see which label has the highest confidence value:"
      ]
    },
    {
      "cell_type": "code",
      "metadata": {
        "id": "qsqenuPnCaXO",
        "colab": {
          "base_uri": "https://localhost:8080/"
        },
        "outputId": "9d34b3af-5efb-4c75-bf82-a6094b940e57"
      },
      "source": [
        "#use np.argmax to find the highest confidence value\n",
        "highest_value = np.argmax(predictions[0])\n",
        "print(highest_value, class_names[highest_value])"
      ],
      "execution_count": 375,
      "outputs": [
        {
          "output_type": "stream",
          "name": "stdout",
          "text": [
            "9 Ankle boot\n"
          ]
        }
      ]
    },
    {
      "cell_type": "markdown",
      "metadata": {
        "id": "E51yS7iCCaXO"
      },
      "source": [
        "So, the model is most confident that this image is an ankle boot, or `class_names[9]`. Examining the test label shows that this classification is correct:"
      ]
    },
    {
      "cell_type": "code",
      "metadata": {
        "id": "Sd7Pgsu6CaXP",
        "colab": {
          "base_uri": "https://localhost:8080/"
        },
        "outputId": "06988c7b-ba5d-46b5-f4a0-bfef9967ede1"
      },
      "source": [
        "test_labels[0]"
      ],
      "execution_count": 376,
      "outputs": [
        {
          "output_type": "execute_result",
          "data": {
            "text/plain": [
              "9"
            ]
          },
          "metadata": {},
          "execution_count": 376
        }
      ]
    },
    {
      "cell_type": "markdown",
      "metadata": {
        "id": "Zh9yABaME29S"
      },
      "source": [
        "### Verify predictions\n",
        "\n",
        "With the model trained, you can use it to make predictions about some images."
      ]
    },
    {
      "cell_type": "markdown",
      "metadata": {
        "id": "d4Ov9OFDMmOD"
      },
      "source": [
        "Let's look at the 0th image, predictions, and prediction array. Correct prediction labels are blue and incorrect prediction labels are red. The number gives the percentage (out of 100) for the predicted label.\n",
        "Plot should look like this:\n",
        "![image.png](data:image/png;base64,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)"
      ]
    },
    {
      "cell_type": "code",
      "metadata": {
        "id": "HV5jw-5HwSmO",
        "colab": {
          "base_uri": "https://localhost:8080/",
          "height": 265
        },
        "outputId": "cfc8e518-139d-4c80-c980-6d198d1c9db3"
      },
      "source": [
        "# plot the 0th image and next to that plot a bar graph of the predicted values for that image\n",
        "# if predicted_label is the same as the actual label of the image then the x_axis label should be in blue, whereas \n",
        "# if the predicted_label is not the same as the actual label of the image then the x_axis label should be in red\n",
        "\n",
        "def image_plot(i, predictions, class_names, test_labels):\n",
        "  plt.imshow(test_images[i])\n",
        "  plt.xticks([])\n",
        "  plt.yticks([])\n",
        "  perc = round(max(predictions[i])*100,0)\n",
        "  name = class_names[np.argmax(predictions[i])]\n",
        "  if np.argmax(predictions[i]) == test_labels[i]:\n",
        "    label_color='blue'\n",
        "  else:\n",
        "    label_color='red'\n",
        "  plt.xlabel(name + f' {perc}%' + f' ({class_names[test_labels[i]]})',color=label_color, fontsize=14)\n",
        "  \n",
        "def bar_plot(i, predictions, test_labels):   \n",
        "  bar_graph = plt.bar(range(10),predictions[i], color='grey')\n",
        "  if np.argmax(predictions[i]) == test_labels[i]:\n",
        "    bar_graph[np.argmax(predictions[i])].set_color('b')\n",
        "  else:\n",
        "    bar_graph[np.argmax(predictions[i])].set_color('r')\n",
        "  # for value in range(10):\n",
        "  #   if value == test_labels[i]:\n",
        "  #     bar_graph[value].set_color('b')\n",
        "  #   else:  \n",
        "  #     bar_graph[value].set_color('r')\n",
        "  plt.xticks(range(0,10))\n",
        "  plt.yticks([])\n",
        "\n",
        "plt.figure(figsize = (8,4))\n",
        "plt.subplot(1,2,1)\n",
        "image_plot(0, predictions, class_names, test_labels)\n",
        "plt.subplot(1,2,2)\n",
        "bar_plot(0, predictions, test_labels)"
      ],
      "execution_count": 377,
      "outputs": [
        {
          "output_type": "display_data",
          "data": {
            "image/png": "[encoded data removed]",
            "text/plain": [
              "<Figure size 576x288 with 2 Axes>"
            ]
          },
          "metadata": {}
        }
      ]
    },
    {
      "cell_type": "markdown",
      "metadata": {
        "id": "5wiMlS6wTeM0"
      },
      "source": [
        "Similarly plot the image and predicted values for another value in the test_images"
      ]
    },
    {
      "cell_type": "code",
      "metadata": {
        "id": "Ko-uzOufSCSe",
        "colab": {
          "base_uri": "https://localhost:8080/",
          "height": 265
        },
        "outputId": "3e89460b-a1be-44a8-8eba-aa65fc5aa73b"
      },
      "source": [
        "#write code below\n",
        "\n",
        "plt.figure(figsize = (8,4))\n",
        "plt.subplot(1,2,1)\n",
        "image_plot(12, predictions, class_names, test_labels)\n",
        "plt.subplot(1,2,2)\n",
        "bar_plot(12, predictions, test_labels)"
      ],
      "execution_count": 378,
      "outputs": [
        {
          "output_type": "display_data",
          "data": {
            "image/png": "[encoded data removed]",
            "text/plain": [
              "<Figure size 576x288 with 2 Axes>"
            ]
          },
          "metadata": {}
        }
      ]
    },
    {
      "cell_type": "markdown",
      "metadata": {
        "id": "kgdvGD52CaXR"
      },
      "source": [
        "plot several images with their predictions. Note that the model can be wrong even when very confident."
      ]
    },
    {
      "cell_type": "code",
      "metadata": {
        "id": "hQlnbqaw2Qu_",
        "colab": {
          "base_uri": "https://localhost:8080/",
          "height": 1000
        },
        "outputId": "37d6fb40-0f2e-4a83-bc37-d8007652c133"
      },
      "source": [
        "# Plot the first 10 test images, their predicted labels, and the true labels.\n",
        "# Color correct predictions in blue and incorrect predictions in red.\n",
        "\n",
        "plt.figure(figsize = (18,18))\n",
        "\n",
        "for i in range(0,20,2):\n",
        "  plt.subplot(5,4,i+1)\n",
        "  image_plot(i, predictions, class_names, test_labels)\n",
        "  plt.subplot(5,4,i+2)\n",
        "  \n",
        "  bar_plot(i, predictions, test_labels)\n"
      ],
      "execution_count": 379,
      "outputs": [
        {
          "output_type": "display_data",
          "data": {
            "image/png": "[encoded data removed]",
            "text/plain": [
              "<Figure size 1296x1296 with 20 Axes>"
            ]
          },
          "metadata": {}
        }
      ]
    },
    {
      "cell_type": "markdown",
      "metadata": {
        "id": "R32zteKHCaXT"
      },
      "source": [
        "## Use the trained model\n",
        "\n",
        "Finally, use the trained model to make a prediction about a single image."
      ]
    },
    {
      "cell_type": "code",
      "metadata": {
        "id": "yRJ7JU7JCaXT"
      },
      "source": [
        "# Grab an image from the test dataset.\n",
        "img = test_images[200]\n"
      ],
      "execution_count": 380,
      "outputs": []
    },
    {
      "cell_type": "markdown",
      "metadata": {
        "id": "vz3bVp21CaXV"
      },
      "source": [
        "`tf.keras` models are optimized to make predictions on a *batch*, or collection, of examples at once. Accordingly, even though you're using a single image, you need to add it to a list:"
      ]
    },
    {
      "cell_type": "code",
      "metadata": {
        "id": "lDFh5yF_CaXW",
        "colab": {
          "base_uri": "https://localhost:8080/"
        },
        "outputId": "cf8b358f-56a6-47d3-9f1e-19eef3f1fdd8"
      },
      "source": [
        "# Add the image to a batch where it's the only member.\n",
        "#hint: use np.expand_dims\n",
        "#complete code below\n",
        "img1 = np.expand_dims(img,axis=0)\n",
        "\n",
        "print(img1.shape)\n"
      ],
      "execution_count": 381,
      "outputs": [
        {
          "output_type": "stream",
          "name": "stdout",
          "text": [
            "(1, 28, 28)\n"
          ]
        }
      ]
    },
    {
      "cell_type": "markdown",
      "metadata": {
        "id": "EQ5wLTkcCaXY"
      },
      "source": [
        "Now predict the correct label for this image:"
      ]
    },
    {
      "cell_type": "code",
      "metadata": {
        "id": "o_rzNSdrCaXY",
        "colab": {
          "base_uri": "https://localhost:8080/"
        },
        "outputId": "f4c1a210-67a3-44a5-8e6f-fcbae5d2ae4c"
      },
      "source": [
        "#complete code below\n",
        "predictions_single = probability_model.predict(img1)\n",
        "\n",
        "print(predictions_single)"
      ],
      "execution_count": 382,
      "outputs": [
        {
          "output_type": "stream",
          "name": "stdout",
          "text": [
            "[[7.0928168e-03 9.8712653e-01 1.1391505e-03 1.0538541e-03 1.6627469e-03\n",
            "  7.5803819e-06 1.0762487e-03 4.9842889e-05 7.5197703e-04 3.9442319e-05]]\n"
          ]
        }
      ]
    },
    {
      "cell_type": "markdown",
      "metadata": {
        "id": "cU1Y2OAMCaXb"
      },
      "source": [
        "`tf.keras.Model.predict` returns a list of lists—one list for each image in the batch of data. Grab the predictions for our (only) image in the batch:"
      ]
    },
    {
      "cell_type": "code",
      "metadata": {
        "id": "2tRmdq_8CaXb",
        "colab": {
          "base_uri": "https://localhost:8080/"
        },
        "outputId": "1e7ec1fc-0ff2-4673-a761-fcdc7efef1d7"
      },
      "source": [
        "#print the predicted class for the image\n",
        "pred_class = np.argmax(predictions_single[0])\n",
        "print(\"Predicted class : \", pred_class,\n",
        "      \"\\nPredicted class name : \", class_names[pred_class],\n",
        "      \"\\nTrue class name : \",class_names[test_labels[200]])"
      ],
      "execution_count": 383,
      "outputs": [
        {
          "output_type": "stream",
          "name": "stdout",
          "text": [
            "Predicted class :  1 \n",
            "Predicted class name :  Trouser \n",
            "True class name :  Trouser\n"
          ]
        }
      ]
    },
    {
      "cell_type": "markdown",
      "metadata": {
        "id": "3U7-u2-fMWE4"
      },
      "source": [
        "# Regularization\n",
        "In mathematics, statistics, and computer science, particularly in machine learning and inverse problems, regularization is the process of adding information in order to solve an ill-posed problem or to prevent overfitting.\n",
        "\n",
        "In order to improve the performance of the model, we use different regularization techniques. There are several techniques, but we will discuss 4 main techniques.\n",
        "\n",
        "1. L1 Regularization\n",
        "2. L2 Regularization\n",
        "3. Dropout\n",
        "4. Batch Normalization"
      ]
    },
    {
      "cell_type": "code",
      "metadata": {
        "id": "g1oZYBmjMWE5"
      },
      "source": [
        "#Basic pre-processing\n",
        "#we're importing the iris dataset from sklearn for our model\n",
        "from sklearn.datasets import load_iris\n",
        "from tensorflow.keras.models import Sequential\n",
        "from tensorflow.keras.utils import to_categorical\n",
        "from tensorflow.keras.layers import Dense\n",
        "from sklearn.preprocessing import StandardScaler\n",
        "from sklearn.model_selection import train_test_split\n",
        "iris = load_iris()\n",
        "X = iris.data\n",
        "y = iris.target\n",
        "y = to_categorical(y) #converting output to one-hot vector\n",
        "ss = StandardScaler() #standardizing the data\n",
        "X = ss.fit_transform(X)\n",
        "X_train, X_test, y_train, y_test = train_test_split(X,y, random_state=16)"
      ],
      "execution_count": 384,
      "outputs": []
    },
    {
      "cell_type": "code",
      "metadata": {
        "id": "iCV2FOgmMWE5",
        "colab": {
          "base_uri": "https://localhost:8080/"
        },
        "outputId": "ad3f59f6-4118-4e57-b2f3-ee39a044cb2f"
      },
      "source": [
        "#explore the data (X and y) however you like, (using info(), describe, graphs, etc.) and write any 4 lines on what you understood about the dataset\n",
        "\n",
        "df = pd.DataFrame(X)\n",
        "print('\\nInfo')\n",
        "print(df.info())\n",
        "print('\\nDescription')\n",
        "print(df.describe())\n",
        "print('\\nSamples vs target classes')\n",
        "print('\\nNo. of samples having target 1 : ',len([i for i in y if i[0] == 1]))\n",
        "print('No. of samples having target 2 : ',len([i for i in y if i[1] == 1]))\n",
        "print('No. of samples having target 3 : ',len([i for i in y if i[2] == 1]))\n",
        "\n",
        "#Solution can be anything\n",
        "\n",
        "# This is a dataset containing 150 samples each having 4 features and each belonging to one of the three target classes. \n",
        "# Both data and targets are in the form of numpy arrays.\n",
        "# There are 50 samples for each target class.\n"
      ],
      "execution_count": 385,
      "outputs": [
        {
          "output_type": "stream",
          "name": "stdout",
          "text": [
            "\n",
            "Info\n",
            "<class 'pandas.core.frame.DataFrame'>\n",
            "RangeIndex: 150 entries, 0 to 149\n",
            "Data columns (total 4 columns):\n",
            " #   Column  Non-Null Count  Dtype  \n",
            "---  ------  --------------  -----  \n",
            " 0   0       150 non-null    float64\n",
            " 1   1       150 non-null    float64\n",
            " 2   2       150 non-null    float64\n",
            " 3   3       150 non-null    float64\n",
            "dtypes: float64(4)\n",
            "memory usage: 4.8 KB\n",
            "None\n",
            "\n",
            "Description\n",
            "                  0             1             2             3\n",
            "count  1.500000e+02  1.500000e+02  1.500000e+02  1.500000e+02\n",
            "mean  -1.690315e-15 -1.842970e-15 -1.698641e-15 -1.409243e-15\n",
            "std    1.003350e+00  1.003350e+00  1.003350e+00  1.003350e+00\n",
            "min   -1.870024e+00 -2.433947e+00 -1.567576e+00 -1.447076e+00\n",
            "25%   -9.006812e-01 -5.923730e-01 -1.226552e+00 -1.183812e+00\n",
            "50%   -5.250608e-02 -1.319795e-01  3.364776e-01  1.325097e-01\n",
            "75%    6.745011e-01  5.586108e-01  7.627583e-01  7.906707e-01\n",
            "max    2.492019e+00  3.090775e+00  1.785832e+00  1.712096e+00\n",
            "\n",
            "Samples vs target classes\n",
            "\n",
            "No. of samples having target 1 :  50\n",
            "No. of samples having target 2 :  50\n",
            "No. of samples having target 3 :  50\n"
          ]
        }
      ]
    },
    {
      "cell_type": "markdown",
      "metadata": {
        "id": "YFc2HbEVCaXd"
      },
      "source": [
        "And the model predicts a label as expected."
      ]
    },
    {
      "cell_type": "code",
      "metadata": {
        "id": "A3gIwqGuMWE6",
        "colab": {
          "base_uri": "https://localhost:8080/"
        },
        "outputId": "da4b4ac6-4df6-4c8d-f044-40df64218423"
      },
      "source": [
        "#model building\n",
        "\n",
        "#run the code given below and observe the performance of this simple model having no regularization\n",
        "\n",
        "model1 = Sequential([\n",
        "    Dense(512, activation='tanh', input_shape = X_train[0].shape),\n",
        "    Dense(512//2, activation='tanh'),\n",
        "    Dense(512//4, activation='tanh'),\n",
        "    Dense(512//8, activation='tanh'),\n",
        "    Dense(32, activation='relu'),\n",
        "    Dense(3, activation='softmax')\n",
        "])\n",
        "print(model1.summary())\n",
        "model1.compile(optimizer='sgd',loss='categorical_crossentropy', metrics=['acc', 'mse'])\n",
        "\n",
        "hist1 = model1.fit(X_train, y_train, epochs=150, batch_size=128, validation_data=(X_test,y_test))\n"
      ],
      "execution_count": 386,
      "outputs": [
        {
          "output_type": "stream",
          "name": "stdout",
          "text": [
            "Model: \"sequential_41\"\n",
            "_________________________________________________________________\n",
            "Layer (type)                 Output Shape              Param #   \n",
            "=================================================================\n",
            "dense_196 (Dense)            (None, 512)               2560      \n",
            "_________________________________________________________________\n",
            "dense_197 (Dense)            (None, 256)               131328    \n",
            "_________________________________________________________________\n",
            "dense_198 (Dense)            (None, 128)               32896     \n",
            "_________________________________________________________________\n",
            "dense_199 (Dense)            (None, 64)                8256      \n",
            "_________________________________________________________________\n",
            "dense_200 (Dense)            (None, 32)                2080      \n",
            "_________________________________________________________________\n",
            "dense_201 (Dense)            (None, 3)                 99        \n",
            "=================================================================\n",
            "Total params: 177,219\n",
            "Trainable params: 177,219\n",
            "Non-trainable params: 0\n",
            "_________________________________________________________________\n",
            "None\n",
            "Epoch 1/150\n",
            "1/1 [==============================] - 1s 583ms/step - loss: 1.2114 - acc: 0.2857 - mse: 0.2435 - val_loss: 1.0702 - val_acc: 0.6842 - val_mse: 0.2144\n",
            "Epoch 2/150\n",
            "1/1 [==============================] - 0s 27ms/step - loss: 1.1451 - acc: 0.4554 - mse: 0.2300 - val_loss: 1.0230 - val_acc: 0.7105 - val_mse: 0.2038\n",
            "Epoch 3/150\n",
            "1/1 [==============================] - 0s 32ms/step - loss: 1.0850 - acc: 0.5625 - mse: 0.2171 - val_loss: 0.9817 - val_acc: 0.7105 - val_mse: 0.1942\n",
            "Epoch 4/150\n",
            "1/1 [==============================] - 0s 29ms/step - loss: 1.0320 - acc: 0.5714 - mse: 0.2054 - val_loss: 0.9462 - val_acc: 0.7368 - val_mse: 0.1857\n",
            "Epoch 5/150\n",
            "1/1 [==============================] - 0s 30ms/step - loss: 0.9882 - acc: 0.5982 - mse: 0.1954 - val_loss: 0.9138 - val_acc: 0.7368 - val_mse: 0.1780\n",
            "Epoch 6/150\n",
            "1/1 [==============================] - 0s 29ms/step - loss: 0.9485 - acc: 0.5982 - mse: 0.1862 - val_loss: 0.8855 - val_acc: 0.7368 - val_mse: 0.1714\n",
            "Epoch 7/150\n",
            "1/1 [==============================] - 0s 48ms/step - loss: 0.9137 - acc: 0.6161 - mse: 0.1782 - val_loss: 0.8618 - val_acc: 0.7368 - val_mse: 0.1659\n",
            "Epoch 8/150\n",
            "1/1 [==============================] - 0s 28ms/step - loss: 0.8831 - acc: 0.6161 - mse: 0.1712 - val_loss: 0.8419 - val_acc: 0.7368 - val_mse: 0.1614\n",
            "Epoch 9/150\n",
            "1/1 [==============================] - 0s 28ms/step - loss: 0.8598 - acc: 0.6607 - mse: 0.1659 - val_loss: 0.8253 - val_acc: 0.7632 - val_mse: 0.1576\n",
            "Epoch 10/150\n",
            "1/1 [==============================] - 0s 38ms/step - loss: 0.8401 - acc: 0.7054 - mse: 0.1614 - val_loss: 0.8102 - val_acc: 0.7895 - val_mse: 0.1543\n",
            "Epoch 11/150\n",
            "1/1 [==============================] - 0s 37ms/step - loss: 0.8223 - acc: 0.7321 - mse: 0.1574 - val_loss: 0.7962 - val_acc: 0.7895 - val_mse: 0.1512\n",
            "Epoch 12/150\n",
            "1/1 [==============================] - 0s 30ms/step - loss: 0.8059 - acc: 0.7500 - mse: 0.1538 - val_loss: 0.7831 - val_acc: 0.7895 - val_mse: 0.1483\n",
            "Epoch 13/150\n",
            "1/1 [==============================] - 0s 27ms/step - loss: 0.7904 - acc: 0.7679 - mse: 0.1504 - val_loss: 0.7705 - val_acc: 0.8158 - val_mse: 0.1456\n",
            "Epoch 14/150\n",
            "1/1 [==============================] - 0s 29ms/step - loss: 0.7758 - acc: 0.8036 - mse: 0.1471 - val_loss: 0.7585 - val_acc: 0.8158 - val_mse: 0.1430\n",
            "Epoch 15/150\n",
            "1/1 [==============================] - 0s 25ms/step - loss: 0.7617 - acc: 0.8214 - mse: 0.1441 - val_loss: 0.7470 - val_acc: 0.8158 - val_mse: 0.1405\n",
            "Epoch 16/150\n",
            "1/1 [==============================] - 0s 29ms/step - loss: 0.7482 - acc: 0.8482 - mse: 0.1411 - val_loss: 0.7363 - val_acc: 0.8158 - val_mse: 0.1383\n",
            "Epoch 17/150\n",
            "1/1 [==============================] - 0s 26ms/step - loss: 0.7351 - acc: 0.8482 - mse: 0.1383 - val_loss: 0.7260 - val_acc: 0.8158 - val_mse: 0.1361\n",
            "Epoch 18/150\n",
            "1/1 [==============================] - 0s 33ms/step - loss: 0.7222 - acc: 0.8661 - mse: 0.1354 - val_loss: 0.7161 - val_acc: 0.8158 - val_mse: 0.1340\n",
            "Epoch 19/150\n",
            "1/1 [==============================] - 0s 27ms/step - loss: 0.7092 - acc: 0.8839 - mse: 0.1326 - val_loss: 0.7066 - val_acc: 0.8158 - val_mse: 0.1321\n",
            "Epoch 20/150\n",
            "1/1 [==============================] - 0s 30ms/step - loss: 0.6961 - acc: 0.9018 - mse: 0.1297 - val_loss: 0.6975 - val_acc: 0.8158 - val_mse: 0.1302\n",
            "Epoch 21/150\n",
            "1/1 [==============================] - 0s 29ms/step - loss: 0.6839 - acc: 0.9018 - mse: 0.1270 - val_loss: 0.6887 - val_acc: 0.8158 - val_mse: 0.1284\n",
            "Epoch 22/150\n",
            "1/1 [==============================] - 0s 41ms/step - loss: 0.6724 - acc: 0.8929 - mse: 0.1245 - val_loss: 0.6806 - val_acc: 0.7895 - val_mse: 0.1267\n",
            "Epoch 23/150\n",
            "1/1 [==============================] - 0s 26ms/step - loss: 0.6613 - acc: 0.8929 - mse: 0.1221 - val_loss: 0.6728 - val_acc: 0.7895 - val_mse: 0.1252\n",
            "Epoch 24/150\n",
            "1/1 [==============================] - 0s 28ms/step - loss: 0.6506 - acc: 0.8929 - mse: 0.1198 - val_loss: 0.6653 - val_acc: 0.7895 - val_mse: 0.1237\n",
            "Epoch 25/150\n",
            "1/1 [==============================] - 0s 31ms/step - loss: 0.6404 - acc: 0.9018 - mse: 0.1176 - val_loss: 0.6580 - val_acc: 0.7895 - val_mse: 0.1223\n",
            "Epoch 26/150\n",
            "1/1 [==============================] - 0s 30ms/step - loss: 0.6306 - acc: 0.9107 - mse: 0.1154 - val_loss: 0.6511 - val_acc: 0.7895 - val_mse: 0.1209\n",
            "Epoch 27/150\n",
            "1/1 [==============================] - 0s 27ms/step - loss: 0.6211 - acc: 0.9107 - mse: 0.1134 - val_loss: 0.6444 - val_acc: 0.7368 - val_mse: 0.1196\n",
            "Epoch 28/150\n",
            "1/1 [==============================] - 0s 27ms/step - loss: 0.6118 - acc: 0.9196 - mse: 0.1114 - val_loss: 0.6379 - val_acc: 0.7368 - val_mse: 0.1184\n",
            "Epoch 29/150\n",
            "1/1 [==============================] - 0s 28ms/step - loss: 0.6028 - acc: 0.9196 - mse: 0.1095 - val_loss: 0.6316 - val_acc: 0.7368 - val_mse: 0.1172\n",
            "Epoch 30/150\n",
            "1/1 [==============================] - 0s 32ms/step - loss: 0.5941 - acc: 0.9196 - mse: 0.1076 - val_loss: 0.6255 - val_acc: 0.7368 - val_mse: 0.1160\n",
            "Epoch 31/150\n",
            "1/1 [==============================] - 0s 30ms/step - loss: 0.5856 - acc: 0.9107 - mse: 0.1058 - val_loss: 0.6196 - val_acc: 0.7368 - val_mse: 0.1149\n",
            "Epoch 32/150\n",
            "1/1 [==============================] - 0s 27ms/step - loss: 0.5774 - acc: 0.9107 - mse: 0.1040 - val_loss: 0.6139 - val_acc: 0.7368 - val_mse: 0.1138\n",
            "Epoch 33/150\n",
            "1/1 [==============================] - 0s 34ms/step - loss: 0.5694 - acc: 0.9107 - mse: 0.1023 - val_loss: 0.6083 - val_acc: 0.7368 - val_mse: 0.1128\n",
            "Epoch 34/150\n",
            "1/1 [==============================] - 0s 32ms/step - loss: 0.5617 - acc: 0.9018 - mse: 0.1007 - val_loss: 0.6029 - val_acc: 0.7368 - val_mse: 0.1118\n",
            "Epoch 35/150\n",
            "1/1 [==============================] - 0s 33ms/step - loss: 0.5541 - acc: 0.9018 - mse: 0.0991 - val_loss: 0.5976 - val_acc: 0.7368 - val_mse: 0.1108\n",
            "Epoch 36/150\n",
            "1/1 [==============================] - 0s 37ms/step - loss: 0.5467 - acc: 0.9018 - mse: 0.0975 - val_loss: 0.5927 - val_acc: 0.7368 - val_mse: 0.1099\n",
            "Epoch 37/150\n",
            "1/1 [==============================] - 0s 33ms/step - loss: 0.5394 - acc: 0.8929 - mse: 0.0960 - val_loss: 0.5877 - val_acc: 0.7368 - val_mse: 0.1089\n",
            "Epoch 38/150\n",
            "1/1 [==============================] - 0s 28ms/step - loss: 0.5324 - acc: 0.8929 - mse: 0.0945 - val_loss: 0.5830 - val_acc: 0.7368 - val_mse: 0.1081\n",
            "Epoch 39/150\n",
            "1/1 [==============================] - 0s 40ms/step - loss: 0.5255 - acc: 0.8929 - mse: 0.0930 - val_loss: 0.5784 - val_acc: 0.7368 - val_mse: 0.1073\n",
            "Epoch 40/150\n",
            "1/1 [==============================] - 0s 30ms/step - loss: 0.5188 - acc: 0.8929 - mse: 0.0916 - val_loss: 0.5740 - val_acc: 0.7368 - val_mse: 0.1065\n",
            "Epoch 41/150\n",
            "1/1 [==============================] - 0s 30ms/step - loss: 0.5122 - acc: 0.8929 - mse: 0.0902 - val_loss: 0.5696 - val_acc: 0.7368 - val_mse: 0.1057\n",
            "Epoch 42/150\n",
            "1/1 [==============================] - 0s 28ms/step - loss: 0.5058 - acc: 0.9018 - mse: 0.0889 - val_loss: 0.5656 - val_acc: 0.7368 - val_mse: 0.1051\n",
            "Epoch 43/150\n",
            "1/1 [==============================] - 0s 30ms/step - loss: 0.4995 - acc: 0.9018 - mse: 0.0876 - val_loss: 0.5613 - val_acc: 0.7368 - val_mse: 0.1043\n",
            "Epoch 44/150\n",
            "1/1 [==============================] - 0s 25ms/step - loss: 0.4934 - acc: 0.9018 - mse: 0.0863 - val_loss: 0.5572 - val_acc: 0.7368 - val_mse: 0.1036\n",
            "Epoch 45/150\n",
            "1/1 [==============================] - 0s 32ms/step - loss: 0.4873 - acc: 0.9018 - mse: 0.0850 - val_loss: 0.5530 - val_acc: 0.7368 - val_mse: 0.1029\n",
            "Epoch 46/150\n",
            "1/1 [==============================] - 0s 35ms/step - loss: 0.4813 - acc: 0.9018 - mse: 0.0838 - val_loss: 0.5493 - val_acc: 0.7368 - val_mse: 0.1022\n",
            "Epoch 47/150\n",
            "1/1 [==============================] - 0s 34ms/step - loss: 0.4755 - acc: 0.9018 - mse: 0.0825 - val_loss: 0.5453 - val_acc: 0.7368 - val_mse: 0.1015\n",
            "Epoch 48/150\n",
            "1/1 [==============================] - 0s 27ms/step - loss: 0.4698 - acc: 0.9107 - mse: 0.0814 - val_loss: 0.5418 - val_acc: 0.7368 - val_mse: 0.1010\n",
            "Epoch 49/150\n",
            "1/1 [==============================] - 0s 27ms/step - loss: 0.4643 - acc: 0.9107 - mse: 0.0802 - val_loss: 0.5380 - val_acc: 0.7368 - val_mse: 0.1004\n",
            "Epoch 50/150\n",
            "1/1 [==============================] - 0s 31ms/step - loss: 0.4588 - acc: 0.9107 - mse: 0.0791 - val_loss: 0.5347 - val_acc: 0.7368 - val_mse: 0.0998\n",
            "Epoch 51/150\n",
            "1/1 [==============================] - 0s 55ms/step - loss: 0.4536 - acc: 0.9107 - mse: 0.0781 - val_loss: 0.5314 - val_acc: 0.7368 - val_mse: 0.0993\n",
            "Epoch 52/150\n",
            "1/1 [==============================] - 0s 37ms/step - loss: 0.4484 - acc: 0.9107 - mse: 0.0770 - val_loss: 0.5281 - val_acc: 0.7632 - val_mse: 0.0988\n",
            "Epoch 53/150\n",
            "1/1 [==============================] - 0s 33ms/step - loss: 0.4434 - acc: 0.9107 - mse: 0.0760 - val_loss: 0.5249 - val_acc: 0.7632 - val_mse: 0.0983\n",
            "Epoch 54/150\n",
            "1/1 [==============================] - 0s 32ms/step - loss: 0.4384 - acc: 0.9107 - mse: 0.0750 - val_loss: 0.5218 - val_acc: 0.7632 - val_mse: 0.0978\n",
            "Epoch 55/150\n",
            "1/1 [==============================] - 0s 34ms/step - loss: 0.4335 - acc: 0.9107 - mse: 0.0740 - val_loss: 0.5188 - val_acc: 0.7632 - val_mse: 0.0973\n",
            "Epoch 56/150\n",
            "1/1 [==============================] - 0s 31ms/step - loss: 0.4288 - acc: 0.9107 - mse: 0.0730 - val_loss: 0.5158 - val_acc: 0.7632 - val_mse: 0.0969\n",
            "Epoch 57/150\n",
            "1/1 [==============================] - 0s 31ms/step - loss: 0.4241 - acc: 0.9107 - mse: 0.0721 - val_loss: 0.5129 - val_acc: 0.7632 - val_mse: 0.0964\n",
            "Epoch 58/150\n",
            "1/1 [==============================] - 0s 27ms/step - loss: 0.4196 - acc: 0.9107 - mse: 0.0712 - val_loss: 0.5101 - val_acc: 0.7632 - val_mse: 0.0960\n",
            "Epoch 59/150\n",
            "1/1 [==============================] - 0s 30ms/step - loss: 0.4152 - acc: 0.9107 - mse: 0.0703 - val_loss: 0.5074 - val_acc: 0.7632 - val_mse: 0.0956\n",
            "Epoch 60/150\n",
            "1/1 [==============================] - 0s 31ms/step - loss: 0.4109 - acc: 0.9107 - mse: 0.0695 - val_loss: 0.5047 - val_acc: 0.7632 - val_mse: 0.0952\n",
            "Epoch 61/150\n",
            "1/1 [==============================] - 0s 37ms/step - loss: 0.4066 - acc: 0.9107 - mse: 0.0686 - val_loss: 0.5020 - val_acc: 0.7632 - val_mse: 0.0948\n",
            "Epoch 62/150\n",
            "1/1 [==============================] - 0s 33ms/step - loss: 0.4025 - acc: 0.9107 - mse: 0.0678 - val_loss: 0.4994 - val_acc: 0.7632 - val_mse: 0.0945\n",
            "Epoch 63/150\n",
            "1/1 [==============================] - 0s 32ms/step - loss: 0.3984 - acc: 0.9196 - mse: 0.0670 - val_loss: 0.4968 - val_acc: 0.7632 - val_mse: 0.0941\n",
            "Epoch 64/150\n",
            "1/1 [==============================] - 0s 29ms/step - loss: 0.3944 - acc: 0.9196 - mse: 0.0662 - val_loss: 0.4943 - val_acc: 0.7632 - val_mse: 0.0937\n",
            "Epoch 65/150\n",
            "1/1 [==============================] - 0s 27ms/step - loss: 0.3905 - acc: 0.9196 - mse: 0.0655 - val_loss: 0.4919 - val_acc: 0.7632 - val_mse: 0.0934\n",
            "Epoch 66/150\n",
            "1/1 [==============================] - 0s 29ms/step - loss: 0.3866 - acc: 0.9196 - mse: 0.0647 - val_loss: 0.4895 - val_acc: 0.7632 - val_mse: 0.0930\n",
            "Epoch 67/150\n",
            "1/1 [==============================] - 0s 30ms/step - loss: 0.3829 - acc: 0.9196 - mse: 0.0640 - val_loss: 0.4872 - val_acc: 0.7632 - val_mse: 0.0927\n",
            "Epoch 68/150\n",
            "1/1 [==============================] - 0s 55ms/step - loss: 0.3792 - acc: 0.9196 - mse: 0.0633 - val_loss: 0.4849 - val_acc: 0.7632 - val_mse: 0.0924\n",
            "Epoch 69/150\n",
            "1/1 [==============================] - 0s 36ms/step - loss: 0.3756 - acc: 0.9196 - mse: 0.0626 - val_loss: 0.4827 - val_acc: 0.7632 - val_mse: 0.0921\n",
            "Epoch 70/150\n",
            "1/1 [==============================] - 0s 33ms/step - loss: 0.3720 - acc: 0.9196 - mse: 0.0619 - val_loss: 0.4805 - val_acc: 0.7632 - val_mse: 0.0918\n",
            "Epoch 71/150\n",
            "1/1 [==============================] - 0s 30ms/step - loss: 0.3685 - acc: 0.9196 - mse: 0.0612 - val_loss: 0.4783 - val_acc: 0.7632 - val_mse: 0.0915\n",
            "Epoch 72/150\n",
            "1/1 [==============================] - 0s 29ms/step - loss: 0.3651 - acc: 0.9196 - mse: 0.0606 - val_loss: 0.4762 - val_acc: 0.7632 - val_mse: 0.0912\n",
            "Epoch 73/150\n",
            "1/1 [==============================] - 0s 33ms/step - loss: 0.3618 - acc: 0.9286 - mse: 0.0599 - val_loss: 0.4742 - val_acc: 0.7632 - val_mse: 0.0910\n",
            "Epoch 74/150\n",
            "1/1 [==============================] - 0s 28ms/step - loss: 0.3585 - acc: 0.9375 - mse: 0.0593 - val_loss: 0.4721 - val_acc: 0.7632 - val_mse: 0.0907\n",
            "Epoch 75/150\n",
            "1/1 [==============================] - 0s 29ms/step - loss: 0.3553 - acc: 0.9375 - mse: 0.0587 - val_loss: 0.4701 - val_acc: 0.7632 - val_mse: 0.0904\n",
            "Epoch 76/150\n",
            "1/1 [==============================] - 0s 37ms/step - loss: 0.3521 - acc: 0.9375 - mse: 0.0581 - val_loss: 0.4681 - val_acc: 0.7632 - val_mse: 0.0902\n",
            "Epoch 77/150\n",
            "1/1 [==============================] - 0s 31ms/step - loss: 0.3490 - acc: 0.9375 - mse: 0.0575 - val_loss: 0.4661 - val_acc: 0.7632 - val_mse: 0.0899\n",
            "Epoch 78/150\n",
            "1/1 [==============================] - 0s 43ms/step - loss: 0.3460 - acc: 0.9375 - mse: 0.0570 - val_loss: 0.4641 - val_acc: 0.7632 - val_mse: 0.0896\n",
            "Epoch 79/150\n",
            "1/1 [==============================] - 0s 33ms/step - loss: 0.3430 - acc: 0.9375 - mse: 0.0564 - val_loss: 0.4621 - val_acc: 0.7632 - val_mse: 0.0894\n",
            "Epoch 80/150\n",
            "1/1 [==============================] - 0s 33ms/step - loss: 0.3400 - acc: 0.9375 - mse: 0.0558 - val_loss: 0.4601 - val_acc: 0.7632 - val_mse: 0.0891\n",
            "Epoch 81/150\n",
            "1/1 [==============================] - 0s 32ms/step - loss: 0.3371 - acc: 0.9375 - mse: 0.0553 - val_loss: 0.4582 - val_acc: 0.7632 - val_mse: 0.0888\n",
            "Epoch 82/150\n",
            "1/1 [==============================] - 0s 35ms/step - loss: 0.3342 - acc: 0.9375 - mse: 0.0548 - val_loss: 0.4563 - val_acc: 0.7632 - val_mse: 0.0886\n",
            "Epoch 83/150\n",
            "1/1 [==============================] - 0s 31ms/step - loss: 0.3313 - acc: 0.9375 - mse: 0.0542 - val_loss: 0.4543 - val_acc: 0.7632 - val_mse: 0.0883\n",
            "Epoch 84/150\n",
            "1/1 [==============================] - 0s 36ms/step - loss: 0.3286 - acc: 0.9464 - mse: 0.0537 - val_loss: 0.4524 - val_acc: 0.7632 - val_mse: 0.0880\n",
            "Epoch 85/150\n",
            "1/1 [==============================] - 0s 55ms/step - loss: 0.3258 - acc: 0.9464 - mse: 0.0532 - val_loss: 0.4505 - val_acc: 0.7632 - val_mse: 0.0878\n",
            "Epoch 86/150\n",
            "1/1 [==============================] - 0s 33ms/step - loss: 0.3232 - acc: 0.9464 - mse: 0.0527 - val_loss: 0.4486 - val_acc: 0.7632 - val_mse: 0.0875\n",
            "Epoch 87/150\n",
            "1/1 [==============================] - 0s 37ms/step - loss: 0.3205 - acc: 0.9464 - mse: 0.0522 - val_loss: 0.4468 - val_acc: 0.7632 - val_mse: 0.0873\n",
            "Epoch 88/150\n",
            "1/1 [==============================] - 0s 36ms/step - loss: 0.3179 - acc: 0.9464 - mse: 0.0517 - val_loss: 0.4450 - val_acc: 0.7632 - val_mse: 0.0870\n",
            "Epoch 89/150\n",
            "1/1 [==============================] - 0s 35ms/step - loss: 0.3154 - acc: 0.9464 - mse: 0.0513 - val_loss: 0.4431 - val_acc: 0.7632 - val_mse: 0.0868\n",
            "Epoch 90/150\n",
            "1/1 [==============================] - 0s 36ms/step - loss: 0.3129 - acc: 0.9464 - mse: 0.0508 - val_loss: 0.4413 - val_acc: 0.7632 - val_mse: 0.0865\n",
            "Epoch 91/150\n",
            "1/1 [==============================] - 0s 35ms/step - loss: 0.3104 - acc: 0.9464 - mse: 0.0504 - val_loss: 0.4395 - val_acc: 0.7632 - val_mse: 0.0863\n",
            "Epoch 92/150\n",
            "1/1 [==============================] - 0s 40ms/step - loss: 0.3080 - acc: 0.9464 - mse: 0.0499 - val_loss: 0.4378 - val_acc: 0.7632 - val_mse: 0.0860\n",
            "Epoch 93/150\n",
            "1/1 [==============================] - 0s 30ms/step - loss: 0.3056 - acc: 0.9464 - mse: 0.0495 - val_loss: 0.4360 - val_acc: 0.7632 - val_mse: 0.0858\n",
            "Epoch 94/150\n",
            "1/1 [==============================] - 0s 32ms/step - loss: 0.3032 - acc: 0.9464 - mse: 0.0491 - val_loss: 0.4342 - val_acc: 0.7632 - val_mse: 0.0855\n",
            "Epoch 95/150\n",
            "1/1 [==============================] - 0s 33ms/step - loss: 0.3009 - acc: 0.9464 - mse: 0.0486 - val_loss: 0.4325 - val_acc: 0.7632 - val_mse: 0.0853\n",
            "Epoch 96/150\n",
            "1/1 [==============================] - 0s 32ms/step - loss: 0.2986 - acc: 0.9464 - mse: 0.0482 - val_loss: 0.4308 - val_acc: 0.7632 - val_mse: 0.0851\n",
            "Epoch 97/150\n",
            "1/1 [==============================] - 0s 30ms/step - loss: 0.2963 - acc: 0.9464 - mse: 0.0478 - val_loss: 0.4291 - val_acc: 0.7632 - val_mse: 0.0848\n",
            "Epoch 98/150\n",
            "1/1 [==============================] - 0s 32ms/step - loss: 0.2941 - acc: 0.9464 - mse: 0.0474 - val_loss: 0.4274 - val_acc: 0.7632 - val_mse: 0.0846\n",
            "Epoch 99/150\n",
            "1/1 [==============================] - 0s 42ms/step - loss: 0.2919 - acc: 0.9464 - mse: 0.0470 - val_loss: 0.4257 - val_acc: 0.7632 - val_mse: 0.0843\n",
            "Epoch 100/150\n",
            "1/1 [==============================] - 0s 32ms/step - loss: 0.2897 - acc: 0.9464 - mse: 0.0466 - val_loss: 0.4241 - val_acc: 0.7632 - val_mse: 0.0841\n",
            "Epoch 101/150\n",
            "1/1 [==============================] - 0s 33ms/step - loss: 0.2875 - acc: 0.9464 - mse: 0.0462 - val_loss: 0.4224 - val_acc: 0.7632 - val_mse: 0.0839\n",
            "Epoch 102/150\n",
            "1/1 [==============================] - 0s 36ms/step - loss: 0.2854 - acc: 0.9464 - mse: 0.0458 - val_loss: 0.4208 - val_acc: 0.7632 - val_mse: 0.0836\n",
            "Epoch 103/150\n",
            "1/1 [==============================] - 0s 32ms/step - loss: 0.2833 - acc: 0.9464 - mse: 0.0454 - val_loss: 0.4192 - val_acc: 0.7632 - val_mse: 0.0834\n",
            "Epoch 104/150\n",
            "1/1 [==============================] - 0s 40ms/step - loss: 0.2813 - acc: 0.9464 - mse: 0.0451 - val_loss: 0.4176 - val_acc: 0.7632 - val_mse: 0.0832\n",
            "Epoch 105/150\n",
            "1/1 [==============================] - 0s 32ms/step - loss: 0.2793 - acc: 0.9464 - mse: 0.0447 - val_loss: 0.4160 - val_acc: 0.7632 - val_mse: 0.0830\n",
            "Epoch 106/150\n",
            "1/1 [==============================] - 0s 29ms/step - loss: 0.2773 - acc: 0.9464 - mse: 0.0443 - val_loss: 0.4145 - val_acc: 0.7632 - val_mse: 0.0827\n",
            "Epoch 107/150\n",
            "1/1 [==============================] - 0s 32ms/step - loss: 0.2753 - acc: 0.9464 - mse: 0.0440 - val_loss: 0.4129 - val_acc: 0.7632 - val_mse: 0.0825\n",
            "Epoch 108/150\n",
            "1/1 [==============================] - 0s 33ms/step - loss: 0.2733 - acc: 0.9464 - mse: 0.0436 - val_loss: 0.4113 - val_acc: 0.7632 - val_mse: 0.0823\n",
            "Epoch 109/150\n",
            "1/1 [==============================] - 0s 41ms/step - loss: 0.2714 - acc: 0.9464 - mse: 0.0433 - val_loss: 0.4098 - val_acc: 0.7632 - val_mse: 0.0820\n",
            "Epoch 110/150\n",
            "1/1 [==============================] - 0s 32ms/step - loss: 0.2695 - acc: 0.9464 - mse: 0.0429 - val_loss: 0.4082 - val_acc: 0.7632 - val_mse: 0.0818\n",
            "Epoch 111/150\n",
            "1/1 [==============================] - 0s 39ms/step - loss: 0.2677 - acc: 0.9464 - mse: 0.0426 - val_loss: 0.4067 - val_acc: 0.7632 - val_mse: 0.0816\n",
            "Epoch 112/150\n",
            "1/1 [==============================] - 0s 30ms/step - loss: 0.2659 - acc: 0.9464 - mse: 0.0423 - val_loss: 0.4052 - val_acc: 0.7632 - val_mse: 0.0813\n",
            "Epoch 113/150\n",
            "1/1 [==============================] - 0s 32ms/step - loss: 0.2640 - acc: 0.9464 - mse: 0.0419 - val_loss: 0.4036 - val_acc: 0.7632 - val_mse: 0.0811\n",
            "Epoch 114/150\n",
            "1/1 [==============================] - 0s 31ms/step - loss: 0.2622 - acc: 0.9464 - mse: 0.0416 - val_loss: 0.4021 - val_acc: 0.7632 - val_mse: 0.0809\n",
            "Epoch 115/150\n",
            "1/1 [==============================] - 0s 36ms/step - loss: 0.2605 - acc: 0.9464 - mse: 0.0413 - val_loss: 0.4006 - val_acc: 0.7632 - val_mse: 0.0806\n",
            "Epoch 116/150\n",
            "1/1 [==============================] - 0s 35ms/step - loss: 0.2587 - acc: 0.9464 - mse: 0.0410 - val_loss: 0.3991 - val_acc: 0.7632 - val_mse: 0.0804\n",
            "Epoch 117/150\n",
            "1/1 [==============================] - 0s 34ms/step - loss: 0.2570 - acc: 0.9464 - mse: 0.0407 - val_loss: 0.3976 - val_acc: 0.7632 - val_mse: 0.0802\n",
            "Epoch 118/150\n",
            "1/1 [==============================] - 0s 32ms/step - loss: 0.2553 - acc: 0.9464 - mse: 0.0404 - val_loss: 0.3961 - val_acc: 0.7632 - val_mse: 0.0799\n",
            "Epoch 119/150\n",
            "1/1 [==============================] - 0s 34ms/step - loss: 0.2536 - acc: 0.9464 - mse: 0.0400 - val_loss: 0.3946 - val_acc: 0.7895 - val_mse: 0.0797\n",
            "Epoch 120/150\n",
            "1/1 [==============================] - 0s 37ms/step - loss: 0.2519 - acc: 0.9464 - mse: 0.0397 - val_loss: 0.3931 - val_acc: 0.7895 - val_mse: 0.0794\n",
            "Epoch 121/150\n",
            "1/1 [==============================] - 0s 33ms/step - loss: 0.2502 - acc: 0.9464 - mse: 0.0394 - val_loss: 0.3916 - val_acc: 0.7895 - val_mse: 0.0792\n",
            "Epoch 122/150\n",
            "1/1 [==============================] - 0s 29ms/step - loss: 0.2486 - acc: 0.9464 - mse: 0.0391 - val_loss: 0.3900 - val_acc: 0.7895 - val_mse: 0.0789\n",
            "Epoch 123/150\n",
            "1/1 [==============================] - 0s 35ms/step - loss: 0.2469 - acc: 0.9464 - mse: 0.0388 - val_loss: 0.3885 - val_acc: 0.7895 - val_mse: 0.0786\n",
            "Epoch 124/150\n",
            "1/1 [==============================] - 0s 28ms/step - loss: 0.2453 - acc: 0.9554 - mse: 0.0385 - val_loss: 0.3870 - val_acc: 0.7895 - val_mse: 0.0784\n",
            "Epoch 125/150\n",
            "1/1 [==============================] - 0s 34ms/step - loss: 0.2437 - acc: 0.9554 - mse: 0.0382 - val_loss: 0.3854 - val_acc: 0.7895 - val_mse: 0.0781\n",
            "Epoch 126/150\n",
            "1/1 [==============================] - 0s 31ms/step - loss: 0.2421 - acc: 0.9554 - mse: 0.0379 - val_loss: 0.3839 - val_acc: 0.7895 - val_mse: 0.0778\n",
            "Epoch 127/150\n",
            "1/1 [==============================] - 0s 33ms/step - loss: 0.2405 - acc: 0.9554 - mse: 0.0376 - val_loss: 0.3824 - val_acc: 0.7895 - val_mse: 0.0776\n",
            "Epoch 128/150\n",
            "1/1 [==============================] - 0s 27ms/step - loss: 0.2389 - acc: 0.9554 - mse: 0.0374 - val_loss: 0.3808 - val_acc: 0.7895 - val_mse: 0.0773\n",
            "Epoch 129/150\n",
            "1/1 [==============================] - 0s 31ms/step - loss: 0.2374 - acc: 0.9554 - mse: 0.0371 - val_loss: 0.3793 - val_acc: 0.8158 - val_mse: 0.0770\n",
            "Epoch 130/150\n",
            "1/1 [==============================] - 0s 34ms/step - loss: 0.2359 - acc: 0.9554 - mse: 0.0368 - val_loss: 0.3777 - val_acc: 0.8158 - val_mse: 0.0768\n",
            "Epoch 131/150\n",
            "1/1 [==============================] - 0s 27ms/step - loss: 0.2343 - acc: 0.9554 - mse: 0.0365 - val_loss: 0.3761 - val_acc: 0.8158 - val_mse: 0.0765\n",
            "Epoch 132/150\n",
            "1/1 [==============================] - 0s 41ms/step - loss: 0.2328 - acc: 0.9554 - mse: 0.0362 - val_loss: 0.3746 - val_acc: 0.8158 - val_mse: 0.0762\n",
            "Epoch 133/150\n",
            "1/1 [==============================] - 0s 34ms/step - loss: 0.2313 - acc: 0.9554 - mse: 0.0360 - val_loss: 0.3730 - val_acc: 0.8158 - val_mse: 0.0759\n",
            "Epoch 134/150\n",
            "1/1 [==============================] - 0s 38ms/step - loss: 0.2298 - acc: 0.9554 - mse: 0.0357 - val_loss: 0.3713 - val_acc: 0.8158 - val_mse: 0.0756\n",
            "Epoch 135/150\n",
            "1/1 [==============================] - 0s 28ms/step - loss: 0.2283 - acc: 0.9554 - mse: 0.0354 - val_loss: 0.3697 - val_acc: 0.8158 - val_mse: 0.0753\n",
            "Epoch 136/150\n",
            "1/1 [==============================] - 0s 30ms/step - loss: 0.2268 - acc: 0.9554 - mse: 0.0351 - val_loss: 0.3681 - val_acc: 0.8158 - val_mse: 0.0749\n",
            "Epoch 137/150\n",
            "1/1 [==============================] - 0s 33ms/step - loss: 0.2254 - acc: 0.9464 - mse: 0.0348 - val_loss: 0.3665 - val_acc: 0.8158 - val_mse: 0.0746\n",
            "Epoch 138/150\n",
            "1/1 [==============================] - 0s 32ms/step - loss: 0.2239 - acc: 0.9464 - mse: 0.0346 - val_loss: 0.3649 - val_acc: 0.8158 - val_mse: 0.0743\n",
            "Epoch 139/150\n",
            "1/1 [==============================] - 0s 28ms/step - loss: 0.2224 - acc: 0.9554 - mse: 0.0343 - val_loss: 0.3633 - val_acc: 0.8158 - val_mse: 0.0740\n",
            "Epoch 140/150\n",
            "1/1 [==============================] - 0s 33ms/step - loss: 0.2210 - acc: 0.9554 - mse: 0.0340 - val_loss: 0.3616 - val_acc: 0.8158 - val_mse: 0.0737\n",
            "Epoch 141/150\n",
            "1/1 [==============================] - 0s 33ms/step - loss: 0.2196 - acc: 0.9554 - mse: 0.0337 - val_loss: 0.3600 - val_acc: 0.8158 - val_mse: 0.0734\n",
            "Epoch 142/150\n",
            "1/1 [==============================] - 0s 34ms/step - loss: 0.2182 - acc: 0.9554 - mse: 0.0335 - val_loss: 0.3585 - val_acc: 0.8158 - val_mse: 0.0731\n",
            "Epoch 143/150\n",
            "1/1 [==============================] - 0s 40ms/step - loss: 0.2168 - acc: 0.9554 - mse: 0.0332 - val_loss: 0.3569 - val_acc: 0.8158 - val_mse: 0.0728\n",
            "Epoch 144/150\n",
            "1/1 [==============================] - 0s 33ms/step - loss: 0.2154 - acc: 0.9554 - mse: 0.0330 - val_loss: 0.3553 - val_acc: 0.8158 - val_mse: 0.0725\n",
            "Epoch 145/150\n",
            "1/1 [==============================] - 0s 32ms/step - loss: 0.2140 - acc: 0.9554 - mse: 0.0327 - val_loss: 0.3538 - val_acc: 0.8158 - val_mse: 0.0722\n",
            "Epoch 146/150\n",
            "1/1 [==============================] - 0s 33ms/step - loss: 0.2127 - acc: 0.9554 - mse: 0.0325 - val_loss: 0.3521 - val_acc: 0.8158 - val_mse: 0.0718\n",
            "Epoch 147/150\n",
            "1/1 [==============================] - 0s 32ms/step - loss: 0.2114 - acc: 0.9554 - mse: 0.0322 - val_loss: 0.3505 - val_acc: 0.8158 - val_mse: 0.0715\n",
            "Epoch 148/150\n",
            "1/1 [==============================] - 0s 31ms/step - loss: 0.2100 - acc: 0.9554 - mse: 0.0320 - val_loss: 0.3489 - val_acc: 0.8158 - val_mse: 0.0712\n",
            "Epoch 149/150\n",
            "1/1 [==============================] - 0s 30ms/step - loss: 0.2087 - acc: 0.9554 - mse: 0.0317 - val_loss: 0.3473 - val_acc: 0.8158 - val_mse: 0.0709\n",
            "Epoch 150/150\n",
            "1/1 [==============================] - 0s 31ms/step - loss: 0.2074 - acc: 0.9554 - mse: 0.0315 - val_loss: 0.3456 - val_acc: 0.8158 - val_mse: 0.0705\n"
          ]
        }
      ]
    },
    {
      "cell_type": "code",
      "metadata": {
        "id": "ej6spISQMWE7",
        "colab": {
          "base_uri": "https://localhost:8080/"
        },
        "outputId": "5b77ab3c-90f6-464a-c9b2-7922e2c6d6f2"
      },
      "source": [
        "#After training the model, evaluate the model and find the  loss, accuracy and mse on the test set using the evaluate() function\n",
        "#print the loss, accuracy and MSE\n",
        "loss1, acc1, mse1 = model1.evaluate(X_test,y_test)\n"
      ],
      "execution_count": 387,
      "outputs": [
        {
          "output_type": "stream",
          "name": "stdout",
          "text": [
            "2/2 [==============================] - 0s 5ms/step - loss: 0.3456 - acc: 0.8158 - mse: 0.0705\n"
          ]
        }
      ]
    },
    {
      "cell_type": "code",
      "metadata": {
        "id": "wikDwF5cMWE7",
        "colab": {
          "base_uri": "https://localhost:8080/",
          "height": 581
        },
        "outputId": "139d5a18-5010-4f0d-a7f7-4e818273183b"
      },
      "source": [
        "#Observe the plots for Validation Loss and Training Loss.\n",
        "\n",
        "import matplotlib.pyplot as plt\n",
        "plt.style.use('ggplot')\n",
        "plt.plot(hist1.history['loss'], label = 'loss')\n",
        "plt.plot(hist1.history['val_loss'], label='val loss')\n",
        "plt.title(\"Train Loss vs Val_Loss\")\n",
        "plt.xlabel(\"Epochs\")\n",
        "plt.ylabel(\"Loss\")\n",
        "plt.legend()\n",
        "plt.show()\n",
        "\n",
        "# we observe that validation loss is increasing as compared to training loss. \n",
        "# This increase in training loss shows that our model is overfitted.\n",
        "\n",
        "#similarly we plot for model accuracy \n",
        "plt.plot(hist1.history['acc'], label = 'train acc')\n",
        "plt.plot(hist1.history['val_acc'], label='val acc')\n",
        "plt.title(\"train acc vs Val_acc\")\n",
        "plt.xlabel(\"Epochs\")\n",
        "plt.ylabel(\"acc\")\n",
        "plt.legend()\n",
        "plt.show()\n",
        "\n",
        "#This again shows that validation accuracy is low as compared to training accuracy, which again shows signs of overfitting. \n"
      ],
      "execution_count": 388,
      "outputs": [
        {
          "output_type": "display_data",
          "data": {
            "image/png": "[encoded data removed]",
            "text/plain": [
              "<Figure size 432x288 with 1 Axes>"
            ]
          },
          "metadata": {}
        },
        {
          "output_type": "display_data",
          "data": {
            "image/png": "[encoded data removed]",
            "text/plain": [
              "<Figure size 432x288 with 1 Axes>"
            ]
          },
          "metadata": {}
        }
      ]
    },
    {
      "cell_type": "markdown",
      "metadata": {
        "id": "_TqYG6--MWE7"
      },
      "source": [
        "\n",
        "\n",
        "## L1 Regularization:\n",
        " \n"
      ]
    },
    {
      "cell_type": "code",
      "metadata": {
        "id": "iSrqRzfUMWE8",
        "colab": {
          "base_uri": "https://localhost:8080/"
        },
        "outputId": "780d735a-8b9f-4d0c-bab0-2c27c86896ff"
      },
      "source": [
        "\n",
        "#A commonly used Regularization technique is L1 regularization, also known as Lasso Regularization.\n",
        "\n",
        "#The main concept of L1 Regularization is that we have to penalize our weights by adding absolute values of weight in our loss function, multiplied by a regularization parameter lambda λ, where λ is manually tuned to be greater than 0.\n",
        "\n",
        "#to implement L1 regularization, create another model called model2 similar to model1, this time add an extra parameter kernel_regularizer, which we set it to ‘l1’ for L1 Regularization in the first Dense layer:\n",
        "\n",
        "model2 = Sequential([\n",
        "    Dense(512, activation='tanh', input_shape = X_train[0].shape, kernel_regularizer='l1'),\n",
        "    Dense(512//2, activation='tanh'),\n",
        "    Dense(512//4, activation='tanh'),\n",
        "    Dense(512//8, activation='tanh'),\n",
        "    Dense(32, activation='relu'),\n",
        "    Dense(3, activation='softmax')\n",
        "])\n",
        "\n",
        "model2.compile(optimizer='sgd',loss='categorical_crossentropy', metrics=['acc', 'mse'])\n",
        "\n",
        "hist2 = model2.fit(X_train, y_train, epochs=150, batch_size=128, validation_data=(X_test,y_test))\n"
      ],
      "execution_count": 389,
      "outputs": [
        {
          "output_type": "stream",
          "name": "stdout",
          "text": [
            "Epoch 1/150\n",
            "1/1 [==============================] - 1s 606ms/step - loss: 2.2356 - acc: 0.3482 - mse: 0.2330 - val_loss: 2.1961 - val_acc: 0.2368 - val_mse: 0.2252\n",
            "Epoch 2/150\n",
            "1/1 [==============================] - 0s 24ms/step - loss: 2.1648 - acc: 0.3750 - mse: 0.2180 - val_loss: 2.1406 - val_acc: 0.3158 - val_mse: 0.2133\n",
            "Epoch 3/150\n",
            "1/1 [==============================] - 0s 25ms/step - loss: 2.1058 - acc: 0.4375 - mse: 0.2052 - val_loss: 2.0895 - val_acc: 0.6842 - val_mse: 0.2020\n",
            "Epoch 4/150\n",
            "1/1 [==============================] - 0s 29ms/step - loss: 2.0534 - acc: 0.7143 - mse: 0.1934 - val_loss: 2.0442 - val_acc: 0.7105 - val_mse: 0.1918\n",
            "Epoch 5/150\n",
            "1/1 [==============================] - 0s 26ms/step - loss: 2.0080 - acc: 0.7411 - mse: 0.1832 - val_loss: 2.0040 - val_acc: 0.7105 - val_mse: 0.1826\n",
            "Epoch 6/150\n",
            "1/1 [==============================] - 0s 25ms/step - loss: 1.9671 - acc: 0.7589 - mse: 0.1738 - val_loss: 1.9682 - val_acc: 0.7105 - val_mse: 0.1745\n",
            "Epoch 7/150\n",
            "1/1 [==============================] - 0s 37ms/step - loss: 1.9309 - acc: 0.7679 - mse: 0.1656 - val_loss: 1.9365 - val_acc: 0.7105 - val_mse: 0.1673\n",
            "Epoch 8/150\n",
            "1/1 [==============================] - 0s 24ms/step - loss: 1.8983 - acc: 0.7679 - mse: 0.1582 - val_loss: 1.9077 - val_acc: 0.7105 - val_mse: 0.1610\n",
            "Epoch 9/150\n",
            "1/1 [==============================] - 0s 31ms/step - loss: 1.8687 - acc: 0.7679 - mse: 0.1516 - val_loss: 1.8820 - val_acc: 0.7368 - val_mse: 0.1554\n",
            "Epoch 10/150\n",
            "1/1 [==============================] - 0s 39ms/step - loss: 1.8419 - acc: 0.7768 - mse: 0.1457 - val_loss: 1.8592 - val_acc: 0.7105 - val_mse: 0.1507\n",
            "Epoch 11/150\n",
            "1/1 [==============================] - 0s 32ms/step - loss: 1.8177 - acc: 0.7768 - mse: 0.1405 - val_loss: 1.8388 - val_acc: 0.7105 - val_mse: 0.1465\n",
            "Epoch 12/150\n",
            "1/1 [==============================] - 0s 29ms/step - loss: 1.7956 - acc: 0.7768 - mse: 0.1359 - val_loss: 1.8205 - val_acc: 0.7105 - val_mse: 0.1430\n",
            "Epoch 13/150\n",
            "1/1 [==============================] - 0s 27ms/step - loss: 1.7756 - acc: 0.7768 - mse: 0.1318 - val_loss: 1.8040 - val_acc: 0.7105 - val_mse: 0.1399\n",
            "Epoch 14/150\n",
            "1/1 [==============================] - 0s 28ms/step - loss: 1.7573 - acc: 0.7768 - mse: 0.1282 - val_loss: 1.7889 - val_acc: 0.6842 - val_mse: 0.1372\n",
            "Epoch 15/150\n",
            "1/1 [==============================] - 0s 32ms/step - loss: 1.7403 - acc: 0.7768 - mse: 0.1249 - val_loss: 1.7749 - val_acc: 0.6842 - val_mse: 0.1348\n",
            "Epoch 16/150\n",
            "1/1 [==============================] - 0s 49ms/step - loss: 1.7246 - acc: 0.7768 - mse: 0.1220 - val_loss: 1.7619 - val_acc: 0.6842 - val_mse: 0.1327\n",
            "Epoch 17/150\n",
            "1/1 [==============================] - 0s 31ms/step - loss: 1.7098 - acc: 0.7768 - mse: 0.1193 - val_loss: 1.7499 - val_acc: 0.6842 - val_mse: 0.1308\n",
            "Epoch 18/150\n",
            "1/1 [==============================] - 0s 32ms/step - loss: 1.6960 - acc: 0.7768 - mse: 0.1169 - val_loss: 1.7388 - val_acc: 0.6842 - val_mse: 0.1291\n",
            "Epoch 19/150\n",
            "1/1 [==============================] - 0s 29ms/step - loss: 1.6829 - acc: 0.7768 - mse: 0.1146 - val_loss: 1.7283 - val_acc: 0.6842 - val_mse: 0.1276\n",
            "Epoch 20/150\n",
            "1/1 [==============================] - 0s 29ms/step - loss: 1.6704 - acc: 0.7768 - mse: 0.1125 - val_loss: 1.7182 - val_acc: 0.6842 - val_mse: 0.1262\n",
            "Epoch 21/150\n",
            "1/1 [==============================] - 0s 39ms/step - loss: 1.6582 - acc: 0.7768 - mse: 0.1104 - val_loss: 1.7086 - val_acc: 0.6842 - val_mse: 0.1249\n",
            "Epoch 22/150\n",
            "1/1 [==============================] - 0s 32ms/step - loss: 1.6461 - acc: 0.7768 - mse: 0.1084 - val_loss: 1.6998 - val_acc: 0.6842 - val_mse: 0.1238\n",
            "Epoch 23/150\n",
            "1/1 [==============================] - 0s 34ms/step - loss: 1.6338 - acc: 0.7768 - mse: 0.1064 - val_loss: 1.6915 - val_acc: 0.6842 - val_mse: 0.1228\n",
            "Epoch 24/150\n",
            "1/1 [==============================] - 0s 50ms/step - loss: 1.6220 - acc: 0.7857 - mse: 0.1044 - val_loss: 1.6839 - val_acc: 0.6842 - val_mse: 0.1221\n",
            "Epoch 25/150\n",
            "1/1 [==============================] - 0s 30ms/step - loss: 1.6110 - acc: 0.7857 - mse: 0.1027 - val_loss: 1.6766 - val_acc: 0.6842 - val_mse: 0.1213\n",
            "Epoch 26/150\n",
            "1/1 [==============================] - 0s 27ms/step - loss: 1.6007 - acc: 0.7857 - mse: 0.1011 - val_loss: 1.6696 - val_acc: 0.6842 - val_mse: 0.1207\n",
            "Epoch 27/150\n",
            "1/1 [==============================] - 0s 31ms/step - loss: 1.5912 - acc: 0.7857 - mse: 0.0998 - val_loss: 1.6628 - val_acc: 0.6842 - val_mse: 0.1200\n",
            "Epoch 28/150\n",
            "1/1 [==============================] - 0s 34ms/step - loss: 1.5822 - acc: 0.7857 - mse: 0.0985 - val_loss: 1.6562 - val_acc: 0.6842 - val_mse: 0.1195\n",
            "Epoch 29/150\n",
            "1/1 [==============================] - 0s 47ms/step - loss: 1.5735 - acc: 0.7857 - mse: 0.0973 - val_loss: 1.6498 - val_acc: 0.6842 - val_mse: 0.1189\n",
            "Epoch 30/150\n",
            "1/1 [==============================] - 0s 27ms/step - loss: 1.5653 - acc: 0.7857 - mse: 0.0963 - val_loss: 1.6437 - val_acc: 0.6842 - val_mse: 0.1184\n",
            "Epoch 31/150\n",
            "1/1 [==============================] - 0s 32ms/step - loss: 1.5574 - acc: 0.7857 - mse: 0.0952 - val_loss: 1.6376 - val_acc: 0.6842 - val_mse: 0.1179\n",
            "Epoch 32/150\n",
            "1/1 [==============================] - 0s 31ms/step - loss: 1.5497 - acc: 0.7946 - mse: 0.0943 - val_loss: 1.6317 - val_acc: 0.6842 - val_mse: 0.1175\n",
            "Epoch 33/150\n",
            "1/1 [==============================] - 0s 34ms/step - loss: 1.5423 - acc: 0.7946 - mse: 0.0934 - val_loss: 1.6259 - val_acc: 0.6842 - val_mse: 0.1170\n",
            "Epoch 34/150\n",
            "1/1 [==============================] - 0s 30ms/step - loss: 1.5351 - acc: 0.7946 - mse: 0.0925 - val_loss: 1.6202 - val_acc: 0.7105 - val_mse: 0.1166\n",
            "Epoch 35/150\n",
            "1/1 [==============================] - 0s 43ms/step - loss: 1.5281 - acc: 0.7946 - mse: 0.0917 - val_loss: 1.6145 - val_acc: 0.7105 - val_mse: 0.1162\n",
            "Epoch 36/150\n",
            "1/1 [==============================] - 0s 34ms/step - loss: 1.5213 - acc: 0.7946 - mse: 0.0909 - val_loss: 1.6089 - val_acc: 0.7105 - val_mse: 0.1157\n",
            "Epoch 37/150\n",
            "1/1 [==============================] - 0s 30ms/step - loss: 1.5147 - acc: 0.7946 - mse: 0.0902 - val_loss: 1.6035 - val_acc: 0.7105 - val_mse: 0.1153\n",
            "Epoch 38/150\n",
            "1/1 [==============================] - 0s 35ms/step - loss: 1.5084 - acc: 0.7946 - mse: 0.0895 - val_loss: 1.5982 - val_acc: 0.7105 - val_mse: 0.1149\n",
            "Epoch 39/150\n",
            "1/1 [==============================] - 0s 32ms/step - loss: 1.5022 - acc: 0.7946 - mse: 0.0888 - val_loss: 1.5930 - val_acc: 0.7105 - val_mse: 0.1145\n",
            "Epoch 40/150\n",
            "1/1 [==============================] - 0s 34ms/step - loss: 1.4962 - acc: 0.7946 - mse: 0.0881 - val_loss: 1.5880 - val_acc: 0.7105 - val_mse: 0.1142\n",
            "Epoch 41/150\n",
            "1/1 [==============================] - 0s 31ms/step - loss: 1.4904 - acc: 0.7946 - mse: 0.0875 - val_loss: 1.5830 - val_acc: 0.7368 - val_mse: 0.1138\n",
            "Epoch 42/150\n",
            "1/1 [==============================] - 0s 28ms/step - loss: 1.4847 - acc: 0.7946 - mse: 0.0869 - val_loss: 1.5781 - val_acc: 0.7368 - val_mse: 0.1134\n",
            "Epoch 43/150\n",
            "1/1 [==============================] - 0s 30ms/step - loss: 1.4791 - acc: 0.7946 - mse: 0.0863 - val_loss: 1.5731 - val_acc: 0.7368 - val_mse: 0.1130\n",
            "Epoch 44/150\n",
            "1/1 [==============================] - 0s 30ms/step - loss: 1.4735 - acc: 0.7946 - mse: 0.0858 - val_loss: 1.5683 - val_acc: 0.7368 - val_mse: 0.1127\n",
            "Epoch 45/150\n",
            "1/1 [==============================] - 0s 29ms/step - loss: 1.4680 - acc: 0.7946 - mse: 0.0852 - val_loss: 1.5635 - val_acc: 0.7105 - val_mse: 0.1123\n",
            "Epoch 46/150\n",
            "1/1 [==============================] - 0s 31ms/step - loss: 1.4626 - acc: 0.7946 - mse: 0.0846 - val_loss: 1.5588 - val_acc: 0.7105 - val_mse: 0.1119\n",
            "Epoch 47/150\n",
            "1/1 [==============================] - 0s 27ms/step - loss: 1.4572 - acc: 0.7946 - mse: 0.0840 - val_loss: 1.5541 - val_acc: 0.7105 - val_mse: 0.1115\n",
            "Epoch 48/150\n",
            "1/1 [==============================] - 0s 36ms/step - loss: 1.4519 - acc: 0.7946 - mse: 0.0834 - val_loss: 1.5494 - val_acc: 0.7105 - val_mse: 0.1112\n",
            "Epoch 49/150\n",
            "1/1 [==============================] - 0s 28ms/step - loss: 1.4468 - acc: 0.8036 - mse: 0.0829 - val_loss: 1.5448 - val_acc: 0.7105 - val_mse: 0.1108\n",
            "Epoch 50/150\n",
            "1/1 [==============================] - 0s 30ms/step - loss: 1.4417 - acc: 0.8036 - mse: 0.0823 - val_loss: 1.5402 - val_acc: 0.7105 - val_mse: 0.1104\n",
            "Epoch 51/150\n",
            "1/1 [==============================] - 0s 29ms/step - loss: 1.4366 - acc: 0.8125 - mse: 0.0818 - val_loss: 1.5357 - val_acc: 0.7105 - val_mse: 0.1100\n",
            "Epoch 52/150\n",
            "1/1 [==============================] - 0s 35ms/step - loss: 1.4317 - acc: 0.8214 - mse: 0.0813 - val_loss: 1.5312 - val_acc: 0.7105 - val_mse: 0.1096\n",
            "Epoch 53/150\n",
            "1/1 [==============================] - 0s 32ms/step - loss: 1.4268 - acc: 0.8214 - mse: 0.0808 - val_loss: 1.5267 - val_acc: 0.7105 - val_mse: 0.1093\n",
            "Epoch 54/150\n",
            "1/1 [==============================] - 0s 31ms/step - loss: 1.4220 - acc: 0.8304 - mse: 0.0803 - val_loss: 1.5222 - val_acc: 0.7105 - val_mse: 0.1089\n",
            "Epoch 55/150\n",
            "1/1 [==============================] - 0s 27ms/step - loss: 1.4173 - acc: 0.8393 - mse: 0.0798 - val_loss: 1.5178 - val_acc: 0.7105 - val_mse: 0.1085\n",
            "Epoch 56/150\n",
            "1/1 [==============================] - 0s 33ms/step - loss: 1.4126 - acc: 0.8393 - mse: 0.0793 - val_loss: 1.5134 - val_acc: 0.7105 - val_mse: 0.1081\n",
            "Epoch 57/150\n",
            "1/1 [==============================] - 0s 32ms/step - loss: 1.4080 - acc: 0.8393 - mse: 0.0788 - val_loss: 1.5090 - val_acc: 0.7105 - val_mse: 0.1077\n",
            "Epoch 58/150\n",
            "1/1 [==============================] - 0s 32ms/step - loss: 1.4034 - acc: 0.8393 - mse: 0.0783 - val_loss: 1.5047 - val_acc: 0.7105 - val_mse: 0.1073\n",
            "Epoch 59/150\n",
            "1/1 [==============================] - 0s 34ms/step - loss: 1.3989 - acc: 0.8393 - mse: 0.0778 - val_loss: 1.5004 - val_acc: 0.7105 - val_mse: 0.1069\n",
            "Epoch 60/150\n",
            "1/1 [==============================] - 0s 37ms/step - loss: 1.3944 - acc: 0.8393 - mse: 0.0773 - val_loss: 1.4961 - val_acc: 0.7105 - val_mse: 0.1065\n",
            "Epoch 61/150\n",
            "1/1 [==============================] - 0s 29ms/step - loss: 1.3900 - acc: 0.8393 - mse: 0.0769 - val_loss: 1.4918 - val_acc: 0.7105 - val_mse: 0.1061\n",
            "Epoch 62/150\n",
            "1/1 [==============================] - 0s 31ms/step - loss: 1.3856 - acc: 0.8482 - mse: 0.0764 - val_loss: 1.4876 - val_acc: 0.7368 - val_mse: 0.1057\n",
            "Epoch 63/150\n",
            "1/1 [==============================] - 0s 27ms/step - loss: 1.3812 - acc: 0.8482 - mse: 0.0759 - val_loss: 1.4834 - val_acc: 0.7368 - val_mse: 0.1054\n",
            "Epoch 64/150\n",
            "1/1 [==============================] - 0s 41ms/step - loss: 1.3769 - acc: 0.8482 - mse: 0.0755 - val_loss: 1.4793 - val_acc: 0.7368 - val_mse: 0.1050\n",
            "Epoch 65/150\n",
            "1/1 [==============================] - 0s 32ms/step - loss: 1.3727 - acc: 0.8571 - mse: 0.0750 - val_loss: 1.4751 - val_acc: 0.7368 - val_mse: 0.1046\n",
            "Epoch 66/150\n",
            "1/1 [==============================] - 0s 33ms/step - loss: 1.3684 - acc: 0.8571 - mse: 0.0746 - val_loss: 1.4710 - val_acc: 0.7368 - val_mse: 0.1042\n",
            "Epoch 67/150\n",
            "1/1 [==============================] - 0s 27ms/step - loss: 1.3642 - acc: 0.8571 - mse: 0.0741 - val_loss: 1.4669 - val_acc: 0.7368 - val_mse: 0.1038\n",
            "Epoch 68/150\n",
            "1/1 [==============================] - 0s 29ms/step - loss: 1.3600 - acc: 0.8571 - mse: 0.0737 - val_loss: 1.4628 - val_acc: 0.7368 - val_mse: 0.1034\n",
            "Epoch 69/150\n",
            "1/1 [==============================] - 0s 33ms/step - loss: 1.3559 - acc: 0.8571 - mse: 0.0732 - val_loss: 1.4589 - val_acc: 0.7368 - val_mse: 0.1031\n",
            "Epoch 70/150\n",
            "1/1 [==============================] - 0s 30ms/step - loss: 1.3518 - acc: 0.8571 - mse: 0.0728 - val_loss: 1.4549 - val_acc: 0.7368 - val_mse: 0.1027\n",
            "Epoch 71/150\n",
            "1/1 [==============================] - 0s 34ms/step - loss: 1.3478 - acc: 0.8571 - mse: 0.0724 - val_loss: 1.4509 - val_acc: 0.7368 - val_mse: 0.1023\n",
            "Epoch 72/150\n",
            "1/1 [==============================] - 0s 29ms/step - loss: 1.3437 - acc: 0.8571 - mse: 0.0720 - val_loss: 1.4470 - val_acc: 0.7368 - val_mse: 0.1020\n",
            "Epoch 73/150\n",
            "1/1 [==============================] - 0s 35ms/step - loss: 1.3398 - acc: 0.8571 - mse: 0.0715 - val_loss: 1.4430 - val_acc: 0.7368 - val_mse: 0.1016\n",
            "Epoch 74/150\n",
            "1/1 [==============================] - 0s 31ms/step - loss: 1.3358 - acc: 0.8571 - mse: 0.0711 - val_loss: 1.4391 - val_acc: 0.7368 - val_mse: 0.1012\n",
            "Epoch 75/150\n",
            "1/1 [==============================] - 0s 33ms/step - loss: 1.3319 - acc: 0.8571 - mse: 0.0707 - val_loss: 1.4352 - val_acc: 0.7368 - val_mse: 0.1008\n",
            "Epoch 76/150\n",
            "1/1 [==============================] - 0s 28ms/step - loss: 1.3280 - acc: 0.8571 - mse: 0.0703 - val_loss: 1.4314 - val_acc: 0.7368 - val_mse: 0.1005\n",
            "Epoch 77/150\n",
            "1/1 [==============================] - 0s 36ms/step - loss: 1.3241 - acc: 0.8661 - mse: 0.0699 - val_loss: 1.4276 - val_acc: 0.7368 - val_mse: 0.1001\n",
            "Epoch 78/150\n",
            "1/1 [==============================] - 0s 40ms/step - loss: 1.3202 - acc: 0.8661 - mse: 0.0695 - val_loss: 1.4239 - val_acc: 0.7368 - val_mse: 0.0998\n",
            "Epoch 79/150\n",
            "1/1 [==============================] - 0s 29ms/step - loss: 1.3164 - acc: 0.8661 - mse: 0.0691 - val_loss: 1.4201 - val_acc: 0.7368 - val_mse: 0.0994\n",
            "Epoch 80/150\n",
            "1/1 [==============================] - 0s 33ms/step - loss: 1.3126 - acc: 0.8661 - mse: 0.0687 - val_loss: 1.4165 - val_acc: 0.7368 - val_mse: 0.0991\n",
            "Epoch 81/150\n",
            "1/1 [==============================] - 0s 27ms/step - loss: 1.3088 - acc: 0.8661 - mse: 0.0683 - val_loss: 1.4128 - val_acc: 0.7368 - val_mse: 0.0987\n",
            "Epoch 82/150\n",
            "1/1 [==============================] - 0s 33ms/step - loss: 1.3050 - acc: 0.8661 - mse: 0.0679 - val_loss: 1.4091 - val_acc: 0.7368 - val_mse: 0.0984\n",
            "Epoch 83/150\n",
            "1/1 [==============================] - 0s 40ms/step - loss: 1.3013 - acc: 0.8661 - mse: 0.0675 - val_loss: 1.4054 - val_acc: 0.7368 - val_mse: 0.0981\n",
            "Epoch 84/150\n",
            "1/1 [==============================] - 0s 31ms/step - loss: 1.2975 - acc: 0.8661 - mse: 0.0671 - val_loss: 1.4018 - val_acc: 0.7368 - val_mse: 0.0977\n",
            "Epoch 85/150\n",
            "1/1 [==============================] - 0s 30ms/step - loss: 1.2938 - acc: 0.8661 - mse: 0.0667 - val_loss: 1.3981 - val_acc: 0.7368 - val_mse: 0.0974\n",
            "Epoch 86/150\n",
            "1/1 [==============================] - 0s 32ms/step - loss: 1.2901 - acc: 0.8661 - mse: 0.0663 - val_loss: 1.3945 - val_acc: 0.7368 - val_mse: 0.0970\n",
            "Epoch 87/150\n",
            "1/1 [==============================] - 0s 26ms/step - loss: 1.2864 - acc: 0.8661 - mse: 0.0660 - val_loss: 1.3908 - val_acc: 0.7368 - val_mse: 0.0967\n",
            "Epoch 88/150\n",
            "1/1 [==============================] - 0s 31ms/step - loss: 1.2828 - acc: 0.8661 - mse: 0.0656 - val_loss: 1.3872 - val_acc: 0.7632 - val_mse: 0.0963\n",
            "Epoch 89/150\n",
            "1/1 [==============================] - 0s 32ms/step - loss: 1.2791 - acc: 0.8661 - mse: 0.0652 - val_loss: 1.3836 - val_acc: 0.7632 - val_mse: 0.0960\n",
            "Epoch 90/150\n",
            "1/1 [==============================] - 0s 37ms/step - loss: 1.2755 - acc: 0.8661 - mse: 0.0648 - val_loss: 1.3799 - val_acc: 0.7632 - val_mse: 0.0956\n",
            "Epoch 91/150\n",
            "1/1 [==============================] - 0s 28ms/step - loss: 1.2719 - acc: 0.8661 - mse: 0.0644 - val_loss: 1.3764 - val_acc: 0.7895 - val_mse: 0.0953\n",
            "Epoch 92/150\n",
            "1/1 [==============================] - 0s 34ms/step - loss: 1.2683 - acc: 0.8750 - mse: 0.0641 - val_loss: 1.3728 - val_acc: 0.7895 - val_mse: 0.0949\n",
            "Epoch 93/150\n",
            "1/1 [==============================] - 0s 26ms/step - loss: 1.2648 - acc: 0.8750 - mse: 0.0637 - val_loss: 1.3692 - val_acc: 0.7895 - val_mse: 0.0945\n",
            "Epoch 94/150\n",
            "1/1 [==============================] - 0s 31ms/step - loss: 1.2612 - acc: 0.8750 - mse: 0.0633 - val_loss: 1.3656 - val_acc: 0.7632 - val_mse: 0.0942\n",
            "Epoch 95/150\n",
            "1/1 [==============================] - 0s 32ms/step - loss: 1.2577 - acc: 0.8750 - mse: 0.0630 - val_loss: 1.3620 - val_acc: 0.7632 - val_mse: 0.0938\n",
            "Epoch 96/150\n",
            "1/1 [==============================] - 0s 35ms/step - loss: 1.2542 - acc: 0.8750 - mse: 0.0626 - val_loss: 1.3584 - val_acc: 0.7632 - val_mse: 0.0935\n",
            "Epoch 97/150\n",
            "1/1 [==============================] - 0s 27ms/step - loss: 1.2506 - acc: 0.8750 - mse: 0.0622 - val_loss: 1.3549 - val_acc: 0.7632 - val_mse: 0.0931\n",
            "Epoch 98/150\n",
            "1/1 [==============================] - 0s 30ms/step - loss: 1.2471 - acc: 0.8750 - mse: 0.0619 - val_loss: 1.3513 - val_acc: 0.7632 - val_mse: 0.0928\n",
            "Epoch 99/150\n",
            "1/1 [==============================] - 0s 26ms/step - loss: 1.2437 - acc: 0.8750 - mse: 0.0615 - val_loss: 1.3478 - val_acc: 0.7632 - val_mse: 0.0924\n",
            "Epoch 100/150\n",
            "1/1 [==============================] - 0s 31ms/step - loss: 1.2402 - acc: 0.8750 - mse: 0.0611 - val_loss: 1.3443 - val_acc: 0.7632 - val_mse: 0.0920\n",
            "Epoch 101/150\n",
            "1/1 [==============================] - 0s 30ms/step - loss: 1.2368 - acc: 0.8750 - mse: 0.0608 - val_loss: 1.3408 - val_acc: 0.7632 - val_mse: 0.0917\n",
            "Epoch 102/150\n",
            "1/1 [==============================] - 0s 35ms/step - loss: 1.2333 - acc: 0.8750 - mse: 0.0604 - val_loss: 1.3374 - val_acc: 0.7632 - val_mse: 0.0914\n",
            "Epoch 103/150\n",
            "1/1 [==============================] - 0s 29ms/step - loss: 1.2299 - acc: 0.8750 - mse: 0.0601 - val_loss: 1.3339 - val_acc: 0.7632 - val_mse: 0.0910\n",
            "Epoch 104/150\n",
            "1/1 [==============================] - 0s 37ms/step - loss: 1.2265 - acc: 0.8839 - mse: 0.0597 - val_loss: 1.3305 - val_acc: 0.7632 - val_mse: 0.0907\n",
            "Epoch 105/150\n",
            "1/1 [==============================] - 0s 35ms/step - loss: 1.2231 - acc: 0.8839 - mse: 0.0593 - val_loss: 1.3270 - val_acc: 0.7632 - val_mse: 0.0903\n",
            "Epoch 106/150\n",
            "1/1 [==============================] - 0s 30ms/step - loss: 1.2197 - acc: 0.8929 - mse: 0.0590 - val_loss: 1.3236 - val_acc: 0.7632 - val_mse: 0.0900\n",
            "Epoch 107/150\n",
            "1/1 [==============================] - 0s 28ms/step - loss: 1.2163 - acc: 0.8929 - mse: 0.0586 - val_loss: 1.3202 - val_acc: 0.7632 - val_mse: 0.0896\n",
            "Epoch 108/150\n",
            "1/1 [==============================] - 0s 31ms/step - loss: 1.2129 - acc: 0.8929 - mse: 0.0583 - val_loss: 1.3168 - val_acc: 0.7632 - val_mse: 0.0893\n",
            "Epoch 109/150\n",
            "1/1 [==============================] - 0s 30ms/step - loss: 1.2095 - acc: 0.9018 - mse: 0.0579 - val_loss: 1.3133 - val_acc: 0.7632 - val_mse: 0.0889\n",
            "Epoch 110/150\n",
            "1/1 [==============================] - 0s 35ms/step - loss: 1.2062 - acc: 0.9018 - mse: 0.0576 - val_loss: 1.3099 - val_acc: 0.7632 - val_mse: 0.0886\n",
            "Epoch 111/150\n",
            "1/1 [==============================] - 0s 31ms/step - loss: 1.2028 - acc: 0.9018 - mse: 0.0572 - val_loss: 1.3065 - val_acc: 0.7632 - val_mse: 0.0882\n",
            "Epoch 112/150\n",
            "1/1 [==============================] - 0s 28ms/step - loss: 1.1995 - acc: 0.9018 - mse: 0.0569 - val_loss: 1.3032 - val_acc: 0.7632 - val_mse: 0.0879\n",
            "Epoch 113/150\n",
            "1/1 [==============================] - 0s 27ms/step - loss: 1.1961 - acc: 0.9018 - mse: 0.0565 - val_loss: 1.2999 - val_acc: 0.7632 - val_mse: 0.0876\n",
            "Epoch 114/150\n",
            "1/1 [==============================] - 0s 34ms/step - loss: 1.1928 - acc: 0.9018 - mse: 0.0562 - val_loss: 1.2966 - val_acc: 0.7632 - val_mse: 0.0873\n",
            "Epoch 115/150\n",
            "1/1 [==============================] - 0s 31ms/step - loss: 1.1895 - acc: 0.9018 - mse: 0.0558 - val_loss: 1.2933 - val_acc: 0.7632 - val_mse: 0.0869\n",
            "Epoch 116/150\n",
            "1/1 [==============================] - 0s 32ms/step - loss: 1.1862 - acc: 0.9018 - mse: 0.0555 - val_loss: 1.2900 - val_acc: 0.7632 - val_mse: 0.0866\n",
            "Epoch 117/150\n",
            "1/1 [==============================] - 0s 33ms/step - loss: 1.1829 - acc: 0.9018 - mse: 0.0551 - val_loss: 1.2867 - val_acc: 0.7632 - val_mse: 0.0863\n",
            "Epoch 118/150\n",
            "1/1 [==============================] - 0s 27ms/step - loss: 1.1796 - acc: 0.9018 - mse: 0.0548 - val_loss: 1.2834 - val_acc: 0.7632 - val_mse: 0.0859\n",
            "Epoch 119/150\n",
            "1/1 [==============================] - 0s 30ms/step - loss: 1.1763 - acc: 0.9018 - mse: 0.0544 - val_loss: 1.2801 - val_acc: 0.7632 - val_mse: 0.0856\n",
            "Epoch 120/150\n",
            "1/1 [==============================] - 0s 36ms/step - loss: 1.1731 - acc: 0.9018 - mse: 0.0541 - val_loss: 1.2769 - val_acc: 0.7632 - val_mse: 0.0853\n",
            "Epoch 121/150\n",
            "1/1 [==============================] - 0s 32ms/step - loss: 1.1698 - acc: 0.9018 - mse: 0.0538 - val_loss: 1.2736 - val_acc: 0.7632 - val_mse: 0.0849\n",
            "Epoch 122/150\n",
            "1/1 [==============================] - 0s 33ms/step - loss: 1.1667 - acc: 0.9018 - mse: 0.0534 - val_loss: 1.2703 - val_acc: 0.7632 - val_mse: 0.0846\n",
            "Epoch 123/150\n",
            "1/1 [==============================] - 0s 28ms/step - loss: 1.1635 - acc: 0.9018 - mse: 0.0531 - val_loss: 1.2670 - val_acc: 0.7632 - val_mse: 0.0842\n",
            "Epoch 124/150\n",
            "1/1 [==============================] - 0s 29ms/step - loss: 1.1603 - acc: 0.9018 - mse: 0.0528 - val_loss: 1.2637 - val_acc: 0.7632 - val_mse: 0.0839\n",
            "Epoch 125/150\n",
            "1/1 [==============================] - 0s 28ms/step - loss: 1.1571 - acc: 0.9018 - mse: 0.0524 - val_loss: 1.2604 - val_acc: 0.7632 - val_mse: 0.0836\n",
            "Epoch 126/150\n",
            "1/1 [==============================] - 0s 35ms/step - loss: 1.1540 - acc: 0.9018 - mse: 0.0521 - val_loss: 1.2571 - val_acc: 0.7632 - val_mse: 0.0832\n",
            "Epoch 127/150\n",
            "1/1 [==============================] - 0s 34ms/step - loss: 1.1508 - acc: 0.9018 - mse: 0.0518 - val_loss: 1.2539 - val_acc: 0.7632 - val_mse: 0.0829\n",
            "Epoch 128/150\n",
            "1/1 [==============================] - 0s 33ms/step - loss: 1.1477 - acc: 0.9018 - mse: 0.0515 - val_loss: 1.2506 - val_acc: 0.7632 - val_mse: 0.0825\n",
            "Epoch 129/150\n",
            "1/1 [==============================] - 0s 32ms/step - loss: 1.1446 - acc: 0.9107 - mse: 0.0511 - val_loss: 1.2474 - val_acc: 0.7632 - val_mse: 0.0822\n",
            "Epoch 130/150\n",
            "1/1 [==============================] - 0s 33ms/step - loss: 1.1415 - acc: 0.9107 - mse: 0.0508 - val_loss: 1.2442 - val_acc: 0.7895 - val_mse: 0.0818\n",
            "Epoch 131/150\n",
            "1/1 [==============================] - 0s 36ms/step - loss: 1.1384 - acc: 0.9107 - mse: 0.0505 - val_loss: 1.2410 - val_acc: 0.7895 - val_mse: 0.0815\n",
            "Epoch 132/150\n",
            "1/1 [==============================] - 0s 46ms/step - loss: 1.1353 - acc: 0.9196 - mse: 0.0502 - val_loss: 1.2377 - val_acc: 0.7895 - val_mse: 0.0812\n",
            "Epoch 133/150\n",
            "1/1 [==============================] - 0s 29ms/step - loss: 1.1322 - acc: 0.9196 - mse: 0.0499 - val_loss: 1.2345 - val_acc: 0.7895 - val_mse: 0.0808\n",
            "Epoch 134/150\n",
            "1/1 [==============================] - 0s 37ms/step - loss: 1.1291 - acc: 0.9196 - mse: 0.0495 - val_loss: 1.2314 - val_acc: 0.7895 - val_mse: 0.0805\n",
            "Epoch 135/150\n",
            "1/1 [==============================] - 0s 31ms/step - loss: 1.1259 - acc: 0.9196 - mse: 0.0492 - val_loss: 1.2282 - val_acc: 0.7895 - val_mse: 0.0802\n",
            "Epoch 136/150\n",
            "1/1 [==============================] - 0s 35ms/step - loss: 1.1228 - acc: 0.9196 - mse: 0.0489 - val_loss: 1.2251 - val_acc: 0.7895 - val_mse: 0.0798\n",
            "Epoch 137/150\n",
            "1/1 [==============================] - 0s 36ms/step - loss: 1.1198 - acc: 0.9286 - mse: 0.0486 - val_loss: 1.2219 - val_acc: 0.7895 - val_mse: 0.0795\n",
            "Epoch 138/150\n",
            "1/1 [==============================] - 0s 30ms/step - loss: 1.1167 - acc: 0.9286 - mse: 0.0483 - val_loss: 1.2188 - val_acc: 0.7895 - val_mse: 0.0792\n",
            "Epoch 139/150\n",
            "1/1 [==============================] - 0s 35ms/step - loss: 1.1136 - acc: 0.9286 - mse: 0.0480 - val_loss: 1.2157 - val_acc: 0.7895 - val_mse: 0.0789\n",
            "Epoch 140/150\n",
            "1/1 [==============================] - 0s 40ms/step - loss: 1.1106 - acc: 0.9286 - mse: 0.0476 - val_loss: 1.2126 - val_acc: 0.7895 - val_mse: 0.0785\n",
            "Epoch 141/150\n",
            "1/1 [==============================] - 0s 38ms/step - loss: 1.1075 - acc: 0.9286 - mse: 0.0473 - val_loss: 1.2095 - val_acc: 0.7895 - val_mse: 0.0782\n",
            "Epoch 142/150\n",
            "1/1 [==============================] - 0s 38ms/step - loss: 1.1045 - acc: 0.9375 - mse: 0.0470 - val_loss: 1.2064 - val_acc: 0.7895 - val_mse: 0.0779\n",
            "Epoch 143/150\n",
            "1/1 [==============================] - 0s 35ms/step - loss: 1.1015 - acc: 0.9375 - mse: 0.0467 - val_loss: 1.2033 - val_acc: 0.7895 - val_mse: 0.0776\n",
            "Epoch 144/150\n",
            "1/1 [==============================] - 0s 35ms/step - loss: 1.0985 - acc: 0.9375 - mse: 0.0464 - val_loss: 1.2002 - val_acc: 0.7895 - val_mse: 0.0773\n",
            "Epoch 145/150\n",
            "1/1 [==============================] - 0s 33ms/step - loss: 1.0955 - acc: 0.9375 - mse: 0.0461 - val_loss: 1.1972 - val_acc: 0.7895 - val_mse: 0.0769\n",
            "Epoch 146/150\n",
            "1/1 [==============================] - 0s 34ms/step - loss: 1.0925 - acc: 0.9375 - mse: 0.0458 - val_loss: 1.1941 - val_acc: 0.7895 - val_mse: 0.0766\n",
            "Epoch 147/150\n",
            "1/1 [==============================] - 0s 35ms/step - loss: 1.0895 - acc: 0.9375 - mse: 0.0455 - val_loss: 1.1910 - val_acc: 0.7895 - val_mse: 0.0763\n",
            "Epoch 148/150\n",
            "1/1 [==============================] - 0s 38ms/step - loss: 1.0866 - acc: 0.9375 - mse: 0.0452 - val_loss: 1.1880 - val_acc: 0.7895 - val_mse: 0.0760\n",
            "Epoch 149/150\n",
            "1/1 [==============================] - 0s 44ms/step - loss: 1.0836 - acc: 0.9375 - mse: 0.0449 - val_loss: 1.1850 - val_acc: 0.7895 - val_mse: 0.0757\n",
            "Epoch 150/150\n",
            "1/1 [==============================] - 0s 31ms/step - loss: 1.0807 - acc: 0.9375 - mse: 0.0446 - val_loss: 1.1820 - val_acc: 0.8158 - val_mse: 0.0754\n"
          ]
        }
      ]
    },
    {
      "cell_type": "code",
      "metadata": {
        "id": "UKdB0IHnMWE9",
        "colab": {
          "base_uri": "https://localhost:8080/"
        },
        "outputId": "b35edbae-c11a-4472-e632-8b81b4b1f3ec"
      },
      "source": [
        "#just how we used evaluate() in the basic model previously, use it again to find the loss, accuracy and MSE on the test set\n",
        "\n",
        "loss2, acc2, mse2 = model2.evaluate(X_test,y_test)\n"
      ],
      "execution_count": 390,
      "outputs": [
        {
          "output_type": "stream",
          "name": "stdout",
          "text": [
            "2/2 [==============================] - 0s 5ms/step - loss: 1.1820 - acc: 0.8158 - mse: 0.0754\n"
          ]
        }
      ]
    },
    {
      "cell_type": "code",
      "metadata": {
        "id": "qt5ZJ3m_MWE9",
        "colab": {
          "base_uri": "https://localhost:8080/",
          "height": 581
        },
        "outputId": "fe278253-52a4-4681-841f-f49c58a3828e"
      },
      "source": [
        "# Plot the train loss vs validation loss and train accuracy vs validation accuracy graphs just like we did before\n",
        "\n",
        "plt.style.use('ggplot')\n",
        "plt.plot(hist2.history['loss'], label = 'loss')\n",
        "plt.plot(hist2.history['val_loss'], label='val loss')\n",
        "plt.title(\"Train Loss vs Val_Loss\")\n",
        "plt.xlabel(\"Epochs\")\n",
        "plt.ylabel(\"Loss\")\n",
        "plt.legend()\n",
        "plt.show()\n",
        "\n",
        "# we observe that validation loss is increasing as compared to training loss. \n",
        "# This increase in training loss shows that our model is overfitted.\n",
        "\n",
        "#similarly we plot for model accuracy \n",
        "plt.plot(hist2.history['acc'], label = 'train acc')\n",
        "plt.plot(hist2.history['val_acc'], label='val acc')\n",
        "plt.title(\"train acc vs Val_acc\")\n",
        "plt.xlabel(\"Epochs\")\n",
        "plt.ylabel(\"acc\")\n",
        "plt.legend()\n",
        "plt.show()\n",
        "\n",
        " \n"
      ],
      "execution_count": 391,
      "outputs": [
        {
          "output_type": "display_data",
          "data": {
            "image/png": "[encoded data removed]",
            "text/plain": [
              "<Figure size 432x288 with 1 Axes>"
            ]
          },
          "metadata": {}
        },
        {
          "output_type": "display_data",
          "data": {
            "image/png": "[encoded data removed]",
            "text/plain": [
              "<Figure size 432x288 with 1 Axes>"
            ]
          },
          "metadata": {}
        }
      ]
    },
    {
      "cell_type": "code",
      "metadata": {
        "id": "srZsJXLYMWE-",
        "colab": {
          "base_uri": "https://localhost:8080/"
        },
        "outputId": "6e470c78-98ea-4daa-e26c-afb097902085"
      },
      "source": [
        "# create a new model model3, similar to model1 and model2 and add l1 in more layers to check if it improves the model or not.\n",
        "\n",
        "model3 = Sequential([\n",
        "    Dense(512, activation='tanh', input_shape = X_train[0].shape, kernel_regularizer='l1'),\n",
        "    Dense(512//2, activation='tanh', kernel_regularizer='l1'),\n",
        "    Dense(512//4, activation='tanh'),\n",
        "    Dense(512//8, activation='tanh'),\n",
        "    Dense(32, activation='relu'),\n",
        "    Dense(3, activation='softmax')\n",
        "])\n",
        "\n",
        "model3.compile(optimizer='sgd',loss='categorical_crossentropy', metrics=['acc', 'mse'])\n",
        "\n",
        "hist3 = model3.fit(X_train, y_train, epochs=150, batch_size=128, validation_data=(X_test,y_test))\n"
      ],
      "execution_count": 392,
      "outputs": [
        {
          "output_type": "stream",
          "name": "stdout",
          "text": [
            "Epoch 1/150\n",
            "1/1 [==============================] - 1s 626ms/step - loss: 60.0778 - acc: 0.3125 - mse: 0.2338 - val_loss: 59.8452 - val_acc: 0.7368 - val_mse: 0.2122\n",
            "Epoch 2/150\n",
            "1/1 [==============================] - 0s 28ms/step - loss: 59.8756 - acc: 0.6161 - mse: 0.2188 - val_loss: 59.6544 - val_acc: 0.7368 - val_mse: 0.1988\n",
            "Epoch 3/150\n",
            "1/1 [==============================] - 0s 26ms/step - loss: 59.6828 - acc: 0.6696 - mse: 0.2051 - val_loss: 59.4735 - val_acc: 0.7632 - val_mse: 0.1872\n",
            "Epoch 4/150\n",
            "1/1 [==============================] - 0s 33ms/step - loss: 59.5008 - acc: 0.6875 - mse: 0.1935 - val_loss: 59.3002 - val_acc: 0.7895 - val_mse: 0.1774\n",
            "Epoch 5/150\n",
            "1/1 [==============================] - 0s 35ms/step - loss: 59.3262 - acc: 0.7143 - mse: 0.1835 - val_loss: 59.1348 - val_acc: 0.8158 - val_mse: 0.1694\n",
            "Epoch 6/150\n",
            "1/1 [==============================] - 0s 26ms/step - loss: 59.1582 - acc: 0.7411 - mse: 0.1749 - val_loss: 58.9745 - val_acc: 0.7895 - val_mse: 0.1626\n",
            "Epoch 7/150\n",
            "1/1 [==============================] - 0s 26ms/step - loss: 58.9948 - acc: 0.7857 - mse: 0.1675 - val_loss: 58.8178 - val_acc: 0.7632 - val_mse: 0.1568\n",
            "Epoch 8/150\n",
            "1/1 [==============================] - 0s 31ms/step - loss: 58.8354 - acc: 0.8482 - mse: 0.1611 - val_loss: 58.6640 - val_acc: 0.7632 - val_mse: 0.1518\n",
            "Epoch 9/150\n",
            "1/1 [==============================] - 0s 32ms/step - loss: 58.6794 - acc: 0.8661 - mse: 0.1555 - val_loss: 58.5124 - val_acc: 0.7895 - val_mse: 0.1474\n",
            "Epoch 10/150\n",
            "1/1 [==============================] - 0s 27ms/step - loss: 58.5258 - acc: 0.9018 - mse: 0.1506 - val_loss: 58.3629 - val_acc: 0.8158 - val_mse: 0.1435\n",
            "Epoch 11/150\n",
            "1/1 [==============================] - 0s 29ms/step - loss: 58.3747 - acc: 0.8929 - mse: 0.1462 - val_loss: 58.2153 - val_acc: 0.8158 - val_mse: 0.1401\n",
            "Epoch 12/150\n",
            "1/1 [==============================] - 0s 33ms/step - loss: 58.2258 - acc: 0.9018 - mse: 0.1424 - val_loss: 58.0692 - val_acc: 0.8684 - val_mse: 0.1370\n",
            "Epoch 13/150\n",
            "1/1 [==============================] - 0s 30ms/step - loss: 58.0784 - acc: 0.9107 - mse: 0.1390 - val_loss: 57.9246 - val_acc: 0.8684 - val_mse: 0.1343\n",
            "Epoch 14/150\n",
            "1/1 [==============================] - 0s 31ms/step - loss: 57.9326 - acc: 0.9107 - mse: 0.1359 - val_loss: 57.7813 - val_acc: 0.7895 - val_mse: 0.1319\n",
            "Epoch 15/150\n",
            "1/1 [==============================] - 0s 28ms/step - loss: 57.7880 - acc: 0.9018 - mse: 0.1331 - val_loss: 57.6391 - val_acc: 0.7632 - val_mse: 0.1297\n",
            "Epoch 16/150\n",
            "1/1 [==============================] - 0s 34ms/step - loss: 57.6447 - acc: 0.8929 - mse: 0.1306 - val_loss: 57.4979 - val_acc: 0.7632 - val_mse: 0.1277\n",
            "Epoch 17/150\n",
            "1/1 [==============================] - 0s 28ms/step - loss: 57.5025 - acc: 0.8839 - mse: 0.1283 - val_loss: 57.3577 - val_acc: 0.7895 - val_mse: 0.1259\n",
            "Epoch 18/150\n",
            "1/1 [==============================] - 0s 30ms/step - loss: 57.3611 - acc: 0.8929 - mse: 0.1262 - val_loss: 57.2183 - val_acc: 0.7895 - val_mse: 0.1242\n",
            "Epoch 19/150\n",
            "1/1 [==============================] - 0s 33ms/step - loss: 57.2206 - acc: 0.8929 - mse: 0.1242 - val_loss: 57.0796 - val_acc: 0.7895 - val_mse: 0.1227\n",
            "Epoch 20/150\n",
            "1/1 [==============================] - 0s 32ms/step - loss: 57.0808 - acc: 0.8750 - mse: 0.1224 - val_loss: 56.9417 - val_acc: 0.7895 - val_mse: 0.1213\n",
            "Epoch 21/150\n",
            "1/1 [==============================] - 0s 35ms/step - loss: 56.9417 - acc: 0.9018 - mse: 0.1207 - val_loss: 56.8042 - val_acc: 0.7895 - val_mse: 0.1200\n",
            "Epoch 22/150\n",
            "1/1 [==============================] - 0s 32ms/step - loss: 56.8033 - acc: 0.8929 - mse: 0.1190 - val_loss: 56.6674 - val_acc: 0.7895 - val_mse: 0.1187\n",
            "Epoch 23/150\n",
            "1/1 [==============================] - 0s 29ms/step - loss: 56.6655 - acc: 0.8929 - mse: 0.1175 - val_loss: 56.5312 - val_acc: 0.7632 - val_mse: 0.1176\n",
            "Epoch 24/150\n",
            "1/1 [==============================] - 0s 49ms/step - loss: 56.5282 - acc: 0.8929 - mse: 0.1160 - val_loss: 56.3955 - val_acc: 0.7632 - val_mse: 0.1165\n",
            "Epoch 25/150\n",
            "1/1 [==============================] - 0s 32ms/step - loss: 56.3913 - acc: 0.9018 - mse: 0.1146 - val_loss: 56.2603 - val_acc: 0.7632 - val_mse: 0.1155\n",
            "Epoch 26/150\n",
            "1/1 [==============================] - 0s 33ms/step - loss: 56.2549 - acc: 0.9018 - mse: 0.1132 - val_loss: 56.1255 - val_acc: 0.7632 - val_mse: 0.1145\n",
            "Epoch 27/150\n",
            "1/1 [==============================] - 0s 29ms/step - loss: 56.1189 - acc: 0.8929 - mse: 0.1119 - val_loss: 55.9913 - val_acc: 0.7632 - val_mse: 0.1136\n",
            "Epoch 28/150\n",
            "1/1 [==============================] - 0s 35ms/step - loss: 55.9835 - acc: 0.8929 - mse: 0.1107 - val_loss: 55.8574 - val_acc: 0.7632 - val_mse: 0.1128\n",
            "Epoch 29/150\n",
            "1/1 [==============================] - 0s 46ms/step - loss: 55.8484 - acc: 0.8929 - mse: 0.1095 - val_loss: 55.7239 - val_acc: 0.7632 - val_mse: 0.1119\n",
            "Epoch 30/150\n",
            "1/1 [==============================] - 0s 33ms/step - loss: 55.7138 - acc: 0.8929 - mse: 0.1083 - val_loss: 55.5909 - val_acc: 0.7632 - val_mse: 0.1112\n",
            "Epoch 31/150\n",
            "1/1 [==============================] - 0s 34ms/step - loss: 55.5796 - acc: 0.8929 - mse: 0.1072 - val_loss: 55.4581 - val_acc: 0.7632 - val_mse: 0.1105\n",
            "Epoch 32/150\n",
            "1/1 [==============================] - 0s 39ms/step - loss: 55.4458 - acc: 0.8839 - mse: 0.1061 - val_loss: 55.3258 - val_acc: 0.7632 - val_mse: 0.1098\n",
            "Epoch 33/150\n",
            "1/1 [==============================] - 0s 26ms/step - loss: 55.3124 - acc: 0.8839 - mse: 0.1051 - val_loss: 55.1938 - val_acc: 0.7632 - val_mse: 0.1091\n",
            "Epoch 34/150\n",
            "1/1 [==============================] - 0s 27ms/step - loss: 55.1793 - acc: 0.8929 - mse: 0.1041 - val_loss: 55.0621 - val_acc: 0.7632 - val_mse: 0.1085\n",
            "Epoch 35/150\n",
            "1/1 [==============================] - 0s 35ms/step - loss: 55.0466 - acc: 0.8929 - mse: 0.1032 - val_loss: 54.9307 - val_acc: 0.7632 - val_mse: 0.1079\n",
            "Epoch 36/150\n",
            "1/1 [==============================] - 0s 31ms/step - loss: 54.9141 - acc: 0.8929 - mse: 0.1022 - val_loss: 54.7997 - val_acc: 0.7632 - val_mse: 0.1073\n",
            "Epoch 37/150\n",
            "1/1 [==============================] - 0s 28ms/step - loss: 54.7820 - acc: 0.8929 - mse: 0.1013 - val_loss: 54.6689 - val_acc: 0.7632 - val_mse: 0.1067\n",
            "Epoch 38/150\n",
            "1/1 [==============================] - 0s 30ms/step - loss: 54.6501 - acc: 0.8929 - mse: 0.1004 - val_loss: 54.5385 - val_acc: 0.7632 - val_mse: 0.1062\n",
            "Epoch 39/150\n",
            "1/1 [==============================] - 0s 30ms/step - loss: 54.5186 - acc: 0.8929 - mse: 0.0996 - val_loss: 54.4082 - val_acc: 0.7632 - val_mse: 0.1057\n",
            "Epoch 40/150\n",
            "1/1 [==============================] - 0s 35ms/step - loss: 54.3872 - acc: 0.8929 - mse: 0.0987 - val_loss: 54.2783 - val_acc: 0.7632 - val_mse: 0.1052\n",
            "Epoch 41/150\n",
            "1/1 [==============================] - 0s 31ms/step - loss: 54.2562 - acc: 0.8929 - mse: 0.0979 - val_loss: 54.1487 - val_acc: 0.7632 - val_mse: 0.1047\n",
            "Epoch 42/150\n",
            "1/1 [==============================] - 0s 28ms/step - loss: 54.1255 - acc: 0.8929 - mse: 0.0971 - val_loss: 54.0192 - val_acc: 0.7632 - val_mse: 0.1043\n",
            "Epoch 43/150\n",
            "1/1 [==============================] - 0s 30ms/step - loss: 53.9950 - acc: 0.8929 - mse: 0.0963 - val_loss: 53.8901 - val_acc: 0.7632 - val_mse: 0.1038\n",
            "Epoch 44/150\n",
            "1/1 [==============================] - 0s 35ms/step - loss: 53.8648 - acc: 0.8839 - mse: 0.0955 - val_loss: 53.7612 - val_acc: 0.7632 - val_mse: 0.1034\n",
            "Epoch 45/150\n",
            "1/1 [==============================] - 0s 29ms/step - loss: 53.7348 - acc: 0.8839 - mse: 0.0947 - val_loss: 53.6324 - val_acc: 0.7632 - val_mse: 0.1030\n",
            "Epoch 46/150\n",
            "1/1 [==============================] - 0s 28ms/step - loss: 53.6050 - acc: 0.8839 - mse: 0.0940 - val_loss: 53.5040 - val_acc: 0.7632 - val_mse: 0.1026\n",
            "Epoch 47/150\n",
            "1/1 [==============================] - 0s 29ms/step - loss: 53.4755 - acc: 0.8839 - mse: 0.0933 - val_loss: 53.3758 - val_acc: 0.7632 - val_mse: 0.1022\n",
            "Epoch 48/150\n",
            "1/1 [==============================] - 0s 33ms/step - loss: 53.3462 - acc: 0.8839 - mse: 0.0925 - val_loss: 53.2478 - val_acc: 0.7632 - val_mse: 0.1018\n",
            "Epoch 49/150\n",
            "1/1 [==============================] - 0s 37ms/step - loss: 53.2172 - acc: 0.8839 - mse: 0.0918 - val_loss: 53.1199 - val_acc: 0.7632 - val_mse: 0.1015\n",
            "Epoch 50/150\n",
            "1/1 [==============================] - 0s 52ms/step - loss: 53.0883 - acc: 0.8839 - mse: 0.0911 - val_loss: 52.9924 - val_acc: 0.7632 - val_mse: 0.1011\n",
            "Epoch 51/150\n",
            "1/1 [==============================] - 0s 31ms/step - loss: 52.9597 - acc: 0.8839 - mse: 0.0905 - val_loss: 52.8650 - val_acc: 0.7632 - val_mse: 0.1008\n",
            "Epoch 52/150\n",
            "1/1 [==============================] - 0s 31ms/step - loss: 52.8313 - acc: 0.8839 - mse: 0.0898 - val_loss: 52.7379 - val_acc: 0.7632 - val_mse: 0.1004\n",
            "Epoch 53/150\n",
            "1/1 [==============================] - 0s 31ms/step - loss: 52.7031 - acc: 0.8839 - mse: 0.0891 - val_loss: 52.6109 - val_acc: 0.7632 - val_mse: 0.1001\n",
            "Epoch 54/150\n",
            "1/1 [==============================] - 0s 31ms/step - loss: 52.5751 - acc: 0.8839 - mse: 0.0885 - val_loss: 52.4842 - val_acc: 0.7632 - val_mse: 0.0998\n",
            "Epoch 55/150\n",
            "1/1 [==============================] - 0s 32ms/step - loss: 52.4475 - acc: 0.8839 - mse: 0.0879 - val_loss: 52.3577 - val_acc: 0.7632 - val_mse: 0.0995\n",
            "Epoch 56/150\n",
            "1/1 [==============================] - 0s 34ms/step - loss: 52.3199 - acc: 0.8839 - mse: 0.0873 - val_loss: 52.2314 - val_acc: 0.7632 - val_mse: 0.0992\n",
            "Epoch 57/150\n",
            "1/1 [==============================] - 0s 33ms/step - loss: 52.1926 - acc: 0.8839 - mse: 0.0866 - val_loss: 52.1053 - val_acc: 0.7632 - val_mse: 0.0989\n",
            "Epoch 58/150\n",
            "1/1 [==============================] - 0s 31ms/step - loss: 52.0655 - acc: 0.8839 - mse: 0.0861 - val_loss: 51.9794 - val_acc: 0.7632 - val_mse: 0.0986\n",
            "Epoch 59/150\n",
            "1/1 [==============================] - 0s 43ms/step - loss: 51.9386 - acc: 0.8839 - mse: 0.0855 - val_loss: 51.8537 - val_acc: 0.7632 - val_mse: 0.0984\n",
            "Epoch 60/150\n",
            "1/1 [==============================] - 0s 28ms/step - loss: 51.8120 - acc: 0.8839 - mse: 0.0849 - val_loss: 51.7283 - val_acc: 0.7632 - val_mse: 0.0981\n",
            "Epoch 61/150\n",
            "1/1 [==============================] - 0s 30ms/step - loss: 51.6855 - acc: 0.8839 - mse: 0.0843 - val_loss: 51.6030 - val_acc: 0.7632 - val_mse: 0.0978\n",
            "Epoch 62/150\n",
            "1/1 [==============================] - 0s 31ms/step - loss: 51.5593 - acc: 0.8839 - mse: 0.0838 - val_loss: 51.4779 - val_acc: 0.7632 - val_mse: 0.0976\n",
            "Epoch 63/150\n",
            "1/1 [==============================] - 0s 30ms/step - loss: 51.4332 - acc: 0.8839 - mse: 0.0832 - val_loss: 51.3529 - val_acc: 0.7632 - val_mse: 0.0973\n",
            "Epoch 64/150\n",
            "1/1 [==============================] - 0s 36ms/step - loss: 51.3074 - acc: 0.8839 - mse: 0.0827 - val_loss: 51.2282 - val_acc: 0.7632 - val_mse: 0.0971\n",
            "Epoch 65/150\n",
            "1/1 [==============================] - 0s 34ms/step - loss: 51.1817 - acc: 0.8839 - mse: 0.0821 - val_loss: 51.1036 - val_acc: 0.7632 - val_mse: 0.0969\n",
            "Epoch 66/150\n",
            "1/1 [==============================] - 0s 33ms/step - loss: 51.0563 - acc: 0.8839 - mse: 0.0816 - val_loss: 50.9792 - val_acc: 0.7632 - val_mse: 0.0966\n",
            "Epoch 67/150\n",
            "1/1 [==============================] - 0s 27ms/step - loss: 50.9310 - acc: 0.8839 - mse: 0.0811 - val_loss: 50.8550 - val_acc: 0.7632 - val_mse: 0.0964\n",
            "Epoch 68/150\n",
            "1/1 [==============================] - 0s 29ms/step - loss: 50.8059 - acc: 0.8839 - mse: 0.0806 - val_loss: 50.7309 - val_acc: 0.7632 - val_mse: 0.0962\n",
            "Epoch 69/150\n",
            "1/1 [==============================] - 0s 27ms/step - loss: 50.6810 - acc: 0.8839 - mse: 0.0801 - val_loss: 50.6072 - val_acc: 0.7632 - val_mse: 0.0959\n",
            "Epoch 70/150\n",
            "1/1 [==============================] - 0s 31ms/step - loss: 50.5564 - acc: 0.8839 - mse: 0.0796 - val_loss: 50.4835 - val_acc: 0.7632 - val_mse: 0.0957\n",
            "Epoch 71/150\n",
            "1/1 [==============================] - 0s 27ms/step - loss: 50.4318 - acc: 0.8839 - mse: 0.0791 - val_loss: 50.3601 - val_acc: 0.7632 - val_mse: 0.0955\n",
            "Epoch 72/150\n",
            "1/1 [==============================] - 0s 34ms/step - loss: 50.3076 - acc: 0.8839 - mse: 0.0786 - val_loss: 50.2367 - val_acc: 0.7632 - val_mse: 0.0953\n",
            "Epoch 73/150\n",
            "1/1 [==============================] - 0s 27ms/step - loss: 50.1834 - acc: 0.8839 - mse: 0.0782 - val_loss: 50.1137 - val_acc: 0.7632 - val_mse: 0.0951\n",
            "Epoch 74/150\n",
            "1/1 [==============================] - 0s 37ms/step - loss: 50.0597 - acc: 0.8929 - mse: 0.0777 - val_loss: 49.9906 - val_acc: 0.7632 - val_mse: 0.0948\n",
            "Epoch 75/150\n",
            "1/1 [==============================] - 0s 29ms/step - loss: 49.9358 - acc: 0.8929 - mse: 0.0772 - val_loss: 49.8680 - val_acc: 0.7632 - val_mse: 0.0946\n",
            "Epoch 76/150\n",
            "1/1 [==============================] - 0s 29ms/step - loss: 49.8123 - acc: 0.8929 - mse: 0.0768 - val_loss: 49.7452 - val_acc: 0.7632 - val_mse: 0.0944\n",
            "Epoch 77/150\n",
            "1/1 [==============================] - 0s 31ms/step - loss: 49.6888 - acc: 0.8929 - mse: 0.0763 - val_loss: 49.6228 - val_acc: 0.7632 - val_mse: 0.0942\n",
            "Epoch 78/150\n",
            "1/1 [==============================] - 0s 27ms/step - loss: 49.5657 - acc: 0.8929 - mse: 0.0759 - val_loss: 49.5005 - val_acc: 0.7632 - val_mse: 0.0940\n",
            "Epoch 79/150\n",
            "1/1 [==============================] - 0s 28ms/step - loss: 49.4426 - acc: 0.8929 - mse: 0.0754 - val_loss: 49.3784 - val_acc: 0.7632 - val_mse: 0.0938\n",
            "Epoch 80/150\n",
            "1/1 [==============================] - 0s 30ms/step - loss: 49.3198 - acc: 0.8929 - mse: 0.0750 - val_loss: 49.2564 - val_acc: 0.7632 - val_mse: 0.0936\n",
            "Epoch 81/150\n",
            "1/1 [==============================] - 0s 28ms/step - loss: 49.1971 - acc: 0.8929 - mse: 0.0746 - val_loss: 49.1347 - val_acc: 0.7632 - val_mse: 0.0934\n",
            "Epoch 82/150\n",
            "1/1 [==============================] - 0s 30ms/step - loss: 49.0746 - acc: 0.8929 - mse: 0.0742 - val_loss: 49.0130 - val_acc: 0.7632 - val_mse: 0.0932\n",
            "Epoch 83/150\n",
            "1/1 [==============================] - 0s 30ms/step - loss: 48.9523 - acc: 0.8929 - mse: 0.0737 - val_loss: 48.8916 - val_acc: 0.7632 - val_mse: 0.0930\n",
            "Epoch 84/150\n",
            "1/1 [==============================] - 0s 30ms/step - loss: 48.8302 - acc: 0.8929 - mse: 0.0733 - val_loss: 48.7703 - val_acc: 0.7632 - val_mse: 0.0928\n",
            "Epoch 85/150\n",
            "1/1 [==============================] - 0s 28ms/step - loss: 48.7082 - acc: 0.8929 - mse: 0.0729 - val_loss: 48.6492 - val_acc: 0.7632 - val_mse: 0.0926\n",
            "Epoch 86/150\n",
            "1/1 [==============================] - 0s 34ms/step - loss: 48.5864 - acc: 0.8929 - mse: 0.0725 - val_loss: 48.5283 - val_acc: 0.7632 - val_mse: 0.0924\n",
            "Epoch 87/150\n",
            "1/1 [==============================] - 0s 33ms/step - loss: 48.4648 - acc: 0.8929 - mse: 0.0721 - val_loss: 48.4075 - val_acc: 0.7632 - val_mse: 0.0922\n",
            "Epoch 88/150\n",
            "1/1 [==============================] - 0s 36ms/step - loss: 48.3433 - acc: 0.8929 - mse: 0.0717 - val_loss: 48.2869 - val_acc: 0.7632 - val_mse: 0.0920\n",
            "Epoch 89/150\n",
            "1/1 [==============================] - 0s 31ms/step - loss: 48.2221 - acc: 0.8929 - mse: 0.0713 - val_loss: 48.1665 - val_acc: 0.7632 - val_mse: 0.0919\n",
            "Epoch 90/150\n",
            "1/1 [==============================] - 0s 31ms/step - loss: 48.1010 - acc: 0.8929 - mse: 0.0710 - val_loss: 48.0463 - val_acc: 0.7632 - val_mse: 0.0917\n",
            "Epoch 91/150\n",
            "1/1 [==============================] - 0s 34ms/step - loss: 47.9801 - acc: 0.8929 - mse: 0.0706 - val_loss: 47.9261 - val_acc: 0.7632 - val_mse: 0.0915\n",
            "Epoch 92/150\n",
            "1/1 [==============================] - 0s 30ms/step - loss: 47.8593 - acc: 0.8929 - mse: 0.0702 - val_loss: 47.8063 - val_acc: 0.7632 - val_mse: 0.0913\n",
            "Epoch 93/150\n",
            "1/1 [==============================] - 0s 29ms/step - loss: 47.7388 - acc: 0.8929 - mse: 0.0698 - val_loss: 47.6864 - val_acc: 0.7632 - val_mse: 0.0911\n",
            "Epoch 94/150\n",
            "1/1 [==============================] - 0s 29ms/step - loss: 47.6183 - acc: 0.8929 - mse: 0.0695 - val_loss: 47.5669 - val_acc: 0.7632 - val_mse: 0.0910\n",
            "Epoch 95/150\n",
            "1/1 [==============================] - 0s 30ms/step - loss: 47.4983 - acc: 0.8929 - mse: 0.0691 - val_loss: 47.4473 - val_acc: 0.7632 - val_mse: 0.0908\n",
            "Epoch 96/150\n",
            "1/1 [==============================] - 0s 35ms/step - loss: 47.3781 - acc: 0.8929 - mse: 0.0688 - val_loss: 47.3282 - val_acc: 0.7632 - val_mse: 0.0906\n",
            "Epoch 97/150\n",
            "1/1 [==============================] - 0s 33ms/step - loss: 47.2584 - acc: 0.8929 - mse: 0.0684 - val_loss: 47.2088 - val_acc: 0.7632 - val_mse: 0.0904\n",
            "Epoch 98/150\n",
            "1/1 [==============================] - 0s 34ms/step - loss: 47.1385 - acc: 0.8929 - mse: 0.0681 - val_loss: 47.0900 - val_acc: 0.7632 - val_mse: 0.0902\n",
            "Epoch 99/150\n",
            "1/1 [==============================] - 0s 32ms/step - loss: 47.0191 - acc: 0.8929 - mse: 0.0677 - val_loss: 46.9710 - val_acc: 0.7632 - val_mse: 0.0900\n",
            "Epoch 100/150\n",
            "1/1 [==============================] - 0s 38ms/step - loss: 46.8996 - acc: 0.8929 - mse: 0.0674 - val_loss: 46.8524 - val_acc: 0.7632 - val_mse: 0.0898\n",
            "Epoch 101/150\n",
            "1/1 [==============================] - 0s 34ms/step - loss: 46.7806 - acc: 0.8929 - mse: 0.0670 - val_loss: 46.7337 - val_acc: 0.7632 - val_mse: 0.0896\n",
            "Epoch 102/150\n",
            "1/1 [==============================] - 0s 33ms/step - loss: 46.6614 - acc: 0.8929 - mse: 0.0667 - val_loss: 46.6154 - val_acc: 0.7632 - val_mse: 0.0894\n",
            "Epoch 103/150\n",
            "1/1 [==============================] - 0s 30ms/step - loss: 46.5426 - acc: 0.8929 - mse: 0.0663 - val_loss: 46.4970 - val_acc: 0.7632 - val_mse: 0.0892\n",
            "Epoch 104/150\n",
            "1/1 [==============================] - 0s 37ms/step - loss: 46.4238 - acc: 0.8929 - mse: 0.0660 - val_loss: 46.3788 - val_acc: 0.7632 - val_mse: 0.0890\n",
            "Epoch 105/150\n",
            "1/1 [==============================] - 0s 32ms/step - loss: 46.3051 - acc: 0.8929 - mse: 0.0656 - val_loss: 46.2605 - val_acc: 0.7632 - val_mse: 0.0887\n",
            "Epoch 106/150\n",
            "1/1 [==============================] - 0s 31ms/step - loss: 46.1864 - acc: 0.8929 - mse: 0.0652 - val_loss: 46.1427 - val_acc: 0.7632 - val_mse: 0.0885\n",
            "Epoch 107/150\n",
            "1/1 [==============================] - 0s 33ms/step - loss: 46.0678 - acc: 0.8929 - mse: 0.0648 - val_loss: 46.0245 - val_acc: 0.7632 - val_mse: 0.0882\n",
            "Epoch 108/150\n",
            "1/1 [==============================] - 0s 32ms/step - loss: 45.9488 - acc: 0.8929 - mse: 0.0642 - val_loss: 45.9067 - val_acc: 0.7632 - val_mse: 0.0878\n",
            "Epoch 109/150\n",
            "1/1 [==============================] - 0s 28ms/step - loss: 45.8297 - acc: 0.8929 - mse: 0.0636 - val_loss: 45.7887 - val_acc: 0.7632 - val_mse: 0.0875\n",
            "Epoch 110/150\n",
            "1/1 [==============================] - 0s 30ms/step - loss: 45.7107 - acc: 0.8929 - mse: 0.0630 - val_loss: 45.6713 - val_acc: 0.7632 - val_mse: 0.0872\n",
            "Epoch 111/150\n",
            "1/1 [==============================] - 0s 37ms/step - loss: 45.5925 - acc: 0.9018 - mse: 0.0625 - val_loss: 45.5541 - val_acc: 0.7632 - val_mse: 0.0870\n",
            "Epoch 112/150\n",
            "1/1 [==============================] - 0s 32ms/step - loss: 45.4745 - acc: 0.9018 - mse: 0.0620 - val_loss: 45.4374 - val_acc: 0.7632 - val_mse: 0.0869\n",
            "Epoch 113/150\n",
            "1/1 [==============================] - 0s 33ms/step - loss: 45.3570 - acc: 0.9018 - mse: 0.0617 - val_loss: 45.3206 - val_acc: 0.7632 - val_mse: 0.0867\n",
            "Epoch 114/150\n",
            "1/1 [==============================] - 0s 47ms/step - loss: 45.2395 - acc: 0.9018 - mse: 0.0613 - val_loss: 45.2042 - val_acc: 0.7632 - val_mse: 0.0865\n",
            "Epoch 115/150\n",
            "1/1 [==============================] - 0s 38ms/step - loss: 45.1224 - acc: 0.9018 - mse: 0.0609 - val_loss: 45.0877 - val_acc: 0.7632 - val_mse: 0.0863\n",
            "Epoch 116/150\n",
            "1/1 [==============================] - 0s 32ms/step - loss: 45.0053 - acc: 0.9018 - mse: 0.0606 - val_loss: 44.9714 - val_acc: 0.7632 - val_mse: 0.0861\n",
            "Epoch 117/150\n",
            "1/1 [==============================] - 0s 56ms/step - loss: 44.8885 - acc: 0.9018 - mse: 0.0602 - val_loss: 44.8552 - val_acc: 0.7632 - val_mse: 0.0859\n",
            "Epoch 118/150\n",
            "1/1 [==============================] - 0s 36ms/step - loss: 44.7718 - acc: 0.9018 - mse: 0.0599 - val_loss: 44.7392 - val_acc: 0.7632 - val_mse: 0.0857\n",
            "Epoch 119/150\n",
            "1/1 [==============================] - 0s 27ms/step - loss: 44.6554 - acc: 0.9018 - mse: 0.0596 - val_loss: 44.6232 - val_acc: 0.7632 - val_mse: 0.0855\n",
            "Epoch 120/150\n",
            "1/1 [==============================] - 0s 34ms/step - loss: 44.5390 - acc: 0.9018 - mse: 0.0592 - val_loss: 44.5075 - val_acc: 0.7632 - val_mse: 0.0853\n",
            "Epoch 121/150\n",
            "1/1 [==============================] - 0s 29ms/step - loss: 44.4228 - acc: 0.9018 - mse: 0.0589 - val_loss: 44.3918 - val_acc: 0.7632 - val_mse: 0.0851\n",
            "Epoch 122/150\n",
            "1/1 [==============================] - 0s 40ms/step - loss: 44.3068 - acc: 0.9018 - mse: 0.0586 - val_loss: 44.2763 - val_acc: 0.7632 - val_mse: 0.0849\n",
            "Epoch 123/150\n",
            "1/1 [==============================] - 0s 50ms/step - loss: 44.1910 - acc: 0.9018 - mse: 0.0583 - val_loss: 44.1610 - val_acc: 0.7632 - val_mse: 0.0846\n",
            "Epoch 124/150\n",
            "1/1 [==============================] - 0s 31ms/step - loss: 44.0753 - acc: 0.9018 - mse: 0.0580 - val_loss: 44.0458 - val_acc: 0.7632 - val_mse: 0.0844\n",
            "Epoch 125/150\n",
            "1/1 [==============================] - 0s 34ms/step - loss: 43.9598 - acc: 0.9018 - mse: 0.0576 - val_loss: 43.9308 - val_acc: 0.7632 - val_mse: 0.0842\n",
            "Epoch 126/150\n",
            "1/1 [==============================] - 0s 30ms/step - loss: 43.8444 - acc: 0.9018 - mse: 0.0573 - val_loss: 43.8160 - val_acc: 0.7632 - val_mse: 0.0840\n",
            "Epoch 127/150\n",
            "1/1 [==============================] - 0s 32ms/step - loss: 43.7293 - acc: 0.9107 - mse: 0.0570 - val_loss: 43.7012 - val_acc: 0.7632 - val_mse: 0.0837\n",
            "Epoch 128/150\n",
            "1/1 [==============================] - 0s 36ms/step - loss: 43.6143 - acc: 0.9107 - mse: 0.0567 - val_loss: 43.5867 - val_acc: 0.7632 - val_mse: 0.0835\n",
            "Epoch 129/150\n",
            "1/1 [==============================] - 0s 30ms/step - loss: 43.4995 - acc: 0.9107 - mse: 0.0564 - val_loss: 43.4723 - val_acc: 0.7632 - val_mse: 0.0833\n",
            "Epoch 130/150\n",
            "1/1 [==============================] - 0s 39ms/step - loss: 43.3848 - acc: 0.9196 - mse: 0.0561 - val_loss: 43.3580 - val_acc: 0.7632 - val_mse: 0.0830\n",
            "Epoch 131/150\n",
            "1/1 [==============================] - 0s 35ms/step - loss: 43.2703 - acc: 0.9196 - mse: 0.0558 - val_loss: 43.2440 - val_acc: 0.7632 - val_mse: 0.0828\n",
            "Epoch 132/150\n",
            "1/1 [==============================] - 0s 31ms/step - loss: 43.1560 - acc: 0.9196 - mse: 0.0555 - val_loss: 43.1301 - val_acc: 0.7895 - val_mse: 0.0826\n",
            "Epoch 133/150\n",
            "1/1 [==============================] - 0s 40ms/step - loss: 43.0418 - acc: 0.9196 - mse: 0.0552 - val_loss: 43.0163 - val_acc: 0.7895 - val_mse: 0.0824\n",
            "Epoch 134/150\n",
            "1/1 [==============================] - 0s 33ms/step - loss: 42.9279 - acc: 0.9196 - mse: 0.0549 - val_loss: 42.9026 - val_acc: 0.7895 - val_mse: 0.0821\n",
            "Epoch 135/150\n",
            "1/1 [==============================] - 0s 37ms/step - loss: 42.8140 - acc: 0.9196 - mse: 0.0546 - val_loss: 42.7892 - val_acc: 0.7895 - val_mse: 0.0818\n",
            "Epoch 136/150\n",
            "1/1 [==============================] - 0s 31ms/step - loss: 42.7004 - acc: 0.9196 - mse: 0.0543 - val_loss: 42.6758 - val_acc: 0.7895 - val_mse: 0.0816\n",
            "Epoch 137/150\n",
            "1/1 [==============================] - 0s 33ms/step - loss: 42.5869 - acc: 0.9196 - mse: 0.0541 - val_loss: 42.5626 - val_acc: 0.7895 - val_mse: 0.0813\n",
            "Epoch 138/150\n",
            "1/1 [==============================] - 0s 33ms/step - loss: 42.4736 - acc: 0.9196 - mse: 0.0538 - val_loss: 42.4495 - val_acc: 0.7895 - val_mse: 0.0811\n",
            "Epoch 139/150\n",
            "1/1 [==============================] - 0s 30ms/step - loss: 42.3604 - acc: 0.9196 - mse: 0.0535 - val_loss: 42.3368 - val_acc: 0.7895 - val_mse: 0.0808\n",
            "Epoch 140/150\n",
            "1/1 [==============================] - 0s 37ms/step - loss: 42.2475 - acc: 0.9196 - mse: 0.0532 - val_loss: 42.2240 - val_acc: 0.7895 - val_mse: 0.0806\n",
            "Epoch 141/150\n",
            "1/1 [==============================] - 0s 33ms/step - loss: 42.1346 - acc: 0.9196 - mse: 0.0529 - val_loss: 42.1115 - val_acc: 0.7895 - val_mse: 0.0803\n",
            "Epoch 142/150\n",
            "1/1 [==============================] - 0s 34ms/step - loss: 42.0220 - acc: 0.9196 - mse: 0.0527 - val_loss: 41.9991 - val_acc: 0.7895 - val_mse: 0.0801\n",
            "Epoch 143/150\n",
            "1/1 [==============================] - 0s 31ms/step - loss: 41.9094 - acc: 0.9196 - mse: 0.0524 - val_loss: 41.8868 - val_acc: 0.7895 - val_mse: 0.0799\n",
            "Epoch 144/150\n",
            "1/1 [==============================] - 0s 38ms/step - loss: 41.7971 - acc: 0.9196 - mse: 0.0521 - val_loss: 41.7748 - val_acc: 0.7895 - val_mse: 0.0796\n",
            "Epoch 145/150\n",
            "1/1 [==============================] - 0s 30ms/step - loss: 41.6849 - acc: 0.9196 - mse: 0.0519 - val_loss: 41.6628 - val_acc: 0.7895 - val_mse: 0.0794\n",
            "Epoch 146/150\n",
            "1/1 [==============================] - 0s 32ms/step - loss: 41.5729 - acc: 0.9196 - mse: 0.0516 - val_loss: 41.5510 - val_acc: 0.7895 - val_mse: 0.0791\n",
            "Epoch 147/150\n",
            "1/1 [==============================] - 0s 37ms/step - loss: 41.4610 - acc: 0.9196 - mse: 0.0513 - val_loss: 41.4395 - val_acc: 0.7895 - val_mse: 0.0789\n",
            "Epoch 148/150\n",
            "1/1 [==============================] - 0s 43ms/step - loss: 41.3494 - acc: 0.9196 - mse: 0.0511 - val_loss: 41.3279 - val_acc: 0.7895 - val_mse: 0.0786\n",
            "Epoch 149/150\n",
            "1/1 [==============================] - 0s 33ms/step - loss: 41.2378 - acc: 0.9196 - mse: 0.0508 - val_loss: 41.2168 - val_acc: 0.7895 - val_mse: 0.0784\n",
            "Epoch 150/150\n",
            "1/1 [==============================] - 0s 34ms/step - loss: 41.1265 - acc: 0.9196 - mse: 0.0505 - val_loss: 41.1055 - val_acc: 0.7895 - val_mse: 0.0782\n"
          ]
        }
      ]
    },
    {
      "cell_type": "code",
      "metadata": {
        "id": "1edozIMAMWE-",
        "colab": {
          "base_uri": "https://localhost:8080/"
        },
        "outputId": "33e028a6-555d-46c8-ee8f-b6159586e4a6"
      },
      "source": [
        "\n",
        "#just how we used evaluate() in the basic model previously, use it again to find the loss, accuracy and MSE on the test set\n",
        "\n",
        "loss3, acc3, mse3 = model3.evaluate(X_test,y_test)\n"
      ],
      "execution_count": 393,
      "outputs": [
        {
          "output_type": "stream",
          "name": "stdout",
          "text": [
            "2/2 [==============================] - 0s 7ms/step - loss: 41.1055 - acc: 0.7895 - mse: 0.0782\n"
          ]
        }
      ]
    },
    {
      "cell_type": "code",
      "metadata": {
        "id": "0yjC69AuMWE_",
        "colab": {
          "base_uri": "https://localhost:8080/",
          "height": 581
        },
        "outputId": "b484f7e0-99e7-4607-ee5f-8c5f718bf9bd"
      },
      "source": [
        "# Plot the train loss vs validation loss and train accuracy vs validation accuracy graphs just like we did before\n",
        "\n",
        "plt.style.use('ggplot')\n",
        "plt.plot(hist3.history['loss'], label = 'loss')\n",
        "plt.plot(hist3.history['val_loss'], label='val loss')\n",
        "plt.title(\"Train Loss vs Val_Loss\")\n",
        "plt.xlabel(\"Epochs\")\n",
        "plt.ylabel(\"Loss\")\n",
        "plt.legend()\n",
        "plt.show()\n",
        "\n",
        "# we observe that validation loss is increasing as compared to training loss. \n",
        "# This increase in training loss shows that our model is overfitted.\n",
        "\n",
        "#similarly we plot for model accuracy \n",
        "plt.plot(hist3.history['acc'], label = 'train acc')\n",
        "plt.plot(hist3.history['val_acc'], label='val acc')\n",
        "plt.title(\"train acc vs Val_acc\")\n",
        "plt.xlabel(\"Epochs\")\n",
        "plt.ylabel(\"acc\")\n",
        "plt.legend()\n",
        "plt.show()\n"
      ],
      "execution_count": 394,
      "outputs": [
        {
          "output_type": "display_data",
          "data": {
            "image/png": "[encoded data removed]",
            "text/plain": [
              "<Figure size 432x288 with 1 Axes>"
            ]
          },
          "metadata": {}
        },
        {
          "output_type": "display_data",
          "data": {
            "image/png": "[encoded data removed]",
            "text/plain": [
              "<Figure size 432x288 with 1 Axes>"
            ]
          },
          "metadata": {}
        }
      ]
    },
    {
      "cell_type": "markdown",
      "metadata": {
        "id": "avAuXD2AMWE_"
      },
      "source": [
        "\n",
        "## L2 Regularization\n"
      ]
    },
    {
      "cell_type": "code",
      "metadata": {
        "id": "EPJXRj0hMWE_",
        "colab": {
          "base_uri": "https://localhost:8080/"
        },
        "outputId": "c97daed9-af1c-46d7-b54a-5a04fa90f813"
      },
      "source": [
        " \n",
        "\n",
        "# L2 Regularization is another regularization technique which is also known as Ridge regularization. In L2 regularization we add the squared magnitude of weights to penalize our lost function.\n",
        "\n",
        "#to implement L2 regularization, create another model called model4 similar to our initial basic model, this time add an extra parameter kernel_regularizer, which we set to ‘l2’ for L1 Regularization in the first Dense layer.\n",
        "#compile and run the model\n",
        "\n",
        "model4 = Sequential([\n",
        "    Dense(512, activation='tanh', input_shape = X_train[0].shape, kernel_regularizer='l2'),\n",
        "    Dense(512//2, activation='tanh'),\n",
        "    Dense(512//4, activation='tanh'),\n",
        "    Dense(512//8, activation='tanh'),\n",
        "    Dense(32, activation='relu'),\n",
        "    Dense(3, activation='softmax')\n",
        "])\n",
        "\n",
        "model4.compile(optimizer='sgd',loss='categorical_crossentropy', metrics=['acc', 'mse'])\n",
        "\n",
        "hist4 = model4.fit(X_train, y_train, epochs=150, batch_size=128, validation_data=(X_test,y_test))\n",
        " \n"
      ],
      "execution_count": 395,
      "outputs": [
        {
          "output_type": "stream",
          "name": "stdout",
          "text": [
            "Epoch 1/150\n",
            "1/1 [==============================] - 1s 614ms/step - loss: 1.3347 - acc: 0.0089 - mse: 0.2566 - val_loss: 1.3009 - val_acc: 0.0263 - val_mse: 0.2490\n",
            "Epoch 2/150\n",
            "1/1 [==============================] - 0s 27ms/step - loss: 1.2947 - acc: 0.0179 - mse: 0.2480 - val_loss: 1.2717 - val_acc: 0.0789 - val_mse: 0.2427\n",
            "Epoch 3/150\n",
            "1/1 [==============================] - 0s 26ms/step - loss: 1.2596 - acc: 0.0714 - mse: 0.2403 - val_loss: 1.2447 - val_acc: 0.1316 - val_mse: 0.2368\n",
            "Epoch 4/150\n",
            "1/1 [==============================] - 0s 34ms/step - loss: 1.2272 - acc: 0.1786 - mse: 0.2331 - val_loss: 1.2188 - val_acc: 0.2368 - val_mse: 0.2311\n",
            "Epoch 5/150\n",
            "1/1 [==============================] - 0s 33ms/step - loss: 1.1956 - acc: 0.2857 - mse: 0.2259 - val_loss: 1.1934 - val_acc: 0.2368 - val_mse: 0.2254\n",
            "Epoch 6/150\n",
            "1/1 [==============================] - 0s 26ms/step - loss: 1.1647 - acc: 0.3214 - mse: 0.2188 - val_loss: 1.1683 - val_acc: 0.3421 - val_mse: 0.2198\n",
            "Epoch 7/150\n",
            "1/1 [==============================] - 0s 27ms/step - loss: 1.1354 - acc: 0.4107 - mse: 0.2121 - val_loss: 1.1436 - val_acc: 0.5526 - val_mse: 0.2141\n",
            "Epoch 8/150\n",
            "1/1 [==============================] - 0s 27ms/step - loss: 1.1069 - acc: 0.5714 - mse: 0.2055 - val_loss: 1.1199 - val_acc: 0.5789 - val_mse: 0.2087\n",
            "Epoch 9/150\n",
            "1/1 [==============================] - 0s 26ms/step - loss: 1.0791 - acc: 0.6518 - mse: 0.1989 - val_loss: 1.0972 - val_acc: 0.6053 - val_mse: 0.2034\n",
            "Epoch 10/150\n",
            "1/1 [==============================] - 0s 30ms/step - loss: 1.0525 - acc: 0.6696 - mse: 0.1926 - val_loss: 1.0763 - val_acc: 0.6053 - val_mse: 0.1984\n",
            "Epoch 11/150\n",
            "1/1 [==============================] - 0s 44ms/step - loss: 1.0280 - acc: 0.6786 - mse: 0.1868 - val_loss: 1.0569 - val_acc: 0.6053 - val_mse: 0.1939\n",
            "Epoch 12/150\n",
            "1/1 [==============================] - 0s 26ms/step - loss: 1.0052 - acc: 0.6786 - mse: 0.1813 - val_loss: 1.0389 - val_acc: 0.6053 - val_mse: 0.1896\n",
            "Epoch 13/150\n",
            "1/1 [==============================] - 0s 29ms/step - loss: 0.9840 - acc: 0.6875 - mse: 0.1762 - val_loss: 1.0222 - val_acc: 0.6053 - val_mse: 0.1856\n",
            "Epoch 14/150\n",
            "1/1 [==============================] - 0s 25ms/step - loss: 0.9643 - acc: 0.6875 - mse: 0.1714 - val_loss: 1.0068 - val_acc: 0.6053 - val_mse: 0.1819\n",
            "Epoch 15/150\n",
            "1/1 [==============================] - 0s 31ms/step - loss: 0.9459 - acc: 0.6875 - mse: 0.1669 - val_loss: 0.9924 - val_acc: 0.6053 - val_mse: 0.1785\n",
            "Epoch 16/150\n",
            "1/1 [==============================] - 0s 34ms/step - loss: 0.9289 - acc: 0.6964 - mse: 0.1628 - val_loss: 0.9792 - val_acc: 0.6053 - val_mse: 0.1754\n",
            "Epoch 17/150\n",
            "1/1 [==============================] - 0s 28ms/step - loss: 0.9130 - acc: 0.6964 - mse: 0.1589 - val_loss: 0.9667 - val_acc: 0.6053 - val_mse: 0.1724\n",
            "Epoch 18/150\n",
            "1/1 [==============================] - 0s 28ms/step - loss: 0.8974 - acc: 0.7321 - mse: 0.1552 - val_loss: 0.9545 - val_acc: 0.6053 - val_mse: 0.1695\n",
            "Epoch 19/150\n",
            "1/1 [==============================] - 0s 29ms/step - loss: 0.8824 - acc: 0.7411 - mse: 0.1516 - val_loss: 0.9426 - val_acc: 0.6579 - val_mse: 0.1667\n",
            "Epoch 20/150\n",
            "1/1 [==============================] - 0s 31ms/step - loss: 0.8676 - acc: 0.7589 - mse: 0.1480 - val_loss: 0.9314 - val_acc: 0.6579 - val_mse: 0.1641\n",
            "Epoch 21/150\n",
            "1/1 [==============================] - 0s 44ms/step - loss: 0.8528 - acc: 0.7679 - mse: 0.1445 - val_loss: 0.9205 - val_acc: 0.6842 - val_mse: 0.1616\n",
            "Epoch 22/150\n",
            "1/1 [==============================] - 0s 27ms/step - loss: 0.8381 - acc: 0.7768 - mse: 0.1410 - val_loss: 0.9096 - val_acc: 0.6842 - val_mse: 0.1591\n",
            "Epoch 23/150\n",
            "1/1 [==============================] - 0s 27ms/step - loss: 0.8239 - acc: 0.7857 - mse: 0.1377 - val_loss: 0.8986 - val_acc: 0.6842 - val_mse: 0.1566\n",
            "Epoch 24/150\n",
            "1/1 [==============================] - 0s 27ms/step - loss: 0.8102 - acc: 0.7946 - mse: 0.1345 - val_loss: 0.8874 - val_acc: 0.6842 - val_mse: 0.1540\n",
            "Epoch 25/150\n",
            "1/1 [==============================] - 0s 35ms/step - loss: 0.7969 - acc: 0.7946 - mse: 0.1314 - val_loss: 0.8766 - val_acc: 0.7105 - val_mse: 0.1516\n",
            "Epoch 26/150\n",
            "1/1 [==============================] - 0s 26ms/step - loss: 0.7842 - acc: 0.7946 - mse: 0.1285 - val_loss: 0.8660 - val_acc: 0.7105 - val_mse: 0.1493\n",
            "Epoch 27/150\n",
            "1/1 [==============================] - 0s 32ms/step - loss: 0.7721 - acc: 0.8036 - mse: 0.1257 - val_loss: 0.8557 - val_acc: 0.7105 - val_mse: 0.1470\n",
            "Epoch 28/150\n",
            "1/1 [==============================] - 0s 31ms/step - loss: 0.7605 - acc: 0.8036 - mse: 0.1231 - val_loss: 0.8455 - val_acc: 0.7368 - val_mse: 0.1448\n",
            "Epoch 29/150\n",
            "1/1 [==============================] - 0s 26ms/step - loss: 0.7492 - acc: 0.8036 - mse: 0.1206 - val_loss: 0.8357 - val_acc: 0.7368 - val_mse: 0.1427\n",
            "Epoch 30/150\n",
            "1/1 [==============================] - 0s 27ms/step - loss: 0.7381 - acc: 0.8125 - mse: 0.1181 - val_loss: 0.8262 - val_acc: 0.7368 - val_mse: 0.1407\n",
            "Epoch 31/150\n",
            "1/1 [==============================] - 0s 31ms/step - loss: 0.7270 - acc: 0.8214 - mse: 0.1157 - val_loss: 0.8170 - val_acc: 0.7368 - val_mse: 0.1387\n",
            "Epoch 32/150\n",
            "1/1 [==============================] - 0s 39ms/step - loss: 0.7161 - acc: 0.8304 - mse: 0.1133 - val_loss: 0.8081 - val_acc: 0.7105 - val_mse: 0.1369\n",
            "Epoch 33/150\n",
            "1/1 [==============================] - 0s 34ms/step - loss: 0.7056 - acc: 0.8304 - mse: 0.1110 - val_loss: 0.7993 - val_acc: 0.7368 - val_mse: 0.1350\n",
            "Epoch 34/150\n",
            "1/1 [==============================] - 0s 29ms/step - loss: 0.6955 - acc: 0.8393 - mse: 0.1088 - val_loss: 0.7908 - val_acc: 0.7368 - val_mse: 0.1333\n",
            "Epoch 35/150\n",
            "1/1 [==============================] - 0s 45ms/step - loss: 0.6856 - acc: 0.8482 - mse: 0.1067 - val_loss: 0.7826 - val_acc: 0.7368 - val_mse: 0.1316\n",
            "Epoch 36/150\n",
            "1/1 [==============================] - 0s 30ms/step - loss: 0.6761 - acc: 0.8482 - mse: 0.1047 - val_loss: 0.7746 - val_acc: 0.7368 - val_mse: 0.1300\n",
            "Epoch 37/150\n",
            "1/1 [==============================] - 0s 45ms/step - loss: 0.6669 - acc: 0.8482 - mse: 0.1028 - val_loss: 0.7667 - val_acc: 0.7368 - val_mse: 0.1285\n",
            "Epoch 38/150\n",
            "1/1 [==============================] - 0s 35ms/step - loss: 0.6580 - acc: 0.8482 - mse: 0.1009 - val_loss: 0.7590 - val_acc: 0.7368 - val_mse: 0.1270\n",
            "Epoch 39/150\n",
            "1/1 [==============================] - 0s 30ms/step - loss: 0.6494 - acc: 0.8482 - mse: 0.0991 - val_loss: 0.7517 - val_acc: 0.7368 - val_mse: 0.1255\n",
            "Epoch 40/150\n",
            "1/1 [==============================] - 0s 29ms/step - loss: 0.6411 - acc: 0.8482 - mse: 0.0974 - val_loss: 0.7444 - val_acc: 0.7368 - val_mse: 0.1241\n",
            "Epoch 41/150\n",
            "1/1 [==============================] - 0s 29ms/step - loss: 0.6330 - acc: 0.8482 - mse: 0.0957 - val_loss: 0.7374 - val_acc: 0.7368 - val_mse: 0.1228\n",
            "Epoch 42/150\n",
            "1/1 [==============================] - 0s 30ms/step - loss: 0.6251 - acc: 0.8571 - mse: 0.0941 - val_loss: 0.7305 - val_acc: 0.7368 - val_mse: 0.1215\n",
            "Epoch 43/150\n",
            "1/1 [==============================] - 0s 28ms/step - loss: 0.6175 - acc: 0.8571 - mse: 0.0926 - val_loss: 0.7237 - val_acc: 0.7105 - val_mse: 0.1202\n",
            "Epoch 44/150\n",
            "1/1 [==============================] - 0s 27ms/step - loss: 0.6101 - acc: 0.8571 - mse: 0.0911 - val_loss: 0.7172 - val_acc: 0.7368 - val_mse: 0.1190\n",
            "Epoch 45/150\n",
            "1/1 [==============================] - 0s 33ms/step - loss: 0.6029 - acc: 0.8661 - mse: 0.0897 - val_loss: 0.7108 - val_acc: 0.7368 - val_mse: 0.1178\n",
            "Epoch 46/150\n",
            "1/1 [==============================] - 0s 32ms/step - loss: 0.5960 - acc: 0.8661 - mse: 0.0883 - val_loss: 0.7046 - val_acc: 0.7368 - val_mse: 0.1166\n",
            "Epoch 47/150\n",
            "1/1 [==============================] - 0s 32ms/step - loss: 0.5892 - acc: 0.8661 - mse: 0.0869 - val_loss: 0.6985 - val_acc: 0.7368 - val_mse: 0.1155\n",
            "Epoch 48/150\n",
            "1/1 [==============================] - 0s 38ms/step - loss: 0.5825 - acc: 0.8661 - mse: 0.0856 - val_loss: 0.6924 - val_acc: 0.7632 - val_mse: 0.1144\n",
            "Epoch 49/150\n",
            "1/1 [==============================] - 0s 28ms/step - loss: 0.5761 - acc: 0.8661 - mse: 0.0844 - val_loss: 0.6865 - val_acc: 0.7632 - val_mse: 0.1133\n",
            "Epoch 50/150\n",
            "1/1 [==============================] - 0s 28ms/step - loss: 0.5698 - acc: 0.8661 - mse: 0.0831 - val_loss: 0.6807 - val_acc: 0.7632 - val_mse: 0.1123\n",
            "Epoch 51/150\n",
            "1/1 [==============================] - 0s 50ms/step - loss: 0.5636 - acc: 0.8661 - mse: 0.0819 - val_loss: 0.6751 - val_acc: 0.7632 - val_mse: 0.1113\n",
            "Epoch 52/150\n",
            "1/1 [==============================] - 0s 32ms/step - loss: 0.5577 - acc: 0.8661 - mse: 0.0808 - val_loss: 0.6696 - val_acc: 0.7632 - val_mse: 0.1103\n",
            "Epoch 53/150\n",
            "1/1 [==============================] - 0s 48ms/step - loss: 0.5518 - acc: 0.8661 - mse: 0.0796 - val_loss: 0.6642 - val_acc: 0.7632 - val_mse: 0.1093\n",
            "Epoch 54/150\n",
            "1/1 [==============================] - 0s 30ms/step - loss: 0.5461 - acc: 0.8661 - mse: 0.0785 - val_loss: 0.6589 - val_acc: 0.7632 - val_mse: 0.1084\n",
            "Epoch 55/150\n",
            "1/1 [==============================] - 0s 33ms/step - loss: 0.5406 - acc: 0.8661 - mse: 0.0775 - val_loss: 0.6537 - val_acc: 0.7632 - val_mse: 0.1075\n",
            "Epoch 56/150\n",
            "1/1 [==============================] - 0s 37ms/step - loss: 0.5352 - acc: 0.8661 - mse: 0.0764 - val_loss: 0.6487 - val_acc: 0.7632 - val_mse: 0.1066\n",
            "Epoch 57/150\n",
            "1/1 [==============================] - 0s 34ms/step - loss: 0.5299 - acc: 0.8750 - mse: 0.0754 - val_loss: 0.6437 - val_acc: 0.7632 - val_mse: 0.1057\n",
            "Epoch 58/150\n",
            "1/1 [==============================] - 0s 33ms/step - loss: 0.5247 - acc: 0.8750 - mse: 0.0744 - val_loss: 0.6387 - val_acc: 0.7632 - val_mse: 0.1048\n",
            "Epoch 59/150\n",
            "1/1 [==============================] - 0s 32ms/step - loss: 0.5196 - acc: 0.8750 - mse: 0.0734 - val_loss: 0.6339 - val_acc: 0.7632 - val_mse: 0.1040\n",
            "Epoch 60/150\n",
            "1/1 [==============================] - 0s 34ms/step - loss: 0.5147 - acc: 0.8839 - mse: 0.0725 - val_loss: 0.6291 - val_acc: 0.7632 - val_mse: 0.1031\n",
            "Epoch 61/150\n",
            "1/1 [==============================] - 0s 28ms/step - loss: 0.5098 - acc: 0.8839 - mse: 0.0716 - val_loss: 0.6243 - val_acc: 0.7632 - val_mse: 0.1023\n",
            "Epoch 62/150\n",
            "1/1 [==============================] - 0s 28ms/step - loss: 0.5051 - acc: 0.8839 - mse: 0.0707 - val_loss: 0.6197 - val_acc: 0.7632 - val_mse: 0.1014\n",
            "Epoch 63/150\n",
            "1/1 [==============================] - 0s 27ms/step - loss: 0.5004 - acc: 0.8839 - mse: 0.0698 - val_loss: 0.6150 - val_acc: 0.7632 - val_mse: 0.1006\n",
            "Epoch 64/150\n",
            "1/1 [==============================] - 0s 30ms/step - loss: 0.4958 - acc: 0.8839 - mse: 0.0689 - val_loss: 0.6105 - val_acc: 0.7632 - val_mse: 0.0998\n",
            "Epoch 65/150\n",
            "1/1 [==============================] - 0s 31ms/step - loss: 0.4913 - acc: 0.8839 - mse: 0.0680 - val_loss: 0.6060 - val_acc: 0.7632 - val_mse: 0.0990\n",
            "Epoch 66/150\n",
            "1/1 [==============================] - 0s 34ms/step - loss: 0.4868 - acc: 0.8839 - mse: 0.0672 - val_loss: 0.6016 - val_acc: 0.7632 - val_mse: 0.0982\n",
            "Epoch 67/150\n",
            "1/1 [==============================] - 0s 27ms/step - loss: 0.4824 - acc: 0.8929 - mse: 0.0664 - val_loss: 0.5973 - val_acc: 0.7632 - val_mse: 0.0975\n",
            "Epoch 68/150\n",
            "1/1 [==============================] - 0s 29ms/step - loss: 0.4782 - acc: 0.8929 - mse: 0.0655 - val_loss: 0.5931 - val_acc: 0.7632 - val_mse: 0.0967\n",
            "Epoch 69/150\n",
            "1/1 [==============================] - 0s 29ms/step - loss: 0.4740 - acc: 0.8929 - mse: 0.0647 - val_loss: 0.5889 - val_acc: 0.7632 - val_mse: 0.0960\n",
            "Epoch 70/150\n",
            "1/1 [==============================] - 0s 32ms/step - loss: 0.4698 - acc: 0.9018 - mse: 0.0640 - val_loss: 0.5849 - val_acc: 0.7632 - val_mse: 0.0953\n",
            "Epoch 71/150\n",
            "1/1 [==============================] - 0s 29ms/step - loss: 0.4657 - acc: 0.9018 - mse: 0.0632 - val_loss: 0.5809 - val_acc: 0.7632 - val_mse: 0.0946\n",
            "Epoch 72/150\n",
            "1/1 [==============================] - 0s 34ms/step - loss: 0.4616 - acc: 0.9018 - mse: 0.0624 - val_loss: 0.5770 - val_acc: 0.7632 - val_mse: 0.0939\n",
            "Epoch 73/150\n",
            "1/1 [==============================] - 0s 34ms/step - loss: 0.4577 - acc: 0.9018 - mse: 0.0616 - val_loss: 0.5732 - val_acc: 0.7632 - val_mse: 0.0932\n",
            "Epoch 74/150\n",
            "1/1 [==============================] - 0s 39ms/step - loss: 0.4538 - acc: 0.9018 - mse: 0.0609 - val_loss: 0.5694 - val_acc: 0.7632 - val_mse: 0.0926\n",
            "Epoch 75/150\n",
            "1/1 [==============================] - 0s 39ms/step - loss: 0.4500 - acc: 0.9018 - mse: 0.0602 - val_loss: 0.5658 - val_acc: 0.7895 - val_mse: 0.0919\n",
            "Epoch 76/150\n",
            "1/1 [==============================] - 0s 48ms/step - loss: 0.4463 - acc: 0.9018 - mse: 0.0595 - val_loss: 0.5622 - val_acc: 0.7895 - val_mse: 0.0913\n",
            "Epoch 77/150\n",
            "1/1 [==============================] - 0s 34ms/step - loss: 0.4427 - acc: 0.9018 - mse: 0.0588 - val_loss: 0.5588 - val_acc: 0.7895 - val_mse: 0.0908\n",
            "Epoch 78/150\n",
            "1/1 [==============================] - 0s 27ms/step - loss: 0.4392 - acc: 0.9018 - mse: 0.0581 - val_loss: 0.5554 - val_acc: 0.7895 - val_mse: 0.0902\n",
            "Epoch 79/150\n",
            "1/1 [==============================] - 0s 29ms/step - loss: 0.4357 - acc: 0.9018 - mse: 0.0575 - val_loss: 0.5521 - val_acc: 0.7895 - val_mse: 0.0896\n",
            "Epoch 80/150\n",
            "1/1 [==============================] - 0s 39ms/step - loss: 0.4323 - acc: 0.9107 - mse: 0.0568 - val_loss: 0.5487 - val_acc: 0.7895 - val_mse: 0.0891\n",
            "Epoch 81/150\n",
            "1/1 [==============================] - 0s 36ms/step - loss: 0.4290 - acc: 0.9196 - mse: 0.0562 - val_loss: 0.5455 - val_acc: 0.7895 - val_mse: 0.0885\n",
            "Epoch 82/150\n",
            "1/1 [==============================] - 0s 37ms/step - loss: 0.4257 - acc: 0.9196 - mse: 0.0556 - val_loss: 0.5422 - val_acc: 0.7895 - val_mse: 0.0879\n",
            "Epoch 83/150\n",
            "1/1 [==============================] - 0s 38ms/step - loss: 0.4225 - acc: 0.9286 - mse: 0.0550 - val_loss: 0.5390 - val_acc: 0.7895 - val_mse: 0.0874\n",
            "Epoch 84/150\n",
            "1/1 [==============================] - 0s 39ms/step - loss: 0.4193 - acc: 0.9286 - mse: 0.0544 - val_loss: 0.5359 - val_acc: 0.7895 - val_mse: 0.0869\n",
            "Epoch 85/150\n",
            "1/1 [==============================] - 0s 33ms/step - loss: 0.4161 - acc: 0.9286 - mse: 0.0538 - val_loss: 0.5328 - val_acc: 0.7895 - val_mse: 0.0863\n",
            "Epoch 86/150\n",
            "1/1 [==============================] - 0s 30ms/step - loss: 0.4131 - acc: 0.9286 - mse: 0.0533 - val_loss: 0.5297 - val_acc: 0.7895 - val_mse: 0.0858\n",
            "Epoch 87/150\n",
            "1/1 [==============================] - 0s 37ms/step - loss: 0.4101 - acc: 0.9375 - mse: 0.0527 - val_loss: 0.5267 - val_acc: 0.7895 - val_mse: 0.0853\n",
            "Epoch 88/150\n",
            "1/1 [==============================] - 0s 35ms/step - loss: 0.4071 - acc: 0.9375 - mse: 0.0522 - val_loss: 0.5238 - val_acc: 0.7632 - val_mse: 0.0848\n",
            "Epoch 89/150\n",
            "1/1 [==============================] - 0s 32ms/step - loss: 0.4042 - acc: 0.9375 - mse: 0.0517 - val_loss: 0.5209 - val_acc: 0.7632 - val_mse: 0.0843\n",
            "Epoch 90/150\n",
            "1/1 [==============================] - 0s 27ms/step - loss: 0.4014 - acc: 0.9375 - mse: 0.0511 - val_loss: 0.5181 - val_acc: 0.7632 - val_mse: 0.0838\n",
            "Epoch 91/150\n",
            "1/1 [==============================] - 0s 27ms/step - loss: 0.3985 - acc: 0.9375 - mse: 0.0506 - val_loss: 0.5152 - val_acc: 0.7632 - val_mse: 0.0834\n",
            "Epoch 92/150\n",
            "1/1 [==============================] - 0s 28ms/step - loss: 0.3958 - acc: 0.9375 - mse: 0.0501 - val_loss: 0.5124 - val_acc: 0.7632 - val_mse: 0.0829\n",
            "Epoch 93/150\n",
            "1/1 [==============================] - 0s 26ms/step - loss: 0.3930 - acc: 0.9375 - mse: 0.0496 - val_loss: 0.5096 - val_acc: 0.7632 - val_mse: 0.0824\n",
            "Epoch 94/150\n",
            "1/1 [==============================] - 0s 40ms/step - loss: 0.3902 - acc: 0.9375 - mse: 0.0491 - val_loss: 0.5068 - val_acc: 0.7632 - val_mse: 0.0819\n",
            "Epoch 95/150\n",
            "1/1 [==============================] - 0s 26ms/step - loss: 0.3876 - acc: 0.9375 - mse: 0.0486 - val_loss: 0.5040 - val_acc: 0.7632 - val_mse: 0.0814\n",
            "Epoch 96/150\n",
            "1/1 [==============================] - 0s 35ms/step - loss: 0.3849 - acc: 0.9375 - mse: 0.0481 - val_loss: 0.5013 - val_acc: 0.7632 - val_mse: 0.0809\n",
            "Epoch 97/150\n",
            "1/1 [==============================] - 0s 31ms/step - loss: 0.3823 - acc: 0.9375 - mse: 0.0476 - val_loss: 0.4987 - val_acc: 0.7632 - val_mse: 0.0805\n",
            "Epoch 98/150\n",
            "1/1 [==============================] - 0s 35ms/step - loss: 0.3797 - acc: 0.9375 - mse: 0.0471 - val_loss: 0.4960 - val_acc: 0.7632 - val_mse: 0.0800\n",
            "Epoch 99/150\n",
            "1/1 [==============================] - 0s 32ms/step - loss: 0.3772 - acc: 0.9375 - mse: 0.0467 - val_loss: 0.4935 - val_acc: 0.7632 - val_mse: 0.0796\n",
            "Epoch 100/150\n",
            "1/1 [==============================] - 0s 35ms/step - loss: 0.3747 - acc: 0.9375 - mse: 0.0462 - val_loss: 0.4909 - val_acc: 0.7632 - val_mse: 0.0791\n",
            "Epoch 101/150\n",
            "1/1 [==============================] - 0s 34ms/step - loss: 0.3722 - acc: 0.9375 - mse: 0.0458 - val_loss: 0.4883 - val_acc: 0.7632 - val_mse: 0.0787\n",
            "Epoch 102/150\n",
            "1/1 [==============================] - 0s 43ms/step - loss: 0.3698 - acc: 0.9375 - mse: 0.0453 - val_loss: 0.4858 - val_acc: 0.7632 - val_mse: 0.0782\n",
            "Epoch 103/150\n",
            "1/1 [==============================] - 0s 33ms/step - loss: 0.3674 - acc: 0.9375 - mse: 0.0449 - val_loss: 0.4832 - val_acc: 0.7632 - val_mse: 0.0778\n",
            "Epoch 104/150\n",
            "1/1 [==============================] - 0s 33ms/step - loss: 0.3651 - acc: 0.9375 - mse: 0.0445 - val_loss: 0.4808 - val_acc: 0.7632 - val_mse: 0.0773\n",
            "Epoch 105/150\n",
            "1/1 [==============================] - 0s 28ms/step - loss: 0.3627 - acc: 0.9375 - mse: 0.0441 - val_loss: 0.4783 - val_acc: 0.7632 - val_mse: 0.0769\n",
            "Epoch 106/150\n",
            "1/1 [==============================] - 0s 31ms/step - loss: 0.3604 - acc: 0.9375 - mse: 0.0436 - val_loss: 0.4759 - val_acc: 0.7632 - val_mse: 0.0765\n",
            "Epoch 107/150\n",
            "1/1 [==============================] - 0s 34ms/step - loss: 0.3582 - acc: 0.9375 - mse: 0.0432 - val_loss: 0.4735 - val_acc: 0.7895 - val_mse: 0.0761\n",
            "Epoch 108/150\n",
            "1/1 [==============================] - 0s 32ms/step - loss: 0.3559 - acc: 0.9375 - mse: 0.0428 - val_loss: 0.4711 - val_acc: 0.7895 - val_mse: 0.0756\n",
            "Epoch 109/150\n",
            "1/1 [==============================] - 0s 36ms/step - loss: 0.3537 - acc: 0.9375 - mse: 0.0424 - val_loss: 0.4688 - val_acc: 0.7895 - val_mse: 0.0752\n",
            "Epoch 110/150\n",
            "1/1 [==============================] - 0s 32ms/step - loss: 0.3516 - acc: 0.9375 - mse: 0.0420 - val_loss: 0.4665 - val_acc: 0.7895 - val_mse: 0.0748\n",
            "Epoch 111/150\n",
            "1/1 [==============================] - 0s 36ms/step - loss: 0.3494 - acc: 0.9375 - mse: 0.0417 - val_loss: 0.4642 - val_acc: 0.7895 - val_mse: 0.0744\n",
            "Epoch 112/150\n",
            "1/1 [==============================] - 0s 31ms/step - loss: 0.3473 - acc: 0.9375 - mse: 0.0413 - val_loss: 0.4619 - val_acc: 0.7895 - val_mse: 0.0740\n",
            "Epoch 113/150\n",
            "1/1 [==============================] - 0s 31ms/step - loss: 0.3452 - acc: 0.9375 - mse: 0.0409 - val_loss: 0.4597 - val_acc: 0.7895 - val_mse: 0.0736\n",
            "Epoch 114/150\n",
            "1/1 [==============================] - 0s 39ms/step - loss: 0.3432 - acc: 0.9375 - mse: 0.0405 - val_loss: 0.4575 - val_acc: 0.7895 - val_mse: 0.0732\n",
            "Epoch 115/150\n",
            "1/1 [==============================] - 0s 31ms/step - loss: 0.3411 - acc: 0.9375 - mse: 0.0402 - val_loss: 0.4554 - val_acc: 0.7895 - val_mse: 0.0728\n",
            "Epoch 116/150\n",
            "1/1 [==============================] - 0s 34ms/step - loss: 0.3391 - acc: 0.9375 - mse: 0.0398 - val_loss: 0.4532 - val_acc: 0.7895 - val_mse: 0.0724\n",
            "Epoch 117/150\n",
            "1/1 [==============================] - 0s 37ms/step - loss: 0.3372 - acc: 0.9375 - mse: 0.0395 - val_loss: 0.4511 - val_acc: 0.7895 - val_mse: 0.0720\n",
            "Epoch 118/150\n",
            "1/1 [==============================] - 0s 34ms/step - loss: 0.3352 - acc: 0.9464 - mse: 0.0391 - val_loss: 0.4490 - val_acc: 0.7895 - val_mse: 0.0717\n",
            "Epoch 119/150\n",
            "1/1 [==============================] - 0s 32ms/step - loss: 0.3333 - acc: 0.9464 - mse: 0.0388 - val_loss: 0.4469 - val_acc: 0.7895 - val_mse: 0.0713\n",
            "Epoch 120/150\n",
            "1/1 [==============================] - 0s 34ms/step - loss: 0.3314 - acc: 0.9464 - mse: 0.0384 - val_loss: 0.4448 - val_acc: 0.7895 - val_mse: 0.0709\n",
            "Epoch 121/150\n",
            "1/1 [==============================] - 0s 31ms/step - loss: 0.3295 - acc: 0.9554 - mse: 0.0381 - val_loss: 0.4428 - val_acc: 0.7895 - val_mse: 0.0706\n",
            "Epoch 122/150\n",
            "1/1 [==============================] - 0s 32ms/step - loss: 0.3276 - acc: 0.9554 - mse: 0.0378 - val_loss: 0.4409 - val_acc: 0.7895 - val_mse: 0.0702\n",
            "Epoch 123/150\n",
            "1/1 [==============================] - 0s 33ms/step - loss: 0.3258 - acc: 0.9554 - mse: 0.0374 - val_loss: 0.4389 - val_acc: 0.8158 - val_mse: 0.0698\n",
            "Epoch 124/150\n",
            "1/1 [==============================] - 0s 36ms/step - loss: 0.3240 - acc: 0.9554 - mse: 0.0371 - val_loss: 0.4370 - val_acc: 0.8158 - val_mse: 0.0695\n",
            "Epoch 125/150\n",
            "1/1 [==============================] - 0s 36ms/step - loss: 0.3222 - acc: 0.9554 - mse: 0.0368 - val_loss: 0.4351 - val_acc: 0.8158 - val_mse: 0.0692\n",
            "Epoch 126/150\n",
            "1/1 [==============================] - 0s 40ms/step - loss: 0.3205 - acc: 0.9554 - mse: 0.0365 - val_loss: 0.4332 - val_acc: 0.8158 - val_mse: 0.0688\n",
            "Epoch 127/150\n",
            "1/1 [==============================] - 0s 38ms/step - loss: 0.3187 - acc: 0.9554 - mse: 0.0362 - val_loss: 0.4313 - val_acc: 0.8158 - val_mse: 0.0685\n",
            "Epoch 128/150\n",
            "1/1 [==============================] - 0s 39ms/step - loss: 0.3170 - acc: 0.9554 - mse: 0.0359 - val_loss: 0.4295 - val_acc: 0.8158 - val_mse: 0.0681\n",
            "Epoch 129/150\n",
            "1/1 [==============================] - 0s 36ms/step - loss: 0.3153 - acc: 0.9554 - mse: 0.0356 - val_loss: 0.4277 - val_acc: 0.8158 - val_mse: 0.0678\n",
            "Epoch 130/150\n",
            "1/1 [==============================] - 0s 30ms/step - loss: 0.3137 - acc: 0.9554 - mse: 0.0353 - val_loss: 0.4259 - val_acc: 0.8158 - val_mse: 0.0675\n",
            "Epoch 131/150\n",
            "1/1 [==============================] - 0s 36ms/step - loss: 0.3120 - acc: 0.9554 - mse: 0.0350 - val_loss: 0.4242 - val_acc: 0.8158 - val_mse: 0.0672\n",
            "Epoch 132/150\n",
            "1/1 [==============================] - 0s 35ms/step - loss: 0.3104 - acc: 0.9554 - mse: 0.0348 - val_loss: 0.4224 - val_acc: 0.8158 - val_mse: 0.0669\n",
            "Epoch 133/150\n",
            "1/1 [==============================] - 0s 32ms/step - loss: 0.3088 - acc: 0.9554 - mse: 0.0345 - val_loss: 0.4206 - val_acc: 0.8158 - val_mse: 0.0665\n",
            "Epoch 134/150\n",
            "1/1 [==============================] - 0s 32ms/step - loss: 0.3072 - acc: 0.9554 - mse: 0.0342 - val_loss: 0.4189 - val_acc: 0.8158 - val_mse: 0.0662\n",
            "Epoch 135/150\n",
            "1/1 [==============================] - 0s 30ms/step - loss: 0.3056 - acc: 0.9554 - mse: 0.0339 - val_loss: 0.4171 - val_acc: 0.8158 - val_mse: 0.0659\n",
            "Epoch 136/150\n",
            "1/1 [==============================] - 0s 44ms/step - loss: 0.3041 - acc: 0.9554 - mse: 0.0337 - val_loss: 0.4154 - val_acc: 0.8158 - val_mse: 0.0656\n",
            "Epoch 137/150\n",
            "1/1 [==============================] - 0s 34ms/step - loss: 0.3025 - acc: 0.9554 - mse: 0.0334 - val_loss: 0.4137 - val_acc: 0.8158 - val_mse: 0.0653\n",
            "Epoch 138/150\n",
            "1/1 [==============================] - 0s 34ms/step - loss: 0.3010 - acc: 0.9554 - mse: 0.0331 - val_loss: 0.4120 - val_acc: 0.8421 - val_mse: 0.0649\n",
            "Epoch 139/150\n",
            "1/1 [==============================] - 0s 34ms/step - loss: 0.2995 - acc: 0.9554 - mse: 0.0329 - val_loss: 0.4103 - val_acc: 0.8421 - val_mse: 0.0646\n",
            "Epoch 140/150\n",
            "1/1 [==============================] - 0s 45ms/step - loss: 0.2980 - acc: 0.9554 - mse: 0.0326 - val_loss: 0.4087 - val_acc: 0.8421 - val_mse: 0.0643\n",
            "Epoch 141/150\n",
            "1/1 [==============================] - 0s 35ms/step - loss: 0.2966 - acc: 0.9554 - mse: 0.0324 - val_loss: 0.4070 - val_acc: 0.8421 - val_mse: 0.0640\n",
            "Epoch 142/150\n",
            "1/1 [==============================] - 0s 32ms/step - loss: 0.2951 - acc: 0.9554 - mse: 0.0321 - val_loss: 0.4054 - val_acc: 0.8421 - val_mse: 0.0637\n",
            "Epoch 143/150\n",
            "1/1 [==============================] - 0s 30ms/step - loss: 0.2937 - acc: 0.9554 - mse: 0.0319 - val_loss: 0.4037 - val_acc: 0.8421 - val_mse: 0.0634\n",
            "Epoch 144/150\n",
            "1/1 [==============================] - 0s 31ms/step - loss: 0.2923 - acc: 0.9554 - mse: 0.0316 - val_loss: 0.4021 - val_acc: 0.8421 - val_mse: 0.0631\n",
            "Epoch 145/150\n",
            "1/1 [==============================] - 0s 35ms/step - loss: 0.2908 - acc: 0.9554 - mse: 0.0314 - val_loss: 0.4005 - val_acc: 0.8421 - val_mse: 0.0628\n",
            "Epoch 146/150\n",
            "1/1 [==============================] - 0s 38ms/step - loss: 0.2895 - acc: 0.9554 - mse: 0.0311 - val_loss: 0.3989 - val_acc: 0.8421 - val_mse: 0.0625\n",
            "Epoch 147/150\n",
            "1/1 [==============================] - 0s 32ms/step - loss: 0.2881 - acc: 0.9554 - mse: 0.0309 - val_loss: 0.3973 - val_acc: 0.8421 - val_mse: 0.0622\n",
            "Epoch 148/150\n",
            "1/1 [==============================] - 0s 36ms/step - loss: 0.2867 - acc: 0.9554 - mse: 0.0307 - val_loss: 0.3957 - val_acc: 0.8421 - val_mse: 0.0619\n",
            "Epoch 149/150\n",
            "1/1 [==============================] - 0s 35ms/step - loss: 0.2854 - acc: 0.9554 - mse: 0.0304 - val_loss: 0.3942 - val_acc: 0.8421 - val_mse: 0.0616\n",
            "Epoch 150/150\n",
            "1/1 [==============================] - 0s 26ms/step - loss: 0.2840 - acc: 0.9554 - mse: 0.0302 - val_loss: 0.3927 - val_acc: 0.8421 - val_mse: 0.0613\n"
          ]
        }
      ]
    },
    {
      "cell_type": "code",
      "metadata": {
        "id": "i-Ne7Sc0MWE_",
        "colab": {
          "base_uri": "https://localhost:8080/"
        },
        "outputId": "35c6d381-3abc-42d2-d6ec-fbc74a0dab7d"
      },
      "source": [
        "\n",
        "#just how we used evaluate() in the basic model previously, use it again to find the loss, accuracy and MSE on the test set\n",
        "loss4, acc4, mse4 = model4.evaluate(X_test,y_test)\n"
      ],
      "execution_count": 396,
      "outputs": [
        {
          "output_type": "stream",
          "name": "stdout",
          "text": [
            "2/2 [==============================] - 0s 5ms/step - loss: 0.3927 - acc: 0.8421 - mse: 0.0613\n"
          ]
        }
      ]
    },
    {
      "cell_type": "code",
      "metadata": {
        "id": "-Gc_5J6uMWFA",
        "colab": {
          "base_uri": "https://localhost:8080/",
          "height": 581
        },
        "outputId": "32f976e5-275c-4915-e946-842f12434b8d"
      },
      "source": [
        "\n",
        "# Plot the train loss vs validation loss and train accuracy vs validation accuracy graphs just like we did before\n",
        "\n",
        "plt.style.use('ggplot')\n",
        "plt.plot(hist4.history['loss'], label = 'loss')\n",
        "plt.plot(hist4.history['val_loss'], label='val loss')\n",
        "plt.title(\"Train Loss vs Val_Loss\")\n",
        "plt.xlabel(\"Epochs\")\n",
        "plt.ylabel(\"Loss\")\n",
        "plt.legend()\n",
        "plt.show()\n",
        "\n",
        "# we observe that validation loss is increasing as compared to training loss. \n",
        "# This increase in training loss shows that our model is overfitted.\n",
        "\n",
        "#similarly we plot for model accuracy \n",
        "plt.plot(hist4.history['acc'], label = 'train acc')\n",
        "plt.plot(hist4.history['val_acc'], label='val acc')\n",
        "plt.title(\"train acc vs Val_acc\")\n",
        "plt.xlabel(\"Epochs\")\n",
        "plt.ylabel(\"acc\")\n",
        "plt.legend()\n",
        "plt.show()\n"
      ],
      "execution_count": 397,
      "outputs": [
        {
          "output_type": "display_data",
          "data": {
            "image/png": "[encoded data removed]",
            "text/plain": [
              "<Figure size 432x288 with 1 Axes>"
            ]
          },
          "metadata": {}
        },
        {
          "output_type": "display_data",
          "data": {
            "image/png": "[encoded data removed]",
            "text/plain": [
              "<Figure size 432x288 with 1 Axes>"
            ]
          },
          "metadata": {}
        }
      ]
    },
    {
      "cell_type": "code",
      "metadata": {
        "id": "oJcx5UrAMWFA",
        "colab": {
          "base_uri": "https://localhost:8080/"
        },
        "outputId": "5953975e-9ae3-4bc5-e14b-426a21859b2b"
      },
      "source": [
        "\n",
        "# Now create model5 having similar to the above models having L2 in all other layers.\n",
        "\n",
        "model5 = Sequential([\n",
        "    Dense(512, activation='tanh', input_shape = X_train[0].shape, kernel_regularizer='l2'),\n",
        "    Dense(512//2, activation='tanh', kernel_regularizer='l2'),\n",
        "    Dense(512//4, activation='tanh', kernel_regularizer='l2'),\n",
        "    Dense(512//8, activation='tanh', kernel_regularizer='l2'),\n",
        "    Dense(32, activation='relu', kernel_regularizer='l2'),\n",
        "    Dense(3, activation='softmax', kernel_regularizer='l2')\n",
        "])\n",
        "\n",
        "model5.compile(optimizer='sgd',loss='categorical_crossentropy', metrics=['acc', 'mse'])\n",
        "\n",
        "hist5 = model5.fit(X_train, y_train, epochs=150, batch_size=128, validation_data=(X_test,y_test))"
      ],
      "execution_count": 398,
      "outputs": [
        {
          "output_type": "stream",
          "name": "stdout",
          "text": [
            "Epoch 1/150\n",
            "1/1 [==============================] - 1s 737ms/step - loss: 7.5732 - acc: 0.5357 - mse: 0.2148 - val_loss: 7.5327 - val_acc: 0.5526 - val_mse: 0.2057\n",
            "Epoch 2/150\n",
            "1/1 [==============================] - 0s 30ms/step - loss: 7.5265 - acc: 0.5893 - mse: 0.2043 - val_loss: 7.4972 - val_acc: 0.5526 - val_mse: 0.1978\n",
            "Epoch 3/150\n",
            "1/1 [==============================] - 0s 27ms/step - loss: 7.4861 - acc: 0.6607 - mse: 0.1952 - val_loss: 7.4714 - val_acc: 0.5789 - val_mse: 0.1921\n",
            "Epoch 4/150\n",
            "1/1 [==============================] - 0s 40ms/step - loss: 7.4528 - acc: 0.6964 - mse: 0.1877 - val_loss: 7.4490 - val_acc: 0.5789 - val_mse: 0.1873\n",
            "Epoch 5/150\n",
            "1/1 [==============================] - 0s 33ms/step - loss: 7.4232 - acc: 0.6964 - mse: 0.1811 - val_loss: 7.4285 - val_acc: 0.5789 - val_mse: 0.1829\n",
            "Epoch 6/150\n",
            "1/1 [==============================] - 0s 28ms/step - loss: 7.3962 - acc: 0.6875 - mse: 0.1751 - val_loss: 7.4094 - val_acc: 0.5789 - val_mse: 0.1788\n",
            "Epoch 7/150\n",
            "1/1 [==============================] - 0s 31ms/step - loss: 7.3709 - acc: 0.6875 - mse: 0.1695 - val_loss: 7.3912 - val_acc: 0.5789 - val_mse: 0.1750\n",
            "Epoch 8/150\n",
            "1/1 [==============================] - 0s 27ms/step - loss: 7.3470 - acc: 0.6875 - mse: 0.1642 - val_loss: 7.3737 - val_acc: 0.5789 - val_mse: 0.1713\n",
            "Epoch 9/150\n",
            "1/1 [==============================] - 0s 29ms/step - loss: 7.3240 - acc: 0.6875 - mse: 0.1591 - val_loss: 7.3568 - val_acc: 0.5789 - val_mse: 0.1678\n",
            "Epoch 10/150\n",
            "1/1 [==============================] - 0s 27ms/step - loss: 7.3018 - acc: 0.6875 - mse: 0.1543 - val_loss: 7.3405 - val_acc: 0.5789 - val_mse: 0.1645\n",
            "Epoch 11/150\n",
            "1/1 [==============================] - 0s 27ms/step - loss: 7.2806 - acc: 0.6875 - mse: 0.1498 - val_loss: 7.3249 - val_acc: 0.5789 - val_mse: 0.1614\n",
            "Epoch 12/150\n",
            "1/1 [==============================] - 0s 27ms/step - loss: 7.2604 - acc: 0.6875 - mse: 0.1455 - val_loss: 7.3099 - val_acc: 0.6053 - val_mse: 0.1585\n",
            "Epoch 13/150\n",
            "1/1 [==============================] - 0s 26ms/step - loss: 7.2412 - acc: 0.7143 - mse: 0.1415 - val_loss: 7.2957 - val_acc: 0.6053 - val_mse: 0.1557\n",
            "Epoch 14/150\n",
            "1/1 [==============================] - 0s 34ms/step - loss: 7.2231 - acc: 0.7321 - mse: 0.1378 - val_loss: 7.2821 - val_acc: 0.6053 - val_mse: 0.1532\n",
            "Epoch 15/150\n",
            "1/1 [==============================] - 0s 29ms/step - loss: 7.2059 - acc: 0.7411 - mse: 0.1343 - val_loss: 7.2692 - val_acc: 0.6316 - val_mse: 0.1509\n",
            "Epoch 16/150\n",
            "1/1 [==============================] - 0s 35ms/step - loss: 7.1897 - acc: 0.7500 - mse: 0.1311 - val_loss: 7.2568 - val_acc: 0.6316 - val_mse: 0.1487\n",
            "Epoch 17/150\n",
            "1/1 [==============================] - 0s 26ms/step - loss: 7.1742 - acc: 0.7589 - mse: 0.1282 - val_loss: 7.2451 - val_acc: 0.6316 - val_mse: 0.1468\n",
            "Epoch 18/150\n",
            "1/1 [==============================] - 0s 33ms/step - loss: 7.1596 - acc: 0.7589 - mse: 0.1254 - val_loss: 7.2339 - val_acc: 0.6579 - val_mse: 0.1449\n",
            "Epoch 19/150\n",
            "1/1 [==============================] - 0s 27ms/step - loss: 7.1455 - acc: 0.7679 - mse: 0.1228 - val_loss: 7.2230 - val_acc: 0.7105 - val_mse: 0.1432\n",
            "Epoch 20/150\n",
            "1/1 [==============================] - 0s 30ms/step - loss: 7.1321 - acc: 0.7679 - mse: 0.1204 - val_loss: 7.2125 - val_acc: 0.6842 - val_mse: 0.1416\n",
            "Epoch 21/150\n",
            "1/1 [==============================] - 0s 54ms/step - loss: 7.1192 - acc: 0.7679 - mse: 0.1182 - val_loss: 7.2021 - val_acc: 0.7105 - val_mse: 0.1400\n",
            "Epoch 22/150\n",
            "1/1 [==============================] - 0s 29ms/step - loss: 7.1067 - acc: 0.7857 - mse: 0.1160 - val_loss: 7.1922 - val_acc: 0.7105 - val_mse: 0.1385\n",
            "Epoch 23/150\n",
            "1/1 [==============================] - 0s 31ms/step - loss: 7.0948 - acc: 0.7946 - mse: 0.1140 - val_loss: 7.1824 - val_acc: 0.7105 - val_mse: 0.1371\n",
            "Epoch 24/150\n",
            "1/1 [==============================] - 0s 39ms/step - loss: 7.0833 - acc: 0.8036 - mse: 0.1122 - val_loss: 7.1729 - val_acc: 0.7105 - val_mse: 0.1358\n",
            "Epoch 25/150\n",
            "1/1 [==============================] - 0s 34ms/step - loss: 7.0721 - acc: 0.8036 - mse: 0.1104 - val_loss: 7.1636 - val_acc: 0.7105 - val_mse: 0.1345\n",
            "Epoch 26/150\n",
            "1/1 [==============================] - 0s 35ms/step - loss: 7.0613 - acc: 0.8036 - mse: 0.1087 - val_loss: 7.1546 - val_acc: 0.7105 - val_mse: 0.1333\n",
            "Epoch 27/150\n",
            "1/1 [==============================] - 0s 35ms/step - loss: 7.0508 - acc: 0.8036 - mse: 0.1071 - val_loss: 7.1458 - val_acc: 0.7105 - val_mse: 0.1322\n",
            "Epoch 28/150\n",
            "1/1 [==============================] - 0s 27ms/step - loss: 7.0406 - acc: 0.8036 - mse: 0.1055 - val_loss: 7.1373 - val_acc: 0.7105 - val_mse: 0.1311\n",
            "Epoch 29/150\n",
            "1/1 [==============================] - 0s 38ms/step - loss: 7.0308 - acc: 0.8125 - mse: 0.1041 - val_loss: 7.1289 - val_acc: 0.7105 - val_mse: 0.1300\n",
            "Epoch 30/150\n",
            "1/1 [==============================] - 0s 37ms/step - loss: 7.0212 - acc: 0.8214 - mse: 0.1027 - val_loss: 7.1208 - val_acc: 0.7105 - val_mse: 0.1290\n",
            "Epoch 31/150\n",
            "1/1 [==============================] - 0s 30ms/step - loss: 7.0119 - acc: 0.8214 - mse: 0.1014 - val_loss: 7.1127 - val_acc: 0.7105 - val_mse: 0.1281\n",
            "Epoch 32/150\n",
            "1/1 [==============================] - 0s 27ms/step - loss: 7.0029 - acc: 0.8214 - mse: 0.1001 - val_loss: 7.1049 - val_acc: 0.7105 - val_mse: 0.1271\n",
            "Epoch 33/150\n",
            "1/1 [==============================] - 0s 32ms/step - loss: 6.9940 - acc: 0.8214 - mse: 0.0989 - val_loss: 7.0971 - val_acc: 0.7105 - val_mse: 0.1262\n",
            "Epoch 34/150\n",
            "1/1 [==============================] - 0s 30ms/step - loss: 6.9854 - acc: 0.8214 - mse: 0.0978 - val_loss: 7.0895 - val_acc: 0.7105 - val_mse: 0.1254\n",
            "Epoch 35/150\n",
            "1/1 [==============================] - 0s 50ms/step - loss: 6.9771 - acc: 0.8214 - mse: 0.0967 - val_loss: 7.0821 - val_acc: 0.7105 - val_mse: 0.1245\n",
            "Epoch 36/150\n",
            "1/1 [==============================] - 0s 30ms/step - loss: 6.9688 - acc: 0.8214 - mse: 0.0956 - val_loss: 7.0747 - val_acc: 0.7105 - val_mse: 0.1237\n",
            "Epoch 37/150\n",
            "1/1 [==============================] - 0s 33ms/step - loss: 6.9608 - acc: 0.8214 - mse: 0.0946 - val_loss: 7.0675 - val_acc: 0.7105 - val_mse: 0.1229\n",
            "Epoch 38/150\n",
            "1/1 [==============================] - 0s 37ms/step - loss: 6.9529 - acc: 0.8214 - mse: 0.0936 - val_loss: 7.0604 - val_acc: 0.7105 - val_mse: 0.1222\n",
            "Epoch 39/150\n",
            "1/1 [==============================] - 0s 30ms/step - loss: 6.9452 - acc: 0.8214 - mse: 0.0926 - val_loss: 7.0534 - val_acc: 0.7105 - val_mse: 0.1214\n",
            "Epoch 40/150\n",
            "1/1 [==============================] - 0s 30ms/step - loss: 6.9376 - acc: 0.8214 - mse: 0.0916 - val_loss: 7.0464 - val_acc: 0.7105 - val_mse: 0.1207\n",
            "Epoch 41/150\n",
            "1/1 [==============================] - 0s 28ms/step - loss: 6.9301 - acc: 0.8304 - mse: 0.0907 - val_loss: 7.0395 - val_acc: 0.7105 - val_mse: 0.1199\n",
            "Epoch 42/150\n",
            "1/1 [==============================] - 0s 28ms/step - loss: 6.9227 - acc: 0.8304 - mse: 0.0898 - val_loss: 7.0327 - val_acc: 0.7105 - val_mse: 0.1192\n",
            "Epoch 43/150\n",
            "1/1 [==============================] - 0s 37ms/step - loss: 6.9154 - acc: 0.8304 - mse: 0.0890 - val_loss: 7.0260 - val_acc: 0.7105 - val_mse: 0.1185\n",
            "Epoch 44/150\n",
            "1/1 [==============================] - 0s 29ms/step - loss: 6.9083 - acc: 0.8304 - mse: 0.0881 - val_loss: 7.0193 - val_acc: 0.7105 - val_mse: 0.1178\n",
            "Epoch 45/150\n",
            "1/1 [==============================] - 0s 50ms/step - loss: 6.9012 - acc: 0.8304 - mse: 0.0873 - val_loss: 7.0127 - val_acc: 0.7105 - val_mse: 0.1171\n",
            "Epoch 46/150\n",
            "1/1 [==============================] - 0s 32ms/step - loss: 6.8943 - acc: 0.8304 - mse: 0.0865 - val_loss: 7.0061 - val_acc: 0.7105 - val_mse: 0.1164\n",
            "Epoch 47/150\n",
            "1/1 [==============================] - 0s 33ms/step - loss: 6.8875 - acc: 0.8393 - mse: 0.0857 - val_loss: 6.9996 - val_acc: 0.7368 - val_mse: 0.1158\n",
            "Epoch 48/150\n",
            "1/1 [==============================] - 0s 33ms/step - loss: 6.8808 - acc: 0.8393 - mse: 0.0849 - val_loss: 6.9931 - val_acc: 0.7368 - val_mse: 0.1151\n",
            "Epoch 49/150\n",
            "1/1 [==============================] - 0s 27ms/step - loss: 6.8742 - acc: 0.8393 - mse: 0.0842 - val_loss: 6.9867 - val_acc: 0.7368 - val_mse: 0.1144\n",
            "Epoch 50/150\n",
            "1/1 [==============================] - 0s 34ms/step - loss: 6.8677 - acc: 0.8482 - mse: 0.0834 - val_loss: 6.9803 - val_acc: 0.7368 - val_mse: 0.1138\n",
            "Epoch 51/150\n",
            "1/1 [==============================] - 0s 39ms/step - loss: 6.8612 - acc: 0.8482 - mse: 0.0827 - val_loss: 6.9740 - val_acc: 0.7368 - val_mse: 0.1131\n",
            "Epoch 52/150\n",
            "1/1 [==============================] - 0s 33ms/step - loss: 6.8548 - acc: 0.8482 - mse: 0.0820 - val_loss: 6.9678 - val_acc: 0.7368 - val_mse: 0.1125\n",
            "Epoch 53/150\n",
            "1/1 [==============================] - 0s 31ms/step - loss: 6.8485 - acc: 0.8482 - mse: 0.0813 - val_loss: 6.9616 - val_acc: 0.7368 - val_mse: 0.1119\n",
            "Epoch 54/150\n",
            "1/1 [==============================] - 0s 31ms/step - loss: 6.8423 - acc: 0.8482 - mse: 0.0806 - val_loss: 6.9555 - val_acc: 0.7368 - val_mse: 0.1112\n",
            "Epoch 55/150\n",
            "1/1 [==============================] - 0s 36ms/step - loss: 6.8361 - acc: 0.8571 - mse: 0.0799 - val_loss: 6.9494 - val_acc: 0.7368 - val_mse: 0.1106\n",
            "Epoch 56/150\n",
            "1/1 [==============================] - 0s 31ms/step - loss: 6.8300 - acc: 0.8571 - mse: 0.0792 - val_loss: 6.9434 - val_acc: 0.7368 - val_mse: 0.1100\n",
            "Epoch 57/150\n",
            "1/1 [==============================] - 0s 33ms/step - loss: 6.8239 - acc: 0.8571 - mse: 0.0786 - val_loss: 6.9375 - val_acc: 0.7368 - val_mse: 0.1094\n",
            "Epoch 58/150\n",
            "1/1 [==============================] - 0s 29ms/step - loss: 6.8180 - acc: 0.8571 - mse: 0.0779 - val_loss: 6.9317 - val_acc: 0.7368 - val_mse: 0.1088\n",
            "Epoch 59/150\n",
            "1/1 [==============================] - 0s 31ms/step - loss: 6.8121 - acc: 0.8571 - mse: 0.0773 - val_loss: 6.9258 - val_acc: 0.7368 - val_mse: 0.1082\n",
            "Epoch 60/150\n",
            "1/1 [==============================] - 0s 32ms/step - loss: 6.8062 - acc: 0.8571 - mse: 0.0766 - val_loss: 6.9201 - val_acc: 0.7368 - val_mse: 0.1077\n",
            "Epoch 61/150\n",
            "1/1 [==============================] - 0s 28ms/step - loss: 6.8004 - acc: 0.8571 - mse: 0.0760 - val_loss: 6.9143 - val_acc: 0.7368 - val_mse: 0.1071\n",
            "Epoch 62/150\n",
            "1/1 [==============================] - 0s 32ms/step - loss: 6.7946 - acc: 0.8571 - mse: 0.0754 - val_loss: 6.9085 - val_acc: 0.7368 - val_mse: 0.1065\n",
            "Epoch 63/150\n",
            "1/1 [==============================] - 0s 29ms/step - loss: 6.7889 - acc: 0.8571 - mse: 0.0747 - val_loss: 6.9027 - val_acc: 0.7368 - val_mse: 0.1059\n",
            "Epoch 64/150\n",
            "1/1 [==============================] - 0s 31ms/step - loss: 6.7832 - acc: 0.8571 - mse: 0.0741 - val_loss: 6.8970 - val_acc: 0.7368 - val_mse: 0.1053\n",
            "Epoch 65/150\n",
            "1/1 [==============================] - 0s 32ms/step - loss: 6.7775 - acc: 0.8571 - mse: 0.0735 - val_loss: 6.8914 - val_acc: 0.7368 - val_mse: 0.1047\n",
            "Epoch 66/150\n",
            "1/1 [==============================] - 0s 27ms/step - loss: 6.7719 - acc: 0.8661 - mse: 0.0729 - val_loss: 6.8859 - val_acc: 0.7368 - val_mse: 0.1042\n",
            "Epoch 67/150\n",
            "1/1 [==============================] - 0s 29ms/step - loss: 6.7664 - acc: 0.8661 - mse: 0.0723 - val_loss: 6.8803 - val_acc: 0.7632 - val_mse: 0.1036\n",
            "Epoch 68/150\n",
            "1/1 [==============================] - 0s 39ms/step - loss: 6.7608 - acc: 0.8661 - mse: 0.0717 - val_loss: 6.8748 - val_acc: 0.7632 - val_mse: 0.1031\n",
            "Epoch 69/150\n",
            "1/1 [==============================] - 0s 34ms/step - loss: 6.7553 - acc: 0.8661 - mse: 0.0711 - val_loss: 6.8693 - val_acc: 0.7632 - val_mse: 0.1025\n",
            "Epoch 70/150\n",
            "1/1 [==============================] - 0s 33ms/step - loss: 6.7498 - acc: 0.8661 - mse: 0.0705 - val_loss: 6.8639 - val_acc: 0.7632 - val_mse: 0.1020\n",
            "Epoch 71/150\n",
            "1/1 [==============================] - 0s 31ms/step - loss: 6.7443 - acc: 0.8661 - mse: 0.0699 - val_loss: 6.8586 - val_acc: 0.7895 - val_mse: 0.1014\n",
            "Epoch 72/150\n",
            "1/1 [==============================] - 0s 32ms/step - loss: 6.7389 - acc: 0.8661 - mse: 0.0693 - val_loss: 6.8533 - val_acc: 0.7895 - val_mse: 0.1009\n",
            "Epoch 73/150\n",
            "1/1 [==============================] - 0s 34ms/step - loss: 6.7335 - acc: 0.8661 - mse: 0.0687 - val_loss: 6.8480 - val_acc: 0.7895 - val_mse: 0.1004\n",
            "Epoch 74/150\n",
            "1/1 [==============================] - 0s 38ms/step - loss: 6.7282 - acc: 0.8661 - mse: 0.0681 - val_loss: 6.8428 - val_acc: 0.7895 - val_mse: 0.0999\n",
            "Epoch 75/150\n",
            "1/1 [==============================] - 0s 40ms/step - loss: 6.7229 - acc: 0.8661 - mse: 0.0675 - val_loss: 6.8377 - val_acc: 0.7895 - val_mse: 0.0994\n",
            "Epoch 76/150\n",
            "1/1 [==============================] - 0s 38ms/step - loss: 6.7177 - acc: 0.8661 - mse: 0.0670 - val_loss: 6.8325 - val_acc: 0.7895 - val_mse: 0.0989\n",
            "Epoch 77/150\n",
            "1/1 [==============================] - 0s 36ms/step - loss: 6.7125 - acc: 0.8661 - mse: 0.0664 - val_loss: 6.8274 - val_acc: 0.7895 - val_mse: 0.0984\n",
            "Epoch 78/150\n",
            "1/1 [==============================] - 0s 43ms/step - loss: 6.7074 - acc: 0.8661 - mse: 0.0659 - val_loss: 6.8223 - val_acc: 0.7895 - val_mse: 0.0979\n",
            "Epoch 79/150\n",
            "1/1 [==============================] - 0s 31ms/step - loss: 6.7023 - acc: 0.8839 - mse: 0.0653 - val_loss: 6.8173 - val_acc: 0.7895 - val_mse: 0.0974\n",
            "Epoch 80/150\n",
            "1/1 [==============================] - 0s 33ms/step - loss: 6.6972 - acc: 0.8839 - mse: 0.0648 - val_loss: 6.8123 - val_acc: 0.7895 - val_mse: 0.0969\n",
            "Epoch 81/150\n",
            "1/1 [==============================] - 0s 36ms/step - loss: 6.6922 - acc: 0.8929 - mse: 0.0643 - val_loss: 6.8073 - val_acc: 0.7895 - val_mse: 0.0964\n",
            "Epoch 82/150\n",
            "1/1 [==============================] - 0s 36ms/step - loss: 6.6872 - acc: 0.8929 - mse: 0.0637 - val_loss: 6.8023 - val_acc: 0.7895 - val_mse: 0.0960\n",
            "Epoch 83/150\n",
            "1/1 [==============================] - 0s 33ms/step - loss: 6.6823 - acc: 0.8929 - mse: 0.0632 - val_loss: 6.7974 - val_acc: 0.7895 - val_mse: 0.0955\n",
            "Epoch 84/150\n",
            "1/1 [==============================] - 0s 32ms/step - loss: 6.6773 - acc: 0.8929 - mse: 0.0627 - val_loss: 6.7924 - val_acc: 0.7632 - val_mse: 0.0950\n",
            "Epoch 85/150\n",
            "1/1 [==============================] - 0s 35ms/step - loss: 6.6724 - acc: 0.8929 - mse: 0.0622 - val_loss: 6.7875 - val_acc: 0.7632 - val_mse: 0.0946\n",
            "Epoch 86/150\n",
            "1/1 [==============================] - 0s 34ms/step - loss: 6.6675 - acc: 0.8929 - mse: 0.0617 - val_loss: 6.7827 - val_acc: 0.7632 - val_mse: 0.0941\n",
            "Epoch 87/150\n",
            "1/1 [==============================] - 0s 58ms/step - loss: 6.6626 - acc: 0.8929 - mse: 0.0612 - val_loss: 6.7778 - val_acc: 0.7632 - val_mse: 0.0936\n",
            "Epoch 88/150\n",
            "1/1 [==============================] - 0s 36ms/step - loss: 6.6578 - acc: 0.8929 - mse: 0.0607 - val_loss: 6.7730 - val_acc: 0.7632 - val_mse: 0.0932\n",
            "Epoch 89/150\n",
            "1/1 [==============================] - 0s 32ms/step - loss: 6.6529 - acc: 0.8929 - mse: 0.0602 - val_loss: 6.7682 - val_acc: 0.7632 - val_mse: 0.0927\n",
            "Epoch 90/150\n",
            "1/1 [==============================] - 0s 40ms/step - loss: 6.6481 - acc: 0.8929 - mse: 0.0597 - val_loss: 6.7635 - val_acc: 0.7632 - val_mse: 0.0923\n",
            "Epoch 91/150\n",
            "1/1 [==============================] - 0s 29ms/step - loss: 6.6433 - acc: 0.8929 - mse: 0.0592 - val_loss: 6.7588 - val_acc: 0.7632 - val_mse: 0.0918\n",
            "Epoch 92/150\n",
            "1/1 [==============================] - 0s 39ms/step - loss: 6.6385 - acc: 0.8929 - mse: 0.0587 - val_loss: 6.7541 - val_acc: 0.7632 - val_mse: 0.0914\n",
            "Epoch 93/150\n",
            "1/1 [==============================] - 0s 33ms/step - loss: 6.6338 - acc: 0.8929 - mse: 0.0582 - val_loss: 6.7495 - val_acc: 0.7632 - val_mse: 0.0910\n",
            "Epoch 94/150\n",
            "1/1 [==============================] - 0s 31ms/step - loss: 6.6291 - acc: 0.8929 - mse: 0.0577 - val_loss: 6.7449 - val_acc: 0.7632 - val_mse: 0.0906\n",
            "Epoch 95/150\n",
            "1/1 [==============================] - 0s 32ms/step - loss: 6.6245 - acc: 0.9018 - mse: 0.0573 - val_loss: 6.7403 - val_acc: 0.7632 - val_mse: 0.0902\n",
            "Epoch 96/150\n",
            "1/1 [==============================] - 0s 28ms/step - loss: 6.6199 - acc: 0.9018 - mse: 0.0568 - val_loss: 6.7358 - val_acc: 0.7632 - val_mse: 0.0898\n",
            "Epoch 97/150\n",
            "1/1 [==============================] - 0s 39ms/step - loss: 6.6153 - acc: 0.9018 - mse: 0.0563 - val_loss: 6.7313 - val_acc: 0.7632 - val_mse: 0.0894\n",
            "Epoch 98/150\n",
            "1/1 [==============================] - 0s 33ms/step - loss: 6.6107 - acc: 0.9018 - mse: 0.0559 - val_loss: 6.7269 - val_acc: 0.7632 - val_mse: 0.0890\n",
            "Epoch 99/150\n",
            "1/1 [==============================] - 0s 30ms/step - loss: 6.6062 - acc: 0.9018 - mse: 0.0555 - val_loss: 6.7224 - val_acc: 0.7632 - val_mse: 0.0886\n",
            "Epoch 100/150\n",
            "1/1 [==============================] - 0s 35ms/step - loss: 6.6017 - acc: 0.9018 - mse: 0.0550 - val_loss: 6.7180 - val_acc: 0.7632 - val_mse: 0.0882\n",
            "Epoch 101/150\n",
            "1/1 [==============================] - 0s 39ms/step - loss: 6.5973 - acc: 0.9018 - mse: 0.0546 - val_loss: 6.7137 - val_acc: 0.7632 - val_mse: 0.0879\n",
            "Epoch 102/150\n",
            "1/1 [==============================] - 0s 51ms/step - loss: 6.5928 - acc: 0.9018 - mse: 0.0542 - val_loss: 6.7094 - val_acc: 0.7632 - val_mse: 0.0875\n",
            "Epoch 103/150\n",
            "1/1 [==============================] - 0s 32ms/step - loss: 6.5884 - acc: 0.9018 - mse: 0.0538 - val_loss: 6.7051 - val_acc: 0.7632 - val_mse: 0.0872\n",
            "Epoch 104/150\n",
            "1/1 [==============================] - 0s 35ms/step - loss: 6.5841 - acc: 0.9018 - mse: 0.0534 - val_loss: 6.7008 - val_acc: 0.7632 - val_mse: 0.0868\n",
            "Epoch 105/150\n",
            "1/1 [==============================] - 0s 36ms/step - loss: 6.5797 - acc: 0.9018 - mse: 0.0529 - val_loss: 6.6965 - val_acc: 0.7632 - val_mse: 0.0865\n",
            "Epoch 106/150\n",
            "1/1 [==============================] - 0s 34ms/step - loss: 6.5754 - acc: 0.9107 - mse: 0.0526 - val_loss: 6.6923 - val_acc: 0.7632 - val_mse: 0.0861\n",
            "Epoch 107/150\n",
            "1/1 [==============================] - 0s 35ms/step - loss: 6.5711 - acc: 0.9107 - mse: 0.0522 - val_loss: 6.6881 - val_acc: 0.7632 - val_mse: 0.0858\n",
            "Epoch 108/150\n",
            "1/1 [==============================] - 0s 30ms/step - loss: 6.5668 - acc: 0.9107 - mse: 0.0518 - val_loss: 6.6840 - val_acc: 0.7632 - val_mse: 0.0855\n",
            "Epoch 109/150\n",
            "1/1 [==============================] - 0s 35ms/step - loss: 6.5626 - acc: 0.9107 - mse: 0.0514 - val_loss: 6.6798 - val_acc: 0.7895 - val_mse: 0.0851\n",
            "Epoch 110/150\n",
            "1/1 [==============================] - 0s 34ms/step - loss: 6.5583 - acc: 0.9196 - mse: 0.0510 - val_loss: 6.6757 - val_acc: 0.7895 - val_mse: 0.0848\n",
            "Epoch 111/150\n",
            "1/1 [==============================] - 0s 37ms/step - loss: 6.5541 - acc: 0.9196 - mse: 0.0506 - val_loss: 6.6715 - val_acc: 0.7895 - val_mse: 0.0844\n",
            "Epoch 112/150\n",
            "1/1 [==============================] - 0s 49ms/step - loss: 6.5499 - acc: 0.9196 - mse: 0.0503 - val_loss: 6.6674 - val_acc: 0.7895 - val_mse: 0.0841\n",
            "Epoch 113/150\n",
            "1/1 [==============================] - 0s 32ms/step - loss: 6.5458 - acc: 0.9196 - mse: 0.0499 - val_loss: 6.6633 - val_acc: 0.7895 - val_mse: 0.0838\n",
            "Epoch 114/150\n",
            "1/1 [==============================] - 0s 34ms/step - loss: 6.5416 - acc: 0.9196 - mse: 0.0495 - val_loss: 6.6593 - val_acc: 0.7895 - val_mse: 0.0835\n",
            "Epoch 115/150\n",
            "1/1 [==============================] - 0s 35ms/step - loss: 6.5375 - acc: 0.9196 - mse: 0.0492 - val_loss: 6.6552 - val_acc: 0.7895 - val_mse: 0.0832\n",
            "Epoch 116/150\n",
            "1/1 [==============================] - 0s 35ms/step - loss: 6.5334 - acc: 0.9196 - mse: 0.0488 - val_loss: 6.6512 - val_acc: 0.7895 - val_mse: 0.0829\n",
            "Epoch 117/150\n",
            "1/1 [==============================] - 0s 38ms/step - loss: 6.5293 - acc: 0.9196 - mse: 0.0484 - val_loss: 6.6473 - val_acc: 0.7895 - val_mse: 0.0825\n",
            "Epoch 118/150\n",
            "1/1 [==============================] - 0s 50ms/step - loss: 6.5252 - acc: 0.9196 - mse: 0.0481 - val_loss: 6.6433 - val_acc: 0.7895 - val_mse: 0.0823\n",
            "Epoch 119/150\n",
            "1/1 [==============================] - 0s 30ms/step - loss: 6.5212 - acc: 0.9196 - mse: 0.0478 - val_loss: 6.6394 - val_acc: 0.7895 - val_mse: 0.0820\n",
            "Epoch 120/150\n",
            "1/1 [==============================] - 0s 32ms/step - loss: 6.5172 - acc: 0.9196 - mse: 0.0474 - val_loss: 6.6355 - val_acc: 0.7895 - val_mse: 0.0817\n",
            "Epoch 121/150\n",
            "1/1 [==============================] - 0s 34ms/step - loss: 6.5132 - acc: 0.9196 - mse: 0.0471 - val_loss: 6.6316 - val_acc: 0.7895 - val_mse: 0.0814\n",
            "Epoch 122/150\n",
            "1/1 [==============================] - 0s 33ms/step - loss: 6.5092 - acc: 0.9196 - mse: 0.0468 - val_loss: 6.6278 - val_acc: 0.7895 - val_mse: 0.0811\n",
            "Epoch 123/150\n",
            "1/1 [==============================] - 0s 40ms/step - loss: 6.5053 - acc: 0.9196 - mse: 0.0464 - val_loss: 6.6239 - val_acc: 0.7895 - val_mse: 0.0808\n",
            "Epoch 124/150\n",
            "1/1 [==============================] - 0s 35ms/step - loss: 6.5013 - acc: 0.9196 - mse: 0.0461 - val_loss: 6.6200 - val_acc: 0.7895 - val_mse: 0.0805\n",
            "Epoch 125/150\n",
            "1/1 [==============================] - 0s 41ms/step - loss: 6.4974 - acc: 0.9196 - mse: 0.0458 - val_loss: 6.6161 - val_acc: 0.7895 - val_mse: 0.0802\n",
            "Epoch 126/150\n",
            "1/1 [==============================] - 0s 40ms/step - loss: 6.4935 - acc: 0.9196 - mse: 0.0455 - val_loss: 6.6123 - val_acc: 0.7895 - val_mse: 0.0800\n",
            "Epoch 127/150\n",
            "1/1 [==============================] - 0s 37ms/step - loss: 6.4897 - acc: 0.9196 - mse: 0.0452 - val_loss: 6.6084 - val_acc: 0.7895 - val_mse: 0.0797\n",
            "Epoch 128/150\n",
            "1/1 [==============================] - 0s 37ms/step - loss: 6.4858 - acc: 0.9196 - mse: 0.0449 - val_loss: 6.6046 - val_acc: 0.7895 - val_mse: 0.0794\n",
            "Epoch 129/150\n",
            "1/1 [==============================] - 0s 41ms/step - loss: 6.4820 - acc: 0.9196 - mse: 0.0446 - val_loss: 6.6007 - val_acc: 0.7895 - val_mse: 0.0791\n",
            "Epoch 130/150\n",
            "1/1 [==============================] - 0s 32ms/step - loss: 6.4781 - acc: 0.9286 - mse: 0.0443 - val_loss: 6.5969 - val_acc: 0.7895 - val_mse: 0.0788\n",
            "Epoch 131/150\n",
            "1/1 [==============================] - 0s 35ms/step - loss: 6.4743 - acc: 0.9286 - mse: 0.0440 - val_loss: 6.5930 - val_acc: 0.7895 - val_mse: 0.0785\n",
            "Epoch 132/150\n",
            "1/1 [==============================] - 0s 35ms/step - loss: 6.4705 - acc: 0.9286 - mse: 0.0437 - val_loss: 6.5892 - val_acc: 0.7895 - val_mse: 0.0782\n",
            "Epoch 133/150\n",
            "1/1 [==============================] - 0s 31ms/step - loss: 6.4667 - acc: 0.9286 - mse: 0.0434 - val_loss: 6.5853 - val_acc: 0.7895 - val_mse: 0.0779\n",
            "Epoch 134/150\n",
            "1/1 [==============================] - 0s 37ms/step - loss: 6.4629 - acc: 0.9286 - mse: 0.0431 - val_loss: 6.5815 - val_acc: 0.7895 - val_mse: 0.0776\n",
            "Epoch 135/150\n",
            "1/1 [==============================] - 0s 34ms/step - loss: 6.4592 - acc: 0.9286 - mse: 0.0428 - val_loss: 6.5777 - val_acc: 0.7895 - val_mse: 0.0773\n",
            "Epoch 136/150\n",
            "1/1 [==============================] - 0s 42ms/step - loss: 6.4554 - acc: 0.9286 - mse: 0.0425 - val_loss: 6.5739 - val_acc: 0.7895 - val_mse: 0.0770\n",
            "Epoch 137/150\n",
            "1/1 [==============================] - 0s 37ms/step - loss: 6.4517 - acc: 0.9286 - mse: 0.0422 - val_loss: 6.5702 - val_acc: 0.7895 - val_mse: 0.0768\n",
            "Epoch 138/150\n",
            "1/1 [==============================] - 0s 36ms/step - loss: 6.4480 - acc: 0.9286 - mse: 0.0420 - val_loss: 6.5664 - val_acc: 0.7895 - val_mse: 0.0765\n",
            "Epoch 139/150\n",
            "1/1 [==============================] - 0s 31ms/step - loss: 6.4443 - acc: 0.9375 - mse: 0.0417 - val_loss: 6.5627 - val_acc: 0.7895 - val_mse: 0.0762\n",
            "Epoch 140/150\n",
            "1/1 [==============================] - 0s 36ms/step - loss: 6.4406 - acc: 0.9375 - mse: 0.0414 - val_loss: 6.5590 - val_acc: 0.7895 - val_mse: 0.0759\n",
            "Epoch 141/150\n",
            "1/1 [==============================] - 0s 35ms/step - loss: 6.4370 - acc: 0.9375 - mse: 0.0412 - val_loss: 6.5553 - val_acc: 0.7895 - val_mse: 0.0757\n",
            "Epoch 142/150\n",
            "1/1 [==============================] - 0s 53ms/step - loss: 6.4333 - acc: 0.9375 - mse: 0.0409 - val_loss: 6.5517 - val_acc: 0.7895 - val_mse: 0.0754\n",
            "Epoch 143/150\n",
            "1/1 [==============================] - 0s 31ms/step - loss: 6.4297 - acc: 0.9375 - mse: 0.0406 - val_loss: 6.5480 - val_acc: 0.7895 - val_mse: 0.0752\n",
            "Epoch 144/150\n",
            "1/1 [==============================] - 0s 52ms/step - loss: 6.4260 - acc: 0.9375 - mse: 0.0404 - val_loss: 6.5444 - val_acc: 0.7895 - val_mse: 0.0749\n",
            "Epoch 145/150\n",
            "1/1 [==============================] - 0s 35ms/step - loss: 6.4224 - acc: 0.9375 - mse: 0.0401 - val_loss: 6.5407 - val_acc: 0.7895 - val_mse: 0.0746\n",
            "Epoch 146/150\n",
            "1/1 [==============================] - 0s 34ms/step - loss: 6.4188 - acc: 0.9375 - mse: 0.0399 - val_loss: 6.5371 - val_acc: 0.7895 - val_mse: 0.0744\n",
            "Epoch 147/150\n",
            "1/1 [==============================] - 0s 34ms/step - loss: 6.4153 - acc: 0.9375 - mse: 0.0396 - val_loss: 6.5335 - val_acc: 0.8158 - val_mse: 0.0741\n",
            "Epoch 148/150\n",
            "1/1 [==============================] - 0s 37ms/step - loss: 6.4117 - acc: 0.9375 - mse: 0.0394 - val_loss: 6.5298 - val_acc: 0.8158 - val_mse: 0.0739\n",
            "Epoch 149/150\n",
            "1/1 [==============================] - 0s 31ms/step - loss: 6.4081 - acc: 0.9375 - mse: 0.0391 - val_loss: 6.5263 - val_acc: 0.8158 - val_mse: 0.0736\n",
            "Epoch 150/150\n",
            "1/1 [==============================] - 0s 38ms/step - loss: 6.4046 - acc: 0.9375 - mse: 0.0389 - val_loss: 6.5227 - val_acc: 0.8158 - val_mse: 0.0734\n"
          ]
        }
      ]
    },
    {
      "cell_type": "code",
      "metadata": {
        "id": "Bdw5VOR5MWFA",
        "colab": {
          "base_uri": "https://localhost:8080/"
        },
        "outputId": "3dde525f-9a9a-49b0-e7be-6dae4bcf1eff"
      },
      "source": [
        "\n",
        "#just how we used evaluate() in the basic model previously, use it again to find the loss, accuracy and MSE on the test set\n",
        "\n",
        "loss5, acc5, mse5 = model5.evaluate(X_test,y_test)\n"
      ],
      "execution_count": 399,
      "outputs": [
        {
          "output_type": "stream",
          "name": "stdout",
          "text": [
            "2/2 [==============================] - 0s 5ms/step - loss: 6.5227 - acc: 0.8158 - mse: 0.0734\n"
          ]
        }
      ]
    },
    {
      "cell_type": "code",
      "metadata": {
        "id": "gBpJ8231MWFB",
        "colab": {
          "base_uri": "https://localhost:8080/",
          "height": 581
        },
        "outputId": "4bdfbf5c-1dfb-4d09-8ac0-0ccade1c31bc"
      },
      "source": [
        "# Plot the train loss vs validation loss and train accuracy vs validation accuracy graphs just like we did before\n",
        "\n",
        "plt.style.use('ggplot')\n",
        "plt.plot(hist5.history['loss'], label = 'loss')\n",
        "plt.plot(hist5.history['val_loss'], label='val loss')\n",
        "plt.title(\"Train Loss vs Val_Loss\")\n",
        "plt.xlabel(\"Epochs\")\n",
        "plt.ylabel(\"Loss\")\n",
        "plt.legend()\n",
        "plt.show()\n",
        "\n",
        "# we observe that validation loss is increasing as compared to training loss. \n",
        "# This increase in training loss shows that our model is overfitted.\n",
        "\n",
        "#similarly we plot for model accuracy \n",
        "plt.plot(hist5.history['acc'], label = 'train acc')\n",
        "plt.plot(hist5.history['val_acc'], label='val acc')\n",
        "plt.title(\"train acc vs Val_acc\")\n",
        "plt.xlabel(\"Epochs\")\n",
        "plt.ylabel(\"acc\")\n",
        "plt.legend()\n",
        "plt.show()\n",
        "\n"
      ],
      "execution_count": 400,
      "outputs": [
        {
          "output_type": "display_data",
          "data": {
            "image/png": "[encoded data removed]",
            "text/plain": [
              "<Figure size 432x288 with 1 Axes>"
            ]
          },
          "metadata": {}
        },
        {
          "output_type": "display_data",
          "data": {
            "image/png": "[encoded data removed]",
            "text/plain": [
              "<Figure size 432x288 with 1 Axes>"
            ]
          },
          "metadata": {}
        }
      ]
    },
    {
      "cell_type": "markdown",
      "metadata": {
        "id": "PcUQtuXyMWFB"
      },
      "source": [
        "\n",
        " \n",
        "\n",
        "## Dropout\n",
        " \n"
      ]
    },
    {
      "cell_type": "code",
      "metadata": {
        "id": "B0xvXM5eMWFC",
        "colab": {
          "base_uri": "https://localhost:8080/"
        },
        "outputId": "0936f06d-35ca-41db-b77f-201011266cb0"
      },
      "source": [
        "\n",
        "#Another common way to avoid regularization is by using the Dropout technique. The main idea behind using dropout is that we randomly turn off some neurons in our layer based on some probability.\n",
        "\n",
        "# Create a model6 having same layers as the basic model. Add a dropout layer in this model, lets say after the 1st dense layer, and set dropout rate as 50%\n",
        "import tensorflow as tf\n",
        "\n",
        "model6 = Sequential([\n",
        "    Dense(512, activation='tanh', input_shape = X_train[0].shape),\n",
        "    Dropout(0.5),\n",
        "    Dense(512//2, activation='tanh'),\n",
        "    Dense(512//4, activation='tanh'),\n",
        "    Dense(512//8, activation='tanh'),\n",
        "    Dense(32, activation='relu'),\n",
        "    Dense(3, activation='softmax')\n",
        "])\n",
        "\n",
        "model6.compile(optimizer='sgd',loss='categorical_crossentropy', metrics=['acc', 'mse'])\n",
        "\n",
        "hist6 = model6.fit(X_train, y_train, epochs=150, batch_size=128, validation_data=(X_test,y_test))\n"
      ],
      "execution_count": 401,
      "outputs": [
        {
          "output_type": "stream",
          "name": "stdout",
          "text": [
            "Epoch 1/150\n",
            "1/1 [==============================] - 1s 613ms/step - loss: 1.2091 - acc: 0.3304 - mse: 0.2413 - val_loss: 1.0948 - val_acc: 0.4474 - val_mse: 0.2208\n",
            "Epoch 2/150\n",
            "1/1 [==============================] - 0s 29ms/step - loss: 1.1629 - acc: 0.3750 - mse: 0.2329 - val_loss: 1.0471 - val_acc: 0.5000 - val_mse: 0.2102\n",
            "Epoch 3/150\n",
            "1/1 [==============================] - 0s 27ms/step - loss: 1.0802 - acc: 0.4018 - mse: 0.2169 - val_loss: 1.0061 - val_acc: 0.5263 - val_mse: 0.2010\n",
            "Epoch 4/150\n",
            "1/1 [==============================] - 0s 25ms/step - loss: 1.0486 - acc: 0.4286 - mse: 0.2093 - val_loss: 0.9725 - val_acc: 0.5263 - val_mse: 0.1935\n",
            "Epoch 5/150\n",
            "1/1 [==============================] - 0s 30ms/step - loss: 1.0058 - acc: 0.4643 - mse: 0.2007 - val_loss: 0.9412 - val_acc: 0.5263 - val_mse: 0.1863\n",
            "Epoch 6/150\n",
            "1/1 [==============================] - 0s 26ms/step - loss: 0.9656 - acc: 0.5268 - mse: 0.1916 - val_loss: 0.9143 - val_acc: 0.5526 - val_mse: 0.1802\n",
            "Epoch 7/150\n",
            "1/1 [==============================] - 0s 26ms/step - loss: 0.9451 - acc: 0.5357 - mse: 0.1871 - val_loss: 0.8880 - val_acc: 0.6053 - val_mse: 0.1742\n",
            "Epoch 8/150\n",
            "1/1 [==============================] - 0s 38ms/step - loss: 0.9167 - acc: 0.5625 - mse: 0.1809 - val_loss: 0.8654 - val_acc: 0.6053 - val_mse: 0.1690\n",
            "Epoch 9/150\n",
            "1/1 [==============================] - 0s 31ms/step - loss: 0.8821 - acc: 0.6250 - mse: 0.1734 - val_loss: 0.8450 - val_acc: 0.6053 - val_mse: 0.1644\n",
            "Epoch 10/150\n",
            "1/1 [==============================] - 0s 32ms/step - loss: 0.8784 - acc: 0.6071 - mse: 0.1722 - val_loss: 0.8253 - val_acc: 0.6053 - val_mse: 0.1600\n",
            "Epoch 11/150\n",
            "1/1 [==============================] - 0s 31ms/step - loss: 0.8466 - acc: 0.6696 - mse: 0.1653 - val_loss: 0.8067 - val_acc: 0.6053 - val_mse: 0.1557\n",
            "Epoch 12/150\n",
            "1/1 [==============================] - 0s 31ms/step - loss: 0.8255 - acc: 0.6696 - mse: 0.1605 - val_loss: 0.7890 - val_acc: 0.6053 - val_mse: 0.1518\n",
            "Epoch 13/150\n",
            "1/1 [==============================] - 0s 29ms/step - loss: 0.8259 - acc: 0.6607 - mse: 0.1607 - val_loss: 0.7722 - val_acc: 0.6316 - val_mse: 0.1481\n",
            "Epoch 14/150\n",
            "1/1 [==============================] - 0s 34ms/step - loss: 0.7930 - acc: 0.6696 - mse: 0.1533 - val_loss: 0.7572 - val_acc: 0.6579 - val_mse: 0.1449\n",
            "Epoch 15/150\n",
            "1/1 [==============================] - 0s 36ms/step - loss: 0.7711 - acc: 0.7411 - mse: 0.1482 - val_loss: 0.7430 - val_acc: 0.6579 - val_mse: 0.1419\n",
            "Epoch 16/150\n",
            "1/1 [==============================] - 0s 28ms/step - loss: 0.7582 - acc: 0.7411 - mse: 0.1451 - val_loss: 0.7295 - val_acc: 0.6842 - val_mse: 0.1391\n",
            "Epoch 17/150\n",
            "1/1 [==============================] - 0s 32ms/step - loss: 0.7451 - acc: 0.7589 - mse: 0.1424 - val_loss: 0.7170 - val_acc: 0.6842 - val_mse: 0.1366\n",
            "Epoch 18/150\n",
            "1/1 [==============================] - 0s 31ms/step - loss: 0.7318 - acc: 0.7589 - mse: 0.1398 - val_loss: 0.7057 - val_acc: 0.6842 - val_mse: 0.1344\n",
            "Epoch 19/150\n",
            "1/1 [==============================] - 0s 29ms/step - loss: 0.7097 - acc: 0.7411 - mse: 0.1350 - val_loss: 0.6951 - val_acc: 0.6842 - val_mse: 0.1323\n",
            "Epoch 20/150\n",
            "1/1 [==============================] - 0s 33ms/step - loss: 0.7041 - acc: 0.7857 - mse: 0.1337 - val_loss: 0.6851 - val_acc: 0.6842 - val_mse: 0.1304\n",
            "Epoch 21/150\n",
            "1/1 [==============================] - 0s 28ms/step - loss: 0.6994 - acc: 0.7768 - mse: 0.1329 - val_loss: 0.6756 - val_acc: 0.7105 - val_mse: 0.1287\n",
            "Epoch 22/150\n",
            "1/1 [==============================] - 0s 33ms/step - loss: 0.6849 - acc: 0.7679 - mse: 0.1302 - val_loss: 0.6670 - val_acc: 0.7105 - val_mse: 0.1271\n",
            "Epoch 23/150\n",
            "1/1 [==============================] - 0s 34ms/step - loss: 0.6654 - acc: 0.7857 - mse: 0.1258 - val_loss: 0.6588 - val_acc: 0.7105 - val_mse: 0.1257\n",
            "Epoch 24/150\n",
            "1/1 [==============================] - 0s 28ms/step - loss: 0.6711 - acc: 0.7411 - mse: 0.1276 - val_loss: 0.6509 - val_acc: 0.7105 - val_mse: 0.1243\n",
            "Epoch 25/150\n",
            "1/1 [==============================] - 0s 29ms/step - loss: 0.6616 - acc: 0.7857 - mse: 0.1253 - val_loss: 0.6435 - val_acc: 0.7105 - val_mse: 0.1230\n",
            "Epoch 26/150\n",
            "1/1 [==============================] - 0s 33ms/step - loss: 0.6491 - acc: 0.7589 - mse: 0.1231 - val_loss: 0.6366 - val_acc: 0.7105 - val_mse: 0.1219\n",
            "Epoch 27/150\n",
            "1/1 [==============================] - 0s 26ms/step - loss: 0.6358 - acc: 0.8214 - mse: 0.1202 - val_loss: 0.6302 - val_acc: 0.7105 - val_mse: 0.1208\n",
            "Epoch 28/150\n",
            "1/1 [==============================] - 0s 46ms/step - loss: 0.6229 - acc: 0.8393 - mse: 0.1171 - val_loss: 0.6240 - val_acc: 0.7105 - val_mse: 0.1198\n",
            "Epoch 29/150\n",
            "1/1 [==============================] - 0s 28ms/step - loss: 0.6178 - acc: 0.8304 - mse: 0.1166 - val_loss: 0.6182 - val_acc: 0.7105 - val_mse: 0.1188\n",
            "Epoch 30/150\n",
            "1/1 [==============================] - 0s 30ms/step - loss: 0.6120 - acc: 0.8036 - mse: 0.1151 - val_loss: 0.6126 - val_acc: 0.7105 - val_mse: 0.1179\n",
            "Epoch 31/150\n",
            "1/1 [==============================] - 0s 29ms/step - loss: 0.6046 - acc: 0.8036 - mse: 0.1139 - val_loss: 0.6073 - val_acc: 0.7105 - val_mse: 0.1171\n",
            "Epoch 32/150\n",
            "1/1 [==============================] - 0s 30ms/step - loss: 0.5902 - acc: 0.8304 - mse: 0.1106 - val_loss: 0.6021 - val_acc: 0.7105 - val_mse: 0.1163\n",
            "Epoch 33/150\n",
            "1/1 [==============================] - 0s 34ms/step - loss: 0.5898 - acc: 0.8036 - mse: 0.1107 - val_loss: 0.5974 - val_acc: 0.7105 - val_mse: 0.1155\n",
            "Epoch 34/150\n",
            "1/1 [==============================] - 0s 37ms/step - loss: 0.5845 - acc: 0.8125 - mse: 0.1109 - val_loss: 0.5930 - val_acc: 0.7105 - val_mse: 0.1149\n",
            "Epoch 35/150\n",
            "1/1 [==============================] - 0s 36ms/step - loss: 0.5730 - acc: 0.8304 - mse: 0.1077 - val_loss: 0.5888 - val_acc: 0.7105 - val_mse: 0.1142\n",
            "Epoch 36/150\n",
            "1/1 [==============================] - 0s 39ms/step - loss: 0.5706 - acc: 0.8393 - mse: 0.1070 - val_loss: 0.5845 - val_acc: 0.7105 - val_mse: 0.1136\n",
            "Epoch 37/150\n",
            "1/1 [==============================] - 0s 34ms/step - loss: 0.5695 - acc: 0.8214 - mse: 0.1073 - val_loss: 0.5804 - val_acc: 0.7105 - val_mse: 0.1130\n",
            "Epoch 38/150\n",
            "1/1 [==============================] - 0s 31ms/step - loss: 0.5527 - acc: 0.8482 - mse: 0.1033 - val_loss: 0.5766 - val_acc: 0.7105 - val_mse: 0.1124\n",
            "Epoch 39/150\n",
            "1/1 [==============================] - 0s 30ms/step - loss: 0.5543 - acc: 0.8036 - mse: 0.1051 - val_loss: 0.5729 - val_acc: 0.7105 - val_mse: 0.1119\n",
            "Epoch 40/150\n",
            "1/1 [==============================] - 0s 27ms/step - loss: 0.5385 - acc: 0.8393 - mse: 0.1008 - val_loss: 0.5692 - val_acc: 0.7105 - val_mse: 0.1113\n",
            "Epoch 41/150\n",
            "1/1 [==============================] - 0s 33ms/step - loss: 0.5449 - acc: 0.8214 - mse: 0.1028 - val_loss: 0.5659 - val_acc: 0.7105 - val_mse: 0.1108\n",
            "Epoch 42/150\n",
            "1/1 [==============================] - 0s 30ms/step - loss: 0.5383 - acc: 0.8304 - mse: 0.1012 - val_loss: 0.5625 - val_acc: 0.7105 - val_mse: 0.1104\n",
            "Epoch 43/150\n",
            "1/1 [==============================] - 0s 33ms/step - loss: 0.5277 - acc: 0.8393 - mse: 0.0986 - val_loss: 0.5593 - val_acc: 0.7105 - val_mse: 0.1099\n",
            "Epoch 44/150\n",
            "1/1 [==============================] - 0s 33ms/step - loss: 0.5181 - acc: 0.8482 - mse: 0.0962 - val_loss: 0.5561 - val_acc: 0.7105 - val_mse: 0.1095\n",
            "Epoch 45/150\n",
            "1/1 [==============================] - 0s 29ms/step - loss: 0.5231 - acc: 0.8393 - mse: 0.0980 - val_loss: 0.5529 - val_acc: 0.7105 - val_mse: 0.1090\n",
            "Epoch 46/150\n",
            "1/1 [==============================] - 0s 30ms/step - loss: 0.5228 - acc: 0.8214 - mse: 0.0984 - val_loss: 0.5501 - val_acc: 0.7105 - val_mse: 0.1086\n",
            "Epoch 47/150\n",
            "1/1 [==============================] - 0s 31ms/step - loss: 0.5155 - acc: 0.8571 - mse: 0.0968 - val_loss: 0.5471 - val_acc: 0.7105 - val_mse: 0.1082\n",
            "Epoch 48/150\n",
            "1/1 [==============================] - 0s 32ms/step - loss: 0.5001 - acc: 0.8571 - mse: 0.0931 - val_loss: 0.5444 - val_acc: 0.7105 - val_mse: 0.1079\n",
            "Epoch 49/150\n",
            "1/1 [==============================] - 0s 40ms/step - loss: 0.5022 - acc: 0.8571 - mse: 0.0942 - val_loss: 0.5419 - val_acc: 0.7105 - val_mse: 0.1075\n",
            "Epoch 50/150\n",
            "1/1 [==============================] - 0s 31ms/step - loss: 0.5082 - acc: 0.8214 - mse: 0.0956 - val_loss: 0.5394 - val_acc: 0.7105 - val_mse: 0.1072\n",
            "Epoch 51/150\n",
            "1/1 [==============================] - 0s 32ms/step - loss: 0.5028 - acc: 0.8304 - mse: 0.0948 - val_loss: 0.5368 - val_acc: 0.7105 - val_mse: 0.1069\n",
            "Epoch 52/150\n",
            "1/1 [==============================] - 0s 28ms/step - loss: 0.4888 - acc: 0.8393 - mse: 0.0919 - val_loss: 0.5344 - val_acc: 0.7105 - val_mse: 0.1066\n",
            "Epoch 53/150\n",
            "1/1 [==============================] - 0s 29ms/step - loss: 0.4947 - acc: 0.8304 - mse: 0.0926 - val_loss: 0.5320 - val_acc: 0.7105 - val_mse: 0.1063\n",
            "Epoch 54/150\n",
            "1/1 [==============================] - 0s 35ms/step - loss: 0.4860 - acc: 0.8571 - mse: 0.0901 - val_loss: 0.5297 - val_acc: 0.7368 - val_mse: 0.1060\n",
            "Epoch 55/150\n",
            "1/1 [==============================] - 0s 26ms/step - loss: 0.4884 - acc: 0.8125 - mse: 0.0924 - val_loss: 0.5274 - val_acc: 0.7368 - val_mse: 0.1057\n",
            "Epoch 56/150\n",
            "1/1 [==============================] - 0s 30ms/step - loss: 0.4740 - acc: 0.8571 - mse: 0.0883 - val_loss: 0.5254 - val_acc: 0.7368 - val_mse: 0.1055\n",
            "Epoch 57/150\n",
            "1/1 [==============================] - 0s 37ms/step - loss: 0.4714 - acc: 0.8304 - mse: 0.0886 - val_loss: 0.5233 - val_acc: 0.7368 - val_mse: 0.1052\n",
            "Epoch 58/150\n",
            "1/1 [==============================] - 0s 31ms/step - loss: 0.4700 - acc: 0.8571 - mse: 0.0881 - val_loss: 0.5213 - val_acc: 0.7368 - val_mse: 0.1050\n",
            "Epoch 59/150\n",
            "1/1 [==============================] - 0s 33ms/step - loss: 0.4663 - acc: 0.8661 - mse: 0.0878 - val_loss: 0.5193 - val_acc: 0.7368 - val_mse: 0.1047\n",
            "Epoch 60/150\n",
            "1/1 [==============================] - 0s 32ms/step - loss: 0.4614 - acc: 0.8571 - mse: 0.0860 - val_loss: 0.5173 - val_acc: 0.7368 - val_mse: 0.1045\n",
            "Epoch 61/150\n",
            "1/1 [==============================] - 0s 44ms/step - loss: 0.4588 - acc: 0.8661 - mse: 0.0857 - val_loss: 0.5155 - val_acc: 0.7368 - val_mse: 0.1043\n",
            "Epoch 62/150\n",
            "1/1 [==============================] - 0s 35ms/step - loss: 0.4587 - acc: 0.8571 - mse: 0.0854 - val_loss: 0.5133 - val_acc: 0.7368 - val_mse: 0.1040\n",
            "Epoch 63/150\n",
            "1/1 [==============================] - 0s 30ms/step - loss: 0.4592 - acc: 0.8482 - mse: 0.0860 - val_loss: 0.5115 - val_acc: 0.7632 - val_mse: 0.1038\n",
            "Epoch 64/150\n",
            "1/1 [==============================] - 0s 36ms/step - loss: 0.4492 - acc: 0.8571 - mse: 0.0845 - val_loss: 0.5097 - val_acc: 0.7632 - val_mse: 0.1035\n",
            "Epoch 65/150\n",
            "1/1 [==============================] - 0s 37ms/step - loss: 0.4436 - acc: 0.8482 - mse: 0.0827 - val_loss: 0.5078 - val_acc: 0.7368 - val_mse: 0.1033\n",
            "Epoch 66/150\n",
            "1/1 [==============================] - 0s 34ms/step - loss: 0.4518 - acc: 0.8393 - mse: 0.0853 - val_loss: 0.5060 - val_acc: 0.7368 - val_mse: 0.1030\n",
            "Epoch 67/150\n",
            "1/1 [==============================] - 0s 35ms/step - loss: 0.4448 - acc: 0.8393 - mse: 0.0836 - val_loss: 0.5045 - val_acc: 0.7368 - val_mse: 0.1029\n",
            "Epoch 68/150\n",
            "1/1 [==============================] - 0s 31ms/step - loss: 0.4421 - acc: 0.8482 - mse: 0.0829 - val_loss: 0.5029 - val_acc: 0.7368 - val_mse: 0.1027\n",
            "Epoch 69/150\n",
            "1/1 [==============================] - 0s 37ms/step - loss: 0.4390 - acc: 0.8571 - mse: 0.0824 - val_loss: 0.5013 - val_acc: 0.7368 - val_mse: 0.1025\n",
            "Epoch 70/150\n",
            "1/1 [==============================] - 0s 54ms/step - loss: 0.4422 - acc: 0.8482 - mse: 0.0832 - val_loss: 0.4996 - val_acc: 0.7368 - val_mse: 0.1023\n",
            "Epoch 71/150\n",
            "1/1 [==============================] - 0s 39ms/step - loss: 0.4320 - acc: 0.8571 - mse: 0.0809 - val_loss: 0.4979 - val_acc: 0.7368 - val_mse: 0.1020\n",
            "Epoch 72/150\n",
            "1/1 [==============================] - 0s 35ms/step - loss: 0.4304 - acc: 0.8482 - mse: 0.0809 - val_loss: 0.4964 - val_acc: 0.7368 - val_mse: 0.1019\n",
            "Epoch 73/150\n",
            "1/1 [==============================] - 0s 32ms/step - loss: 0.4356 - acc: 0.8571 - mse: 0.0819 - val_loss: 0.4949 - val_acc: 0.7368 - val_mse: 0.1017\n",
            "Epoch 74/150\n",
            "1/1 [==============================] - 0s 35ms/step - loss: 0.4176 - acc: 0.8571 - mse: 0.0772 - val_loss: 0.4931 - val_acc: 0.7368 - val_mse: 0.1014\n",
            "Epoch 75/150\n",
            "1/1 [==============================] - 0s 34ms/step - loss: 0.4248 - acc: 0.8571 - mse: 0.0803 - val_loss: 0.4918 - val_acc: 0.7368 - val_mse: 0.1013\n",
            "Epoch 76/150\n",
            "1/1 [==============================] - 0s 35ms/step - loss: 0.4136 - acc: 0.8661 - mse: 0.0768 - val_loss: 0.4905 - val_acc: 0.7368 - val_mse: 0.1011\n",
            "Epoch 77/150\n",
            "1/1 [==============================] - 0s 38ms/step - loss: 0.4101 - acc: 0.8750 - mse: 0.0757 - val_loss: 0.4891 - val_acc: 0.7368 - val_mse: 0.1010\n",
            "Epoch 78/150\n",
            "1/1 [==============================] - 0s 40ms/step - loss: 0.4093 - acc: 0.8661 - mse: 0.0757 - val_loss: 0.4876 - val_acc: 0.7368 - val_mse: 0.1007\n",
            "Epoch 79/150\n",
            "1/1 [==============================] - 0s 36ms/step - loss: 0.4120 - acc: 0.8661 - mse: 0.0771 - val_loss: 0.4863 - val_acc: 0.7368 - val_mse: 0.1006\n",
            "Epoch 80/150\n",
            "1/1 [==============================] - 0s 33ms/step - loss: 0.4044 - acc: 0.8661 - mse: 0.0752 - val_loss: 0.4849 - val_acc: 0.7368 - val_mse: 0.1004\n",
            "Epoch 81/150\n",
            "1/1 [==============================] - 0s 30ms/step - loss: 0.4083 - acc: 0.8571 - mse: 0.0766 - val_loss: 0.4834 - val_acc: 0.7368 - val_mse: 0.1002\n",
            "Epoch 82/150\n",
            "1/1 [==============================] - 0s 56ms/step - loss: 0.4044 - acc: 0.8571 - mse: 0.0757 - val_loss: 0.4822 - val_acc: 0.7368 - val_mse: 0.1000\n",
            "Epoch 83/150\n",
            "1/1 [==============================] - 0s 30ms/step - loss: 0.4063 - acc: 0.8571 - mse: 0.0759 - val_loss: 0.4809 - val_acc: 0.7368 - val_mse: 0.0999\n",
            "Epoch 84/150\n",
            "1/1 [==============================] - 0s 49ms/step - loss: 0.4006 - acc: 0.8750 - mse: 0.0747 - val_loss: 0.4796 - val_acc: 0.7368 - val_mse: 0.0997\n",
            "Epoch 85/150\n",
            "1/1 [==============================] - 0s 30ms/step - loss: 0.3992 - acc: 0.8661 - mse: 0.0745 - val_loss: 0.4783 - val_acc: 0.7368 - val_mse: 0.0995\n",
            "Epoch 86/150\n",
            "1/1 [==============================] - 0s 29ms/step - loss: 0.3897 - acc: 0.8571 - mse: 0.0720 - val_loss: 0.4768 - val_acc: 0.7368 - val_mse: 0.0993\n",
            "Epoch 87/150\n",
            "1/1 [==============================] - 0s 47ms/step - loss: 0.3814 - acc: 0.8661 - mse: 0.0699 - val_loss: 0.4754 - val_acc: 0.7368 - val_mse: 0.0991\n",
            "Epoch 88/150\n",
            "1/1 [==============================] - 0s 30ms/step - loss: 0.3919 - acc: 0.8571 - mse: 0.0726 - val_loss: 0.4740 - val_acc: 0.7368 - val_mse: 0.0989\n",
            "Epoch 89/150\n",
            "1/1 [==============================] - 0s 33ms/step - loss: 0.3822 - acc: 0.8750 - mse: 0.0705 - val_loss: 0.4729 - val_acc: 0.7368 - val_mse: 0.0988\n",
            "Epoch 90/150\n",
            "1/1 [==============================] - 0s 35ms/step - loss: 0.3904 - acc: 0.8661 - mse: 0.0729 - val_loss: 0.4717 - val_acc: 0.7368 - val_mse: 0.0986\n",
            "Epoch 91/150\n",
            "1/1 [==============================] - 0s 38ms/step - loss: 0.3869 - acc: 0.8750 - mse: 0.0726 - val_loss: 0.4706 - val_acc: 0.7368 - val_mse: 0.0985\n",
            "Epoch 92/150\n",
            "1/1 [==============================] - 0s 36ms/step - loss: 0.3890 - acc: 0.8661 - mse: 0.0729 - val_loss: 0.4697 - val_acc: 0.7368 - val_mse: 0.0984\n",
            "Epoch 93/150\n",
            "1/1 [==============================] - 0s 36ms/step - loss: 0.3808 - acc: 0.8571 - mse: 0.0711 - val_loss: 0.4685 - val_acc: 0.7632 - val_mse: 0.0982\n",
            "Epoch 94/150\n",
            "1/1 [==============================] - 0s 33ms/step - loss: 0.3721 - acc: 0.8839 - mse: 0.0683 - val_loss: 0.4673 - val_acc: 0.7632 - val_mse: 0.0980\n",
            "Epoch 95/150\n",
            "1/1 [==============================] - 0s 28ms/step - loss: 0.3709 - acc: 0.8839 - mse: 0.0685 - val_loss: 0.4659 - val_acc: 0.7632 - val_mse: 0.0978\n",
            "Epoch 96/150\n",
            "1/1 [==============================] - 0s 39ms/step - loss: 0.3768 - acc: 0.8661 - mse: 0.0703 - val_loss: 0.4648 - val_acc: 0.7632 - val_mse: 0.0977\n",
            "Epoch 97/150\n",
            "1/1 [==============================] - 0s 33ms/step - loss: 0.3794 - acc: 0.8750 - mse: 0.0710 - val_loss: 0.4636 - val_acc: 0.7632 - val_mse: 0.0975\n",
            "Epoch 98/150\n",
            "1/1 [==============================] - 0s 40ms/step - loss: 0.3680 - acc: 0.8839 - mse: 0.0680 - val_loss: 0.4624 - val_acc: 0.7632 - val_mse: 0.0973\n",
            "Epoch 99/150\n",
            "1/1 [==============================] - 0s 30ms/step - loss: 0.3758 - acc: 0.8750 - mse: 0.0705 - val_loss: 0.4614 - val_acc: 0.7632 - val_mse: 0.0972\n",
            "Epoch 100/150\n",
            "1/1 [==============================] - 0s 45ms/step - loss: 0.3633 - acc: 0.8750 - mse: 0.0670 - val_loss: 0.4603 - val_acc: 0.7632 - val_mse: 0.0970\n",
            "Epoch 101/150\n",
            "1/1 [==============================] - 0s 34ms/step - loss: 0.3739 - acc: 0.8750 - mse: 0.0697 - val_loss: 0.4593 - val_acc: 0.7632 - val_mse: 0.0969\n",
            "Epoch 102/150\n",
            "1/1 [==============================] - 0s 35ms/step - loss: 0.3597 - acc: 0.8571 - mse: 0.0661 - val_loss: 0.4581 - val_acc: 0.7632 - val_mse: 0.0967\n",
            "Epoch 103/150\n",
            "1/1 [==============================] - 0s 35ms/step - loss: 0.3585 - acc: 0.8929 - mse: 0.0657 - val_loss: 0.4571 - val_acc: 0.7632 - val_mse: 0.0966\n",
            "Epoch 104/150\n",
            "1/1 [==============================] - 0s 36ms/step - loss: 0.3584 - acc: 0.8929 - mse: 0.0655 - val_loss: 0.4562 - val_acc: 0.7632 - val_mse: 0.0965\n",
            "Epoch 105/150\n",
            "1/1 [==============================] - 0s 33ms/step - loss: 0.3536 - acc: 0.8839 - mse: 0.0647 - val_loss: 0.4552 - val_acc: 0.7632 - val_mse: 0.0963\n",
            "Epoch 106/150\n",
            "1/1 [==============================] - 0s 36ms/step - loss: 0.3502 - acc: 0.8839 - mse: 0.0637 - val_loss: 0.4543 - val_acc: 0.7632 - val_mse: 0.0962\n",
            "Epoch 107/150\n",
            "1/1 [==============================] - 0s 43ms/step - loss: 0.3513 - acc: 0.8839 - mse: 0.0649 - val_loss: 0.4532 - val_acc: 0.7632 - val_mse: 0.0961\n",
            "Epoch 108/150\n",
            "1/1 [==============================] - 0s 35ms/step - loss: 0.3419 - acc: 0.8929 - mse: 0.0617 - val_loss: 0.4523 - val_acc: 0.7632 - val_mse: 0.0960\n",
            "Epoch 109/150\n",
            "1/1 [==============================] - 0s 39ms/step - loss: 0.3477 - acc: 0.9018 - mse: 0.0634 - val_loss: 0.4514 - val_acc: 0.7632 - val_mse: 0.0958\n",
            "Epoch 110/150\n",
            "1/1 [==============================] - 0s 56ms/step - loss: 0.3492 - acc: 0.9107 - mse: 0.0639 - val_loss: 0.4504 - val_acc: 0.7632 - val_mse: 0.0957\n",
            "Epoch 111/150\n",
            "1/1 [==============================] - 0s 35ms/step - loss: 0.3419 - acc: 0.8839 - mse: 0.0623 - val_loss: 0.4494 - val_acc: 0.7632 - val_mse: 0.0955\n",
            "Epoch 112/150\n",
            "1/1 [==============================] - 0s 32ms/step - loss: 0.3378 - acc: 0.8929 - mse: 0.0614 - val_loss: 0.4481 - val_acc: 0.7632 - val_mse: 0.0953\n",
            "Epoch 113/150\n",
            "1/1 [==============================] - 0s 37ms/step - loss: 0.3510 - acc: 0.8839 - mse: 0.0652 - val_loss: 0.4469 - val_acc: 0.7632 - val_mse: 0.0951\n",
            "Epoch 114/150\n",
            "1/1 [==============================] - 0s 38ms/step - loss: 0.3466 - acc: 0.8750 - mse: 0.0638 - val_loss: 0.4460 - val_acc: 0.7632 - val_mse: 0.0950\n",
            "Epoch 115/150\n",
            "1/1 [==============================] - 0s 40ms/step - loss: 0.3457 - acc: 0.9018 - mse: 0.0636 - val_loss: 0.4451 - val_acc: 0.7632 - val_mse: 0.0949\n",
            "Epoch 116/150\n",
            "1/1 [==============================] - 0s 34ms/step - loss: 0.3410 - acc: 0.8839 - mse: 0.0625 - val_loss: 0.4440 - val_acc: 0.7632 - val_mse: 0.0947\n",
            "Epoch 117/150\n",
            "1/1 [==============================] - 0s 30ms/step - loss: 0.3353 - acc: 0.9018 - mse: 0.0616 - val_loss: 0.4430 - val_acc: 0.7632 - val_mse: 0.0945\n",
            "Epoch 118/150\n",
            "1/1 [==============================] - 0s 34ms/step - loss: 0.3365 - acc: 0.8839 - mse: 0.0614 - val_loss: 0.4423 - val_acc: 0.7632 - val_mse: 0.0945\n",
            "Epoch 119/150\n",
            "1/1 [==============================] - 0s 41ms/step - loss: 0.3302 - acc: 0.8929 - mse: 0.0602 - val_loss: 0.4412 - val_acc: 0.7632 - val_mse: 0.0943\n",
            "Epoch 120/150\n",
            "1/1 [==============================] - 0s 33ms/step - loss: 0.3400 - acc: 0.8750 - mse: 0.0630 - val_loss: 0.4406 - val_acc: 0.7632 - val_mse: 0.0943\n",
            "Epoch 121/150\n",
            "1/1 [==============================] - 0s 39ms/step - loss: 0.3326 - acc: 0.8839 - mse: 0.0616 - val_loss: 0.4396 - val_acc: 0.7632 - val_mse: 0.0941\n",
            "Epoch 122/150\n",
            "1/1 [==============================] - 0s 38ms/step - loss: 0.3240 - acc: 0.9018 - mse: 0.0586 - val_loss: 0.4383 - val_acc: 0.7632 - val_mse: 0.0938\n",
            "Epoch 123/150\n",
            "1/1 [==============================] - 0s 33ms/step - loss: 0.3202 - acc: 0.8929 - mse: 0.0582 - val_loss: 0.4371 - val_acc: 0.7632 - val_mse: 0.0936\n",
            "Epoch 124/150\n",
            "1/1 [==============================] - 0s 33ms/step - loss: 0.3258 - acc: 0.8929 - mse: 0.0595 - val_loss: 0.4364 - val_acc: 0.7632 - val_mse: 0.0935\n",
            "Epoch 125/150\n",
            "1/1 [==============================] - 0s 41ms/step - loss: 0.3229 - acc: 0.9018 - mse: 0.0593 - val_loss: 0.4353 - val_acc: 0.7632 - val_mse: 0.0934\n",
            "Epoch 126/150\n",
            "1/1 [==============================] - 0s 35ms/step - loss: 0.3197 - acc: 0.9018 - mse: 0.0581 - val_loss: 0.4343 - val_acc: 0.7632 - val_mse: 0.0932\n",
            "Epoch 127/150\n",
            "1/1 [==============================] - 0s 35ms/step - loss: 0.3218 - acc: 0.8929 - mse: 0.0593 - val_loss: 0.4331 - val_acc: 0.7632 - val_mse: 0.0929\n",
            "Epoch 128/150\n",
            "1/1 [==============================] - 0s 39ms/step - loss: 0.3170 - acc: 0.9018 - mse: 0.0579 - val_loss: 0.4318 - val_acc: 0.7632 - val_mse: 0.0927\n",
            "Epoch 129/150\n",
            "1/1 [==============================] - 0s 51ms/step - loss: 0.3173 - acc: 0.8929 - mse: 0.0577 - val_loss: 0.4308 - val_acc: 0.7632 - val_mse: 0.0925\n",
            "Epoch 130/150\n",
            "1/1 [==============================] - 0s 33ms/step - loss: 0.3123 - acc: 0.9018 - mse: 0.0564 - val_loss: 0.4298 - val_acc: 0.7632 - val_mse: 0.0924\n",
            "Epoch 131/150\n",
            "1/1 [==============================] - 0s 30ms/step - loss: 0.3158 - acc: 0.9018 - mse: 0.0575 - val_loss: 0.4288 - val_acc: 0.7632 - val_mse: 0.0922\n",
            "Epoch 132/150\n",
            "1/1 [==============================] - 0s 43ms/step - loss: 0.3048 - acc: 0.9286 - mse: 0.0541 - val_loss: 0.4280 - val_acc: 0.7632 - val_mse: 0.0921\n",
            "Epoch 133/150\n",
            "1/1 [==============================] - 0s 29ms/step - loss: 0.3134 - acc: 0.9018 - mse: 0.0569 - val_loss: 0.4274 - val_acc: 0.7632 - val_mse: 0.0920\n",
            "Epoch 134/150\n",
            "1/1 [==============================] - 0s 44ms/step - loss: 0.3029 - acc: 0.9196 - mse: 0.0538 - val_loss: 0.4266 - val_acc: 0.7632 - val_mse: 0.0919\n",
            "Epoch 135/150\n",
            "1/1 [==============================] - 0s 39ms/step - loss: 0.3056 - acc: 0.9107 - mse: 0.0556 - val_loss: 0.4255 - val_acc: 0.7632 - val_mse: 0.0917\n",
            "Epoch 136/150\n",
            "1/1 [==============================] - 0s 37ms/step - loss: 0.3119 - acc: 0.9107 - mse: 0.0569 - val_loss: 0.4248 - val_acc: 0.7632 - val_mse: 0.0916\n",
            "Epoch 137/150\n",
            "1/1 [==============================] - 0s 34ms/step - loss: 0.2959 - acc: 0.9196 - mse: 0.0526 - val_loss: 0.4239 - val_acc: 0.7632 - val_mse: 0.0914\n",
            "Epoch 138/150\n",
            "1/1 [==============================] - 0s 44ms/step - loss: 0.3146 - acc: 0.9018 - mse: 0.0580 - val_loss: 0.4232 - val_acc: 0.7632 - val_mse: 0.0913\n",
            "Epoch 139/150\n",
            "1/1 [==============================] - 0s 35ms/step - loss: 0.2971 - acc: 0.9196 - mse: 0.0529 - val_loss: 0.4223 - val_acc: 0.7632 - val_mse: 0.0912\n",
            "Epoch 140/150\n",
            "1/1 [==============================] - 0s 36ms/step - loss: 0.3001 - acc: 0.9018 - mse: 0.0542 - val_loss: 0.4213 - val_acc: 0.7632 - val_mse: 0.0910\n",
            "Epoch 141/150\n",
            "1/1 [==============================] - 0s 36ms/step - loss: 0.2983 - acc: 0.9107 - mse: 0.0540 - val_loss: 0.4199 - val_acc: 0.7632 - val_mse: 0.0907\n",
            "Epoch 142/150\n",
            "1/1 [==============================] - 0s 36ms/step - loss: 0.3001 - acc: 0.9018 - mse: 0.0545 - val_loss: 0.4187 - val_acc: 0.7632 - val_mse: 0.0905\n",
            "Epoch 143/150\n",
            "1/1 [==============================] - 0s 33ms/step - loss: 0.2944 - acc: 0.9018 - mse: 0.0530 - val_loss: 0.4177 - val_acc: 0.7632 - val_mse: 0.0903\n",
            "Epoch 144/150\n",
            "1/1 [==============================] - 0s 34ms/step - loss: 0.2934 - acc: 0.9107 - mse: 0.0527 - val_loss: 0.4168 - val_acc: 0.7632 - val_mse: 0.0901\n",
            "Epoch 145/150\n",
            "1/1 [==============================] - 0s 37ms/step - loss: 0.2879 - acc: 0.9107 - mse: 0.0512 - val_loss: 0.4156 - val_acc: 0.7895 - val_mse: 0.0899\n",
            "Epoch 146/150\n",
            "1/1 [==============================] - 0s 32ms/step - loss: 0.2913 - acc: 0.9018 - mse: 0.0521 - val_loss: 0.4146 - val_acc: 0.7895 - val_mse: 0.0897\n",
            "Epoch 147/150\n",
            "1/1 [==============================] - 0s 36ms/step - loss: 0.2972 - acc: 0.9196 - mse: 0.0543 - val_loss: 0.4135 - val_acc: 0.7895 - val_mse: 0.0895\n",
            "Epoch 148/150\n",
            "1/1 [==============================] - 0s 29ms/step - loss: 0.2961 - acc: 0.9107 - mse: 0.0536 - val_loss: 0.4129 - val_acc: 0.7895 - val_mse: 0.0894\n",
            "Epoch 149/150\n",
            "1/1 [==============================] - 0s 33ms/step - loss: 0.2932 - acc: 0.9196 - mse: 0.0525 - val_loss: 0.4119 - val_acc: 0.7895 - val_mse: 0.0893\n",
            "Epoch 150/150\n",
            "1/1 [==============================] - 0s 31ms/step - loss: 0.2858 - acc: 0.9018 - mse: 0.0510 - val_loss: 0.4110 - val_acc: 0.7895 - val_mse: 0.0891\n"
          ]
        }
      ]
    },
    {
      "cell_type": "code",
      "metadata": {
        "id": "6iLCqy4FMWFC",
        "colab": {
          "base_uri": "https://localhost:8080/"
        },
        "outputId": "6ac245e0-f445-4364-f325-b0e20dcceae6"
      },
      "source": [
        "#just how we used evaluate() in the basic model previously, use it again to find the loss, accuracy and MSE on the test set\n",
        "\n",
        "loss6, acc6, mse6 = model6.evaluate(X_test,y_test)\n"
      ],
      "execution_count": 402,
      "outputs": [
        {
          "output_type": "stream",
          "name": "stdout",
          "text": [
            "2/2 [==============================] - 0s 6ms/step - loss: 0.4110 - acc: 0.7895 - mse: 0.0891\n"
          ]
        }
      ]
    },
    {
      "cell_type": "code",
      "metadata": {
        "id": "YTI2IPxAMWFD",
        "colab": {
          "base_uri": "https://localhost:8080/",
          "height": 581
        },
        "outputId": "c552f3ab-1aba-4003-bc6a-d2013755a181"
      },
      "source": [
        "\n",
        "# Plot the train loss vs validation loss and train accuracy vs validation accuracy graphs just like we did before\n",
        "\n",
        "plt.style.use('ggplot')\n",
        "plt.plot(hist6.history['loss'], label = 'loss')\n",
        "plt.plot(hist6.history['val_loss'], label='val loss')\n",
        "plt.title(\"Train Loss vs Val_Loss\")\n",
        "plt.xlabel(\"Epochs\")\n",
        "plt.ylabel(\"Loss\")\n",
        "plt.legend()\n",
        "plt.show()\n",
        "\n",
        "# we observe that validation loss is increasing as compared to training loss. \n",
        "# This increase in training loss shows that our model is overfitted.\n",
        "\n",
        "#similarly we plot for model accuracy \n",
        "plt.plot(hist6.history['acc'], label = 'train acc')\n",
        "plt.plot(hist6.history['val_acc'], label='val acc')\n",
        "plt.title(\"train acc vs Val_acc\")\n",
        "plt.xlabel(\"Epochs\")\n",
        "plt.ylabel(\"acc\")\n",
        "plt.legend()\n",
        "plt.show()\n"
      ],
      "execution_count": 403,
      "outputs": [
        {
          "output_type": "display_data",
          "data": {
            "image/png": "[encoded data removed]",
            "text/plain": [
              "<Figure size 432x288 with 1 Axes>"
            ]
          },
          "metadata": {}
        },
        {
          "output_type": "display_data",
          "data": {
            "image/png": "[encoded data removed]",
            "text/plain": [
              "<Figure size 432x288 with 1 Axes>"
            ]
          },
          "metadata": {}
        }
      ]
    },
    {
      "cell_type": "code",
      "metadata": {
        "id": "xARaA3xrMWFD",
        "colab": {
          "base_uri": "https://localhost:8080/"
        },
        "outputId": "cfbe329e-cbd5-4931-ca76-926c4457aeb2"
      },
      "source": [
        "# Create model7, having more dropout layers, having a dropout rate of your choice\n",
        "\n",
        "model7 = Sequential([\n",
        "    Dense(512, activation='tanh', input_shape = X_train[0].shape),\n",
        "    Dropout(0.5),\n",
        "    Dense(512//2, activation='tanh'),\n",
        "    Dropout(0.5),\n",
        "    Dense(512//4, activation='tanh'),\n",
        "    Dropout(0.3),\n",
        "    Dense(512//8, activation='tanh'),\n",
        "    Dropout(0.2),\n",
        "    Dense(32, activation='relu'),\n",
        "    Dense(3, activation='softmax')\n",
        "])\n",
        "\n",
        "model7.compile(optimizer='sgd',loss='categorical_crossentropy', metrics=['acc', 'mse'])\n",
        "\n",
        "hist7 = model7.fit(X_train, y_train, epochs=150, batch_size=128, validation_data=(X_test,y_test))\n"
      ],
      "execution_count": 404,
      "outputs": [
        {
          "output_type": "stream",
          "name": "stdout",
          "text": [
            "Epoch 1/150\n",
            "1/1 [==============================] - 1s 678ms/step - loss: 1.1350 - acc: 0.2768 - mse: 0.2309 - val_loss: 0.9940 - val_acc: 0.6316 - val_mse: 0.1982\n",
            "Epoch 2/150\n",
            "1/1 [==============================] - 0s 39ms/step - loss: 1.0608 - acc: 0.4375 - mse: 0.2130 - val_loss: 0.9574 - val_acc: 0.6842 - val_mse: 0.1893\n",
            "Epoch 3/150\n",
            "1/1 [==============================] - 0s 30ms/step - loss: 0.9834 - acc: 0.5268 - mse: 0.1967 - val_loss: 0.9226 - val_acc: 0.7105 - val_mse: 0.1807\n",
            "Epoch 4/150\n",
            "1/1 [==============================] - 0s 32ms/step - loss: 0.9890 - acc: 0.5357 - mse: 0.1970 - val_loss: 0.8928 - val_acc: 0.6842 - val_mse: 0.1734\n",
            "Epoch 5/150\n",
            "1/1 [==============================] - 0s 40ms/step - loss: 0.9579 - acc: 0.5000 - mse: 0.1903 - val_loss: 0.8638 - val_acc: 0.6842 - val_mse: 0.1662\n",
            "Epoch 6/150\n",
            "1/1 [==============================] - 0s 31ms/step - loss: 0.9488 - acc: 0.6161 - mse: 0.1879 - val_loss: 0.8396 - val_acc: 0.7105 - val_mse: 0.1604\n",
            "Epoch 7/150\n",
            "1/1 [==============================] - 0s 32ms/step - loss: 0.8998 - acc: 0.6518 - mse: 0.1762 - val_loss: 0.8153 - val_acc: 0.7105 - val_mse: 0.1546\n",
            "Epoch 8/150\n",
            "1/1 [==============================] - 0s 26ms/step - loss: 0.8483 - acc: 0.6696 - mse: 0.1641 - val_loss: 0.7927 - val_acc: 0.7105 - val_mse: 0.1494\n",
            "Epoch 9/150\n",
            "1/1 [==============================] - 0s 30ms/step - loss: 0.8419 - acc: 0.6786 - mse: 0.1631 - val_loss: 0.7722 - val_acc: 0.7105 - val_mse: 0.1447\n",
            "Epoch 10/150\n",
            "1/1 [==============================] - 0s 29ms/step - loss: 0.8572 - acc: 0.6696 - mse: 0.1669 - val_loss: 0.7550 - val_acc: 0.7105 - val_mse: 0.1409\n",
            "Epoch 11/150\n",
            "1/1 [==============================] - 0s 26ms/step - loss: 0.8241 - acc: 0.6875 - mse: 0.1585 - val_loss: 0.7384 - val_acc: 0.6842 - val_mse: 0.1374\n",
            "Epoch 12/150\n",
            "1/1 [==============================] - 0s 40ms/step - loss: 0.7535 - acc: 0.7321 - mse: 0.1425 - val_loss: 0.7243 - val_acc: 0.6842 - val_mse: 0.1345\n",
            "Epoch 13/150\n",
            "1/1 [==============================] - 0s 30ms/step - loss: 0.8067 - acc: 0.7143 - mse: 0.1543 - val_loss: 0.7103 - val_acc: 0.6842 - val_mse: 0.1317\n",
            "Epoch 14/150\n",
            "1/1 [==============================] - 0s 25ms/step - loss: 0.7609 - acc: 0.7054 - mse: 0.1452 - val_loss: 0.6981 - val_acc: 0.6842 - val_mse: 0.1293\n",
            "Epoch 15/150\n",
            "1/1 [==============================] - 0s 47ms/step - loss: 0.7558 - acc: 0.7143 - mse: 0.1435 - val_loss: 0.6872 - val_acc: 0.6842 - val_mse: 0.1273\n",
            "Epoch 16/150\n",
            "1/1 [==============================] - 0s 28ms/step - loss: 0.6919 - acc: 0.7946 - mse: 0.1283 - val_loss: 0.6769 - val_acc: 0.6842 - val_mse: 0.1255\n",
            "Epoch 17/150\n",
            "1/1 [==============================] - 0s 33ms/step - loss: 0.7093 - acc: 0.7679 - mse: 0.1324 - val_loss: 0.6673 - val_acc: 0.6842 - val_mse: 0.1238\n",
            "Epoch 18/150\n",
            "1/1 [==============================] - 0s 43ms/step - loss: 0.6521 - acc: 0.7768 - mse: 0.1206 - val_loss: 0.6598 - val_acc: 0.6842 - val_mse: 0.1226\n",
            "Epoch 19/150\n",
            "1/1 [==============================] - 0s 32ms/step - loss: 0.6923 - acc: 0.7589 - mse: 0.1273 - val_loss: 0.6517 - val_acc: 0.6842 - val_mse: 0.1213\n",
            "Epoch 20/150\n",
            "1/1 [==============================] - 0s 32ms/step - loss: 0.6783 - acc: 0.7768 - mse: 0.1247 - val_loss: 0.6431 - val_acc: 0.7105 - val_mse: 0.1199\n",
            "Epoch 21/150\n",
            "1/1 [==============================] - 0s 37ms/step - loss: 0.6764 - acc: 0.7589 - mse: 0.1258 - val_loss: 0.6357 - val_acc: 0.7105 - val_mse: 0.1187\n",
            "Epoch 22/150\n",
            "1/1 [==============================] - 0s 30ms/step - loss: 0.6819 - acc: 0.7411 - mse: 0.1287 - val_loss: 0.6286 - val_acc: 0.7105 - val_mse: 0.1176\n",
            "Epoch 23/150\n",
            "1/1 [==============================] - 0s 30ms/step - loss: 0.6411 - acc: 0.7589 - mse: 0.1172 - val_loss: 0.6225 - val_acc: 0.7368 - val_mse: 0.1167\n",
            "Epoch 24/150\n",
            "1/1 [==============================] - 0s 36ms/step - loss: 0.6820 - acc: 0.7589 - mse: 0.1277 - val_loss: 0.6157 - val_acc: 0.7368 - val_mse: 0.1157\n",
            "Epoch 25/150\n",
            "1/1 [==============================] - 0s 32ms/step - loss: 0.6507 - acc: 0.7857 - mse: 0.1212 - val_loss: 0.6098 - val_acc: 0.7368 - val_mse: 0.1149\n",
            "Epoch 26/150\n",
            "1/1 [==============================] - 0s 36ms/step - loss: 0.6129 - acc: 0.7857 - mse: 0.1118 - val_loss: 0.6040 - val_acc: 0.7632 - val_mse: 0.1141\n",
            "Epoch 27/150\n",
            "1/1 [==============================] - 0s 29ms/step - loss: 0.5868 - acc: 0.7946 - mse: 0.1064 - val_loss: 0.5985 - val_acc: 0.7632 - val_mse: 0.1133\n",
            "Epoch 28/150\n",
            "1/1 [==============================] - 0s 26ms/step - loss: 0.6173 - acc: 0.7946 - mse: 0.1126 - val_loss: 0.5943 - val_acc: 0.7632 - val_mse: 0.1128\n",
            "Epoch 29/150\n",
            "1/1 [==============================] - 0s 59ms/step - loss: 0.6015 - acc: 0.7946 - mse: 0.1100 - val_loss: 0.5900 - val_acc: 0.7632 - val_mse: 0.1123\n",
            "Epoch 30/150\n",
            "1/1 [==============================] - 0s 32ms/step - loss: 0.6214 - acc: 0.7679 - mse: 0.1142 - val_loss: 0.5849 - val_acc: 0.7368 - val_mse: 0.1116\n",
            "Epoch 31/150\n",
            "1/1 [==============================] - 0s 32ms/step - loss: 0.5938 - acc: 0.7946 - mse: 0.1086 - val_loss: 0.5815 - val_acc: 0.7368 - val_mse: 0.1113\n",
            "Epoch 32/150\n",
            "1/1 [==============================] - 0s 28ms/step - loss: 0.6190 - acc: 0.7500 - mse: 0.1154 - val_loss: 0.5784 - val_acc: 0.7368 - val_mse: 0.1110\n",
            "Epoch 33/150\n",
            "1/1 [==============================] - 0s 35ms/step - loss: 0.5747 - acc: 0.7946 - mse: 0.1044 - val_loss: 0.5741 - val_acc: 0.7368 - val_mse: 0.1105\n",
            "Epoch 34/150\n",
            "1/1 [==============================] - 0s 33ms/step - loss: 0.5645 - acc: 0.8125 - mse: 0.1031 - val_loss: 0.5701 - val_acc: 0.7368 - val_mse: 0.1099\n",
            "Epoch 35/150\n",
            "1/1 [==============================] - 0s 31ms/step - loss: 0.5593 - acc: 0.8125 - mse: 0.1025 - val_loss: 0.5668 - val_acc: 0.7368 - val_mse: 0.1096\n",
            "Epoch 36/150\n",
            "1/1 [==============================] - 0s 29ms/step - loss: 0.5739 - acc: 0.7768 - mse: 0.1043 - val_loss: 0.5635 - val_acc: 0.7368 - val_mse: 0.1092\n",
            "Epoch 37/150\n",
            "1/1 [==============================] - 0s 30ms/step - loss: 0.5604 - acc: 0.7679 - mse: 0.1040 - val_loss: 0.5600 - val_acc: 0.7368 - val_mse: 0.1088\n",
            "Epoch 38/150\n",
            "1/1 [==============================] - 0s 27ms/step - loss: 0.5450 - acc: 0.8214 - mse: 0.0985 - val_loss: 0.5574 - val_acc: 0.7368 - val_mse: 0.1086\n",
            "Epoch 39/150\n",
            "1/1 [==============================] - 0s 33ms/step - loss: 0.5520 - acc: 0.7679 - mse: 0.1028 - val_loss: 0.5543 - val_acc: 0.7368 - val_mse: 0.1082\n",
            "Epoch 40/150\n",
            "1/1 [==============================] - 0s 30ms/step - loss: 0.5621 - acc: 0.8036 - mse: 0.1039 - val_loss: 0.5515 - val_acc: 0.7368 - val_mse: 0.1079\n",
            "Epoch 41/150\n",
            "1/1 [==============================] - 0s 32ms/step - loss: 0.4789 - acc: 0.8571 - mse: 0.0856 - val_loss: 0.5480 - val_acc: 0.7368 - val_mse: 0.1074\n",
            "Epoch 42/150\n",
            "1/1 [==============================] - 0s 36ms/step - loss: 0.5065 - acc: 0.8036 - mse: 0.0918 - val_loss: 0.5456 - val_acc: 0.7368 - val_mse: 0.1071\n",
            "Epoch 43/150\n",
            "1/1 [==============================] - 0s 33ms/step - loss: 0.5455 - acc: 0.7946 - mse: 0.1006 - val_loss: 0.5427 - val_acc: 0.7368 - val_mse: 0.1068\n",
            "Epoch 44/150\n",
            "1/1 [==============================] - 0s 33ms/step - loss: 0.5046 - acc: 0.7857 - mse: 0.0915 - val_loss: 0.5390 - val_acc: 0.7368 - val_mse: 0.1062\n",
            "Epoch 45/150\n",
            "1/1 [==============================] - 0s 33ms/step - loss: 0.5267 - acc: 0.8125 - mse: 0.0962 - val_loss: 0.5357 - val_acc: 0.7368 - val_mse: 0.1058\n",
            "Epoch 46/150\n",
            "1/1 [==============================] - 0s 49ms/step - loss: 0.5059 - acc: 0.8571 - mse: 0.0925 - val_loss: 0.5329 - val_acc: 0.7368 - val_mse: 0.1054\n",
            "Epoch 47/150\n",
            "1/1 [==============================] - 0s 33ms/step - loss: 0.5151 - acc: 0.8036 - mse: 0.0945 - val_loss: 0.5295 - val_acc: 0.7105 - val_mse: 0.1049\n",
            "Epoch 48/150\n",
            "1/1 [==============================] - 0s 37ms/step - loss: 0.4783 - acc: 0.8750 - mse: 0.0856 - val_loss: 0.5255 - val_acc: 0.7105 - val_mse: 0.1042\n",
            "Epoch 49/150\n",
            "1/1 [==============================] - 0s 34ms/step - loss: 0.4793 - acc: 0.8214 - mse: 0.0868 - val_loss: 0.5226 - val_acc: 0.7368 - val_mse: 0.1038\n",
            "Epoch 50/150\n",
            "1/1 [==============================] - 0s 32ms/step - loss: 0.5244 - acc: 0.7946 - mse: 0.0968 - val_loss: 0.5207 - val_acc: 0.7368 - val_mse: 0.1037\n",
            "Epoch 51/150\n",
            "1/1 [==============================] - 0s 30ms/step - loss: 0.4684 - acc: 0.8750 - mse: 0.0838 - val_loss: 0.5179 - val_acc: 0.7368 - val_mse: 0.1033\n",
            "Epoch 52/150\n",
            "1/1 [==============================] - 0s 33ms/step - loss: 0.4751 - acc: 0.8482 - mse: 0.0862 - val_loss: 0.5167 - val_acc: 0.7368 - val_mse: 0.1033\n",
            "Epoch 53/150\n",
            "1/1 [==============================] - 0s 38ms/step - loss: 0.4632 - acc: 0.8661 - mse: 0.0830 - val_loss: 0.5147 - val_acc: 0.7368 - val_mse: 0.1031\n",
            "Epoch 54/150\n",
            "1/1 [==============================] - 0s 37ms/step - loss: 0.4747 - acc: 0.8750 - mse: 0.0851 - val_loss: 0.5121 - val_acc: 0.7368 - val_mse: 0.1027\n",
            "Epoch 55/150\n",
            "1/1 [==============================] - 0s 44ms/step - loss: 0.4674 - acc: 0.8304 - mse: 0.0856 - val_loss: 0.5090 - val_acc: 0.7368 - val_mse: 0.1022\n",
            "Epoch 56/150\n",
            "1/1 [==============================] - 0s 31ms/step - loss: 0.4604 - acc: 0.8482 - mse: 0.0834 - val_loss: 0.5065 - val_acc: 0.7368 - val_mse: 0.1019\n",
            "Epoch 57/150\n",
            "1/1 [==============================] - 0s 36ms/step - loss: 0.4519 - acc: 0.8661 - mse: 0.0807 - val_loss: 0.5036 - val_acc: 0.7368 - val_mse: 0.1015\n",
            "Epoch 58/150\n",
            "1/1 [==============================] - 0s 34ms/step - loss: 0.4631 - acc: 0.8482 - mse: 0.0857 - val_loss: 0.5017 - val_acc: 0.7368 - val_mse: 0.1013\n",
            "Epoch 59/150\n",
            "1/1 [==============================] - 0s 36ms/step - loss: 0.4401 - acc: 0.8661 - mse: 0.0796 - val_loss: 0.4989 - val_acc: 0.7632 - val_mse: 0.1008\n",
            "Epoch 60/150\n",
            "1/1 [==============================] - 0s 31ms/step - loss: 0.4414 - acc: 0.8304 - mse: 0.0796 - val_loss: 0.4971 - val_acc: 0.7632 - val_mse: 0.1006\n",
            "Epoch 61/150\n",
            "1/1 [==============================] - 0s 31ms/step - loss: 0.4486 - acc: 0.8571 - mse: 0.0820 - val_loss: 0.4940 - val_acc: 0.7632 - val_mse: 0.1001\n",
            "Epoch 62/150\n",
            "1/1 [==============================] - 0s 28ms/step - loss: 0.4249 - acc: 0.8661 - mse: 0.0770 - val_loss: 0.4920 - val_acc: 0.7632 - val_mse: 0.0998\n",
            "Epoch 63/150\n",
            "1/1 [==============================] - 0s 30ms/step - loss: 0.4725 - acc: 0.8214 - mse: 0.0879 - val_loss: 0.4907 - val_acc: 0.7632 - val_mse: 0.0997\n",
            "Epoch 64/150\n",
            "1/1 [==============================] - 0s 34ms/step - loss: 0.4443 - acc: 0.8571 - mse: 0.0799 - val_loss: 0.4884 - val_acc: 0.7632 - val_mse: 0.0993\n",
            "Epoch 65/150\n",
            "1/1 [==============================] - 0s 33ms/step - loss: 0.4021 - acc: 0.8839 - mse: 0.0709 - val_loss: 0.4864 - val_acc: 0.7632 - val_mse: 0.0991\n",
            "Epoch 66/150\n",
            "1/1 [==============================] - 0s 53ms/step - loss: 0.4371 - acc: 0.8571 - mse: 0.0797 - val_loss: 0.4827 - val_acc: 0.7632 - val_mse: 0.0984\n",
            "Epoch 67/150\n",
            "1/1 [==============================] - 0s 33ms/step - loss: 0.4300 - acc: 0.8304 - mse: 0.0776 - val_loss: 0.4808 - val_acc: 0.7632 - val_mse: 0.0981\n",
            "Epoch 68/150\n",
            "1/1 [==============================] - 0s 32ms/step - loss: 0.4198 - acc: 0.8571 - mse: 0.0754 - val_loss: 0.4798 - val_acc: 0.7632 - val_mse: 0.0981\n",
            "Epoch 69/150\n",
            "1/1 [==============================] - 0s 34ms/step - loss: 0.4362 - acc: 0.8393 - mse: 0.0802 - val_loss: 0.4773 - val_acc: 0.7632 - val_mse: 0.0977\n",
            "Epoch 70/150\n",
            "1/1 [==============================] - 0s 30ms/step - loss: 0.4132 - acc: 0.8482 - mse: 0.0738 - val_loss: 0.4757 - val_acc: 0.7632 - val_mse: 0.0975\n",
            "Epoch 71/150\n",
            "1/1 [==============================] - 0s 27ms/step - loss: 0.4121 - acc: 0.8750 - mse: 0.0732 - val_loss: 0.4742 - val_acc: 0.7632 - val_mse: 0.0974\n",
            "Epoch 72/150\n",
            "1/1 [==============================] - 0s 35ms/step - loss: 0.3945 - acc: 0.8571 - mse: 0.0715 - val_loss: 0.4719 - val_acc: 0.7632 - val_mse: 0.0970\n",
            "Epoch 73/150\n",
            "1/1 [==============================] - 0s 42ms/step - loss: 0.3971 - acc: 0.8482 - mse: 0.0714 - val_loss: 0.4690 - val_acc: 0.7632 - val_mse: 0.0965\n",
            "Epoch 74/150\n",
            "1/1 [==============================] - 0s 35ms/step - loss: 0.4113 - acc: 0.8839 - mse: 0.0752 - val_loss: 0.4669 - val_acc: 0.7632 - val_mse: 0.0962\n",
            "Epoch 75/150\n",
            "1/1 [==============================] - 0s 35ms/step - loss: 0.3854 - acc: 0.9196 - mse: 0.0670 - val_loss: 0.4647 - val_acc: 0.7632 - val_mse: 0.0959\n",
            "Epoch 76/150\n",
            "1/1 [==============================] - 0s 30ms/step - loss: 0.3953 - acc: 0.8839 - mse: 0.0709 - val_loss: 0.4623 - val_acc: 0.7632 - val_mse: 0.0955\n",
            "Epoch 77/150\n",
            "1/1 [==============================] - 0s 34ms/step - loss: 0.3862 - acc: 0.8929 - mse: 0.0705 - val_loss: 0.4592 - val_acc: 0.7632 - val_mse: 0.0949\n",
            "Epoch 78/150\n",
            "1/1 [==============================] - 0s 34ms/step - loss: 0.3986 - acc: 0.8750 - mse: 0.0706 - val_loss: 0.4586 - val_acc: 0.7632 - val_mse: 0.0949\n",
            "Epoch 79/150\n",
            "1/1 [==============================] - 0s 33ms/step - loss: 0.4055 - acc: 0.9107 - mse: 0.0728 - val_loss: 0.4582 - val_acc: 0.7632 - val_mse: 0.0951\n",
            "Epoch 80/150\n",
            "1/1 [==============================] - 0s 36ms/step - loss: 0.4000 - acc: 0.8750 - mse: 0.0725 - val_loss: 0.4565 - val_acc: 0.7632 - val_mse: 0.0948\n",
            "Epoch 81/150\n",
            "1/1 [==============================] - 0s 42ms/step - loss: 0.4058 - acc: 0.8571 - mse: 0.0737 - val_loss: 0.4548 - val_acc: 0.7632 - val_mse: 0.0946\n",
            "Epoch 82/150\n",
            "1/1 [==============================] - 0s 32ms/step - loss: 0.4069 - acc: 0.8661 - mse: 0.0734 - val_loss: 0.4541 - val_acc: 0.7632 - val_mse: 0.0946\n",
            "Epoch 83/150\n",
            "1/1 [==============================] - 0s 35ms/step - loss: 0.3957 - acc: 0.8839 - mse: 0.0717 - val_loss: 0.4529 - val_acc: 0.7632 - val_mse: 0.0945\n",
            "Epoch 84/150\n",
            "1/1 [==============================] - 0s 32ms/step - loss: 0.4226 - acc: 0.8839 - mse: 0.0781 - val_loss: 0.4517 - val_acc: 0.7632 - val_mse: 0.0944\n",
            "Epoch 85/150\n",
            "1/1 [==============================] - 0s 30ms/step - loss: 0.3788 - acc: 0.8839 - mse: 0.0686 - val_loss: 0.4497 - val_acc: 0.7632 - val_mse: 0.0941\n",
            "Epoch 86/150\n",
            "1/1 [==============================] - 0s 48ms/step - loss: 0.3856 - acc: 0.8571 - mse: 0.0713 - val_loss: 0.4476 - val_acc: 0.7895 - val_mse: 0.0937\n",
            "Epoch 87/150\n",
            "1/1 [==============================] - 0s 29ms/step - loss: 0.3556 - acc: 0.9018 - mse: 0.0626 - val_loss: 0.4471 - val_acc: 0.7895 - val_mse: 0.0938\n",
            "Epoch 88/150\n",
            "1/1 [==============================] - 0s 41ms/step - loss: 0.3903 - acc: 0.8571 - mse: 0.0735 - val_loss: 0.4451 - val_acc: 0.7895 - val_mse: 0.0934\n",
            "Epoch 89/150\n",
            "1/1 [==============================] - 0s 35ms/step - loss: 0.3649 - acc: 0.9018 - mse: 0.0649 - val_loss: 0.4426 - val_acc: 0.7632 - val_mse: 0.0930\n",
            "Epoch 90/150\n",
            "1/1 [==============================] - 0s 31ms/step - loss: 0.3660 - acc: 0.8571 - mse: 0.0666 - val_loss: 0.4414 - val_acc: 0.7632 - val_mse: 0.0928\n",
            "Epoch 91/150\n",
            "1/1 [==============================] - 0s 35ms/step - loss: 0.3450 - acc: 0.8929 - mse: 0.0615 - val_loss: 0.4398 - val_acc: 0.7632 - val_mse: 0.0925\n",
            "Epoch 92/150\n",
            "1/1 [==============================] - 0s 35ms/step - loss: 0.3526 - acc: 0.8929 - mse: 0.0645 - val_loss: 0.4375 - val_acc: 0.7632 - val_mse: 0.0921\n",
            "Epoch 93/150\n",
            "1/1 [==============================] - 0s 34ms/step - loss: 0.3363 - acc: 0.8839 - mse: 0.0580 - val_loss: 0.4377 - val_acc: 0.7632 - val_mse: 0.0923\n",
            "Epoch 94/150\n",
            "1/1 [==============================] - 0s 32ms/step - loss: 0.3734 - acc: 0.8839 - mse: 0.0674 - val_loss: 0.4374 - val_acc: 0.7632 - val_mse: 0.0924\n",
            "Epoch 95/150\n",
            "1/1 [==============================] - 0s 39ms/step - loss: 0.3832 - acc: 0.8839 - mse: 0.0706 - val_loss: 0.4362 - val_acc: 0.7632 - val_mse: 0.0923\n",
            "Epoch 96/150\n",
            "1/1 [==============================] - 0s 36ms/step - loss: 0.3470 - acc: 0.8929 - mse: 0.0611 - val_loss: 0.4341 - val_acc: 0.7632 - val_mse: 0.0919\n",
            "Epoch 97/150\n",
            "1/1 [==============================] - 0s 38ms/step - loss: 0.3812 - acc: 0.8929 - mse: 0.0691 - val_loss: 0.4335 - val_acc: 0.7632 - val_mse: 0.0920\n",
            "Epoch 98/150\n",
            "1/1 [==============================] - 0s 34ms/step - loss: 0.3488 - acc: 0.9018 - mse: 0.0617 - val_loss: 0.4328 - val_acc: 0.7632 - val_mse: 0.0919\n",
            "Epoch 99/150\n",
            "1/1 [==============================] - 0s 32ms/step - loss: 0.3707 - acc: 0.8839 - mse: 0.0673 - val_loss: 0.4315 - val_acc: 0.7632 - val_mse: 0.0918\n",
            "Epoch 100/150\n",
            "1/1 [==============================] - 0s 37ms/step - loss: 0.3516 - acc: 0.8661 - mse: 0.0636 - val_loss: 0.4305 - val_acc: 0.7632 - val_mse: 0.0916\n",
            "Epoch 101/150\n",
            "1/1 [==============================] - 0s 35ms/step - loss: 0.3355 - acc: 0.8839 - mse: 0.0607 - val_loss: 0.4283 - val_acc: 0.7632 - val_mse: 0.0912\n",
            "Epoch 102/150\n",
            "1/1 [==============================] - 0s 37ms/step - loss: 0.3606 - acc: 0.8929 - mse: 0.0647 - val_loss: 0.4291 - val_acc: 0.7632 - val_mse: 0.0915\n",
            "Epoch 103/150\n",
            "1/1 [==============================] - 0s 33ms/step - loss: 0.3255 - acc: 0.8839 - mse: 0.0571 - val_loss: 0.4282 - val_acc: 0.7632 - val_mse: 0.0915\n",
            "Epoch 104/150\n",
            "1/1 [==============================] - 0s 34ms/step - loss: 0.3051 - acc: 0.9196 - mse: 0.0509 - val_loss: 0.4269 - val_acc: 0.7632 - val_mse: 0.0913\n",
            "Epoch 105/150\n",
            "1/1 [==============================] - 0s 29ms/step - loss: 0.2986 - acc: 0.9196 - mse: 0.0501 - val_loss: 0.4264 - val_acc: 0.7632 - val_mse: 0.0913\n",
            "Epoch 106/150\n",
            "1/1 [==============================] - 0s 40ms/step - loss: 0.3533 - acc: 0.8571 - mse: 0.0661 - val_loss: 0.4256 - val_acc: 0.7632 - val_mse: 0.0912\n",
            "Epoch 107/150\n",
            "1/1 [==============================] - 0s 38ms/step - loss: 0.3282 - acc: 0.8750 - mse: 0.0587 - val_loss: 0.4251 - val_acc: 0.7632 - val_mse: 0.0912\n",
            "Epoch 108/150\n",
            "1/1 [==============================] - 0s 30ms/step - loss: 0.3386 - acc: 0.8929 - mse: 0.0607 - val_loss: 0.4231 - val_acc: 0.7632 - val_mse: 0.0908\n",
            "Epoch 109/150\n",
            "1/1 [==============================] - 0s 33ms/step - loss: 0.3256 - acc: 0.8839 - mse: 0.0591 - val_loss: 0.4217 - val_acc: 0.7632 - val_mse: 0.0906\n",
            "Epoch 110/150\n",
            "1/1 [==============================] - 0s 35ms/step - loss: 0.3109 - acc: 0.8929 - mse: 0.0553 - val_loss: 0.4209 - val_acc: 0.7632 - val_mse: 0.0905\n",
            "Epoch 111/150\n",
            "1/1 [==============================] - 0s 35ms/step - loss: 0.3238 - acc: 0.8929 - mse: 0.0577 - val_loss: 0.4191 - val_acc: 0.7632 - val_mse: 0.0902\n",
            "Epoch 112/150\n",
            "1/1 [==============================] - 0s 40ms/step - loss: 0.3305 - acc: 0.8661 - mse: 0.0587 - val_loss: 0.4176 - val_acc: 0.7632 - val_mse: 0.0899\n",
            "Epoch 113/150\n",
            "1/1 [==============================] - 0s 56ms/step - loss: 0.3050 - acc: 0.8929 - mse: 0.0532 - val_loss: 0.4165 - val_acc: 0.7632 - val_mse: 0.0898\n",
            "Epoch 114/150\n",
            "1/1 [==============================] - 0s 30ms/step - loss: 0.3368 - acc: 0.8839 - mse: 0.0618 - val_loss: 0.4158 - val_acc: 0.7632 - val_mse: 0.0897\n",
            "Epoch 115/150\n",
            "1/1 [==============================] - 0s 31ms/step - loss: 0.3258 - acc: 0.9018 - mse: 0.0575 - val_loss: 0.4144 - val_acc: 0.7632 - val_mse: 0.0895\n",
            "Epoch 116/150\n",
            "1/1 [==============================] - 0s 34ms/step - loss: 0.3040 - acc: 0.9196 - mse: 0.0527 - val_loss: 0.4141 - val_acc: 0.7632 - val_mse: 0.0896\n",
            "Epoch 117/150\n",
            "1/1 [==============================] - 0s 34ms/step - loss: 0.2971 - acc: 0.9196 - mse: 0.0523 - val_loss: 0.4128 - val_acc: 0.7632 - val_mse: 0.0893\n",
            "Epoch 118/150\n",
            "1/1 [==============================] - 0s 38ms/step - loss: 0.2990 - acc: 0.9018 - mse: 0.0518 - val_loss: 0.4120 - val_acc: 0.7632 - val_mse: 0.0893\n",
            "Epoch 119/150\n",
            "1/1 [==============================] - 0s 38ms/step - loss: 0.3212 - acc: 0.8750 - mse: 0.0580 - val_loss: 0.4105 - val_acc: 0.7632 - val_mse: 0.0890\n",
            "Epoch 120/150\n",
            "1/1 [==============================] - 0s 49ms/step - loss: 0.3288 - acc: 0.8839 - mse: 0.0592 - val_loss: 0.4086 - val_acc: 0.7632 - val_mse: 0.0886\n",
            "Epoch 121/150\n",
            "1/1 [==============================] - 0s 32ms/step - loss: 0.3181 - acc: 0.8929 - mse: 0.0573 - val_loss: 0.4075 - val_acc: 0.7632 - val_mse: 0.0884\n",
            "Epoch 122/150\n",
            "1/1 [==============================] - 0s 34ms/step - loss: 0.3682 - acc: 0.8571 - mse: 0.0704 - val_loss: 0.4064 - val_acc: 0.7632 - val_mse: 0.0881\n",
            "Epoch 123/150\n",
            "1/1 [==============================] - 0s 30ms/step - loss: 0.2795 - acc: 0.9196 - mse: 0.0480 - val_loss: 0.4048 - val_acc: 0.7632 - val_mse: 0.0879\n",
            "Epoch 124/150\n",
            "1/1 [==============================] - 0s 35ms/step - loss: 0.2936 - acc: 0.9107 - mse: 0.0516 - val_loss: 0.4040 - val_acc: 0.7632 - val_mse: 0.0878\n",
            "Epoch 125/150\n",
            "1/1 [==============================] - 0s 30ms/step - loss: 0.3151 - acc: 0.8750 - mse: 0.0572 - val_loss: 0.4035 - val_acc: 0.7632 - val_mse: 0.0878\n",
            "Epoch 126/150\n",
            "1/1 [==============================] - 0s 37ms/step - loss: 0.2951 - acc: 0.9018 - mse: 0.0524 - val_loss: 0.4025 - val_acc: 0.7632 - val_mse: 0.0876\n",
            "Epoch 127/150\n",
            "1/1 [==============================] - 0s 39ms/step - loss: 0.2940 - acc: 0.8929 - mse: 0.0518 - val_loss: 0.4021 - val_acc: 0.7632 - val_mse: 0.0877\n",
            "Epoch 128/150\n",
            "1/1 [==============================] - 0s 37ms/step - loss: 0.2972 - acc: 0.8839 - mse: 0.0533 - val_loss: 0.4007 - val_acc: 0.7632 - val_mse: 0.0874\n",
            "Epoch 129/150\n",
            "1/1 [==============================] - 0s 47ms/step - loss: 0.3096 - acc: 0.8929 - mse: 0.0552 - val_loss: 0.3998 - val_acc: 0.7632 - val_mse: 0.0873\n",
            "Epoch 130/150\n",
            "1/1 [==============================] - 0s 41ms/step - loss: 0.2887 - acc: 0.9018 - mse: 0.0509 - val_loss: 0.4000 - val_acc: 0.7632 - val_mse: 0.0874\n",
            "Epoch 131/150\n",
            "1/1 [==============================] - 0s 33ms/step - loss: 0.3103 - acc: 0.8929 - mse: 0.0563 - val_loss: 0.3997 - val_acc: 0.7632 - val_mse: 0.0875\n",
            "Epoch 132/150\n",
            "1/1 [==============================] - 0s 41ms/step - loss: 0.3026 - acc: 0.9018 - mse: 0.0552 - val_loss: 0.3980 - val_acc: 0.7632 - val_mse: 0.0871\n",
            "Epoch 133/150\n",
            "1/1 [==============================] - 0s 36ms/step - loss: 0.3196 - acc: 0.8661 - mse: 0.0599 - val_loss: 0.3978 - val_acc: 0.7632 - val_mse: 0.0872\n",
            "Epoch 134/150\n",
            "1/1 [==============================] - 0s 38ms/step - loss: 0.2641 - acc: 0.9196 - mse: 0.0445 - val_loss: 0.3982 - val_acc: 0.7632 - val_mse: 0.0874\n",
            "Epoch 135/150\n",
            "1/1 [==============================] - 0s 35ms/step - loss: 0.3251 - acc: 0.8839 - mse: 0.0592 - val_loss: 0.3977 - val_acc: 0.7632 - val_mse: 0.0874\n",
            "Epoch 136/150\n",
            "1/1 [==============================] - 0s 37ms/step - loss: 0.3260 - acc: 0.8929 - mse: 0.0603 - val_loss: 0.3960 - val_acc: 0.7632 - val_mse: 0.0870\n",
            "Epoch 137/150\n",
            "1/1 [==============================] - 0s 37ms/step - loss: 0.3275 - acc: 0.8750 - mse: 0.0617 - val_loss: 0.3954 - val_acc: 0.7632 - val_mse: 0.0869\n",
            "Epoch 138/150\n",
            "1/1 [==============================] - 0s 37ms/step - loss: 0.2784 - acc: 0.9107 - mse: 0.0488 - val_loss: 0.3949 - val_acc: 0.7632 - val_mse: 0.0869\n",
            "Epoch 139/150\n",
            "1/1 [==============================] - 0s 37ms/step - loss: 0.2910 - acc: 0.8839 - mse: 0.0537 - val_loss: 0.3922 - val_acc: 0.7632 - val_mse: 0.0863\n",
            "Epoch 140/150\n",
            "1/1 [==============================] - 0s 34ms/step - loss: 0.3100 - acc: 0.9018 - mse: 0.0564 - val_loss: 0.3913 - val_acc: 0.7632 - val_mse: 0.0861\n",
            "Epoch 141/150\n",
            "1/1 [==============================] - 0s 36ms/step - loss: 0.2959 - acc: 0.9107 - mse: 0.0538 - val_loss: 0.3904 - val_acc: 0.7632 - val_mse: 0.0860\n",
            "Epoch 142/150\n",
            "1/1 [==============================] - 0s 43ms/step - loss: 0.3074 - acc: 0.9107 - mse: 0.0561 - val_loss: 0.3883 - val_acc: 0.7632 - val_mse: 0.0855\n",
            "Epoch 143/150\n",
            "1/1 [==============================] - 0s 36ms/step - loss: 0.2910 - acc: 0.9018 - mse: 0.0528 - val_loss: 0.3883 - val_acc: 0.7632 - val_mse: 0.0857\n",
            "Epoch 144/150\n",
            "1/1 [==============================] - 0s 32ms/step - loss: 0.2806 - acc: 0.9196 - mse: 0.0500 - val_loss: 0.3870 - val_acc: 0.7632 - val_mse: 0.0854\n",
            "Epoch 145/150\n",
            "1/1 [==============================] - 0s 39ms/step - loss: 0.2730 - acc: 0.9196 - mse: 0.0482 - val_loss: 0.3855 - val_acc: 0.7632 - val_mse: 0.0851\n",
            "Epoch 146/150\n",
            "1/1 [==============================] - 0s 41ms/step - loss: 0.2621 - acc: 0.9196 - mse: 0.0469 - val_loss: 0.3824 - val_acc: 0.7632 - val_mse: 0.0844\n",
            "Epoch 147/150\n",
            "1/1 [==============================] - 0s 36ms/step - loss: 0.2794 - acc: 0.9018 - mse: 0.0490 - val_loss: 0.3829 - val_acc: 0.7632 - val_mse: 0.0846\n",
            "Epoch 148/150\n",
            "1/1 [==============================] - 0s 41ms/step - loss: 0.2522 - acc: 0.9286 - mse: 0.0430 - val_loss: 0.3804 - val_acc: 0.7632 - val_mse: 0.0840\n",
            "Epoch 149/150\n",
            "1/1 [==============================] - 0s 34ms/step - loss: 0.2828 - acc: 0.9018 - mse: 0.0509 - val_loss: 0.3785 - val_acc: 0.7895 - val_mse: 0.0836\n",
            "Epoch 150/150\n",
            "1/1 [==============================] - 0s 44ms/step - loss: 0.2909 - acc: 0.9018 - mse: 0.0542 - val_loss: 0.3762 - val_acc: 0.7895 - val_mse: 0.0831\n"
          ]
        }
      ]
    },
    {
      "cell_type": "code",
      "metadata": {
        "id": "TXXwaQ1PMWFE",
        "colab": {
          "base_uri": "https://localhost:8080/"
        },
        "outputId": "fb4f61dd-ea40-49bf-e84d-3f3977be3bae"
      },
      "source": [
        "#just how we used evaluate() in the basic model previously, use it again to find the loss, accuracy and MSE on the test set\n",
        "\n",
        "loss7, acc7, mse7 = model7.evaluate(X_test,y_test)\n"
      ],
      "execution_count": 405,
      "outputs": [
        {
          "output_type": "stream",
          "name": "stdout",
          "text": [
            "2/2 [==============================] - 0s 7ms/step - loss: 0.3762 - acc: 0.7895 - mse: 0.0831\n"
          ]
        }
      ]
    },
    {
      "cell_type": "code",
      "metadata": {
        "id": "wlazt8cqMWFF",
        "colab": {
          "base_uri": "https://localhost:8080/",
          "height": 581
        },
        "outputId": "4111b29f-751d-4d24-c7cb-60a3715acd1a"
      },
      "source": [
        "# Plot the train loss vs validation loss and train accuracy vs validation accuracy graphs just like we did before\n",
        "\n",
        "plt.style.use('ggplot')\n",
        "plt.plot(hist7.history['loss'], label = 'loss')\n",
        "plt.plot(hist7.history['val_loss'], label='val loss')\n",
        "plt.title(\"Train Loss vs Val_Loss\")\n",
        "plt.xlabel(\"Epochs\")\n",
        "plt.ylabel(\"Loss\")\n",
        "plt.legend()\n",
        "plt.show()\n",
        "\n",
        "# we observe that validation loss is increasing as compared to training loss. \n",
        "# This increase in training loss shows that our model is overfitted.\n",
        "\n",
        "#similarly we plot for model accuracy \n",
        "plt.plot(hist7.history['acc'], label = 'train acc')\n",
        "plt.plot(hist7.history['val_acc'], label='val acc')\n",
        "plt.title(\"train acc vs Val_acc\")\n",
        "plt.xlabel(\"Epochs\")\n",
        "plt.ylabel(\"acc\")\n",
        "plt.legend()\n",
        "plt.show()\n"
      ],
      "execution_count": 406,
      "outputs": [
        {
          "output_type": "display_data",
          "data": {
            "image/png": "[encoded data removed]",
            "text/plain": [
              "<Figure size 432x288 with 1 Axes>"
            ]
          },
          "metadata": {}
        },
        {
          "output_type": "display_data",
          "data": {
            "image/png": "[encoded data removed]",
            "text/plain": [
              "<Figure size 432x288 with 1 Axes>"
            ]
          },
          "metadata": {}
        }
      ]
    },
    {
      "cell_type": "markdown",
      "metadata": {
        "id": "HbqNzooWMWFG"
      },
      "source": [
        "## Batch Normalization\n"
      ]
    },
    {
      "cell_type": "code",
      "metadata": {
        "id": "Fyu_BpzMMWFH",
        "colab": {
          "base_uri": "https://localhost:8080/"
        },
        "outputId": "8f0bc88d-3232-416f-d1de-14db50d3ce12"
      },
      "source": [
        "\n",
        "# The main idea behind batch normalization is that we normalize the input layer by using several techniques (sklearn.preprocessing.StandardScaler) in our case, which improves the model performance, so if the input layer is benefitted by normalization, why not normalize the hidden layers, which will improve and fasten learning even further.\n",
        "\n",
        "# To add it in your TensorFlow model, just add tf.keras.layers.BatchNormalization() after your layers.\n",
        "\n",
        "#Create model8, having same layers as the first model, but this time add a BatchNormalization layer after the first or second dense layer\n",
        "\n",
        "model8 = Sequential([\n",
        "    Dense(512, activation='tanh', input_shape = X_train[0].shape),\n",
        "    BatchNormalization(),\n",
        "    Dense(512//2, activation='tanh'),\n",
        "    Dense(512//4, activation='tanh'),\n",
        "    Dense(512//8, activation='tanh'),\n",
        "    Dense(32, activation='relu'),\n",
        "    Dense(3, activation='softmax')\n",
        "])\n",
        "\n",
        "model8.compile(optimizer='sgd',loss='categorical_crossentropy', metrics=['acc', 'mse'])\n",
        "\n",
        "hist8 = model8.fit(X_train, y_train, epochs=150, batch_size=128, validation_data=(X_test,y_test))\n",
        " \n"
      ],
      "execution_count": 407,
      "outputs": [
        {
          "output_type": "stream",
          "name": "stdout",
          "text": [
            "Epoch 1/150\n",
            "1/1 [==============================] - 1s 766ms/step - loss: 1.1450 - acc: 0.2143 - mse: 0.2334 - val_loss: 1.0155 - val_acc: 0.6579 - val_mse: 0.2032\n",
            "Epoch 2/150\n",
            "1/1 [==============================] - 0s 33ms/step - loss: 0.8488 - acc: 0.6964 - mse: 0.1639 - val_loss: 0.9610 - val_acc: 0.7105 - val_mse: 0.1905\n",
            "Epoch 3/150\n",
            "1/1 [==============================] - 0s 29ms/step - loss: 0.6966 - acc: 0.8214 - mse: 0.1282 - val_loss: 0.9211 - val_acc: 0.7105 - val_mse: 0.1811\n",
            "Epoch 4/150\n",
            "1/1 [==============================] - 0s 28ms/step - loss: 0.6083 - acc: 0.8482 - mse: 0.1084 - val_loss: 0.8898 - val_acc: 0.7105 - val_mse: 0.1738\n",
            "Epoch 5/150\n",
            "1/1 [==============================] - 0s 30ms/step - loss: 0.5500 - acc: 0.8571 - mse: 0.0960 - val_loss: 0.8660 - val_acc: 0.7368 - val_mse: 0.1681\n",
            "Epoch 6/150\n",
            "1/1 [==============================] - 0s 26ms/step - loss: 0.5098 - acc: 0.8571 - mse: 0.0878 - val_loss: 0.8454 - val_acc: 0.7105 - val_mse: 0.1633\n",
            "Epoch 7/150\n",
            "1/1 [==============================] - 0s 25ms/step - loss: 0.4784 - acc: 0.8661 - mse: 0.0815 - val_loss: 0.8279 - val_acc: 0.7105 - val_mse: 0.1591\n",
            "Epoch 8/150\n",
            "1/1 [==============================] - 0s 28ms/step - loss: 0.4535 - acc: 0.8661 - mse: 0.0766 - val_loss: 0.8126 - val_acc: 0.7105 - val_mse: 0.1556\n",
            "Epoch 9/150\n",
            "1/1 [==============================] - 0s 34ms/step - loss: 0.4333 - acc: 0.8750 - mse: 0.0728 - val_loss: 0.7990 - val_acc: 0.7105 - val_mse: 0.1524\n",
            "Epoch 10/150\n",
            "1/1 [==============================] - 0s 30ms/step - loss: 0.4169 - acc: 0.8750 - mse: 0.0698 - val_loss: 0.7871 - val_acc: 0.7105 - val_mse: 0.1496\n",
            "Epoch 11/150\n",
            "1/1 [==============================] - 0s 39ms/step - loss: 0.4033 - acc: 0.8929 - mse: 0.0673 - val_loss: 0.7763 - val_acc: 0.7368 - val_mse: 0.1471\n",
            "Epoch 12/150\n",
            "1/1 [==============================] - 0s 26ms/step - loss: 0.3917 - acc: 0.8929 - mse: 0.0653 - val_loss: 0.7665 - val_acc: 0.7368 - val_mse: 0.1448\n",
            "Epoch 13/150\n",
            "1/1 [==============================] - 0s 32ms/step - loss: 0.3816 - acc: 0.9196 - mse: 0.0635 - val_loss: 0.7574 - val_acc: 0.7368 - val_mse: 0.1428\n",
            "Epoch 14/150\n",
            "1/1 [==============================] - 0s 34ms/step - loss: 0.3724 - acc: 0.9196 - mse: 0.0619 - val_loss: 0.7489 - val_acc: 0.7368 - val_mse: 0.1408\n",
            "Epoch 15/150\n",
            "1/1 [==============================] - 0s 35ms/step - loss: 0.3639 - acc: 0.9196 - mse: 0.0604 - val_loss: 0.7408 - val_acc: 0.7368 - val_mse: 0.1390\n",
            "Epoch 16/150\n",
            "1/1 [==============================] - 0s 30ms/step - loss: 0.3562 - acc: 0.9196 - mse: 0.0591 - val_loss: 0.7331 - val_acc: 0.7368 - val_mse: 0.1373\n",
            "Epoch 17/150\n",
            "1/1 [==============================] - 0s 29ms/step - loss: 0.3491 - acc: 0.9196 - mse: 0.0579 - val_loss: 0.7258 - val_acc: 0.7368 - val_mse: 0.1356\n",
            "Epoch 18/150\n",
            "1/1 [==============================] - 0s 30ms/step - loss: 0.3424 - acc: 0.9196 - mse: 0.0567 - val_loss: 0.7189 - val_acc: 0.7368 - val_mse: 0.1341\n",
            "Epoch 19/150\n",
            "1/1 [==============================] - 0s 27ms/step - loss: 0.3361 - acc: 0.9196 - mse: 0.0556 - val_loss: 0.7123 - val_acc: 0.7368 - val_mse: 0.1326\n",
            "Epoch 20/150\n",
            "1/1 [==============================] - 0s 32ms/step - loss: 0.3302 - acc: 0.9196 - mse: 0.0546 - val_loss: 0.7059 - val_acc: 0.7368 - val_mse: 0.1312\n",
            "Epoch 21/150\n",
            "1/1 [==============================] - 0s 27ms/step - loss: 0.3246 - acc: 0.9196 - mse: 0.0536 - val_loss: 0.6999 - val_acc: 0.7368 - val_mse: 0.1299\n",
            "Epoch 22/150\n",
            "1/1 [==============================] - 0s 33ms/step - loss: 0.3193 - acc: 0.9196 - mse: 0.0527 - val_loss: 0.6941 - val_acc: 0.7368 - val_mse: 0.1287\n",
            "Epoch 23/150\n",
            "1/1 [==============================] - 0s 28ms/step - loss: 0.3142 - acc: 0.9196 - mse: 0.0518 - val_loss: 0.6885 - val_acc: 0.7895 - val_mse: 0.1275\n",
            "Epoch 24/150\n",
            "1/1 [==============================] - 0s 32ms/step - loss: 0.3093 - acc: 0.9196 - mse: 0.0510 - val_loss: 0.6832 - val_acc: 0.7895 - val_mse: 0.1264\n",
            "Epoch 25/150\n",
            "1/1 [==============================] - 0s 30ms/step - loss: 0.3045 - acc: 0.9196 - mse: 0.0501 - val_loss: 0.6780 - val_acc: 0.7895 - val_mse: 0.1252\n",
            "Epoch 26/150\n",
            "1/1 [==============================] - 0s 31ms/step - loss: 0.2997 - acc: 0.9196 - mse: 0.0493 - val_loss: 0.6729 - val_acc: 0.7895 - val_mse: 0.1242\n",
            "Epoch 27/150\n",
            "1/1 [==============================] - 0s 28ms/step - loss: 0.2952 - acc: 0.9196 - mse: 0.0485 - val_loss: 0.6680 - val_acc: 0.7895 - val_mse: 0.1231\n",
            "Epoch 28/150\n",
            "1/1 [==============================] - 0s 35ms/step - loss: 0.2908 - acc: 0.9196 - mse: 0.0477 - val_loss: 0.6633 - val_acc: 0.7895 - val_mse: 0.1221\n",
            "Epoch 29/150\n",
            "1/1 [==============================] - 0s 31ms/step - loss: 0.2867 - acc: 0.9196 - mse: 0.0470 - val_loss: 0.6587 - val_acc: 0.7895 - val_mse: 0.1212\n",
            "Epoch 30/150\n",
            "1/1 [==============================] - 0s 32ms/step - loss: 0.2827 - acc: 0.9196 - mse: 0.0463 - val_loss: 0.6542 - val_acc: 0.7895 - val_mse: 0.1203\n",
            "Epoch 31/150\n",
            "1/1 [==============================] - 0s 27ms/step - loss: 0.2788 - acc: 0.9196 - mse: 0.0456 - val_loss: 0.6499 - val_acc: 0.7895 - val_mse: 0.1194\n",
            "Epoch 32/150\n",
            "1/1 [==============================] - 0s 35ms/step - loss: 0.2751 - acc: 0.9196 - mse: 0.0449 - val_loss: 0.6457 - val_acc: 0.7895 - val_mse: 0.1185\n",
            "Epoch 33/150\n",
            "1/1 [==============================] - 0s 29ms/step - loss: 0.2716 - acc: 0.9196 - mse: 0.0443 - val_loss: 0.6416 - val_acc: 0.7895 - val_mse: 0.1177\n",
            "Epoch 34/150\n",
            "1/1 [==============================] - 0s 33ms/step - loss: 0.2682 - acc: 0.9196 - mse: 0.0437 - val_loss: 0.6376 - val_acc: 0.7895 - val_mse: 0.1169\n",
            "Epoch 35/150\n",
            "1/1 [==============================] - 0s 29ms/step - loss: 0.2648 - acc: 0.9196 - mse: 0.0431 - val_loss: 0.6338 - val_acc: 0.7895 - val_mse: 0.1161\n",
            "Epoch 36/150\n",
            "1/1 [==============================] - 0s 26ms/step - loss: 0.2616 - acc: 0.9196 - mse: 0.0425 - val_loss: 0.6300 - val_acc: 0.7895 - val_mse: 0.1153\n",
            "Epoch 37/150\n",
            "1/1 [==============================] - 0s 28ms/step - loss: 0.2584 - acc: 0.9196 - mse: 0.0419 - val_loss: 0.6263 - val_acc: 0.7895 - val_mse: 0.1146\n",
            "Epoch 38/150\n",
            "1/1 [==============================] - 0s 31ms/step - loss: 0.2554 - acc: 0.9196 - mse: 0.0414 - val_loss: 0.6228 - val_acc: 0.8158 - val_mse: 0.1139\n",
            "Epoch 39/150\n",
            "1/1 [==============================] - 0s 30ms/step - loss: 0.2524 - acc: 0.9196 - mse: 0.0408 - val_loss: 0.6193 - val_acc: 0.8158 - val_mse: 0.1132\n",
            "Epoch 40/150\n",
            "1/1 [==============================] - 0s 33ms/step - loss: 0.2496 - acc: 0.9196 - mse: 0.0403 - val_loss: 0.6160 - val_acc: 0.8158 - val_mse: 0.1126\n",
            "Epoch 41/150\n",
            "1/1 [==============================] - 0s 32ms/step - loss: 0.2469 - acc: 0.9286 - mse: 0.0398 - val_loss: 0.6127 - val_acc: 0.8158 - val_mse: 0.1119\n",
            "Epoch 42/150\n",
            "1/1 [==============================] - 0s 29ms/step - loss: 0.2442 - acc: 0.9286 - mse: 0.0394 - val_loss: 0.6096 - val_acc: 0.8158 - val_mse: 0.1113\n",
            "Epoch 43/150\n",
            "1/1 [==============================] - 0s 30ms/step - loss: 0.2416 - acc: 0.9286 - mse: 0.0389 - val_loss: 0.6065 - val_acc: 0.8158 - val_mse: 0.1108\n",
            "Epoch 44/150\n",
            "1/1 [==============================] - 0s 28ms/step - loss: 0.2392 - acc: 0.9286 - mse: 0.0385 - val_loss: 0.6036 - val_acc: 0.8158 - val_mse: 0.1102\n",
            "Epoch 45/150\n",
            "1/1 [==============================] - 0s 28ms/step - loss: 0.2368 - acc: 0.9286 - mse: 0.0380 - val_loss: 0.6006 - val_acc: 0.8158 - val_mse: 0.1097\n",
            "Epoch 46/150\n",
            "1/1 [==============================] - 0s 31ms/step - loss: 0.2345 - acc: 0.9286 - mse: 0.0376 - val_loss: 0.5979 - val_acc: 0.8158 - val_mse: 0.1091\n",
            "Epoch 47/150\n",
            "1/1 [==============================] - 0s 32ms/step - loss: 0.2322 - acc: 0.9286 - mse: 0.0372 - val_loss: 0.5951 - val_acc: 0.8158 - val_mse: 0.1086\n",
            "Epoch 48/150\n",
            "1/1 [==============================] - 0s 34ms/step - loss: 0.2301 - acc: 0.9286 - mse: 0.0368 - val_loss: 0.5924 - val_acc: 0.8158 - val_mse: 0.1081\n",
            "Epoch 49/150\n",
            "1/1 [==============================] - 0s 26ms/step - loss: 0.2279 - acc: 0.9286 - mse: 0.0364 - val_loss: 0.5897 - val_acc: 0.8158 - val_mse: 0.1077\n",
            "Epoch 50/150\n",
            "1/1 [==============================] - 0s 29ms/step - loss: 0.2258 - acc: 0.9286 - mse: 0.0360 - val_loss: 0.5871 - val_acc: 0.8158 - val_mse: 0.1072\n",
            "Epoch 51/150\n",
            "1/1 [==============================] - 0s 31ms/step - loss: 0.2238 - acc: 0.9286 - mse: 0.0357 - val_loss: 0.5845 - val_acc: 0.8158 - val_mse: 0.1067\n",
            "Epoch 52/150\n",
            "1/1 [==============================] - 0s 32ms/step - loss: 0.2218 - acc: 0.9286 - mse: 0.0353 - val_loss: 0.5820 - val_acc: 0.8158 - val_mse: 0.1063\n",
            "Epoch 53/150\n",
            "1/1 [==============================] - 0s 54ms/step - loss: 0.2199 - acc: 0.9286 - mse: 0.0350 - val_loss: 0.5795 - val_acc: 0.8158 - val_mse: 0.1058\n",
            "Epoch 54/150\n",
            "1/1 [==============================] - 0s 33ms/step - loss: 0.2180 - acc: 0.9286 - mse: 0.0346 - val_loss: 0.5771 - val_acc: 0.8158 - val_mse: 0.1054\n",
            "Epoch 55/150\n",
            "1/1 [==============================] - 0s 34ms/step - loss: 0.2161 - acc: 0.9286 - mse: 0.0343 - val_loss: 0.5747 - val_acc: 0.8158 - val_mse: 0.1050\n",
            "Epoch 56/150\n",
            "1/1 [==============================] - 0s 30ms/step - loss: 0.2143 - acc: 0.9286 - mse: 0.0340 - val_loss: 0.5724 - val_acc: 0.8158 - val_mse: 0.1046\n",
            "Epoch 57/150\n",
            "1/1 [==============================] - 0s 29ms/step - loss: 0.2125 - acc: 0.9286 - mse: 0.0336 - val_loss: 0.5701 - val_acc: 0.8158 - val_mse: 0.1042\n",
            "Epoch 58/150\n",
            "1/1 [==============================] - 0s 26ms/step - loss: 0.2107 - acc: 0.9286 - mse: 0.0333 - val_loss: 0.5679 - val_acc: 0.8158 - val_mse: 0.1038\n",
            "Epoch 59/150\n",
            "1/1 [==============================] - 0s 32ms/step - loss: 0.2089 - acc: 0.9286 - mse: 0.0330 - val_loss: 0.5656 - val_acc: 0.8158 - val_mse: 0.1034\n",
            "Epoch 60/150\n",
            "1/1 [==============================] - 0s 34ms/step - loss: 0.2072 - acc: 0.9286 - mse: 0.0327 - val_loss: 0.5635 - val_acc: 0.8158 - val_mse: 0.1030\n",
            "Epoch 61/150\n",
            "1/1 [==============================] - 0s 33ms/step - loss: 0.2055 - acc: 0.9286 - mse: 0.0324 - val_loss: 0.5614 - val_acc: 0.8158 - val_mse: 0.1027\n",
            "Epoch 62/150\n",
            "1/1 [==============================] - 0s 31ms/step - loss: 0.2039 - acc: 0.9286 - mse: 0.0321 - val_loss: 0.5592 - val_acc: 0.8158 - val_mse: 0.1023\n",
            "Epoch 63/150\n",
            "1/1 [==============================] - 0s 44ms/step - loss: 0.2022 - acc: 0.9286 - mse: 0.0318 - val_loss: 0.5572 - val_acc: 0.8158 - val_mse: 0.1020\n",
            "Epoch 64/150\n",
            "1/1 [==============================] - 0s 40ms/step - loss: 0.2006 - acc: 0.9286 - mse: 0.0315 - val_loss: 0.5552 - val_acc: 0.8158 - val_mse: 0.1016\n",
            "Epoch 65/150\n",
            "1/1 [==============================] - 0s 39ms/step - loss: 0.1990 - acc: 0.9375 - mse: 0.0312 - val_loss: 0.5533 - val_acc: 0.8421 - val_mse: 0.1013\n",
            "Epoch 66/150\n",
            "1/1 [==============================] - 0s 37ms/step - loss: 0.1974 - acc: 0.9375 - mse: 0.0309 - val_loss: 0.5514 - val_acc: 0.8421 - val_mse: 0.1010\n",
            "Epoch 67/150\n",
            "1/1 [==============================] - 0s 33ms/step - loss: 0.1958 - acc: 0.9375 - mse: 0.0306 - val_loss: 0.5494 - val_acc: 0.8158 - val_mse: 0.1007\n",
            "Epoch 68/150\n",
            "1/1 [==============================] - 0s 32ms/step - loss: 0.1943 - acc: 0.9375 - mse: 0.0303 - val_loss: 0.5475 - val_acc: 0.8158 - val_mse: 0.1004\n",
            "Epoch 69/150\n",
            "1/1 [==============================] - 0s 33ms/step - loss: 0.1928 - acc: 0.9375 - mse: 0.0301 - val_loss: 0.5456 - val_acc: 0.8158 - val_mse: 0.1001\n",
            "Epoch 70/150\n",
            "1/1 [==============================] - 0s 30ms/step - loss: 0.1913 - acc: 0.9375 - mse: 0.0298 - val_loss: 0.5438 - val_acc: 0.8158 - val_mse: 0.0997\n",
            "Epoch 71/150\n",
            "1/1 [==============================] - 0s 30ms/step - loss: 0.1899 - acc: 0.9464 - mse: 0.0295 - val_loss: 0.5419 - val_acc: 0.8158 - val_mse: 0.0995\n",
            "Epoch 72/150\n",
            "1/1 [==============================] - 0s 39ms/step - loss: 0.1885 - acc: 0.9464 - mse: 0.0293 - val_loss: 0.5401 - val_acc: 0.8158 - val_mse: 0.0992\n",
            "Epoch 73/150\n",
            "1/1 [==============================] - 0s 34ms/step - loss: 0.1871 - acc: 0.9464 - mse: 0.0290 - val_loss: 0.5384 - val_acc: 0.8158 - val_mse: 0.0989\n",
            "Epoch 74/150\n",
            "1/1 [==============================] - 0s 32ms/step - loss: 0.1857 - acc: 0.9464 - mse: 0.0288 - val_loss: 0.5366 - val_acc: 0.8158 - val_mse: 0.0986\n",
            "Epoch 75/150\n",
            "1/1 [==============================] - 0s 36ms/step - loss: 0.1843 - acc: 0.9464 - mse: 0.0285 - val_loss: 0.5349 - val_acc: 0.8158 - val_mse: 0.0983\n",
            "Epoch 76/150\n",
            "1/1 [==============================] - 0s 31ms/step - loss: 0.1830 - acc: 0.9464 - mse: 0.0283 - val_loss: 0.5332 - val_acc: 0.8421 - val_mse: 0.0981\n",
            "Epoch 77/150\n",
            "1/1 [==============================] - 0s 32ms/step - loss: 0.1817 - acc: 0.9464 - mse: 0.0281 - val_loss: 0.5315 - val_acc: 0.8421 - val_mse: 0.0978\n",
            "Epoch 78/150\n",
            "1/1 [==============================] - 0s 34ms/step - loss: 0.1804 - acc: 0.9464 - mse: 0.0278 - val_loss: 0.5299 - val_acc: 0.8421 - val_mse: 0.0975\n",
            "Epoch 79/150\n",
            "1/1 [==============================] - 0s 29ms/step - loss: 0.1791 - acc: 0.9464 - mse: 0.0276 - val_loss: 0.5284 - val_acc: 0.8421 - val_mse: 0.0973\n",
            "Epoch 80/150\n",
            "1/1 [==============================] - 0s 48ms/step - loss: 0.1779 - acc: 0.9464 - mse: 0.0274 - val_loss: 0.5267 - val_acc: 0.8421 - val_mse: 0.0970\n",
            "Epoch 81/150\n",
            "1/1 [==============================] - 0s 39ms/step - loss: 0.1767 - acc: 0.9464 - mse: 0.0272 - val_loss: 0.5253 - val_acc: 0.8421 - val_mse: 0.0968\n",
            "Epoch 82/150\n",
            "1/1 [==============================] - 0s 35ms/step - loss: 0.1754 - acc: 0.9464 - mse: 0.0269 - val_loss: 0.5237 - val_acc: 0.8421 - val_mse: 0.0966\n",
            "Epoch 83/150\n",
            "1/1 [==============================] - 0s 34ms/step - loss: 0.1743 - acc: 0.9464 - mse: 0.0267 - val_loss: 0.5223 - val_acc: 0.8421 - val_mse: 0.0964\n",
            "Epoch 84/150\n",
            "1/1 [==============================] - 0s 36ms/step - loss: 0.1731 - acc: 0.9464 - mse: 0.0265 - val_loss: 0.5207 - val_acc: 0.8421 - val_mse: 0.0961\n",
            "Epoch 85/150\n",
            "1/1 [==============================] - 0s 35ms/step - loss: 0.1719 - acc: 0.9464 - mse: 0.0263 - val_loss: 0.5193 - val_acc: 0.8421 - val_mse: 0.0959\n",
            "Epoch 86/150\n",
            "1/1 [==============================] - 0s 36ms/step - loss: 0.1708 - acc: 0.9464 - mse: 0.0261 - val_loss: 0.5178 - val_acc: 0.8684 - val_mse: 0.0957\n",
            "Epoch 87/150\n",
            "1/1 [==============================] - 0s 35ms/step - loss: 0.1697 - acc: 0.9464 - mse: 0.0259 - val_loss: 0.5165 - val_acc: 0.8684 - val_mse: 0.0955\n",
            "Epoch 88/150\n",
            "1/1 [==============================] - 0s 31ms/step - loss: 0.1686 - acc: 0.9464 - mse: 0.0257 - val_loss: 0.5151 - val_acc: 0.8684 - val_mse: 0.0953\n",
            "Epoch 89/150\n",
            "1/1 [==============================] - 0s 31ms/step - loss: 0.1675 - acc: 0.9464 - mse: 0.0255 - val_loss: 0.5137 - val_acc: 0.8684 - val_mse: 0.0950\n",
            "Epoch 90/150\n",
            "1/1 [==============================] - 0s 30ms/step - loss: 0.1664 - acc: 0.9464 - mse: 0.0253 - val_loss: 0.5124 - val_acc: 0.8684 - val_mse: 0.0949\n",
            "Epoch 91/150\n",
            "1/1 [==============================] - 0s 28ms/step - loss: 0.1654 - acc: 0.9464 - mse: 0.0251 - val_loss: 0.5110 - val_acc: 0.8684 - val_mse: 0.0946\n",
            "Epoch 92/150\n",
            "1/1 [==============================] - 0s 27ms/step - loss: 0.1643 - acc: 0.9464 - mse: 0.0249 - val_loss: 0.5097 - val_acc: 0.8684 - val_mse: 0.0945\n",
            "Epoch 93/150\n",
            "1/1 [==============================] - 0s 48ms/step - loss: 0.1633 - acc: 0.9464 - mse: 0.0247 - val_loss: 0.5085 - val_acc: 0.8684 - val_mse: 0.0943\n",
            "Epoch 94/150\n",
            "1/1 [==============================] - 0s 35ms/step - loss: 0.1622 - acc: 0.9464 - mse: 0.0246 - val_loss: 0.5072 - val_acc: 0.8684 - val_mse: 0.0941\n",
            "Epoch 95/150\n",
            "1/1 [==============================] - 0s 38ms/step - loss: 0.1612 - acc: 0.9464 - mse: 0.0244 - val_loss: 0.5059 - val_acc: 0.8684 - val_mse: 0.0939\n",
            "Epoch 96/150\n",
            "1/1 [==============================] - 0s 30ms/step - loss: 0.1603 - acc: 0.9464 - mse: 0.0242 - val_loss: 0.5047 - val_acc: 0.8684 - val_mse: 0.0937\n",
            "Epoch 97/150\n",
            "1/1 [==============================] - 0s 40ms/step - loss: 0.1593 - acc: 0.9464 - mse: 0.0240 - val_loss: 0.5035 - val_acc: 0.8684 - val_mse: 0.0935\n",
            "Epoch 98/150\n",
            "1/1 [==============================] - 0s 27ms/step - loss: 0.1583 - acc: 0.9554 - mse: 0.0238 - val_loss: 0.5024 - val_acc: 0.8684 - val_mse: 0.0934\n",
            "Epoch 99/150\n",
            "1/1 [==============================] - 0s 27ms/step - loss: 0.1573 - acc: 0.9554 - mse: 0.0237 - val_loss: 0.5012 - val_acc: 0.8684 - val_mse: 0.0932\n",
            "Epoch 100/150\n",
            "1/1 [==============================] - 0s 32ms/step - loss: 0.1564 - acc: 0.9554 - mse: 0.0235 - val_loss: 0.5002 - val_acc: 0.8684 - val_mse: 0.0931\n",
            "Epoch 101/150\n",
            "1/1 [==============================] - 0s 34ms/step - loss: 0.1554 - acc: 0.9554 - mse: 0.0233 - val_loss: 0.4990 - val_acc: 0.8684 - val_mse: 0.0929\n",
            "Epoch 102/150\n",
            "1/1 [==============================] - 0s 32ms/step - loss: 0.1545 - acc: 0.9554 - mse: 0.0232 - val_loss: 0.4980 - val_acc: 0.8684 - val_mse: 0.0927\n",
            "Epoch 103/150\n",
            "1/1 [==============================] - 0s 55ms/step - loss: 0.1536 - acc: 0.9554 - mse: 0.0230 - val_loss: 0.4969 - val_acc: 0.8684 - val_mse: 0.0926\n",
            "Epoch 104/150\n",
            "1/1 [==============================] - 0s 34ms/step - loss: 0.1527 - acc: 0.9554 - mse: 0.0228 - val_loss: 0.4958 - val_acc: 0.8684 - val_mse: 0.0924\n",
            "Epoch 105/150\n",
            "1/1 [==============================] - 0s 39ms/step - loss: 0.1518 - acc: 0.9554 - mse: 0.0227 - val_loss: 0.4948 - val_acc: 0.8684 - val_mse: 0.0923\n",
            "Epoch 106/150\n",
            "1/1 [==============================] - 0s 33ms/step - loss: 0.1509 - acc: 0.9554 - mse: 0.0225 - val_loss: 0.4937 - val_acc: 0.8684 - val_mse: 0.0921\n",
            "Epoch 107/150\n",
            "1/1 [==============================] - 0s 29ms/step - loss: 0.1500 - acc: 0.9554 - mse: 0.0223 - val_loss: 0.4928 - val_acc: 0.8684 - val_mse: 0.0920\n",
            "Epoch 108/150\n",
            "1/1 [==============================] - 0s 29ms/step - loss: 0.1491 - acc: 0.9554 - mse: 0.0222 - val_loss: 0.4918 - val_acc: 0.8684 - val_mse: 0.0919\n",
            "Epoch 109/150\n",
            "1/1 [==============================] - 0s 31ms/step - loss: 0.1483 - acc: 0.9643 - mse: 0.0220 - val_loss: 0.4908 - val_acc: 0.8684 - val_mse: 0.0917\n",
            "Epoch 110/150\n",
            "1/1 [==============================] - 0s 36ms/step - loss: 0.1474 - acc: 0.9643 - mse: 0.0219 - val_loss: 0.4898 - val_acc: 0.8684 - val_mse: 0.0916\n",
            "Epoch 111/150\n",
            "1/1 [==============================] - 0s 38ms/step - loss: 0.1466 - acc: 0.9643 - mse: 0.0217 - val_loss: 0.4889 - val_acc: 0.8684 - val_mse: 0.0915\n",
            "Epoch 112/150\n",
            "1/1 [==============================] - 0s 31ms/step - loss: 0.1458 - acc: 0.9643 - mse: 0.0216 - val_loss: 0.4880 - val_acc: 0.8684 - val_mse: 0.0913\n",
            "Epoch 113/150\n",
            "1/1 [==============================] - 0s 44ms/step - loss: 0.1449 - acc: 0.9643 - mse: 0.0214 - val_loss: 0.4871 - val_acc: 0.8684 - val_mse: 0.0912\n",
            "Epoch 114/150\n",
            "1/1 [==============================] - 0s 29ms/step - loss: 0.1441 - acc: 0.9643 - mse: 0.0213 - val_loss: 0.4862 - val_acc: 0.8684 - val_mse: 0.0911\n",
            "Epoch 115/150\n",
            "1/1 [==============================] - 0s 32ms/step - loss: 0.1433 - acc: 0.9732 - mse: 0.0211 - val_loss: 0.4853 - val_acc: 0.8684 - val_mse: 0.0909\n",
            "Epoch 116/150\n",
            "1/1 [==============================] - 0s 33ms/step - loss: 0.1425 - acc: 0.9732 - mse: 0.0210 - val_loss: 0.4845 - val_acc: 0.8947 - val_mse: 0.0908\n",
            "Epoch 117/150\n",
            "1/1 [==============================] - 0s 30ms/step - loss: 0.1417 - acc: 0.9732 - mse: 0.0208 - val_loss: 0.4836 - val_acc: 0.8684 - val_mse: 0.0907\n",
            "Epoch 118/150\n",
            "1/1 [==============================] - 0s 34ms/step - loss: 0.1409 - acc: 0.9732 - mse: 0.0207 - val_loss: 0.4828 - val_acc: 0.8684 - val_mse: 0.0906\n",
            "Epoch 119/150\n",
            "1/1 [==============================] - 0s 28ms/step - loss: 0.1401 - acc: 0.9732 - mse: 0.0206 - val_loss: 0.4820 - val_acc: 0.8684 - val_mse: 0.0905\n",
            "Epoch 120/150\n",
            "1/1 [==============================] - 0s 32ms/step - loss: 0.1394 - acc: 0.9732 - mse: 0.0204 - val_loss: 0.4812 - val_acc: 0.8684 - val_mse: 0.0904\n",
            "Epoch 121/150\n",
            "1/1 [==============================] - 0s 35ms/step - loss: 0.1386 - acc: 0.9732 - mse: 0.0203 - val_loss: 0.4804 - val_acc: 0.8684 - val_mse: 0.0903\n",
            "Epoch 122/150\n",
            "1/1 [==============================] - 0s 28ms/step - loss: 0.1378 - acc: 0.9732 - mse: 0.0201 - val_loss: 0.4796 - val_acc: 0.8684 - val_mse: 0.0901\n",
            "Epoch 123/150\n",
            "1/1 [==============================] - 0s 49ms/step - loss: 0.1371 - acc: 0.9732 - mse: 0.0200 - val_loss: 0.4789 - val_acc: 0.8684 - val_mse: 0.0900\n",
            "Epoch 124/150\n",
            "1/1 [==============================] - 0s 37ms/step - loss: 0.1363 - acc: 0.9732 - mse: 0.0199 - val_loss: 0.4781 - val_acc: 0.8684 - val_mse: 0.0899\n",
            "Epoch 125/150\n",
            "1/1 [==============================] - 0s 28ms/step - loss: 0.1356 - acc: 0.9732 - mse: 0.0197 - val_loss: 0.4774 - val_acc: 0.8684 - val_mse: 0.0898\n",
            "Epoch 126/150\n",
            "1/1 [==============================] - 0s 32ms/step - loss: 0.1349 - acc: 0.9732 - mse: 0.0196 - val_loss: 0.4767 - val_acc: 0.8684 - val_mse: 0.0897\n",
            "Epoch 127/150\n",
            "1/1 [==============================] - 0s 31ms/step - loss: 0.1342 - acc: 0.9732 - mse: 0.0195 - val_loss: 0.4759 - val_acc: 0.8684 - val_mse: 0.0896\n",
            "Epoch 128/150\n",
            "1/1 [==============================] - 0s 36ms/step - loss: 0.1334 - acc: 0.9732 - mse: 0.0194 - val_loss: 0.4753 - val_acc: 0.8684 - val_mse: 0.0895\n",
            "Epoch 129/150\n",
            "1/1 [==============================] - 0s 35ms/step - loss: 0.1327 - acc: 0.9732 - mse: 0.0192 - val_loss: 0.4746 - val_acc: 0.8684 - val_mse: 0.0894\n",
            "Epoch 130/150\n",
            "1/1 [==============================] - 0s 29ms/step - loss: 0.1320 - acc: 0.9732 - mse: 0.0191 - val_loss: 0.4738 - val_acc: 0.8684 - val_mse: 0.0893\n",
            "Epoch 131/150\n",
            "1/1 [==============================] - 0s 33ms/step - loss: 0.1313 - acc: 0.9732 - mse: 0.0190 - val_loss: 0.4731 - val_acc: 0.8684 - val_mse: 0.0892\n",
            "Epoch 132/150\n",
            "1/1 [==============================] - 0s 45ms/step - loss: 0.1306 - acc: 0.9732 - mse: 0.0188 - val_loss: 0.4724 - val_acc: 0.8684 - val_mse: 0.0891\n",
            "Epoch 133/150\n",
            "1/1 [==============================] - 0s 28ms/step - loss: 0.1300 - acc: 0.9732 - mse: 0.0187 - val_loss: 0.4717 - val_acc: 0.8684 - val_mse: 0.0890\n",
            "Epoch 134/150\n",
            "1/1 [==============================] - 0s 47ms/step - loss: 0.1293 - acc: 0.9732 - mse: 0.0186 - val_loss: 0.4711 - val_acc: 0.8684 - val_mse: 0.0889\n",
            "Epoch 135/150\n",
            "1/1 [==============================] - 0s 35ms/step - loss: 0.1286 - acc: 0.9732 - mse: 0.0185 - val_loss: 0.4705 - val_acc: 0.8684 - val_mse: 0.0888\n",
            "Epoch 136/150\n",
            "1/1 [==============================] - 0s 29ms/step - loss: 0.1279 - acc: 0.9732 - mse: 0.0184 - val_loss: 0.4698 - val_acc: 0.8684 - val_mse: 0.0887\n",
            "Epoch 137/150\n",
            "1/1 [==============================] - 0s 28ms/step - loss: 0.1273 - acc: 0.9732 - mse: 0.0183 - val_loss: 0.4692 - val_acc: 0.8684 - val_mse: 0.0886\n",
            "Epoch 138/150\n",
            "1/1 [==============================] - 0s 32ms/step - loss: 0.1266 - acc: 0.9732 - mse: 0.0181 - val_loss: 0.4686 - val_acc: 0.8684 - val_mse: 0.0885\n",
            "Epoch 139/150\n",
            "1/1 [==============================] - 0s 29ms/step - loss: 0.1260 - acc: 0.9732 - mse: 0.0180 - val_loss: 0.4680 - val_acc: 0.8684 - val_mse: 0.0884\n",
            "Epoch 140/150\n",
            "1/1 [==============================] - 0s 30ms/step - loss: 0.1253 - acc: 0.9732 - mse: 0.0179 - val_loss: 0.4674 - val_acc: 0.8684 - val_mse: 0.0883\n",
            "Epoch 141/150\n",
            "1/1 [==============================] - 0s 47ms/step - loss: 0.1247 - acc: 0.9732 - mse: 0.0178 - val_loss: 0.4668 - val_acc: 0.8684 - val_mse: 0.0882\n",
            "Epoch 142/150\n",
            "1/1 [==============================] - 0s 35ms/step - loss: 0.1241 - acc: 0.9732 - mse: 0.0177 - val_loss: 0.4662 - val_acc: 0.8684 - val_mse: 0.0881\n",
            "Epoch 143/150\n",
            "1/1 [==============================] - 0s 43ms/step - loss: 0.1234 - acc: 0.9732 - mse: 0.0176 - val_loss: 0.4657 - val_acc: 0.8684 - val_mse: 0.0880\n",
            "Epoch 144/150\n",
            "1/1 [==============================] - 0s 30ms/step - loss: 0.1228 - acc: 0.9732 - mse: 0.0175 - val_loss: 0.4651 - val_acc: 0.8684 - val_mse: 0.0880\n",
            "Epoch 145/150\n",
            "1/1 [==============================] - 0s 29ms/step - loss: 0.1222 - acc: 0.9732 - mse: 0.0174 - val_loss: 0.4645 - val_acc: 0.8684 - val_mse: 0.0879\n",
            "Epoch 146/150\n",
            "1/1 [==============================] - 0s 33ms/step - loss: 0.1216 - acc: 0.9732 - mse: 0.0173 - val_loss: 0.4639 - val_acc: 0.8684 - val_mse: 0.0877\n",
            "Epoch 147/150\n",
            "1/1 [==============================] - 0s 35ms/step - loss: 0.1210 - acc: 0.9732 - mse: 0.0171 - val_loss: 0.4635 - val_acc: 0.8684 - val_mse: 0.0877\n",
            "Epoch 148/150\n",
            "1/1 [==============================] - 0s 38ms/step - loss: 0.1204 - acc: 0.9732 - mse: 0.0170 - val_loss: 0.4629 - val_acc: 0.8684 - val_mse: 0.0876\n",
            "Epoch 149/150\n",
            "1/1 [==============================] - 0s 35ms/step - loss: 0.1198 - acc: 0.9732 - mse: 0.0169 - val_loss: 0.4624 - val_acc: 0.8684 - val_mse: 0.0875\n",
            "Epoch 150/150\n",
            "1/1 [==============================] - 0s 29ms/step - loss: 0.1192 - acc: 0.9732 - mse: 0.0168 - val_loss: 0.4619 - val_acc: 0.8684 - val_mse: 0.0874\n"
          ]
        }
      ]
    },
    {
      "cell_type": "code",
      "metadata": {
        "id": "PjfLP0PzMWFI",
        "colab": {
          "base_uri": "https://localhost:8080/"
        },
        "outputId": "61cd73f4-4ba4-4c65-b55a-e0b64bae40ce"
      },
      "source": [
        "#just how we used evaluate() in the basic model previously, use it again to find the loss, accuracy and MSE on the test set\n",
        "loss8, acc8, mse8 = model8.evaluate(X_test,y_test)"
      ],
      "execution_count": 408,
      "outputs": [
        {
          "output_type": "stream",
          "name": "stdout",
          "text": [
            "2/2 [==============================] - 0s 6ms/step - loss: 0.4619 - acc: 0.8684 - mse: 0.0874\n"
          ]
        }
      ]
    },
    {
      "cell_type": "code",
      "metadata": {
        "id": "IyQoFciHMWFJ",
        "colab": {
          "base_uri": "https://localhost:8080/",
          "height": 581
        },
        "outputId": "e0f59ea1-72a8-4a55-d819-3c0b15697980"
      },
      "source": [
        "# Plot the train loss vs validation loss and train accuracy vs validation accuracy graphs just like we did before\n",
        "\n",
        "plt.style.use('ggplot')\n",
        "plt.plot(hist8.history['loss'], label = 'loss')\n",
        "plt.plot(hist8.history['val_loss'], label='val loss')\n",
        "plt.title(\"Train Loss vs Val_Loss\")\n",
        "plt.xlabel(\"Epochs\")\n",
        "plt.ylabel(\"Loss\")\n",
        "plt.legend()\n",
        "plt.show()\n",
        "\n",
        "# we observe that validation loss is increasing as compared to training loss. \n",
        "# This increase in training loss shows that our model is overfitted.\n",
        "\n",
        "#similarly we plot for model accuracy \n",
        "plt.plot(hist8.history['acc'], label = 'train acc')\n",
        "plt.plot(hist8.history['val_acc'], label='val acc')\n",
        "plt.title(\"train acc vs Val_acc\")\n",
        "plt.xlabel(\"Epochs\")\n",
        "plt.ylabel(\"acc\")\n",
        "plt.legend()\n",
        "plt.show()\n"
      ],
      "execution_count": 409,
      "outputs": [
        {
          "output_type": "display_data",
          "data": {
            "image/png": "[encoded data removed]",
            "text/plain": [
              "<Figure size 432x288 with 1 Axes>"
            ]
          },
          "metadata": {}
        },
        {
          "output_type": "display_data",
          "data": {
            "image/png": "[encoded data removed]",
            "text/plain": [
              "<Figure size 432x288 with 1 Axes>"
            ]
          },
          "metadata": {}
        }
      ]
    },
    {
      "cell_type": "code",
      "metadata": {
        "id": "VOOWApnkMWFK",
        "colab": {
          "base_uri": "https://localhost:8080/"
        },
        "outputId": "3697dd35-ccee-4c15-8993-9ce8bedf243b"
      },
      "source": [
        "\n",
        "# Now create model9, having a BatchNormalization layer after each dense layer\n",
        "\n",
        "model9 = Sequential([\n",
        "    Dense(512, activation='tanh', input_shape = X_train[0].shape),\n",
        "    BatchNormalization(),\n",
        "    Dense(512//2, activation='tanh'),\n",
        "    BatchNormalization(),\n",
        "    Dense(512//4, activation='tanh'),\n",
        "    BatchNormalization(),\n",
        "    Dense(512//8, activation='tanh'),\n",
        "    BatchNormalization(),\n",
        "    Dense(32, activation='relu'),\n",
        "    BatchNormalization(),\n",
        "    Dense(3, activation='softmax'),\n",
        "   \n",
        "])\n",
        "\n",
        "model9.compile(optimizer='sgd',loss='categorical_crossentropy', metrics=['acc', 'mse'])\n",
        "\n",
        "hist9 = model9.fit(X_train, y_train, epochs=150, batch_size=128, validation_data=(X_test,y_test))\n"
      ],
      "execution_count": 410,
      "outputs": [
        {
          "output_type": "stream",
          "name": "stdout",
          "text": [
            "Epoch 1/150\n",
            "1/1 [==============================] - 1s 1s/step - loss: 1.8794 - acc: 0.2321 - mse: 0.3361 - val_loss: 0.8761 - val_acc: 0.6316 - val_mse: 0.1720\n",
            "Epoch 2/150\n",
            "1/1 [==============================] - 0s 30ms/step - loss: 0.7882 - acc: 0.5982 - mse: 0.1589 - val_loss: 0.8426 - val_acc: 0.6316 - val_mse: 0.1637\n",
            "Epoch 3/150\n",
            "1/1 [==============================] - 0s 27ms/step - loss: 0.3541 - acc: 0.8661 - mse: 0.0627 - val_loss: 0.8302 - val_acc: 0.6316 - val_mse: 0.1605\n",
            "Epoch 4/150\n",
            "1/1 [==============================] - 0s 29ms/step - loss: 0.2736 - acc: 0.9107 - mse: 0.0460 - val_loss: 0.8202 - val_acc: 0.6579 - val_mse: 0.1581\n",
            "Epoch 5/150\n",
            "1/1 [==============================] - 0s 39ms/step - loss: 0.2380 - acc: 0.9464 - mse: 0.0379 - val_loss: 0.8111 - val_acc: 0.6842 - val_mse: 0.1560\n",
            "Epoch 6/150\n",
            "1/1 [==============================] - 0s 28ms/step - loss: 0.2129 - acc: 0.9375 - mse: 0.0323 - val_loss: 0.8033 - val_acc: 0.6842 - val_mse: 0.1542\n",
            "Epoch 7/150\n",
            "1/1 [==============================] - 0s 28ms/step - loss: 0.1919 - acc: 0.9554 - mse: 0.0275 - val_loss: 0.7960 - val_acc: 0.6842 - val_mse: 0.1526\n",
            "Epoch 8/150\n",
            "1/1 [==============================] - 0s 30ms/step - loss: 0.1756 - acc: 0.9821 - mse: 0.0238 - val_loss: 0.7895 - val_acc: 0.7632 - val_mse: 0.1511\n",
            "Epoch 9/150\n",
            "1/1 [==============================] - 0s 34ms/step - loss: 0.1626 - acc: 0.9821 - mse: 0.0212 - val_loss: 0.7840 - val_acc: 0.7895 - val_mse: 0.1499\n",
            "Epoch 10/150\n",
            "1/1 [==============================] - 0s 29ms/step - loss: 0.1528 - acc: 0.9911 - mse: 0.0190 - val_loss: 0.7791 - val_acc: 0.8158 - val_mse: 0.1487\n",
            "Epoch 11/150\n",
            "1/1 [==============================] - 0s 31ms/step - loss: 0.1453 - acc: 0.9911 - mse: 0.0178 - val_loss: 0.7745 - val_acc: 0.7895 - val_mse: 0.1478\n",
            "Epoch 12/150\n",
            "1/1 [==============================] - 0s 30ms/step - loss: 0.1400 - acc: 0.9911 - mse: 0.0166 - val_loss: 0.7693 - val_acc: 0.7895 - val_mse: 0.1465\n",
            "Epoch 13/150\n",
            "1/1 [==============================] - 0s 31ms/step - loss: 0.1375 - acc: 0.9911 - mse: 0.0165 - val_loss: 0.7662 - val_acc: 0.7368 - val_mse: 0.1459\n",
            "Epoch 14/150\n",
            "1/1 [==============================] - 0s 30ms/step - loss: 0.1357 - acc: 0.9911 - mse: 0.0160 - val_loss: 0.7605 - val_acc: 0.7368 - val_mse: 0.1446\n",
            "Epoch 15/150\n",
            "1/1 [==============================] - 0s 30ms/step - loss: 0.1290 - acc: 0.9911 - mse: 0.0150 - val_loss: 0.7574 - val_acc: 0.7368 - val_mse: 0.1440\n",
            "Epoch 16/150\n",
            "1/1 [==============================] - 0s 27ms/step - loss: 0.1210 - acc: 0.9911 - mse: 0.0135 - val_loss: 0.7523 - val_acc: 0.7105 - val_mse: 0.1429\n",
            "Epoch 17/150\n",
            "1/1 [==============================] - 0s 32ms/step - loss: 0.1143 - acc: 1.0000 - mse: 0.0123 - val_loss: 0.7494 - val_acc: 0.7105 - val_mse: 0.1423\n",
            "Epoch 18/150\n",
            "1/1 [==============================] - 0s 27ms/step - loss: 0.1097 - acc: 0.9911 - mse: 0.0115 - val_loss: 0.7448 - val_acc: 0.7632 - val_mse: 0.1413\n",
            "Epoch 19/150\n",
            "1/1 [==============================] - 0s 44ms/step - loss: 0.1058 - acc: 1.0000 - mse: 0.0108 - val_loss: 0.7421 - val_acc: 0.8421 - val_mse: 0.1407\n",
            "Epoch 20/150\n",
            "1/1 [==============================] - 0s 37ms/step - loss: 0.1028 - acc: 1.0000 - mse: 0.0104 - val_loss: 0.7381 - val_acc: 0.8158 - val_mse: 0.1398\n",
            "Epoch 21/150\n",
            "1/1 [==============================] - 0s 32ms/step - loss: 0.0990 - acc: 1.0000 - mse: 0.0097 - val_loss: 0.7354 - val_acc: 0.8158 - val_mse: 0.1393\n",
            "Epoch 22/150\n",
            "1/1 [==============================] - 0s 30ms/step - loss: 0.0955 - acc: 1.0000 - mse: 0.0092 - val_loss: 0.7312 - val_acc: 0.8158 - val_mse: 0.1384\n",
            "Epoch 23/150\n",
            "1/1 [==============================] - 0s 32ms/step - loss: 0.0929 - acc: 1.0000 - mse: 0.0087 - val_loss: 0.7284 - val_acc: 0.7895 - val_mse: 0.1379\n",
            "Epoch 24/150\n",
            "1/1 [==============================] - 0s 32ms/step - loss: 0.0897 - acc: 1.0000 - mse: 0.0082 - val_loss: 0.7249 - val_acc: 0.7632 - val_mse: 0.1370\n",
            "Epoch 25/150\n",
            "1/1 [==============================] - 0s 34ms/step - loss: 0.0878 - acc: 1.0000 - mse: 0.0079 - val_loss: 0.7220 - val_acc: 0.7632 - val_mse: 0.1365\n",
            "Epoch 26/150\n",
            "1/1 [==============================] - 0s 30ms/step - loss: 0.0842 - acc: 1.0000 - mse: 0.0073 - val_loss: 0.7183 - val_acc: 0.7632 - val_mse: 0.1357\n",
            "Epoch 27/150\n",
            "1/1 [==============================] - 0s 31ms/step - loss: 0.0824 - acc: 1.0000 - mse: 0.0071 - val_loss: 0.7160 - val_acc: 0.7368 - val_mse: 0.1353\n",
            "Epoch 28/150\n",
            "1/1 [==============================] - 0s 34ms/step - loss: 0.0792 - acc: 1.0000 - mse: 0.0066 - val_loss: 0.7119 - val_acc: 0.7368 - val_mse: 0.1344\n",
            "Epoch 29/150\n",
            "1/1 [==============================] - 0s 34ms/step - loss: 0.0775 - acc: 1.0000 - mse: 0.0063 - val_loss: 0.7102 - val_acc: 0.7368 - val_mse: 0.1341\n",
            "Epoch 30/150\n",
            "1/1 [==============================] - 0s 29ms/step - loss: 0.0756 - acc: 1.0000 - mse: 0.0061 - val_loss: 0.7057 - val_acc: 0.7368 - val_mse: 0.1331\n",
            "Epoch 31/150\n",
            "1/1 [==============================] - 0s 54ms/step - loss: 0.0736 - acc: 1.0000 - mse: 0.0058 - val_loss: 0.7040 - val_acc: 0.7368 - val_mse: 0.1329\n",
            "Epoch 32/150\n",
            "1/1 [==============================] - 0s 28ms/step - loss: 0.0715 - acc: 1.0000 - mse: 0.0055 - val_loss: 0.6999 - val_acc: 0.7368 - val_mse: 0.1320\n",
            "Epoch 33/150\n",
            "1/1 [==============================] - 0s 34ms/step - loss: 0.0694 - acc: 1.0000 - mse: 0.0052 - val_loss: 0.6987 - val_acc: 0.7368 - val_mse: 0.1319\n",
            "Epoch 34/150\n",
            "1/1 [==============================] - 0s 31ms/step - loss: 0.0672 - acc: 1.0000 - mse: 0.0050 - val_loss: 0.6946 - val_acc: 0.7368 - val_mse: 0.1309\n",
            "Epoch 35/150\n",
            "1/1 [==============================] - 0s 37ms/step - loss: 0.0654 - acc: 1.0000 - mse: 0.0047 - val_loss: 0.6935 - val_acc: 0.7368 - val_mse: 0.1308\n",
            "Epoch 36/150\n",
            "1/1 [==============================] - 0s 28ms/step - loss: 0.0632 - acc: 1.0000 - mse: 0.0044 - val_loss: 0.6895 - val_acc: 0.7368 - val_mse: 0.1300\n",
            "Epoch 37/150\n",
            "1/1 [==============================] - 0s 34ms/step - loss: 0.0616 - acc: 1.0000 - mse: 0.0042 - val_loss: 0.6885 - val_acc: 0.7368 - val_mse: 0.1299\n",
            "Epoch 38/150\n",
            "1/1 [==============================] - 0s 30ms/step - loss: 0.0604 - acc: 1.0000 - mse: 0.0041 - val_loss: 0.6847 - val_acc: 0.7368 - val_mse: 0.1290\n",
            "Epoch 39/150\n",
            "1/1 [==============================] - 0s 33ms/step - loss: 0.0587 - acc: 1.0000 - mse: 0.0038 - val_loss: 0.6840 - val_acc: 0.7368 - val_mse: 0.1290\n",
            "Epoch 40/150\n",
            "1/1 [==============================] - 0s 34ms/step - loss: 0.0575 - acc: 1.0000 - mse: 0.0037 - val_loss: 0.6798 - val_acc: 0.7368 - val_mse: 0.1281\n",
            "Epoch 41/150\n",
            "1/1 [==============================] - 0s 33ms/step - loss: 0.0570 - acc: 1.0000 - mse: 0.0037 - val_loss: 0.6793 - val_acc: 0.7368 - val_mse: 0.1282\n",
            "Epoch 42/150\n",
            "1/1 [==============================] - 0s 38ms/step - loss: 0.0570 - acc: 1.0000 - mse: 0.0037 - val_loss: 0.6741 - val_acc: 0.7368 - val_mse: 0.1270\n",
            "Epoch 43/150\n",
            "1/1 [==============================] - 0s 32ms/step - loss: 0.0557 - acc: 1.0000 - mse: 0.0037 - val_loss: 0.6738 - val_acc: 0.7368 - val_mse: 0.1272\n",
            "Epoch 44/150\n",
            "1/1 [==============================] - 0s 33ms/step - loss: 0.0560 - acc: 1.0000 - mse: 0.0038 - val_loss: 0.6687 - val_acc: 0.7368 - val_mse: 0.1260\n",
            "Epoch 45/150\n",
            "1/1 [==============================] - 0s 31ms/step - loss: 0.0575 - acc: 1.0000 - mse: 0.0043 - val_loss: 0.6683 - val_acc: 0.7368 - val_mse: 0.1261\n",
            "Epoch 46/150\n",
            "1/1 [==============================] - 0s 32ms/step - loss: 0.0557 - acc: 1.0000 - mse: 0.0040 - val_loss: 0.6651 - val_acc: 0.7368 - val_mse: 0.1254\n",
            "Epoch 47/150\n",
            "1/1 [==============================] - 0s 33ms/step - loss: 0.0548 - acc: 1.0000 - mse: 0.0039 - val_loss: 0.6642 - val_acc: 0.7368 - val_mse: 0.1254\n",
            "Epoch 48/150\n",
            "1/1 [==============================] - 0s 29ms/step - loss: 0.0523 - acc: 1.0000 - mse: 0.0035 - val_loss: 0.6618 - val_acc: 0.7368 - val_mse: 0.1249\n",
            "Epoch 49/150\n",
            "1/1 [==============================] - 0s 40ms/step - loss: 0.0501 - acc: 1.0000 - mse: 0.0032 - val_loss: 0.6605 - val_acc: 0.7368 - val_mse: 0.1247\n",
            "Epoch 50/150\n",
            "1/1 [==============================] - 0s 37ms/step - loss: 0.0484 - acc: 1.0000 - mse: 0.0029 - val_loss: 0.6586 - val_acc: 0.7368 - val_mse: 0.1244\n",
            "Epoch 51/150\n",
            "1/1 [==============================] - 0s 38ms/step - loss: 0.0473 - acc: 1.0000 - mse: 0.0027 - val_loss: 0.6571 - val_acc: 0.7368 - val_mse: 0.1242\n",
            "Epoch 52/150\n",
            "1/1 [==============================] - 0s 38ms/step - loss: 0.0463 - acc: 1.0000 - mse: 0.0027 - val_loss: 0.6548 - val_acc: 0.7368 - val_mse: 0.1238\n",
            "Epoch 53/150\n",
            "1/1 [==============================] - 0s 35ms/step - loss: 0.0454 - acc: 1.0000 - mse: 0.0025 - val_loss: 0.6531 - val_acc: 0.7368 - val_mse: 0.1236\n",
            "Epoch 54/150\n",
            "1/1 [==============================] - 0s 33ms/step - loss: 0.0450 - acc: 1.0000 - mse: 0.0025 - val_loss: 0.6510 - val_acc: 0.7368 - val_mse: 0.1232\n",
            "Epoch 55/150\n",
            "1/1 [==============================] - 0s 34ms/step - loss: 0.0445 - acc: 1.0000 - mse: 0.0024 - val_loss: 0.6495 - val_acc: 0.7368 - val_mse: 0.1230\n",
            "Epoch 56/150\n",
            "1/1 [==============================] - 0s 31ms/step - loss: 0.0444 - acc: 1.0000 - mse: 0.0024 - val_loss: 0.6464 - val_acc: 0.7368 - val_mse: 0.1224\n",
            "Epoch 57/150\n",
            "1/1 [==============================] - 0s 31ms/step - loss: 0.0447 - acc: 1.0000 - mse: 0.0026 - val_loss: 0.6457 - val_acc: 0.7368 - val_mse: 0.1224\n",
            "Epoch 58/150\n",
            "1/1 [==============================] - 0s 31ms/step - loss: 0.0438 - acc: 1.0000 - mse: 0.0025 - val_loss: 0.6430 - val_acc: 0.7368 - val_mse: 0.1219\n",
            "Epoch 59/150\n",
            "1/1 [==============================] - 0s 31ms/step - loss: 0.0426 - acc: 1.0000 - mse: 0.0023 - val_loss: 0.6424 - val_acc: 0.7368 - val_mse: 0.1219\n",
            "Epoch 60/150\n",
            "1/1 [==============================] - 0s 31ms/step - loss: 0.0415 - acc: 1.0000 - mse: 0.0021 - val_loss: 0.6401 - val_acc: 0.7368 - val_mse: 0.1215\n",
            "Epoch 61/150\n",
            "1/1 [==============================] - 0s 32ms/step - loss: 0.0411 - acc: 1.0000 - mse: 0.0022 - val_loss: 0.6394 - val_acc: 0.7368 - val_mse: 0.1216\n",
            "Epoch 62/150\n",
            "1/1 [==============================] - 0s 43ms/step - loss: 0.0406 - acc: 1.0000 - mse: 0.0021 - val_loss: 0.6369 - val_acc: 0.7368 - val_mse: 0.1211\n",
            "Epoch 63/150\n",
            "1/1 [==============================] - 0s 32ms/step - loss: 0.0399 - acc: 1.0000 - mse: 0.0021 - val_loss: 0.6359 - val_acc: 0.7368 - val_mse: 0.1211\n",
            "Epoch 64/150\n",
            "1/1 [==============================] - 0s 32ms/step - loss: 0.0396 - acc: 1.0000 - mse: 0.0020 - val_loss: 0.6333 - val_acc: 0.7368 - val_mse: 0.1206\n",
            "Epoch 65/150\n",
            "1/1 [==============================] - 0s 35ms/step - loss: 0.0393 - acc: 1.0000 - mse: 0.0020 - val_loss: 0.6327 - val_acc: 0.7368 - val_mse: 0.1206\n",
            "Epoch 66/150\n",
            "1/1 [==============================] - 0s 30ms/step - loss: 0.0386 - acc: 1.0000 - mse: 0.0019 - val_loss: 0.6307 - val_acc: 0.7368 - val_mse: 0.1203\n",
            "Epoch 67/150\n",
            "1/1 [==============================] - 0s 31ms/step - loss: 0.0382 - acc: 1.0000 - mse: 0.0019 - val_loss: 0.6302 - val_acc: 0.7368 - val_mse: 0.1204\n",
            "Epoch 68/150\n",
            "1/1 [==============================] - 0s 32ms/step - loss: 0.0373 - acc: 1.0000 - mse: 0.0017 - val_loss: 0.6280 - val_acc: 0.7368 - val_mse: 0.1200\n",
            "Epoch 69/150\n",
            "1/1 [==============================] - 0s 37ms/step - loss: 0.0370 - acc: 1.0000 - mse: 0.0018 - val_loss: 0.6273 - val_acc: 0.7368 - val_mse: 0.1200\n",
            "Epoch 70/150\n",
            "1/1 [==============================] - 0s 32ms/step - loss: 0.0365 - acc: 1.0000 - mse: 0.0017 - val_loss: 0.6249 - val_acc: 0.7368 - val_mse: 0.1196\n",
            "Epoch 71/150\n",
            "1/1 [==============================] - 0s 35ms/step - loss: 0.0363 - acc: 1.0000 - mse: 0.0018 - val_loss: 0.6247 - val_acc: 0.7368 - val_mse: 0.1197\n",
            "Epoch 72/150\n",
            "1/1 [==============================] - 0s 29ms/step - loss: 0.0356 - acc: 1.0000 - mse: 0.0016 - val_loss: 0.6229 - val_acc: 0.7368 - val_mse: 0.1194\n",
            "Epoch 73/150\n",
            "1/1 [==============================] - 0s 36ms/step - loss: 0.0352 - acc: 1.0000 - mse: 0.0017 - val_loss: 0.6230 - val_acc: 0.7368 - val_mse: 0.1196\n",
            "Epoch 74/150\n",
            "1/1 [==============================] - 0s 38ms/step - loss: 0.0344 - acc: 1.0000 - mse: 0.0015 - val_loss: 0.6207 - val_acc: 0.7368 - val_mse: 0.1192\n",
            "Epoch 75/150\n",
            "1/1 [==============================] - 0s 30ms/step - loss: 0.0341 - acc: 1.0000 - mse: 0.0016 - val_loss: 0.6208 - val_acc: 0.7368 - val_mse: 0.1194\n",
            "Epoch 76/150\n",
            "1/1 [==============================] - 0s 35ms/step - loss: 0.0334 - acc: 1.0000 - mse: 0.0014 - val_loss: 0.6187 - val_acc: 0.7368 - val_mse: 0.1190\n",
            "Epoch 77/150\n",
            "1/1 [==============================] - 0s 52ms/step - loss: 0.0330 - acc: 1.0000 - mse: 0.0014 - val_loss: 0.6190 - val_acc: 0.7368 - val_mse: 0.1192\n",
            "Epoch 78/150\n",
            "1/1 [==============================] - 0s 28ms/step - loss: 0.0327 - acc: 1.0000 - mse: 0.0013 - val_loss: 0.6157 - val_acc: 0.7368 - val_mse: 0.1185\n",
            "Epoch 79/150\n",
            "1/1 [==============================] - 0s 38ms/step - loss: 0.0328 - acc: 1.0000 - mse: 0.0015 - val_loss: 0.6164 - val_acc: 0.7368 - val_mse: 0.1189\n",
            "Epoch 80/150\n",
            "1/1 [==============================] - 0s 32ms/step - loss: 0.0319 - acc: 1.0000 - mse: 0.0012 - val_loss: 0.6137 - val_acc: 0.7368 - val_mse: 0.1184\n",
            "Epoch 81/150\n",
            "1/1 [==============================] - 0s 40ms/step - loss: 0.0318 - acc: 1.0000 - mse: 0.0014 - val_loss: 0.6146 - val_acc: 0.7368 - val_mse: 0.1188\n",
            "Epoch 82/150\n",
            "1/1 [==============================] - 0s 34ms/step - loss: 0.0313 - acc: 1.0000 - mse: 0.0012 - val_loss: 0.6115 - val_acc: 0.7368 - val_mse: 0.1181\n",
            "Epoch 83/150\n",
            "1/1 [==============================] - 0s 33ms/step - loss: 0.0316 - acc: 1.0000 - mse: 0.0014 - val_loss: 0.6123 - val_acc: 0.7368 - val_mse: 0.1185\n",
            "Epoch 84/150\n",
            "1/1 [==============================] - 0s 27ms/step - loss: 0.0306 - acc: 1.0000 - mse: 0.0011 - val_loss: 0.6099 - val_acc: 0.7368 - val_mse: 0.1181\n",
            "Epoch 85/150\n",
            "1/1 [==============================] - 0s 33ms/step - loss: 0.0303 - acc: 1.0000 - mse: 0.0013 - val_loss: 0.6105 - val_acc: 0.7368 - val_mse: 0.1184\n",
            "Epoch 86/150\n",
            "1/1 [==============================] - 0s 37ms/step - loss: 0.0299 - acc: 1.0000 - mse: 0.0011 - val_loss: 0.6075 - val_acc: 0.7368 - val_mse: 0.1178\n",
            "Epoch 87/150\n",
            "1/1 [==============================] - 0s 33ms/step - loss: 0.0301 - acc: 1.0000 - mse: 0.0013 - val_loss: 0.6089 - val_acc: 0.7368 - val_mse: 0.1183\n",
            "Epoch 88/150\n",
            "1/1 [==============================] - 0s 48ms/step - loss: 0.0295 - acc: 1.0000 - mse: 0.0010 - val_loss: 0.6053 - val_acc: 0.7368 - val_mse: 0.1176\n",
            "Epoch 89/150\n",
            "1/1 [==============================] - 0s 36ms/step - loss: 0.0294 - acc: 1.0000 - mse: 0.0012 - val_loss: 0.6069 - val_acc: 0.7368 - val_mse: 0.1182\n",
            "Epoch 90/150\n",
            "1/1 [==============================] - 0s 30ms/step - loss: 0.0289 - acc: 1.0000 - mse: 9.8631e-04 - val_loss: 0.6036 - val_acc: 0.7368 - val_mse: 0.1174\n",
            "Epoch 91/150\n",
            "1/1 [==============================] - 0s 27ms/step - loss: 0.0290 - acc: 1.0000 - mse: 0.0012 - val_loss: 0.6054 - val_acc: 0.7368 - val_mse: 0.1181\n",
            "Epoch 92/150\n",
            "1/1 [==============================] - 0s 36ms/step - loss: 0.0282 - acc: 1.0000 - mse: 9.3769e-04 - val_loss: 0.6019 - val_acc: 0.7368 - val_mse: 0.1174\n",
            "Epoch 93/150\n",
            "1/1 [==============================] - 0s 43ms/step - loss: 0.0281 - acc: 1.0000 - mse: 0.0011 - val_loss: 0.6033 - val_acc: 0.7368 - val_mse: 0.1179\n",
            "Epoch 94/150\n",
            "1/1 [==============================] - 0s 36ms/step - loss: 0.0277 - acc: 1.0000 - mse: 9.0449e-04 - val_loss: 0.6004 - val_acc: 0.7368 - val_mse: 0.1173\n",
            "Epoch 95/150\n",
            "1/1 [==============================] - 0s 34ms/step - loss: 0.0277 - acc: 1.0000 - mse: 0.0011 - val_loss: 0.6021 - val_acc: 0.7368 - val_mse: 0.1179\n",
            "Epoch 96/150\n",
            "1/1 [==============================] - 0s 36ms/step - loss: 0.0271 - acc: 1.0000 - mse: 8.6384e-04 - val_loss: 0.5988 - val_acc: 0.7368 - val_mse: 0.1172\n",
            "Epoch 97/150\n",
            "1/1 [==============================] - 0s 31ms/step - loss: 0.0272 - acc: 1.0000 - mse: 0.0011 - val_loss: 0.6003 - val_acc: 0.7368 - val_mse: 0.1178\n",
            "Epoch 98/150\n",
            "1/1 [==============================] - 0s 37ms/step - loss: 0.0267 - acc: 1.0000 - mse: 8.3261e-04 - val_loss: 0.5971 - val_acc: 0.7368 - val_mse: 0.1171\n",
            "Epoch 99/150\n",
            "1/1 [==============================] - 0s 39ms/step - loss: 0.0268 - acc: 1.0000 - mse: 0.0010 - val_loss: 0.5990 - val_acc: 0.7368 - val_mse: 0.1177\n",
            "Epoch 100/150\n",
            "1/1 [==============================] - 0s 35ms/step - loss: 0.0262 - acc: 1.0000 - mse: 7.9526e-04 - val_loss: 0.5958 - val_acc: 0.7368 - val_mse: 0.1171\n",
            "Epoch 101/150\n",
            "1/1 [==============================] - 0s 37ms/step - loss: 0.0263 - acc: 1.0000 - mse: 0.0010 - val_loss: 0.5976 - val_acc: 0.7368 - val_mse: 0.1177\n",
            "Epoch 102/150\n",
            "1/1 [==============================] - 0s 37ms/step - loss: 0.0258 - acc: 1.0000 - mse: 7.6975e-04 - val_loss: 0.5943 - val_acc: 0.7368 - val_mse: 0.1169\n",
            "Epoch 103/150\n",
            "1/1 [==============================] - 0s 32ms/step - loss: 0.0257 - acc: 1.0000 - mse: 9.1186e-04 - val_loss: 0.5959 - val_acc: 0.7368 - val_mse: 0.1175\n",
            "Epoch 104/150\n",
            "1/1 [==============================] - 0s 35ms/step - loss: 0.0253 - acc: 1.0000 - mse: 7.4438e-04 - val_loss: 0.5929 - val_acc: 0.7368 - val_mse: 0.1169\n",
            "Epoch 105/150\n",
            "1/1 [==============================] - 0s 42ms/step - loss: 0.0250 - acc: 1.0000 - mse: 8.4309e-04 - val_loss: 0.5944 - val_acc: 0.7368 - val_mse: 0.1174\n",
            "Epoch 106/150\n",
            "1/1 [==============================] - 0s 33ms/step - loss: 0.0246 - acc: 1.0000 - mse: 7.1071e-04 - val_loss: 0.5920 - val_acc: 0.7368 - val_mse: 0.1170\n",
            "Epoch 107/150\n",
            "1/1 [==============================] - 0s 33ms/step - loss: 0.0245 - acc: 1.0000 - mse: 7.8543e-04 - val_loss: 0.5929 - val_acc: 0.7368 - val_mse: 0.1173\n",
            "Epoch 108/150\n",
            "1/1 [==============================] - 0s 36ms/step - loss: 0.0242 - acc: 1.0000 - mse: 6.8912e-04 - val_loss: 0.5909 - val_acc: 0.7368 - val_mse: 0.1169\n",
            "Epoch 109/150\n",
            "1/1 [==============================] - 0s 37ms/step - loss: 0.0240 - acc: 1.0000 - mse: 7.5596e-04 - val_loss: 0.5912 - val_acc: 0.7368 - val_mse: 0.1172\n",
            "Epoch 110/150\n",
            "1/1 [==============================] - 0s 39ms/step - loss: 0.0238 - acc: 1.0000 - mse: 6.6242e-04 - val_loss: 0.5893 - val_acc: 0.7368 - val_mse: 0.1168\n",
            "Epoch 111/150\n",
            "1/1 [==============================] - 0s 35ms/step - loss: 0.0236 - acc: 1.0000 - mse: 7.2174e-04 - val_loss: 0.5902 - val_acc: 0.7368 - val_mse: 0.1172\n",
            "Epoch 112/150\n",
            "1/1 [==============================] - 0s 28ms/step - loss: 0.0233 - acc: 1.0000 - mse: 6.3870e-04 - val_loss: 0.5884 - val_acc: 0.7368 - val_mse: 0.1168\n",
            "Epoch 113/150\n",
            "1/1 [==============================] - 0s 35ms/step - loss: 0.0233 - acc: 1.0000 - mse: 6.9926e-04 - val_loss: 0.5887 - val_acc: 0.7368 - val_mse: 0.1171\n",
            "Epoch 114/150\n",
            "1/1 [==============================] - 0s 34ms/step - loss: 0.0230 - acc: 1.0000 - mse: 6.2125e-04 - val_loss: 0.5869 - val_acc: 0.7368 - val_mse: 0.1167\n",
            "Epoch 115/150\n",
            "1/1 [==============================] - 0s 34ms/step - loss: 0.0228 - acc: 1.0000 - mse: 6.6476e-04 - val_loss: 0.5873 - val_acc: 0.7368 - val_mse: 0.1170\n",
            "Epoch 116/150\n",
            "1/1 [==============================] - 0s 36ms/step - loss: 0.0226 - acc: 1.0000 - mse: 5.9791e-04 - val_loss: 0.5859 - val_acc: 0.7368 - val_mse: 0.1167\n",
            "Epoch 117/150\n",
            "1/1 [==============================] - 0s 31ms/step - loss: 0.0226 - acc: 1.0000 - mse: 6.8192e-04 - val_loss: 0.5863 - val_acc: 0.7368 - val_mse: 0.1170\n",
            "Epoch 118/150\n",
            "1/1 [==============================] - 0s 38ms/step - loss: 0.0224 - acc: 1.0000 - mse: 5.7659e-04 - val_loss: 0.5847 - val_acc: 0.7368 - val_mse: 0.1167\n",
            "Epoch 119/150\n",
            "1/1 [==============================] - 0s 29ms/step - loss: 0.0223 - acc: 1.0000 - mse: 6.7173e-04 - val_loss: 0.5856 - val_acc: 0.7368 - val_mse: 0.1170\n",
            "Epoch 120/150\n",
            "1/1 [==============================] - 0s 43ms/step - loss: 0.0220 - acc: 1.0000 - mse: 5.5491e-04 - val_loss: 0.5835 - val_acc: 0.7368 - val_mse: 0.1166\n",
            "Epoch 121/150\n",
            "1/1 [==============================] - 0s 39ms/step - loss: 0.0219 - acc: 1.0000 - mse: 6.1855e-04 - val_loss: 0.5841 - val_acc: 0.7368 - val_mse: 0.1169\n",
            "Epoch 122/150\n",
            "1/1 [==============================] - 0s 39ms/step - loss: 0.0217 - acc: 1.0000 - mse: 5.4364e-04 - val_loss: 0.5824 - val_acc: 0.7368 - val_mse: 0.1165\n",
            "Epoch 123/150\n",
            "1/1 [==============================] - 0s 32ms/step - loss: 0.0216 - acc: 1.0000 - mse: 5.9143e-04 - val_loss: 0.5826 - val_acc: 0.7368 - val_mse: 0.1167\n",
            "Epoch 124/150\n",
            "1/1 [==============================] - 0s 29ms/step - loss: 0.0214 - acc: 1.0000 - mse: 5.3096e-04 - val_loss: 0.5807 - val_acc: 0.7368 - val_mse: 0.1164\n",
            "Epoch 125/150\n",
            "1/1 [==============================] - 0s 41ms/step - loss: 0.0212 - acc: 1.0000 - mse: 5.6360e-04 - val_loss: 0.5813 - val_acc: 0.7368 - val_mse: 0.1166\n",
            "Epoch 126/150\n",
            "1/1 [==============================] - 0s 34ms/step - loss: 0.0211 - acc: 1.0000 - mse: 5.1400e-04 - val_loss: 0.5799 - val_acc: 0.7368 - val_mse: 0.1164\n",
            "Epoch 127/150\n",
            "1/1 [==============================] - 0s 40ms/step - loss: 0.0209 - acc: 1.0000 - mse: 5.4348e-04 - val_loss: 0.5798 - val_acc: 0.7368 - val_mse: 0.1165\n",
            "Epoch 128/150\n",
            "1/1 [==============================] - 0s 30ms/step - loss: 0.0208 - acc: 1.0000 - mse: 5.0008e-04 - val_loss: 0.5789 - val_acc: 0.7368 - val_mse: 0.1163\n",
            "Epoch 129/150\n",
            "1/1 [==============================] - 0s 34ms/step - loss: 0.0207 - acc: 1.0000 - mse: 5.2992e-04 - val_loss: 0.5788 - val_acc: 0.7368 - val_mse: 0.1164\n",
            "Epoch 130/150\n",
            "1/1 [==============================] - 0s 38ms/step - loss: 0.0205 - acc: 1.0000 - mse: 4.9319e-04 - val_loss: 0.5778 - val_acc: 0.7368 - val_mse: 0.1163\n",
            "Epoch 131/150\n",
            "1/1 [==============================] - 0s 32ms/step - loss: 0.0203 - acc: 1.0000 - mse: 4.9147e-04 - val_loss: 0.5772 - val_acc: 0.7368 - val_mse: 0.1162\n",
            "Epoch 132/150\n",
            "1/1 [==============================] - 0s 36ms/step - loss: 0.0202 - acc: 1.0000 - mse: 4.7496e-04 - val_loss: 0.5765 - val_acc: 0.7368 - val_mse: 0.1161\n",
            "Epoch 133/150\n",
            "1/1 [==============================] - 0s 37ms/step - loss: 0.0201 - acc: 1.0000 - mse: 4.9026e-04 - val_loss: 0.5762 - val_acc: 0.7368 - val_mse: 0.1162\n",
            "Epoch 134/150\n",
            "1/1 [==============================] - 0s 42ms/step - loss: 0.0200 - acc: 1.0000 - mse: 4.5872e-04 - val_loss: 0.5752 - val_acc: 0.7368 - val_mse: 0.1160\n",
            "Epoch 135/150\n",
            "1/1 [==============================] - 0s 35ms/step - loss: 0.0199 - acc: 1.0000 - mse: 4.8729e-04 - val_loss: 0.5751 - val_acc: 0.7368 - val_mse: 0.1160\n",
            "Epoch 136/150\n",
            "1/1 [==============================] - 0s 36ms/step - loss: 0.0197 - acc: 1.0000 - mse: 4.4863e-04 - val_loss: 0.5737 - val_acc: 0.7368 - val_mse: 0.1158\n",
            "Epoch 137/150\n",
            "1/1 [==============================] - 0s 34ms/step - loss: 0.0195 - acc: 1.0000 - mse: 4.7415e-04 - val_loss: 0.5738 - val_acc: 0.7368 - val_mse: 0.1159\n",
            "Epoch 138/150\n",
            "1/1 [==============================] - 0s 45ms/step - loss: 0.0194 - acc: 1.0000 - mse: 4.3455e-04 - val_loss: 0.5729 - val_acc: 0.7368 - val_mse: 0.1157\n",
            "Epoch 139/150\n",
            "1/1 [==============================] - 0s 40ms/step - loss: 0.0193 - acc: 1.0000 - mse: 4.8129e-04 - val_loss: 0.5728 - val_acc: 0.7368 - val_mse: 0.1158\n",
            "Epoch 140/150\n",
            "1/1 [==============================] - 0s 33ms/step - loss: 0.0191 - acc: 1.0000 - mse: 4.1621e-04 - val_loss: 0.5716 - val_acc: 0.7368 - val_mse: 0.1155\n",
            "Epoch 141/150\n",
            "1/1 [==============================] - 0s 33ms/step - loss: 0.0191 - acc: 1.0000 - mse: 4.7501e-04 - val_loss: 0.5719 - val_acc: 0.7368 - val_mse: 0.1157\n",
            "Epoch 142/150\n",
            "1/1 [==============================] - 0s 40ms/step - loss: 0.0189 - acc: 1.0000 - mse: 4.0223e-04 - val_loss: 0.5705 - val_acc: 0.7368 - val_mse: 0.1154\n",
            "Epoch 143/150\n",
            "1/1 [==============================] - 0s 32ms/step - loss: 0.0188 - acc: 1.0000 - mse: 4.5733e-04 - val_loss: 0.5707 - val_acc: 0.7368 - val_mse: 0.1156\n",
            "Epoch 144/150\n",
            "1/1 [==============================] - 0s 30ms/step - loss: 0.0186 - acc: 1.0000 - mse: 3.9300e-04 - val_loss: 0.5689 - val_acc: 0.7368 - val_mse: 0.1152\n",
            "Epoch 145/150\n",
            "1/1 [==============================] - 0s 33ms/step - loss: 0.0184 - acc: 1.0000 - mse: 4.2505e-04 - val_loss: 0.5695 - val_acc: 0.7368 - val_mse: 0.1154\n",
            "Epoch 146/150\n",
            "1/1 [==============================] - 0s 42ms/step - loss: 0.0183 - acc: 1.0000 - mse: 3.8225e-04 - val_loss: 0.5681 - val_acc: 0.7368 - val_mse: 0.1151\n",
            "Epoch 147/150\n",
            "1/1 [==============================] - 0s 33ms/step - loss: 0.0182 - acc: 1.0000 - mse: 4.2438e-04 - val_loss: 0.5686 - val_acc: 0.7368 - val_mse: 0.1153\n",
            "Epoch 148/150\n",
            "1/1 [==============================] - 0s 34ms/step - loss: 0.0180 - acc: 1.0000 - mse: 3.6942e-04 - val_loss: 0.5670 - val_acc: 0.7368 - val_mse: 0.1150\n",
            "Epoch 149/150\n",
            "1/1 [==============================] - 0s 47ms/step - loss: 0.0179 - acc: 1.0000 - mse: 4.1244e-04 - val_loss: 0.5676 - val_acc: 0.7368 - val_mse: 0.1152\n",
            "Epoch 150/150\n",
            "1/1 [==============================] - 0s 34ms/step - loss: 0.0178 - acc: 1.0000 - mse: 3.5763e-04 - val_loss: 0.5656 - val_acc: 0.7368 - val_mse: 0.1148\n"
          ]
        }
      ]
    },
    {
      "cell_type": "code",
      "metadata": {
        "id": "pwAoVVddMWFK",
        "colab": {
          "base_uri": "https://localhost:8080/"
        },
        "outputId": "ce7bf9b0-b39a-4ef5-871b-8d432d82ff86"
      },
      "source": [
        "#just how we used evaluate() in the basic model previously, use it again to find the loss, accuracy and MSE on the test set\n",
        "\n",
        "loss9, acc9, mse9 = model9.evaluate(X_test,y_test)\n",
        " "
      ],
      "execution_count": 411,
      "outputs": [
        {
          "output_type": "stream",
          "name": "stdout",
          "text": [
            "2/2 [==============================] - 0s 6ms/step - loss: 0.5656 - acc: 0.7368 - mse: 0.1148\n"
          ]
        }
      ]
    },
    {
      "cell_type": "code",
      "metadata": {
        "id": "vThUrV3UMWFL",
        "colab": {
          "base_uri": "https://localhost:8080/",
          "height": 581
        },
        "outputId": "3159c458-d177-475b-b21f-7945919ed108"
      },
      "source": [
        "# Plot the train loss vs validation loss and train accuracy vs validation accuracy graphs just like we did before\n",
        "\n",
        "plt.style.use('ggplot')\n",
        "plt.plot(hist9.history['loss'], label = 'loss')\n",
        "plt.plot(hist9.history['val_loss'], label='val loss')\n",
        "plt.title(\"Train Loss vs Val_Loss\")\n",
        "plt.xlabel(\"Epochs\")\n",
        "plt.ylabel(\"Loss\")\n",
        "plt.legend()\n",
        "plt.show()\n",
        "\n",
        "# we observe that validation loss is increasing as compared to training loss. \n",
        "# This increase in training loss shows that our model is overfitted.\n",
        "\n",
        "#similarly we plot for model accuracy \n",
        "plt.plot(hist9.history['acc'], label = 'train acc')\n",
        "plt.plot(hist9.history['val_acc'], label='val acc')\n",
        "plt.title(\"train acc vs Val_acc\")\n",
        "plt.xlabel(\"Epochs\")\n",
        "plt.ylabel(\"acc\")\n",
        "plt.legend()\n",
        "plt.show()\n"
      ],
      "execution_count": 412,
      "outputs": [
        {
          "output_type": "display_data",
          "data": {
            "image/png": "[encoded data removed]",
            "text/plain": [
              "<Figure size 432x288 with 1 Axes>"
            ]
          },
          "metadata": {}
        },
        {
          "output_type": "display_data",
          "data": {
            "image/png": "[encoded data removed]",
            "text/plain": [
              "<Figure size 432x288 with 1 Axes>"
            ]
          },
          "metadata": {}
        }
      ]
    },
    {
      "cell_type": "code",
      "metadata": {
        "id": "oHpMaHUkMWFM"
      },
      "source": [
        "#After completing the above tasks, note down what you've understood and observed in each of the 9 models and what type of regularization works best for this dataset\n",
        "\n",
        "# When BN is used only after one layer(model 8), the results are good with high accuracies and less difference between them but the losses in the graph are at quite a difference. When BN is used after all layers (model 9), the model is severely overfitted. Hence we discard both of these.\n",
        "\n",
        "# When dropout layer is used only after one layer(model 6), the accuracies differ more and the graphs are also unstable for validation accuracy and loss. When dropout layers are used after several layers(model 7), although the difference in accuracies is reduced, the graph is still unstable for validation accuracy and loss. Hence we discard both of these as well.\n",
        "\n",
        "# When L1 regularization is applied only in one layer(model 2)or when L1 regularization is applied in multiple layers(model 3), the accuracies differ more compared to L2 regularized models although the graphs are pretty good. Hence we discard both of these as well.\n",
        "\n",
        "# Hence for our dataset, L2 regularized models offer the least overfitting, especially model 4 where the difference in accuracies is low, the accuracy value for test set has increased, the graphs for losses and accuracies are pretty close (have less gap between them).\n",
        "\n"
      ],
      "execution_count": 413,
      "outputs": []
    }
  ]
}