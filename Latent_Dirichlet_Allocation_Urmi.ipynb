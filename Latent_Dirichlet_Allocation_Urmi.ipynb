{
  "nbformat": 4,
  "nbformat_minor": 0,
  "metadata": {
    "kernelspec": {
      "display_name": "Python 3",
      "language": "python",
      "name": "python3"
    },
    "language_info": {
      "codemirror_mode": {
        "name": "ipython",
        "version": 3
      },
      "file_extension": ".py",
      "mimetype": "text/x-python",
      "name": "python",
      "nbconvert_exporter": "python",
      "pygments_lexer": "ipython3",
      "version": "3.6.12"
    },
    "colab": {
      "name": "Latent_Dirichlet_Allocation_Urmi.ipynb",
      "provenance": [],
      "include_colab_link": true
    }
  },
  "cells": [
    {
      "cell_type": "markdown",
      "metadata": {
        "id": "view-in-github",
        "colab_type": "text"
      },
      "source": [
        "<a href=\"https://colab.research.google.com/github/urmidedhia/Synapse-Learning-Period/blob/NLP-week-2/Latent_Dirichlet_Allocation_Urmi.ipynb\" target=\"_parent\"><img src=\"https://colab.research.google.com/assets/colab-badge.svg\" alt=\"Open In Colab\"/></a>"
      ]
    },
    {
      "cell_type": "markdown",
      "metadata": {
        "id": "jJUFK6rXY6B0"
      },
      "source": [
        "## Latent Dirichlet Allocation ##\n",
        "**Watch these videos:**\n",
        "- https://www.youtube.com/watch?v=azXCzI57Yfc\n",
        "- https://www.youtube.com/watch?v=T05t-SqKArY\n",
        "- https://www.youtube.com/watch?v=BaM1uiCpj_E\n",
        "\n",
        "LDA is used to classify text in a document to a particular topic. It builds a topic per document model and words per topic model, modeled as Dirichlet distributions. \n",
        "\n",
        "* Each document is modeled as a multinomial distribution of topics and each topic is modeled as a multinomial distribution of words.\n",
        "* LDA assumes that the every chunk of text we feed into it will contain words that are somehow related. Therefore choosing the right corpus of data is crucial. \n",
        "* It also assumes documents are produced from a mixture of topics. Those topics then generate words based on their probability distribution. "
      ]
    },
    {
      "cell_type": "markdown",
      "metadata": {
        "id": "eSP3NrBWY6B7"
      },
      "source": [
        "## Step 1: Load the dataset\n",
        "\n",
        "The dataset we'll use is a list of over one million news headlines published over a period of 15 years. We'll start by loading it from the `abcnews-date-text.csv` file."
      ]
    },
    {
      "cell_type": "code",
      "metadata": {
        "colab": {
          "base_uri": "https://localhost:8080/"
        },
        "id": "x030IqwGdUXD",
        "outputId": "08c0ec79-c76d-4b7a-a914-f3e6b323b050"
      },
      "source": [
        "from google.colab import drive\n",
        "drive.mount('/content/drive')"
      ],
      "execution_count": 33,
      "outputs": [
        {
          "output_type": "stream",
          "name": "stdout",
          "text": [
            "Drive already mounted at /content/drive; to attempt to forcibly remount, call drive.mount(\"/content/drive\", force_remount=True).\n"
          ]
        }
      ]
    },
    {
      "cell_type": "code",
      "metadata": {
        "id": "VJMeskRWc_4N"
      },
      "source": [
        "import numpy as np\n",
        "import pandas as pd\n",
        "import sklearn"
      ],
      "execution_count": 34,
      "outputs": []
    },
    {
      "cell_type": "code",
      "metadata": {
        "id": "LoxjClpBY6B8",
        "colab": {
          "base_uri": "https://localhost:8080/",
          "height": 423
        },
        "outputId": "1f7c8726-7bc1-4b2e-ede0-cdbdc899780e"
      },
      "source": [
        "'''\n",
        "Load the dataset from the CSV and save it to 'data_text'. We only need the'headline_text' column,\n",
        "so drop the rest of the columns. Call the final dataframe \"documents\" \n",
        "Then, add an 'index' column to the dataframe. Be sure to name it index.\n",
        "Hint: dataframe.index\n",
        "'''\n",
        "data_text_path =  '/content/drive/MyDrive/Week 2 NLP (Week 7)/abcnews-date-text.csv'\n",
        "data_text = pd.read_csv(data_text_path)\n",
        "documents = data_text.drop('publish_date', axis = 1)\n",
        "documents['index'] = documents.index\n",
        "documents"
      ],
      "execution_count": 35,
      "outputs": [
        {
          "output_type": "execute_result",
          "data": {
            "text/html": [
              "<div>\n",
              "<style scoped>\n",
              "    .dataframe tbody tr th:only-of-type {\n",
              "        vertical-align: middle;\n",
              "    }\n",
              "\n",
              "    .dataframe tbody tr th {\n",
              "        vertical-align: top;\n",
              "    }\n",
              "\n",
              "    .dataframe thead th {\n",
              "        text-align: right;\n",
              "    }\n",
              "</style>\n",
              "<table border=\"1\" class=\"dataframe\">\n",
              "  <thead>\n",
              "    <tr style=\"text-align: right;\">\n",
              "      <th></th>\n",
              "      <th>headline_text</th>\n",
              "      <th>index</th>\n",
              "    </tr>\n",
              "  </thead>\n",
              "  <tbody>\n",
              "    <tr>\n",
              "      <th>0</th>\n",
              "      <td>aba decides against community broadcasting lic...</td>\n",
              "      <td>0</td>\n",
              "    </tr>\n",
              "    <tr>\n",
              "      <th>1</th>\n",
              "      <td>act fire witnesses must be aware of defamation</td>\n",
              "      <td>1</td>\n",
              "    </tr>\n",
              "    <tr>\n",
              "      <th>2</th>\n",
              "      <td>a g calls for infrastructure protection summit</td>\n",
              "      <td>2</td>\n",
              "    </tr>\n",
              "    <tr>\n",
              "      <th>3</th>\n",
              "      <td>air nz staff in aust strike for pay rise</td>\n",
              "      <td>3</td>\n",
              "    </tr>\n",
              "    <tr>\n",
              "      <th>4</th>\n",
              "      <td>air nz strike to affect australian travellers</td>\n",
              "      <td>4</td>\n",
              "    </tr>\n",
              "    <tr>\n",
              "      <th>...</th>\n",
              "      <td>...</td>\n",
              "      <td>...</td>\n",
              "    </tr>\n",
              "    <tr>\n",
              "      <th>1103660</th>\n",
              "      <td>the ashes smiths warners near miss liven up bo...</td>\n",
              "      <td>1103660</td>\n",
              "    </tr>\n",
              "    <tr>\n",
              "      <th>1103661</th>\n",
              "      <td>timelapse: brisbanes new year fireworks</td>\n",
              "      <td>1103661</td>\n",
              "    </tr>\n",
              "    <tr>\n",
              "      <th>1103662</th>\n",
              "      <td>what 2017 meant to the kids of australia</td>\n",
              "      <td>1103662</td>\n",
              "    </tr>\n",
              "    <tr>\n",
              "      <th>1103663</th>\n",
              "      <td>what the papodopoulos meeting may mean for ausus</td>\n",
              "      <td>1103663</td>\n",
              "    </tr>\n",
              "    <tr>\n",
              "      <th>1103664</th>\n",
              "      <td>who is george papadopoulos the former trump ca...</td>\n",
              "      <td>1103664</td>\n",
              "    </tr>\n",
              "  </tbody>\n",
              "</table>\n",
              "<p>1103665 rows × 2 columns</p>\n",
              "</div>"
            ],
            "text/plain": [
              "                                             headline_text    index\n",
              "0        aba decides against community broadcasting lic...        0\n",
              "1           act fire witnesses must be aware of defamation        1\n",
              "2           a g calls for infrastructure protection summit        2\n",
              "3                 air nz staff in aust strike for pay rise        3\n",
              "4            air nz strike to affect australian travellers        4\n",
              "...                                                    ...      ...\n",
              "1103660  the ashes smiths warners near miss liven up bo...  1103660\n",
              "1103661            timelapse: brisbanes new year fireworks  1103661\n",
              "1103662           what 2017 meant to the kids of australia  1103662\n",
              "1103663   what the papodopoulos meeting may mean for ausus  1103663\n",
              "1103664  who is george papadopoulos the former trump ca...  1103664\n",
              "\n",
              "[1103665 rows x 2 columns]"
            ]
          },
          "metadata": {},
          "execution_count": 35
        }
      ]
    },
    {
      "cell_type": "markdown",
      "metadata": {
        "id": "_JQRd8I7Y6B-"
      },
      "source": [
        "Let's glance at the dataset:"
      ]
    },
    {
      "cell_type": "code",
      "metadata": {
        "id": "aF5jFABAY6B_",
        "colab": {
          "base_uri": "https://localhost:8080/"
        },
        "outputId": "96b87e56-f9cf-4be7-95bf-af738bea77d9"
      },
      "source": [
        "'''\n",
        "print the total number of documents\n",
        "'''\n",
        "print(len(documents))"
      ],
      "execution_count": 36,
      "outputs": [
        {
          "output_type": "stream",
          "name": "stdout",
          "text": [
            "1103665\n"
          ]
        }
      ]
    },
    {
      "cell_type": "code",
      "metadata": {
        "id": "95AIQlsnY6B_",
        "colab": {
          "base_uri": "https://localhost:8080/",
          "height": 206
        },
        "outputId": "5f3a5cfb-3c1a-4137-ff69-f59720a45958"
      },
      "source": [
        "documents[:5]"
      ],
      "execution_count": 37,
      "outputs": [
        {
          "output_type": "execute_result",
          "data": {
            "text/html": [
              "<div>\n",
              "<style scoped>\n",
              "    .dataframe tbody tr th:only-of-type {\n",
              "        vertical-align: middle;\n",
              "    }\n",
              "\n",
              "    .dataframe tbody tr th {\n",
              "        vertical-align: top;\n",
              "    }\n",
              "\n",
              "    .dataframe thead th {\n",
              "        text-align: right;\n",
              "    }\n",
              "</style>\n",
              "<table border=\"1\" class=\"dataframe\">\n",
              "  <thead>\n",
              "    <tr style=\"text-align: right;\">\n",
              "      <th></th>\n",
              "      <th>headline_text</th>\n",
              "      <th>index</th>\n",
              "    </tr>\n",
              "  </thead>\n",
              "  <tbody>\n",
              "    <tr>\n",
              "      <th>0</th>\n",
              "      <td>aba decides against community broadcasting lic...</td>\n",
              "      <td>0</td>\n",
              "    </tr>\n",
              "    <tr>\n",
              "      <th>1</th>\n",
              "      <td>act fire witnesses must be aware of defamation</td>\n",
              "      <td>1</td>\n",
              "    </tr>\n",
              "    <tr>\n",
              "      <th>2</th>\n",
              "      <td>a g calls for infrastructure protection summit</td>\n",
              "      <td>2</td>\n",
              "    </tr>\n",
              "    <tr>\n",
              "      <th>3</th>\n",
              "      <td>air nz staff in aust strike for pay rise</td>\n",
              "      <td>3</td>\n",
              "    </tr>\n",
              "    <tr>\n",
              "      <th>4</th>\n",
              "      <td>air nz strike to affect australian travellers</td>\n",
              "      <td>4</td>\n",
              "    </tr>\n",
              "  </tbody>\n",
              "</table>\n",
              "</div>"
            ],
            "text/plain": [
              "                                       headline_text  index\n",
              "0  aba decides against community broadcasting lic...      0\n",
              "1     act fire witnesses must be aware of defamation      1\n",
              "2     a g calls for infrastructure protection summit      2\n",
              "3           air nz staff in aust strike for pay rise      3\n",
              "4      air nz strike to affect australian travellers      4"
            ]
          },
          "metadata": {},
          "execution_count": 37
        }
      ]
    },
    {
      "cell_type": "markdown",
      "metadata": {
        "id": "491zvGlJY6CA"
      },
      "source": [
        "## Step 2: Data Preprocessing ##\n",
        "\n",
        "We will perform the following steps:\n",
        "\n",
        "* **Tokenization**: Split the text into sentences and the sentences into words. Lowercase the words and remove punctuation.\n",
        "* Words that have fewer than 3 characters are removed.\n",
        "* All **stopwords** are removed.\n",
        "* Words are **lemmatized** - words in third person are changed to first person and verbs in past and future tenses are changed into present.\n",
        "* Words are **stemmed** - words are reduced to their root form.\n",
        "\n",
        "This time, we'll make use of the gensim library and show you how  to preprocess text easily. "
      ]
    },
    {
      "cell_type": "code",
      "metadata": {
        "id": "u0iNTtZ8Y6CB"
      },
      "source": [
        "'''\n",
        "Loading Gensim and nltk libraries\n",
        "'''\n",
        "# pip install gensim\n",
        "import gensim\n",
        "from gensim.utils import simple_preprocess\n",
        "from gensim.parsing.preprocessing import STOPWORDS\n",
        "from nltk.stem import WordNetLemmatizer, SnowballStemmer\n",
        "from nltk.stem.porter import *\n",
        "import numpy as np\n",
        "np.random.seed(400)"
      ],
      "execution_count": 38,
      "outputs": []
    },
    {
      "cell_type": "code",
      "metadata": {
        "id": "XDxZ3tjkY6CC",
        "colab": {
          "base_uri": "https://localhost:8080/"
        },
        "outputId": "309b1841-c53b-4055-99e8-bd30414823a2"
      },
      "source": [
        "import nltk\n",
        "nltk.download('wordnet')"
      ],
      "execution_count": 39,
      "outputs": [
        {
          "output_type": "stream",
          "name": "stdout",
          "text": [
            "[nltk_data] Downloading package wordnet to /root/nltk_data...\n",
            "[nltk_data]   Package wordnet is already up-to-date!\n"
          ]
        },
        {
          "output_type": "execute_result",
          "data": {
            "text/plain": [
              "True"
            ]
          },
          "metadata": {},
          "execution_count": 39
        }
      ]
    },
    {
      "cell_type": "markdown",
      "metadata": {
        "id": "OX9o-znDY6CD"
      },
      "source": [
        "### Lemmatizer Example\n",
        "Before preprocessing our dataset, let's first look at an lemmatizing example. What would be the output if we lemmatized the word 'went':"
      ]
    },
    {
      "cell_type": "code",
      "metadata": {
        "id": "cuVRMXEZY6CD",
        "colab": {
          "base_uri": "https://localhost:8080/"
        },
        "outputId": "6ff46073-c100-4168-e5f7-0f728612aaf1"
      },
      "source": [
        "print(WordNetLemmatizer().lemmatize('went', pos = 'v')) # past tense to present tense"
      ],
      "execution_count": 40,
      "outputs": [
        {
          "output_type": "stream",
          "name": "stdout",
          "text": [
            "go\n"
          ]
        }
      ]
    },
    {
      "cell_type": "markdown",
      "metadata": {
        "id": "_y7yiAkpY6CE"
      },
      "source": [
        "### Stemmer Example\n",
        "Let's also look at a stemming example. Let's throw a number of words at the stemmer and see how it deals with each one:"
      ]
    },
    {
      "cell_type": "code",
      "metadata": {
        "id": "OdcMX0RyY6CF",
        "colab": {
          "base_uri": "https://localhost:8080/",
          "height": 645
        },
        "outputId": "778deaa2-9541-4b19-89bc-2c2904a375da"
      },
      "source": [
        "stemmer = SnowballStemmer(\"english\")\n",
        "original_words = ['caresses', 'flies', 'dies', 'mules', 'denied','died', 'agreed', 'owned', \n",
        "           'humbled', 'sized','meeting', 'stating', 'siezing', 'itemization','sensational', \n",
        "           'traditional', 'reference', 'colonizer','plotted']\n",
        "singles = [stemmer.stem(plural) for plural in original_words]\n",
        "\n",
        "pd.DataFrame(data={'original word':original_words, 'stemmed':singles })"
      ],
      "execution_count": 41,
      "outputs": [
        {
          "output_type": "execute_result",
          "data": {
            "text/html": [
              "<div>\n",
              "<style scoped>\n",
              "    .dataframe tbody tr th:only-of-type {\n",
              "        vertical-align: middle;\n",
              "    }\n",
              "\n",
              "    .dataframe tbody tr th {\n",
              "        vertical-align: top;\n",
              "    }\n",
              "\n",
              "    .dataframe thead th {\n",
              "        text-align: right;\n",
              "    }\n",
              "</style>\n",
              "<table border=\"1\" class=\"dataframe\">\n",
              "  <thead>\n",
              "    <tr style=\"text-align: right;\">\n",
              "      <th></th>\n",
              "      <th>original word</th>\n",
              "      <th>stemmed</th>\n",
              "    </tr>\n",
              "  </thead>\n",
              "  <tbody>\n",
              "    <tr>\n",
              "      <th>0</th>\n",
              "      <td>caresses</td>\n",
              "      <td>caress</td>\n",
              "    </tr>\n",
              "    <tr>\n",
              "      <th>1</th>\n",
              "      <td>flies</td>\n",
              "      <td>fli</td>\n",
              "    </tr>\n",
              "    <tr>\n",
              "      <th>2</th>\n",
              "      <td>dies</td>\n",
              "      <td>die</td>\n",
              "    </tr>\n",
              "    <tr>\n",
              "      <th>3</th>\n",
              "      <td>mules</td>\n",
              "      <td>mule</td>\n",
              "    </tr>\n",
              "    <tr>\n",
              "      <th>4</th>\n",
              "      <td>denied</td>\n",
              "      <td>deni</td>\n",
              "    </tr>\n",
              "    <tr>\n",
              "      <th>5</th>\n",
              "      <td>died</td>\n",
              "      <td>die</td>\n",
              "    </tr>\n",
              "    <tr>\n",
              "      <th>6</th>\n",
              "      <td>agreed</td>\n",
              "      <td>agre</td>\n",
              "    </tr>\n",
              "    <tr>\n",
              "      <th>7</th>\n",
              "      <td>owned</td>\n",
              "      <td>own</td>\n",
              "    </tr>\n",
              "    <tr>\n",
              "      <th>8</th>\n",
              "      <td>humbled</td>\n",
              "      <td>humbl</td>\n",
              "    </tr>\n",
              "    <tr>\n",
              "      <th>9</th>\n",
              "      <td>sized</td>\n",
              "      <td>size</td>\n",
              "    </tr>\n",
              "    <tr>\n",
              "      <th>10</th>\n",
              "      <td>meeting</td>\n",
              "      <td>meet</td>\n",
              "    </tr>\n",
              "    <tr>\n",
              "      <th>11</th>\n",
              "      <td>stating</td>\n",
              "      <td>state</td>\n",
              "    </tr>\n",
              "    <tr>\n",
              "      <th>12</th>\n",
              "      <td>siezing</td>\n",
              "      <td>siez</td>\n",
              "    </tr>\n",
              "    <tr>\n",
              "      <th>13</th>\n",
              "      <td>itemization</td>\n",
              "      <td>item</td>\n",
              "    </tr>\n",
              "    <tr>\n",
              "      <th>14</th>\n",
              "      <td>sensational</td>\n",
              "      <td>sensat</td>\n",
              "    </tr>\n",
              "    <tr>\n",
              "      <th>15</th>\n",
              "      <td>traditional</td>\n",
              "      <td>tradit</td>\n",
              "    </tr>\n",
              "    <tr>\n",
              "      <th>16</th>\n",
              "      <td>reference</td>\n",
              "      <td>refer</td>\n",
              "    </tr>\n",
              "    <tr>\n",
              "      <th>17</th>\n",
              "      <td>colonizer</td>\n",
              "      <td>colon</td>\n",
              "    </tr>\n",
              "    <tr>\n",
              "      <th>18</th>\n",
              "      <td>plotted</td>\n",
              "      <td>plot</td>\n",
              "    </tr>\n",
              "  </tbody>\n",
              "</table>\n",
              "</div>"
            ],
            "text/plain": [
              "   original word stemmed\n",
              "0       caresses  caress\n",
              "1          flies     fli\n",
              "2           dies     die\n",
              "3          mules    mule\n",
              "4         denied    deni\n",
              "5           died     die\n",
              "6         agreed    agre\n",
              "7          owned     own\n",
              "8        humbled   humbl\n",
              "9          sized    size\n",
              "10       meeting    meet\n",
              "11       stating   state\n",
              "12       siezing    siez\n",
              "13   itemization    item\n",
              "14   sensational  sensat\n",
              "15   traditional  tradit\n",
              "16     reference   refer\n",
              "17     colonizer   colon\n",
              "18       plotted    plot"
            ]
          },
          "metadata": {},
          "execution_count": 41
        }
      ]
    },
    {
      "cell_type": "code",
      "metadata": {
        "id": "9ZxI4o2UY6CF"
      },
      "source": [
        "'''\n",
        "Write a function to perform the pre processing steps on the entire dataset\n",
        "'''\n",
        "def lemmatize_stemming(text):\n",
        "    '''\n",
        "        1) Lemmatize the text\n",
        "        2) Then, stem the text\n",
        "        3) return final text\n",
        "    '''\n",
        "    wnl = WordNetLemmatizer()\n",
        "    lem_word = wnl.lemmatize(text)\n",
        "    ps = PorterStemmer()\n",
        "    lem_stemmed_word = ps.stem(lem_word) \n",
        "    return lem_stemmed_word\n",
        "\n",
        "\n",
        "# Tokenize and lemmatize. Look up how preprocessing is being done\n",
        "def preprocess(text):\n",
        "    result=[]\n",
        "    for token in gensim.utils.simple_preprocess(text) :\n",
        "        if token not in gensim.parsing.preprocessing.STOPWORDS and len(token) > 3:\n",
        "            result.append(lemmatize_stemming(token))\n",
        "            # TODO: Apply lemmatize_stemming on the token, then add to the results list\n",
        "    return result"
      ],
      "execution_count": 42,
      "outputs": []
    },
    {
      "cell_type": "code",
      "metadata": {
        "id": "fK6eqnbyY6CG",
        "colab": {
          "base_uri": "https://localhost:8080/"
        },
        "outputId": "fec7351c-2b3b-4f48-da5d-b18e05f7c16d"
      },
      "source": [
        "'''\n",
        "Preview a document after preprocessing\n",
        "'''\n",
        "document_num = 4310\n",
        "doc_sample = documents[documents['index'] == document_num].values[0][0]\n",
        "print(\"Original document: \")\n",
        "words = []\n",
        "for word in doc_sample.split(' '):\n",
        "    words.append(word)\n",
        "print(words)\n",
        "print(\"\\n\\nTokenized and lemmatized document: \")\n",
        "print(preprocess(doc_sample))"
      ],
      "execution_count": 43,
      "outputs": [
        {
          "output_type": "stream",
          "name": "stdout",
          "text": [
            "Original document: \n",
            "['rain', 'helps', 'dampen', 'bushfires']\n",
            "\n",
            "\n",
            "Tokenized and lemmatized document: \n",
            "['rain', 'help', 'dampen', 'bushfir']\n"
          ]
        }
      ]
    },
    {
      "cell_type": "markdown",
      "metadata": {
        "id": "vARNfo47Y6CH"
      },
      "source": [
        "Let's now preprocess all the news headlines we have. To do that, let's use the [map](https://pandas.pydata.org/pandas-docs/stable/generated/pandas.Series.map.html) function from pandas to apply `preprocess()` to the `headline_text` column\n",
        "\n",
        "**Note**: This may take a few minutes"
      ]
    },
    {
      "cell_type": "code",
      "metadata": {
        "id": "8cxNGbL5Y6CI"
      },
      "source": [
        "# TODO: preprocess all the headlines, saving the list of results as 'processed_docs'\n",
        "processed_docs = []\n",
        "processed_docs = documents['headline_text'].map(preprocess)\n",
        "# for text in documents['headline_text'].values:\n",
        "#   processed_docs.append(preprocess(text))"
      ],
      "execution_count": 44,
      "outputs": []
    },
    {
      "cell_type": "code",
      "metadata": {
        "id": "m5Gn6SANY6CJ",
        "colab": {
          "base_uri": "https://localhost:8080/"
        },
        "outputId": "83876f14-b69f-401d-8764-a1275008cc9d"
      },
      "source": [
        "'''\n",
        "Preview 'processed_docs'\n",
        "'''\n",
        "processed_docs[:10]"
      ],
      "execution_count": 45,
      "outputs": [
        {
          "output_type": "execute_result",
          "data": {
            "text/plain": [
              "0               [decid, commun, broadcast, licenc]\n",
              "1                               [wit, awar, defam]\n",
              "2           [call, infrastructur, protect, summit]\n",
              "3                      [staff, aust, strike, rise]\n",
              "4             [strike, affect, australian, travel]\n",
              "5               [ambiti, olsson, win, tripl, jump]\n",
              "6           [antic, delight, record, break, barca]\n",
              "7    [aussi, qualifi, stosur, wast, memphi, match]\n",
              "8            [aust, address, secur, council, iraq]\n",
              "9                         [australia, lock, timet]\n",
              "Name: headline_text, dtype: object"
            ]
          },
          "metadata": {},
          "execution_count": 45
        }
      ]
    },
    {
      "cell_type": "markdown",
      "metadata": {
        "id": "NCF6oewXY6CK"
      },
      "source": [
        "## Step 3.1: Bag of words on the dataset\n",
        "\n",
        "Now let's create a dictionary from 'processed_docs' containing the number of times a word appears in the training set. To do that, let's pass `processed_docs` to [`gensim.corpora.Dictionary()`](https://radimrehurek.com/gensim/corpora/dictionary.html) and call it '`dictionary`'."
      ]
    },
    {
      "cell_type": "code",
      "metadata": {
        "id": "oA3rIAGBY6CL"
      },
      "source": [
        "'''\n",
        "Create a dictionary from 'processed_docs' containing the number of times a word appears \n",
        "in the training set using gensim.corpora.Dictionary and call it 'dictionary'\n",
        "'''\n",
        "#  Todo\n",
        "dictionary = gensim.corpora.Dictionary(processed_docs)"
      ],
      "execution_count": 14,
      "outputs": []
    },
    {
      "cell_type": "code",
      "metadata": {
        "id": "TOBKUPsrY6CN",
        "colab": {
          "base_uri": "https://localhost:8080/"
        },
        "outputId": "dd0785c9-7c1a-4338-f63c-4d296b59bbc9"
      },
      "source": [
        "'''\n",
        "Checking dictionary created\n",
        "'''\n",
        "print(dictionary)\n",
        "count = 0\n",
        "for k, v in dictionary.iteritems():\n",
        "    print(k, v)\n",
        "    count += 1\n",
        "    if count > 10:\n",
        "        break"
      ],
      "execution_count": 15,
      "outputs": [
        {
          "output_type": "stream",
          "name": "stdout",
          "text": [
            "Dictionary(62458 unique tokens: ['broadcast', 'commun', 'decid', 'licenc', 'awar']...)\n",
            "0 broadcast\n",
            "1 commun\n",
            "2 decid\n",
            "3 licenc\n",
            "4 awar\n",
            "5 defam\n",
            "6 wit\n",
            "7 call\n",
            "8 infrastructur\n",
            "9 protect\n",
            "10 summit\n"
          ]
        }
      ]
    },
    {
      "cell_type": "markdown",
      "metadata": {
        "id": "tAYro_4LY6CO"
      },
      "source": [
        "** Gensim filter_extremes **\n",
        "\n",
        "[`filter_extremes(no_below=5, no_above=0.5, keep_n=100000)`](https://radimrehurek.com/gensim/corpora/dictionary.html#gensim.corpora.dictionary.Dictionary.filter_extremes)\n",
        "\n",
        "Filter out tokens that appear in\n",
        "\n",
        "* less than no_below documents (absolute number) or\n",
        "* more than no_above documents (fraction of total corpus size, not absolute number).\n",
        "* after (1) and (2), keep only the first keep_n most frequent tokens (or keep all if None)."
      ]
    },
    {
      "cell_type": "code",
      "metadata": {
        "id": "7K80x0qQY6CO",
        "colab": {
          "base_uri": "https://localhost:8080/"
        },
        "outputId": "0860cdd6-855b-4123-8332-7c8e03ecb249"
      },
      "source": [
        "'''\n",
        "Remove very rare and very common words:\n",
        "\n",
        "- words appearing less than 15 times\n",
        "- words appearing in more than 10% of all documents\n",
        "- keep 100000 most frequent tokens\n",
        "'''\n",
        "# TODO: apply dictionary.filter_extremes() with the parameters mentioned above\n",
        "dictionary.filter_extremes(no_below = 15, no_above = 0.1, keep_n = 100000)\n",
        "print(dictionary)"
      ],
      "execution_count": 16,
      "outputs": [
        {
          "output_type": "stream",
          "name": "stdout",
          "text": [
            "Dictionary(14280 unique tokens: ['broadcast', 'commun', 'decid', 'licenc', 'awar']...)\n"
          ]
        }
      ]
    },
    {
      "cell_type": "markdown",
      "metadata": {
        "id": "U_xEmrppY6CP"
      },
      "source": [
        "** Gensim doc2bow **\n",
        "\n",
        "[`doc2bow(document)`](https://radimrehurek.com/gensim/corpora/dictionary.html#gensim.corpora.dictionary.Dictionary.doc2bow)\n",
        "\n",
        "* Convert document (a list of words) into the bag-of-words format = list of (token_id, token_count) 2-tuples. Each word is assumed to be a tokenized and normalized string (either unicode or utf8-encoded). No further preprocessing is done on the words in document; apply tokenization, stemming etc. before calling this method."
      ]
    },
    {
      "cell_type": "code",
      "metadata": {
        "id": "-WFFwuvvY6CQ"
      },
      "source": [
        "'''\n",
        "Create the Bag-of-words model for each document i.e for each document we create a dictionary reporting how many\n",
        "words and how many times those words appear. Save this to 'bow_corpus'.\n",
        "Hint: Since we want a BoW model for each document, you can use list comprehension instead of for loops. List\n",
        "comprehension is the more pythonic way.\n",
        "'''\n",
        "#  Todo:\n",
        "bow_corpus = [dictionary.doc2bow(doc) for doc in processed_docs]"
      ],
      "execution_count": 17,
      "outputs": []
    },
    {
      "cell_type": "code",
      "metadata": {
        "id": "FdYUW6ECY6CQ",
        "colab": {
          "base_uri": "https://localhost:8080/"
        },
        "outputId": "0471a79a-5ac2-4470-e5cf-11cd9e0bba40"
      },
      "source": [
        "'''\n",
        "Checking Bag of Words corpus for our sample document --> (token_id, token_count)\n",
        "'''\n",
        "bow_corpus[document_num]"
      ],
      "execution_count": 18,
      "outputs": [
        {
          "output_type": "execute_result",
          "data": {
            "text/plain": [
              "[(76, 1), (112, 1), (486, 1), (4050, 1)]"
            ]
          },
          "metadata": {},
          "execution_count": 18
        }
      ]
    },
    {
      "cell_type": "code",
      "metadata": {
        "id": "fXAjZUJmY6CQ",
        "colab": {
          "base_uri": "https://localhost:8080/"
        },
        "outputId": "dabdc6a3-1997-4721-ac9f-a62c672b3f7e"
      },
      "source": [
        "'''\n",
        "Preview BOW for our sample preprocessed document\n",
        "'''\n",
        "# Here document_num is document number 4310 which we have checked in Step 2\n",
        "bow_doc_4310 = bow_corpus[document_num]\n",
        "\n",
        "for i in range(len(bow_doc_4310)):\n",
        "    print(\"Word {} (\\\"{}\\\") appears {} time.\".format(bow_doc_4310[i][0], \n",
        "                                                     dictionary[bow_doc_4310[i][0]], \n",
        "                                                     bow_doc_4310[i][1]))"
      ],
      "execution_count": 19,
      "outputs": [
        {
          "output_type": "stream",
          "name": "stdout",
          "text": [
            "Word 76 (\"bushfir\") appears 1 time.\n",
            "Word 112 (\"help\") appears 1 time.\n",
            "Word 486 (\"rain\") appears 1 time.\n",
            "Word 4050 (\"dampen\") appears 1 time.\n"
          ]
        }
      ]
    },
    {
      "cell_type": "markdown",
      "metadata": {
        "id": "4N2WDAx6Y6CR"
      },
      "source": [
        "## Step 3.2: TF-IDF on our document set ##\n",
        "\n",
        "While performing TF-IDF on the corpus is not necessary for LDA implemention using the gensim model, it is recemmended. TF-IDF expects a bag-of-words (integer values) training corpus during initialization. During transformation, it will take a vector and return another vector of the same dimensionality.\n",
        "\n",
        "*Please note: The author of Gensim dictates the standard procedure for LDA to be using the Bag of Words model.*"
      ]
    },
    {
      "cell_type": "markdown",
      "metadata": {
        "id": "N4tmsMVyY6CR"
      },
      "source": [
        "** TF-IDF stands for \"Term Frequency, Inverse Document Frequency\".**\n",
        "\n",
        "* It is a way to score the importance of words (or \"terms\") in a document based on how frequently they appear across multiple documents.\n",
        "* If a word appears frequently in a document, it's important. Give the word a high score. But if a word appears in many documents, it's not a unique identifier. Give the word a low score.\n",
        "* Therefore, common words like \"the\" and \"for\", which appear in many documents, will be scaled down. Words that appear frequently in a single document will be scaled up.\n",
        "\n",
        "In other words:\n",
        "\n",
        "* TF(w) = `(Number of times term w appears in a document) / (Total number of terms in the document)`.\n",
        "* IDF(w) = `log_e(Total number of documents / Number of documents with term w in it)`.\n",
        "\n",
        "** For example **\n",
        "\n",
        "* Consider a document containing `100` words wherein the word 'tiger' appears 3 times. \n",
        "* The term frequency (i.e., tf) for 'tiger' is then: \n",
        "    - `TF = (3 / 100) = 0.03`. \n",
        "\n",
        "* Now, assume we have `10 million` documents and the word 'tiger' appears in `1000` of these. Then, the inverse document frequency (i.e., idf) is calculated as:\n",
        "    - `IDF = log(10,000,000 / 1,000) = 4`. \n",
        "\n",
        "* Thus, the Tf-idf weight is the product of these quantities: \n",
        "    - `TF-IDF = 0.03 * 4 = 0.12`."
      ]
    },
    {
      "cell_type": "code",
      "metadata": {
        "id": "L1j5vOCZY6CS"
      },
      "source": [
        "'''\n",
        "Create tf-idf model object using models.TfidfModel on 'bow_corpus' and save it to 'tfidf'\n",
        "'''\n",
        "from gensim import corpora, models\n",
        "# TODO\n",
        "tfidf = models.TfidfModel(bow_corpus)"
      ],
      "execution_count": 20,
      "outputs": []
    },
    {
      "cell_type": "code",
      "metadata": {
        "id": "ZCcEBtxUY6CS"
      },
      "source": [
        "'''\n",
        "Apply transformation to the entire corpus and call it 'corpus_tfidf'\n",
        "'''\n",
        "# TODO\n",
        "corpus_tfidf = [tfidf[i] for i in bow_corpus]\n"
      ],
      "execution_count": 21,
      "outputs": []
    },
    {
      "cell_type": "code",
      "metadata": {
        "id": "8ICW7yDgY6CS",
        "colab": {
          "base_uri": "https://localhost:8080/"
        },
        "outputId": "885d7c1f-4303-4e30-aa41-b8727c54dbb7"
      },
      "source": [
        "'''\n",
        "Preview TF-IDF scores for our first document --> --> (token_id, tfidf score)\n",
        "'''\n",
        "from pprint import pprint\n",
        "for doc in corpus_tfidf:\n",
        "    pprint(doc)\n",
        "    break"
      ],
      "execution_count": 22,
      "outputs": [
        {
          "output_type": "stream",
          "name": "stdout",
          "text": [
            "[(0, 0.5903416018683463),\n",
            " (1, 0.385232906171445),\n",
            " (2, 0.4974398602008866),\n",
            " (3, 0.5056144643792737)]\n"
          ]
        }
      ]
    },
    {
      "cell_type": "markdown",
      "metadata": {
        "id": "gdcR4D6sY6CS"
      },
      "source": [
        "## Step 4.1: Running LDA using Bag of Words ##\n",
        "\n",
        "We are going for 10 topics in the document corpus.\n",
        "\n",
        "** We will be running LDA using all CPU cores to parallelize and speed up model training.**\n",
        "\n",
        "Some of the parameters we will be tweaking are:\n",
        "\n",
        "* **num_topics** is the number of requested latent topics to be extracted from the training corpus.\n",
        "* **id2word** is a mapping from word ids (integers) to words (strings). It is used to determine the vocabulary size, as well as for debugging and topic printing.\n",
        "* **workers** is the number of extra processes to use for parallelization. Uses all available cores by default.\n",
        "* **alpha** and **eta** are hyperparameters that affect sparsity of the document-topic (theta) and topic-word (lambda) distributions. We will let these be the default values for now(default value is `1/num_topics`)\n",
        "    - Alpha is the per document topic distribution.\n",
        "        * High alpha: Every document has a mixture of all topics(documents appear similar to each other).\n",
        "        * Low alpha: Every document has a mixture of very few topics\n",
        "\n",
        "    - Eta is the per topic word distribution.\n",
        "        * High eta: Each topic has a mixture of most words(topics appear similar to each other).\n",
        "        * Low eta: Each topic has a mixture of few words.\n",
        "\n",
        "* ** passes ** is the number of training passes through the corpus. For  example, if the training corpus has 50,000 documents, chunksize is  10,000, passes is 2, then online training is done in 10 updates: \n",
        "    * `#1 documents 0-9,999 `\n",
        "    * `#2 documents 10,000-19,999 `\n",
        "    * `#3 documents 20,000-29,999 `\n",
        "    * `#4 documents 30,000-39,999 `\n",
        "    * `#5 documents 40,000-49,999 `\n",
        "    * `#6 documents 0-9,999 `\n",
        "    * `#7 documents 10,000-19,999 `\n",
        "    * `#8 documents 20,000-29,999 `\n",
        "    * `#9 documents 30,000-39,999 `\n",
        "    * `#10 documents 40,000-49,999` "
      ]
    },
    {
      "cell_type": "code",
      "metadata": {
        "id": "_PcfvIXLY6CT"
      },
      "source": [
        "# LDA multicore \n",
        "'''\n",
        "Train your lda model using gensim.models.LdaMulticore and save it to 'lda_model'\n",
        "\n",
        "If Multicore is throwing errors on you laptop, use LDA mono-core, gensim.models.LdaModel\n",
        "'''\n",
        "# TODO\n",
        "lda_model = models.LdaMulticore(corpus=bow_corpus, num_topics=10, id2word = dictionary, chunksize=20000, passes=2, workers = 2)"
      ],
      "execution_count": 23,
      "outputs": []
    },
    {
      "cell_type": "code",
      "metadata": {
        "id": "Z69z4MQ3Y6CT",
        "colab": {
          "base_uri": "https://localhost:8080/"
        },
        "outputId": "36b7203a-e11c-412b-cad4-2435f0fbc53f"
      },
      "source": [
        "'''\n",
        "For each topic, we will explore the words occuring in that topic and its relative weight\n",
        "'''\n",
        "for idx, topic in lda_model.print_topics(-1):\n",
        "    print(\"Topic: {} \\nWords: {}\".format(idx, topic))\n",
        "    print(\"\\n\")"
      ],
      "execution_count": 24,
      "outputs": [
        {
          "output_type": "stream",
          "name": "stdout",
          "text": [
            "Topic: 0 \n",
            "Words: 0.019*\"year\" + 0.017*\"queensland\" + 0.016*\"market\" + 0.014*\"australian\" + 0.012*\"farmer\" + 0.012*\"deal\" + 0.012*\"share\" + 0.009*\"price\" + 0.009*\"drug\" + 0.008*\"research\"\n",
            "\n",
            "\n",
            "Topic: 1 \n",
            "Words: 0.017*\"rural\" + 0.016*\"miss\" + 0.014*\"council\" + 0.014*\"rise\" + 0.012*\"busi\" + 0.012*\"rate\" + 0.011*\"news\" + 0.010*\"budget\" + 0.009*\"live\" + 0.009*\"search\"\n",
            "\n",
            "\n",
            "Topic: 2 \n",
            "Words: 0.024*\"govern\" + 0.022*\"crash\" + 0.021*\"elect\" + 0.017*\"say\" + 0.014*\"dy\" + 0.013*\"chang\" + 0.012*\"labor\" + 0.010*\"support\" + 0.009*\"hill\" + 0.009*\"defend\"\n",
            "\n",
            "\n",
            "Topic: 3 \n",
            "Words: 0.017*\"world\" + 0.016*\"australia\" + 0.013*\"open\" + 0.013*\"final\" + 0.012*\"trump\" + 0.011*\"win\" + 0.008*\"record\" + 0.007*\"leagu\" + 0.007*\"lead\" + 0.007*\"australian\"\n",
            "\n",
            "\n",
            "Topic: 4 \n",
            "Words: 0.036*\"interview\" + 0.026*\"child\" + 0.023*\"countri\" + 0.020*\"hour\" + 0.012*\"port\" + 0.011*\"victim\" + 0.010*\"abus\" + 0.010*\"royal\" + 0.009*\"john\" + 0.009*\"speak\"\n",
            "\n",
            "\n",
            "Topic: 5 \n",
            "Words: 0.031*\"polic\" + 0.022*\"death\" + 0.020*\"court\" + 0.019*\"coast\" + 0.016*\"south\" + 0.015*\"melbourn\" + 0.013*\"investig\" + 0.013*\"gold\" + 0.013*\"accus\" + 0.012*\"north\"\n",
            "\n",
            "\n",
            "Topic: 6 \n",
            "Words: 0.018*\"health\" + 0.011*\"china\" + 0.011*\"need\" + 0.010*\"servic\" + 0.009*\"report\" + 0.008*\"cost\" + 0.008*\"sale\" + 0.008*\"flood\" + 0.008*\"train\" + 0.008*\"build\"\n",
            "\n",
            "\n",
            "Topic: 7 \n",
            "Words: 0.024*\"attack\" + 0.024*\"kill\" + 0.012*\"brisban\" + 0.011*\"guilti\" + 0.010*\"polic\" + 0.009*\"dead\" + 0.009*\"violenc\" + 0.008*\"protest\" + 0.008*\"korea\" + 0.008*\"plead\"\n",
            "\n",
            "\n",
            "Topic: 8 \n",
            "Words: 0.034*\"sydney\" + 0.024*\"polic\" + 0.011*\"futur\" + 0.011*\"prison\" + 0.010*\"darwin\" + 0.010*\"find\" + 0.008*\"green\" + 0.008*\"energi\" + 0.007*\"cyclon\" + 0.007*\"drug\"\n",
            "\n",
            "\n",
            "Topic: 9 \n",
            "Words: 0.041*\"charg\" + 0.023*\"face\" + 0.022*\"school\" + 0.021*\"hous\" + 0.021*\"plan\" + 0.017*\"murder\" + 0.016*\"trial\" + 0.015*\"worker\" + 0.013*\"court\" + 0.012*\"peopl\"\n",
            "\n",
            "\n"
          ]
        }
      ]
    },
    {
      "cell_type": "markdown",
      "metadata": {
        "id": "2DM5zl62Y6CT"
      },
      "source": [
        "### Classification of the topics ###\n",
        "\n",
        "Using the words in each topic and their corresponding weights, what categories were you able to infer?\n",
        "\n",
        "* 0: Australian markets\n",
        "* 1: Rural budget\n",
        "* 2: Government \n",
        "* 3: Australian sports\n",
        "* 4: Child abuse\n",
        "* 5: Murder investigation\n",
        "* 6: Health\n",
        "* 7: Brisbane attacks\n",
        "* 8: Science\n",
        "* 9: Murder trial"
      ]
    },
    {
      "cell_type": "markdown",
      "metadata": {
        "id": "amztWzijY6CU"
      },
      "source": [
        "## Step 4.2 Running LDA using TF-IDF ##"
      ]
    },
    {
      "cell_type": "code",
      "metadata": {
        "id": "XK1s2mXXY6CU"
      },
      "source": [
        "'''\n",
        "Define lda model using corpus_tfidf\n",
        "'''\n",
        "# TODO\n",
        "lda_model_tfidf = models.LdaMulticore(corpus=corpus_tfidf, num_topics=10, id2word = dictionary, chunksize=20000, passes=2, workers = 2)"
      ],
      "execution_count": 25,
      "outputs": []
    },
    {
      "cell_type": "code",
      "metadata": {
        "id": "cIIgemUsY6CV",
        "colab": {
          "base_uri": "https://localhost:8080/"
        },
        "outputId": "4fbd1e52-9b79-4941-dd55-65814d3c4028"
      },
      "source": [
        "'''\n",
        "For each topic, we will explore the words occuring in that topic and its relative weight\n",
        "'''\n",
        "for idx, topic in lda_model_tfidf.print_topics(-1):\n",
        "    print(\"Topic: {} Word: {}\".format(idx, topic))\n",
        "    print(\"\\n\")"
      ],
      "execution_count": 26,
      "outputs": [
        {
          "output_type": "stream",
          "name": "stdout",
          "text": [
            "Topic: 0 Word: 0.010*\"kill\" + 0.009*\"grandstand\" + 0.005*\"bomb\" + 0.005*\"octob\" + 0.005*\"attack\" + 0.005*\"dead\" + 0.005*\"august\" + 0.005*\"australian\" + 0.004*\"blast\" + 0.004*\"soldier\"\n",
            "\n",
            "\n",
            "Topic: 1 Word: 0.010*\"weather\" + 0.008*\"interview\" + 0.006*\"decemb\" + 0.006*\"jame\" + 0.005*\"sexual\" + 0.005*\"peter\" + 0.005*\"spring\" + 0.005*\"april\" + 0.005*\"cyclon\" + 0.004*\"alic\"\n",
            "\n",
            "\n",
            "Topic: 2 Word: 0.016*\"polic\" + 0.016*\"charg\" + 0.013*\"murder\" + 0.012*\"court\" + 0.011*\"woman\" + 0.010*\"crash\" + 0.009*\"jail\" + 0.009*\"death\" + 0.008*\"miss\" + 0.008*\"accus\"\n",
            "\n",
            "\n",
            "Topic: 3 Word: 0.017*\"countri\" + 0.016*\"hour\" + 0.008*\"podcast\" + 0.008*\"drum\" + 0.005*\"labor\" + 0.005*\"elect\" + 0.005*\"govern\" + 0.004*\"live\" + 0.004*\"liber\" + 0.004*\"industri\"\n",
            "\n",
            "\n",
            "Topic: 4 Word: 0.008*\"farmer\" + 0.006*\"interview\" + 0.006*\"rain\" + 0.006*\"dairi\" + 0.005*\"drought\" + 0.005*\"price\" + 0.005*\"domest\" + 0.005*\"flood\" + 0.005*\"violenc\" + 0.005*\"water\"\n",
            "\n",
            "\n",
            "Topic: 5 Word: 0.012*\"news\" + 0.012*\"rural\" + 0.007*\"nation\" + 0.007*\"juli\" + 0.007*\"south\" + 0.006*\"friday\" + 0.006*\"monday\" + 0.006*\"climat\" + 0.005*\"busi\" + 0.005*\"royal\"\n",
            "\n",
            "\n",
            "Topic: 6 Word: 0.011*\"market\" + 0.009*\"share\" + 0.006*\"dollar\" + 0.006*\"mental\" + 0.006*\"australian\" + 0.006*\"hill\" + 0.006*\"health\" + 0.005*\"open\" + 0.005*\"june\" + 0.005*\"wall\"\n",
            "\n",
            "\n",
            "Topic: 7 Word: 0.008*\"sport\" + 0.008*\"trump\" + 0.005*\"andrew\" + 0.005*\"indigen\" + 0.004*\"explain\" + 0.004*\"scott\" + 0.004*\"wrap\" + 0.004*\"georg\" + 0.004*\"wast\" + 0.004*\"say\"\n",
            "\n",
            "\n",
            "Topic: 8 Word: 0.008*\"final\" + 0.008*\"leagu\" + 0.008*\"trump\" + 0.007*\"donald\" + 0.007*\"world\" + 0.007*\"australia\" + 0.006*\"test\" + 0.005*\"rugbi\" + 0.005*\"plead\" + 0.005*\"ash\"\n",
            "\n",
            "\n",
            "Topic: 9 Word: 0.007*\"fund\" + 0.006*\"council\" + 0.006*\"govern\" + 0.006*\"plan\" + 0.005*\"asylum\" + 0.005*\"budget\" + 0.005*\"seeker\" + 0.005*\"hospit\" + 0.005*\"servic\" + 0.005*\"rail\"\n",
            "\n",
            "\n"
          ]
        }
      ]
    },
    {
      "cell_type": "markdown",
      "metadata": {
        "id": "3o33HL73Y6CW"
      },
      "source": [
        "### Classification of the topics ###\n",
        "\n",
        "As we can see, when using tf-idf, heavier weights are given to words that are not as frequent which results in nouns being factored in. That makes it harder to figure out the categories as nouns can be hard to categorize. This goes to show that the models we apply depend on the type of corpus of text we are dealing with. \n",
        "\n",
        "Using the words in each topic and their corresponding weights, what categories could you find?\n",
        "\n",
        "* 0: Bomb attack\n",
        "* 1: Annual weather report\n",
        "* 2: Car crash trial\n",
        "* 3: Government\n",
        "* 4: Agricultural issues\n",
        "* 5: Weekly weather report\n",
        "* 6: Business and currency\n",
        "* 7: Sports\n",
        "* 8: Rugby league\n",
        "* 9: Country budget"
      ]
    },
    {
      "cell_type": "markdown",
      "metadata": {
        "id": "rscUMlk0Y6CW"
      },
      "source": [
        "## Step 5.1: Performance evaluation by classifying sample document using LDA Bag of Words model\n",
        "\n",
        "We will check to see where our test document would be classified. "
      ]
    },
    {
      "cell_type": "code",
      "metadata": {
        "id": "hmLm49Y6Y6CW",
        "colab": {
          "base_uri": "https://localhost:8080/"
        },
        "outputId": "02fb46d4-47eb-47fc-9942-5ba3674a5456"
      },
      "source": [
        "'''\n",
        "Text of sample document 4310\n",
        "'''\n",
        "processed_docs[4310]"
      ],
      "execution_count": 27,
      "outputs": [
        {
          "output_type": "execute_result",
          "data": {
            "text/plain": [
              "['rain', 'help', 'dampen', 'bushfir']"
            ]
          },
          "metadata": {},
          "execution_count": 27
        }
      ]
    },
    {
      "cell_type": "code",
      "metadata": {
        "id": "7pOj1_GJY6CX",
        "colab": {
          "base_uri": "https://localhost:8080/"
        },
        "outputId": "29015806-e4bc-4288-9035-624883289e92"
      },
      "source": [
        "'''\n",
        "Check which topic our test document belongs to using the LDA Bag of Words model.\n",
        "'''\n",
        "\n",
        "# Our test document is document number 4310\n",
        "for index, score in sorted(lda_model[bow_corpus[document_num]], key=lambda tup: -1*tup[1]):\n",
        "    print(\"\\nScore: {}\\t \\nTopic: {}\".format(score, lda_model.print_topic(index, 10)))"
      ],
      "execution_count": 28,
      "outputs": [
        {
          "output_type": "stream",
          "name": "stdout",
          "text": [
            "\n",
            "Score: 0.467724472284317\t \n",
            "Topic: 0.031*\"polic\" + 0.022*\"death\" + 0.020*\"court\" + 0.019*\"coast\" + 0.016*\"south\" + 0.015*\"melbourn\" + 0.013*\"investig\" + 0.013*\"gold\" + 0.013*\"accus\" + 0.012*\"north\"\n",
            "\n",
            "Score: 0.37226229906082153\t \n",
            "Topic: 0.018*\"health\" + 0.011*\"china\" + 0.011*\"need\" + 0.010*\"servic\" + 0.009*\"report\" + 0.008*\"cost\" + 0.008*\"sale\" + 0.008*\"flood\" + 0.008*\"train\" + 0.008*\"build\"\n",
            "\n",
            "Score: 0.02000579610466957\t \n",
            "Topic: 0.019*\"year\" + 0.017*\"queensland\" + 0.016*\"market\" + 0.014*\"australian\" + 0.012*\"farmer\" + 0.012*\"deal\" + 0.012*\"share\" + 0.009*\"price\" + 0.009*\"drug\" + 0.008*\"research\"\n",
            "\n",
            "Score: 0.02000274509191513\t \n",
            "Topic: 0.017*\"rural\" + 0.016*\"miss\" + 0.014*\"council\" + 0.014*\"rise\" + 0.012*\"busi\" + 0.012*\"rate\" + 0.011*\"news\" + 0.010*\"budget\" + 0.009*\"live\" + 0.009*\"search\"\n",
            "\n",
            "Score: 0.020001795142889023\t \n",
            "Topic: 0.036*\"interview\" + 0.026*\"child\" + 0.023*\"countri\" + 0.020*\"hour\" + 0.012*\"port\" + 0.011*\"victim\" + 0.010*\"abus\" + 0.010*\"royal\" + 0.009*\"john\" + 0.009*\"speak\"\n",
            "\n",
            "Score: 0.020001498982310295\t \n",
            "Topic: 0.034*\"sydney\" + 0.024*\"polic\" + 0.011*\"futur\" + 0.011*\"prison\" + 0.010*\"darwin\" + 0.010*\"find\" + 0.008*\"green\" + 0.008*\"energi\" + 0.007*\"cyclon\" + 0.007*\"drug\"\n",
            "\n",
            "Score: 0.020000578835606575\t \n",
            "Topic: 0.024*\"govern\" + 0.022*\"crash\" + 0.021*\"elect\" + 0.017*\"say\" + 0.014*\"dy\" + 0.013*\"chang\" + 0.012*\"labor\" + 0.010*\"support\" + 0.009*\"hill\" + 0.009*\"defend\"\n",
            "\n",
            "Score: 0.020000571385025978\t \n",
            "Topic: 0.041*\"charg\" + 0.023*\"face\" + 0.022*\"school\" + 0.021*\"hous\" + 0.021*\"plan\" + 0.017*\"murder\" + 0.016*\"trial\" + 0.015*\"worker\" + 0.013*\"court\" + 0.012*\"peopl\"\n",
            "\n",
            "Score: 0.020000144839286804\t \n",
            "Topic: 0.017*\"world\" + 0.016*\"australia\" + 0.013*\"open\" + 0.013*\"final\" + 0.012*\"trump\" + 0.011*\"win\" + 0.008*\"record\" + 0.007*\"leagu\" + 0.007*\"lead\" + 0.007*\"australian\"\n",
            "\n",
            "Score: 0.020000122487545013\t \n",
            "Topic: 0.024*\"attack\" + 0.024*\"kill\" + 0.012*\"brisban\" + 0.011*\"guilti\" + 0.010*\"polic\" + 0.009*\"dead\" + 0.009*\"violenc\" + 0.008*\"protest\" + 0.008*\"korea\" + 0.008*\"plead\"\n"
          ]
        }
      ]
    },
    {
      "cell_type": "markdown",
      "metadata": {
        "id": "DLO8tmC4Y6CX"
      },
      "source": [
        "## Step 5.2: Performance evaluation by classifying sample document using LDA TF-IDF model"
      ]
    },
    {
      "cell_type": "code",
      "metadata": {
        "id": "962g8oOKY6CY",
        "colab": {
          "base_uri": "https://localhost:8080/"
        },
        "outputId": "32e6899a-b767-470d-e96f-cdc817dbb9f1"
      },
      "source": [
        "'''\n",
        "Check which topic our test document belongs to using the LDA TF-IDF model.\n",
        "Code would be similar to above\n",
        "'''\n",
        "# Todo\n",
        "for index, score in sorted(lda_model_tfidf[bow_corpus[document_num]], key=lambda tup: -1*tup[1]):\n",
        "    print(\"\\nScore: {}\\t \\nTopic: {}\".format(score, lda_model.print_topic(index, 10)))"
      ],
      "execution_count": 31,
      "outputs": [
        {
          "output_type": "stream",
          "name": "stdout",
          "text": [
            "\n",
            "Score: 0.8199699521064758\t \n",
            "Topic: 0.036*\"interview\" + 0.026*\"child\" + 0.023*\"countri\" + 0.020*\"hour\" + 0.012*\"port\" + 0.011*\"victim\" + 0.010*\"abus\" + 0.010*\"royal\" + 0.009*\"john\" + 0.009*\"speak\"\n",
            "\n",
            "Score: 0.020014794543385506\t \n",
            "Topic: 0.031*\"polic\" + 0.022*\"death\" + 0.020*\"court\" + 0.019*\"coast\" + 0.016*\"south\" + 0.015*\"melbourn\" + 0.013*\"investig\" + 0.013*\"gold\" + 0.013*\"accus\" + 0.012*\"north\"\n",
            "\n",
            "Score: 0.020002814009785652\t \n",
            "Topic: 0.017*\"rural\" + 0.016*\"miss\" + 0.014*\"council\" + 0.014*\"rise\" + 0.012*\"busi\" + 0.012*\"rate\" + 0.011*\"news\" + 0.010*\"budget\" + 0.009*\"live\" + 0.009*\"search\"\n",
            "\n",
            "Score: 0.0200024526566267\t \n",
            "Topic: 0.018*\"health\" + 0.011*\"china\" + 0.011*\"need\" + 0.010*\"servic\" + 0.009*\"report\" + 0.008*\"cost\" + 0.008*\"sale\" + 0.008*\"flood\" + 0.008*\"train\" + 0.008*\"build\"\n",
            "\n",
            "Score: 0.020002344623208046\t \n",
            "Topic: 0.041*\"charg\" + 0.023*\"face\" + 0.022*\"school\" + 0.021*\"hous\" + 0.021*\"plan\" + 0.017*\"murder\" + 0.016*\"trial\" + 0.015*\"worker\" + 0.013*\"court\" + 0.012*\"peopl\"\n",
            "\n",
            "Score: 0.02000233344733715\t \n",
            "Topic: 0.017*\"world\" + 0.016*\"australia\" + 0.013*\"open\" + 0.013*\"final\" + 0.012*\"trump\" + 0.011*\"win\" + 0.008*\"record\" + 0.007*\"leagu\" + 0.007*\"lead\" + 0.007*\"australian\"\n",
            "\n",
            "Score: 0.02000158466398716\t \n",
            "Topic: 0.024*\"govern\" + 0.022*\"crash\" + 0.021*\"elect\" + 0.017*\"say\" + 0.014*\"dy\" + 0.013*\"chang\" + 0.012*\"labor\" + 0.010*\"support\" + 0.009*\"hill\" + 0.009*\"defend\"\n",
            "\n",
            "Score: 0.02000153623521328\t \n",
            "Topic: 0.024*\"attack\" + 0.024*\"kill\" + 0.012*\"brisban\" + 0.011*\"guilti\" + 0.010*\"polic\" + 0.009*\"dead\" + 0.009*\"violenc\" + 0.008*\"protest\" + 0.008*\"korea\" + 0.008*\"plead\"\n",
            "\n",
            "Score: 0.02000151388347149\t \n",
            "Topic: 0.019*\"year\" + 0.017*\"queensland\" + 0.016*\"market\" + 0.014*\"australian\" + 0.012*\"farmer\" + 0.012*\"deal\" + 0.012*\"share\" + 0.009*\"price\" + 0.009*\"drug\" + 0.008*\"research\"\n",
            "\n",
            "Score: 0.020000630989670753\t \n",
            "Topic: 0.034*\"sydney\" + 0.024*\"polic\" + 0.011*\"futur\" + 0.011*\"prison\" + 0.010*\"darwin\" + 0.010*\"find\" + 0.008*\"green\" + 0.008*\"energi\" + 0.007*\"cyclon\" + 0.007*\"drug\"\n"
          ]
        }
      ]
    },
    {
      "cell_type": "markdown",
      "metadata": {
        "id": "3sATpBN6Y6CY"
      },
      "source": [
        "## Step 6: Testing model on unseen document ##"
      ]
    },
    {
      "cell_type": "code",
      "metadata": {
        "id": "DDwRKSXaY6CY",
        "colab": {
          "base_uri": "https://localhost:8080/"
        },
        "outputId": "de591586-6789-4d77-f366-7040f51af67c"
      },
      "source": [
        "unseen_document = \"My favorite sports activities are running and swimming.\"\n",
        "\n",
        "# Data preprocessing step for the unseen document\n",
        "bow_vector = dictionary.doc2bow(preprocess(unseen_document))\n",
        "\n",
        "for index, score in sorted(lda_model[bow_vector], key=lambda tup: -1*tup[1]):\n",
        "    print(\"Score: {}\\t Topic: {}\".format(score, lda_model.print_topic(index, 5)))"
      ],
      "execution_count": 32,
      "outputs": [
        {
          "output_type": "stream",
          "name": "stdout",
          "text": [
            "Score: 0.417361319065094\t Topic: 0.017*\"world\" + 0.016*\"australia\" + 0.013*\"open\" + 0.013*\"final\" + 0.012*\"trump\"\n",
            "Score: 0.22362878918647766\t Topic: 0.024*\"govern\" + 0.022*\"crash\" + 0.021*\"elect\" + 0.017*\"say\" + 0.014*\"dy\"\n",
            "Score: 0.21899457275867462\t Topic: 0.018*\"health\" + 0.011*\"china\" + 0.011*\"need\" + 0.010*\"servic\" + 0.009*\"report\"\n",
            "Score: 0.020007450133562088\t Topic: 0.031*\"polic\" + 0.022*\"death\" + 0.020*\"court\" + 0.019*\"coast\" + 0.016*\"south\"\n",
            "Score: 0.02000357024371624\t Topic: 0.041*\"charg\" + 0.023*\"face\" + 0.022*\"school\" + 0.021*\"hous\" + 0.021*\"plan\"\n",
            "Score: 0.02000315859913826\t Topic: 0.017*\"rural\" + 0.016*\"miss\" + 0.014*\"council\" + 0.014*\"rise\" + 0.012*\"busi\"\n",
            "Score: 0.020000893622636795\t Topic: 0.036*\"interview\" + 0.026*\"child\" + 0.023*\"countri\" + 0.020*\"hour\" + 0.012*\"port\"\n",
            "Score: 0.0200001560151577\t Topic: 0.034*\"sydney\" + 0.024*\"polic\" + 0.011*\"futur\" + 0.011*\"prison\" + 0.010*\"darwin\"\n",
            "Score: 0.020000087097287178\t Topic: 0.019*\"year\" + 0.017*\"queensland\" + 0.016*\"market\" + 0.014*\"australian\" + 0.012*\"farmer\"\n",
            "Score: 0.020000025629997253\t Topic: 0.024*\"attack\" + 0.024*\"kill\" + 0.012*\"brisban\" + 0.011*\"guilti\" + 0.010*\"polic\"\n"
          ]
        }
      ]
    },
    {
      "cell_type": "markdown",
      "metadata": {
        "id": "AJlKd_KOY6CZ"
      },
      "source": [
        "### Now, look up different ways we can transform our words or use different techniques or improvements that we can make to make our Topic Classifier more accurate. Write them down below:"
      ]
    },
    {
      "cell_type": "markdown",
      "metadata": {
        "id": "QEh7hIgdY6CZ"
      },
      "source": [
        "**We can:**\n",
        "- Append points here\n",
        "- Use or create a stop word list in accordance to our corpus.\n",
        "- Replace numerical values with '#num#' to reduce vocabulary size if need be.\n",
        "- Use LDAboost.\n"
      ]
    }
  ]
}