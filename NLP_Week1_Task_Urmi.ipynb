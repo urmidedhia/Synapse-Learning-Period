{
  "nbformat": 4,
  "nbformat_minor": 0,
  "metadata": {
    "colab": {
      "name": "NLP_Week1_Task_Urmi.ipynb",
      "provenance": [],
      "collapsed_sections": [],
      "include_colab_link": true
    },
    "interpreter": {
      "hash": "6f6a9d06c0fd64bf60e6e1c5f52d9e61e3a0d126987fc458258eb07643fb7172"
    },
    "kernelspec": {
      "display_name": "Python 3",
      "language": "python",
      "name": "python3"
    },
    "language_info": {
      "codemirror_mode": {
        "name": "ipython",
        "version": 3
      },
      "file_extension": ".py",
      "mimetype": "text/x-python",
      "name": "python",
      "nbconvert_exporter": "python",
      "pygments_lexer": "ipython3",
      "version": "3.6.12"
    }
  },
  "cells": [
    {
      "cell_type": "markdown",
      "metadata": {
        "id": "view-in-github",
        "colab_type": "text"
      },
      "source": [
        "<a href=\"https://colab.research.google.com/github/urmidedhia/Synapse-Learning-Period/blob/NLP-week-1/NLP_Week1_Task_Urmi.ipynb\" target=\"_parent\"><img src=\"https://colab.research.google.com/assets/colab-badge.svg\" alt=\"Open In Colab\"/></a>"
      ]
    },
    {
      "cell_type": "markdown",
      "metadata": {
        "id": "DXG8z6NmkRDz"
      },
      "source": [
        "# Natural Language Processing:\n",
        "Natural language processing (NLP) is the ability of a computer program to understand human language as it is spoken and written -- referred to as natural language. It is a component of artificial intelligence (AI).\n",
        "\n",
        "NLP has existed for more than 50 years and has roots in the field of linguistics. It has a variety of real-world applications in a number of fields, including medical research, search engines and business intelligence.\n",
        "\n",
        "Natural language processing (NLP) is a form of AI that extracts meaning from human language to make decisions based on the information. This technology is still evolving, but there are already many incredible ways natural language processing is used today. Here are some of the everyday uses of natural language processing are highlighted and five amazing examples of how natural language processing is transforming businesses:\n",
        "\n",
        "**Examples of Natural Language Processing:**\n",
        "\n",
        "\n",
        "*   NLP helps the Livox app be a communication device for people with disabilities. The creation of Carlos Pereira, a father who developed the app to help his non-verbal daughter, who has cerebral palsy communicate, the customizable app is now available in 25 languages. \n",
        "*   Another tool enabled by natural language processing is SignAll that converts sign language into text. This can help individuals who are deaf communicate with those who don’t know sign language.\n",
        "*   Machine translation is a huge application for NLP that allows us to overcome barriers to communicating with individuals from around the world as well as understand tech manuals and catalogs written in a foreign language. Google Translate is used by 500 million people every day to understand more than 100 world languages.\n",
        "*    NLP technology is even being applied for aircraft maintenance. Not only could it help mechanics synthesize information from enormous aircraft manuals it can also find meaning in the descriptions of problems reported verbally or handwritten from pilots and other humans.\n",
        "*    While the issue is complex, there’s even work being done to have NLP assist with predictive police work to specifically identify the motive in crimes.\n",
        "* Chatbots: Another great example of language processing is chatbots. They are very much like virtual assistants but with more specific goals. They are most commonly used on websites where customers visit. They help you to get the information you need without talking to any real person. First, they try to understand your need and then bring the results in front of you.\n",
        "* Web Scraping: Web scraping is another field where language processing is commonly used. It is used to extract information from a web page without even spending time to copy each paragraph one by one. Web scraping is a great way to collect valuable data and train your machine learning model. Web scraping is also a very helpful tool when working with search engine optimization.\n",
        "\n",
        "As industry leaders continue to experiment and develop enhancements to natural language processing such as Amazon’s Alexa division using a neural network to transfer learning, we can expect that NLP will become even better and more influential for business in the very near future.\n",
        "\n",
        "\n",
        "\n",
        "There are two main phases to natural language processing: data preprocessing and algorithm development.\n",
        "\n",
        "Data preprocessing involves preparing and \"cleaning\" text data for machines to be able to analyze it. preprocessing puts data in workable form and highlights features in the text that an algorithm can work with. There are several ways this can be done, including:\n",
        "\n",
        "* **Tokenization**. This is when text is broken down into smaller units to work with.\n",
        "* **Stop word removal**. This is when common words are removed from text so unique words that offer the most information about the text remain.\n",
        "* **Lemmatization and stemming**. This is when words are reduced to their root forms to process.\n",
        "* **Part-of-speech tagging**. This is when words are marked based on the part-of speech they are -- such as nouns, verbs and adjectives\n",
        "\n",
        "Once the data has been preprocessed, an algorithm is developed to process it. There are many different natural language processing algorithms, but two main types are commonly used:\n",
        "\n",
        "* **Rules-based system.** This system uses carefully designed linguistic rules. This approach was used early on in the development of natural language processing, and is still used.\n",
        "* **Machine learning-based system**. Machine learning algorithms use statistical methods. They learn to perform tasks based on training data they are fed, and adjust their methods as more data is processed. Using a combination of machine learning, deep learning and neural networks, natural language processing algorithms hone their own rules through repeated processing and learning.\n",
        "\n",
        "\n",
        "# NLTK (Natural Language Toolkit):\n",
        "NLTK is a leading platform for building Python programs to work with human language data. It provides easy-to-use interfaces to over 50 corpora and lexical resources such as WordNet, along with a suite of text processing libraries for classification, tokenization, stemming, tagging, parsing, and semantic reasoning, wrappers for industrial-strength NLP libraries.\n",
        "\n",
        "Reference: http://www.nltk.org\n",
        "\n",
        "We have to install NLTK module so that we can use it in our project."
      ]
    },
    {
      "cell_type": "markdown",
      "metadata": {
        "id": "P-OUZIF9kREJ"
      },
      "source": [
        "To prepare the text data for the model building we perform text preprocessing. It is the very first step of NLP projects. Some of the preprocessing steps are:\n",
        "\n",
        "* Removing punctuations like . , ! $( ) * % @\n",
        "* Removing URLs\n",
        "* Removing Stop words\n",
        "* Lower casing\n",
        "* Tokenization\n",
        "* Stemming\n",
        "* Lemmatization"
      ]
    },
    {
      "cell_type": "markdown",
      "metadata": {
        "id": "SGo1nmqykREJ"
      },
      "source": [
        "### Follow this tutorial to install and setup nltk: https://www.youtube.com/watch?v=68aHmFcO-W4"
      ]
    },
    {
      "cell_type": "markdown",
      "metadata": {
        "id": "hKXpBEhmkREK"
      },
      "source": [
        "### Go through this blog:<br> https://www.analyticsvidhya.com/blog/2021/06/text-preprocessing-in-nlp-with-python-codes/\n",
        "\n",
        "### Understand how the pre-processing steps are applied and solve the given tasks below. Print the text after every step."
      ]
    },
    {
      "cell_type": "code",
      "metadata": {
        "colab": {
          "base_uri": "https://localhost:8080/"
        },
        "id": "P6AWPQHWkREL",
        "outputId": "f60d28e6-0236-47c8-8dec-4067b33e5b9f"
      },
      "source": [
        "#Given below is a string paragraph on which we will perform the various pre processing steps\n",
        "import re\n",
        "import nltk\n",
        "from IPython.core.display import HTML\n",
        "nltk.download('punkt')\n",
        "nltk.download('stopwords')\n",
        "nltk.download('wordnet')\n",
        "text= \"A small sample of texts from Project Gutenberg appears in the NLTK corpus collection. However, you may be interested in analyzing other texts from Project Gutenberg. You can browse the catalog of 25,000 free online books at http://www.gutenberg.org/catalog/, and obtain a URL to an ASCII text file. Although 90% of the texts in Project Gutenberg are in English, it includes material in over 50 other languages, including Catalan, Chinese, Dutch, Finnish, French, German, Italian, Portuguese and Spanish (with more than 100 texts each). Text number 2554 is an English translation of Crime and Punishment, and we can access it as follows.\""
      ],
      "execution_count": null,
      "outputs": [
        {
          "output_type": "stream",
          "name": "stdout",
          "text": [
            "[nltk_data] Downloading package punkt to /root/nltk_data...\n",
            "[nltk_data]   Unzipping tokenizers/punkt.zip.\n",
            "[nltk_data] Downloading package stopwords to /root/nltk_data...\n",
            "[nltk_data]   Unzipping corpora/stopwords.zip.\n",
            "[nltk_data] Downloading package wordnet to /root/nltk_data...\n",
            "[nltk_data]   Unzipping corpora/wordnet.zip.\n"
          ]
        }
      ]
    },
    {
      "cell_type": "markdown",
      "metadata": {
        "id": "cLIwR9HNkREN"
      },
      "source": [
        "## Removing punctuations:\n",
        "### Different ways to remove punctuations: https://www.pythonpool.com/remove-punctuation-python/\n"
      ]
    },
    {
      "cell_type": "code",
      "metadata": {
        "id": "l9ULzbl0kREN",
        "colab": {
          "base_uri": "https://localhost:8080/",
          "height": 86
        },
        "outputId": "aa9405a5-69ce-4ace-c33d-f73537925e8d"
      },
      "source": [
        "#Remove punctuations from text using any of the methods provided in the links above\n",
        "no_punc_text = re.sub(r'[^\\w\\s]','',text)\n",
        "no_punc_text"
      ],
      "execution_count": null,
      "outputs": [
        {
          "output_type": "execute_result",
          "data": {
            "application/vnd.google.colaboratory.intrinsic+json": {
              "type": "string"
            },
            "text/plain": [
              "'A small sample of texts from Project Gutenberg appears in the NLTK corpus collection However you may be interested in analyzing other texts from Project Gutenberg You can browse the catalog of 25000 free online books at httpwwwgutenbergorgcatalog and obtain a URL to an ASCII text file Although 90 of the texts in Project Gutenberg are in English it includes material in over 50 other languages including Catalan Chinese Dutch Finnish French German Italian Portuguese and Spanish with more than 100 texts each Text number 2554 is an English translation of Crime and Punishment and we can access it as follows'"
            ]
          },
          "metadata": {},
          "execution_count": 3
        }
      ]
    },
    {
      "cell_type": "markdown",
      "metadata": {
        "id": "qJslFSGONFYX"
      },
      "source": [
        "## Removing URLs:\n",
        "\n",
        "Search up how to remove URLs from text and apply it below"
      ]
    },
    {
      "cell_type": "code",
      "metadata": {
        "id": "KaZvmvQ8NP3I",
        "colab": {
          "base_uri": "https://localhost:8080/",
          "height": 86
        },
        "outputId": "21059ba4-e6f5-40f1-b419-3dd2f89e1c0e"
      },
      "source": [
        "#Write your code below to remove URL from text\n",
        "no_url_text = re.sub(r'https?\\S+','',no_punc_text)\n",
        "no_url_text"
      ],
      "execution_count": null,
      "outputs": [
        {
          "output_type": "execute_result",
          "data": {
            "application/vnd.google.colaboratory.intrinsic+json": {
              "type": "string"
            },
            "text/plain": [
              "'A small sample of texts from Project Gutenberg appears in the NLTK corpus collection However you may be interested in analyzing other texts from Project Gutenberg You can browse the catalog of 25000 free online books at  and obtain a URL to an ASCII text file Although 90 of the texts in Project Gutenberg are in English it includes material in over 50 other languages including Catalan Chinese Dutch Finnish French German Italian Portuguese and Spanish with more than 100 texts each Text number 2554 is an English translation of Crime and Punishment and we can access it as follows'"
            ]
          },
          "metadata": {},
          "execution_count": 4
        }
      ]
    },
    {
      "cell_type": "markdown",
      "metadata": {
        "id": "JyfbfkstNvZ7"
      },
      "source": [
        "## Removing numbers\n",
        "\n",
        "Search how to remove numbers from text and apply it below"
      ]
    },
    {
      "cell_type": "code",
      "metadata": {
        "id": "j5gsU6lLN2BA",
        "colab": {
          "base_uri": "https://localhost:8080/",
          "height": 86
        },
        "outputId": "3d8f4295-8805-496b-ab40-68f8dfc81461"
      },
      "source": [
        "#Write your code below to remove numbers from text\n",
        "no_num_text = re.sub(r'\\d+','',no_url_text)\n",
        "no_num_text"
      ],
      "execution_count": null,
      "outputs": [
        {
          "output_type": "execute_result",
          "data": {
            "application/vnd.google.colaboratory.intrinsic+json": {
              "type": "string"
            },
            "text/plain": [
              "'A small sample of texts from Project Gutenberg appears in the NLTK corpus collection However you may be interested in analyzing other texts from Project Gutenberg You can browse the catalog of  free online books at  and obtain a URL to an ASCII text file Although  of the texts in Project Gutenberg are in English it includes material in over  other languages including Catalan Chinese Dutch Finnish French German Italian Portuguese and Spanish with more than  texts each Text number  is an English translation of Crime and Punishment and we can access it as follows'"
            ]
          },
          "metadata": {},
          "execution_count": 5
        }
      ]
    },
    {
      "cell_type": "markdown",
      "metadata": {
        "id": "WAu7P6ngkREO"
      },
      "source": [
        "## Lowering the text:\n",
        "Refer to the link mentioned above and lower the case of the text "
      ]
    },
    {
      "cell_type": "code",
      "metadata": {
        "id": "2fLB5btPkREP",
        "colab": {
          "base_uri": "https://localhost:8080/",
          "height": 86
        },
        "outputId": "db8880ce-faa1-4352-ae9d-88cc1fecba67"
      },
      "source": [
        "#Write your code below to convert text to lowercase:\n",
        "lower_text = no_num_text.lower()\n",
        "lower_text"
      ],
      "execution_count": null,
      "outputs": [
        {
          "output_type": "execute_result",
          "data": {
            "application/vnd.google.colaboratory.intrinsic+json": {
              "type": "string"
            },
            "text/plain": [
              "'a small sample of texts from project gutenberg appears in the nltk corpus collection however you may be interested in analyzing other texts from project gutenberg you can browse the catalog of  free online books at  and obtain a url to an ascii text file although  of the texts in project gutenberg are in english it includes material in over  other languages including catalan chinese dutch finnish french german italian portuguese and spanish with more than  texts each text number  is an english translation of crime and punishment and we can access it as follows'"
            ]
          },
          "metadata": {},
          "execution_count": 6
        }
      ]
    },
    {
      "cell_type": "markdown",
      "metadata": {
        "id": "qWZEkPHhkREQ"
      },
      "source": [
        "## Tokenisation:\n",
        "\n",
        " In this step, the text is split into smaller units. We can use either sentence tokenization or word tokenization based on our problem statement.\n",
        "\n",
        "Learn more about tokenization here: https://www.analyticsvidhya.com/blog/2019/07/how-get-started-nlp-6-unique-ways-perform-tokenization/"
      ]
    },
    {
      "cell_type": "code",
      "metadata": {
        "id": "2zmmLqjlkREQ",
        "colab": {
          "base_uri": "https://localhost:8080/"
        },
        "outputId": "2dc15df8-2398-4d4c-8469-61aedc8af781"
      },
      "source": [
        "#Perform tokenization on our text using nltk\n",
        "token_text = nltk.word_tokenize(lower_text)\n",
        "token_text"
      ],
      "execution_count": null,
      "outputs": [
        {
          "output_type": "execute_result",
          "data": {
            "text/plain": [
              "['a',\n",
              " 'small',\n",
              " 'sample',\n",
              " 'of',\n",
              " 'texts',\n",
              " 'from',\n",
              " 'project',\n",
              " 'gutenberg',\n",
              " 'appears',\n",
              " 'in',\n",
              " 'the',\n",
              " 'nltk',\n",
              " 'corpus',\n",
              " 'collection',\n",
              " 'however',\n",
              " 'you',\n",
              " 'may',\n",
              " 'be',\n",
              " 'interested',\n",
              " 'in',\n",
              " 'analyzing',\n",
              " 'other',\n",
              " 'texts',\n",
              " 'from',\n",
              " 'project',\n",
              " 'gutenberg',\n",
              " 'you',\n",
              " 'can',\n",
              " 'browse',\n",
              " 'the',\n",
              " 'catalog',\n",
              " 'of',\n",
              " 'free',\n",
              " 'online',\n",
              " 'books',\n",
              " 'at',\n",
              " 'and',\n",
              " 'obtain',\n",
              " 'a',\n",
              " 'url',\n",
              " 'to',\n",
              " 'an',\n",
              " 'ascii',\n",
              " 'text',\n",
              " 'file',\n",
              " 'although',\n",
              " 'of',\n",
              " 'the',\n",
              " 'texts',\n",
              " 'in',\n",
              " 'project',\n",
              " 'gutenberg',\n",
              " 'are',\n",
              " 'in',\n",
              " 'english',\n",
              " 'it',\n",
              " 'includes',\n",
              " 'material',\n",
              " 'in',\n",
              " 'over',\n",
              " 'other',\n",
              " 'languages',\n",
              " 'including',\n",
              " 'catalan',\n",
              " 'chinese',\n",
              " 'dutch',\n",
              " 'finnish',\n",
              " 'french',\n",
              " 'german',\n",
              " 'italian',\n",
              " 'portuguese',\n",
              " 'and',\n",
              " 'spanish',\n",
              " 'with',\n",
              " 'more',\n",
              " 'than',\n",
              " 'texts',\n",
              " 'each',\n",
              " 'text',\n",
              " 'number',\n",
              " 'is',\n",
              " 'an',\n",
              " 'english',\n",
              " 'translation',\n",
              " 'of',\n",
              " 'crime',\n",
              " 'and',\n",
              " 'punishment',\n",
              " 'and',\n",
              " 'we',\n",
              " 'can',\n",
              " 'access',\n",
              " 'it',\n",
              " 'as',\n",
              " 'follows']"
            ]
          },
          "metadata": {},
          "execution_count": 7
        }
      ]
    },
    {
      "cell_type": "markdown",
      "metadata": {
        "id": "l5nEQUpLkREQ"
      },
      "source": [
        "## Stop word removal\n",
        "\n",
        "Stopwords are the commonly used words and are removed from the text as they do not add any value to the analysis. These words carry less or no meaning.\n",
        "\n",
        " NLTK library consists of a list of words that are considered stopwords for the English language. Some of them are : [i, me, my, myself, we, our, ours, ourselves, you, you’re, you’ve, you’ll, you’d, your, yours, yourself, yourselves, he, most, other, some, such, no, nor, not, only, own, same, so, then, too, very, s, t, can, will, just, don, don’t, should, should’ve, now, d, ll, m, o, re, ve, y, ain, aren’t, could, couldn’t, didn’t, didn’t]\n",
        "\n",
        "But it is not necessary to use the provided list as stopwords as they should be chosen wisely based on the project. For example, ‘How’ can be a stop word for a model but can be important for some other problem where we are working on the queries of the customers. We can create a customized list of stop words for different problems."
      ]
    },
    {
      "cell_type": "code",
      "metadata": {
        "id": "mW4oea2fkRER",
        "colab": {
          "base_uri": "https://localhost:8080/"
        },
        "outputId": "afcb84f0-197e-4926-d269-72c14f579b01"
      },
      "source": [
        "#Remove stop words from text using NLTK\n",
        "no_stop_text = [word for word in token_text if word not in nltk.corpus.stopwords.words('english')]\n",
        "no_stop_text"
      ],
      "execution_count": null,
      "outputs": [
        {
          "output_type": "execute_result",
          "data": {
            "text/plain": [
              "['small',\n",
              " 'sample',\n",
              " 'texts',\n",
              " 'project',\n",
              " 'gutenberg',\n",
              " 'appears',\n",
              " 'nltk',\n",
              " 'corpus',\n",
              " 'collection',\n",
              " 'however',\n",
              " 'may',\n",
              " 'interested',\n",
              " 'analyzing',\n",
              " 'texts',\n",
              " 'project',\n",
              " 'gutenberg',\n",
              " 'browse',\n",
              " 'catalog',\n",
              " 'free',\n",
              " 'online',\n",
              " 'books',\n",
              " 'obtain',\n",
              " 'url',\n",
              " 'ascii',\n",
              " 'text',\n",
              " 'file',\n",
              " 'although',\n",
              " 'texts',\n",
              " 'project',\n",
              " 'gutenberg',\n",
              " 'english',\n",
              " 'includes',\n",
              " 'material',\n",
              " 'languages',\n",
              " 'including',\n",
              " 'catalan',\n",
              " 'chinese',\n",
              " 'dutch',\n",
              " 'finnish',\n",
              " 'french',\n",
              " 'german',\n",
              " 'italian',\n",
              " 'portuguese',\n",
              " 'spanish',\n",
              " 'texts',\n",
              " 'text',\n",
              " 'number',\n",
              " 'english',\n",
              " 'translation',\n",
              " 'crime',\n",
              " 'punishment',\n",
              " 'access',\n",
              " 'follows']"
            ]
          },
          "metadata": {},
          "execution_count": 8
        }
      ]
    },
    {
      "cell_type": "markdown",
      "metadata": {
        "id": "77ZcUcXOkRER"
      },
      "source": [
        "## Stemming:<br>\n",
        "Stemming and lemmatization are really important. Read about them here: <br>https://nlp.stanford.edu/IR-book/html/htmledition/stemming-and-lemmatization-1.html\n",
        "<br> Watch some videos on YouTube if you want a deeper understanding!"
      ]
    },
    {
      "cell_type": "code",
      "metadata": {
        "id": "F5hIqgVnkRES",
        "colab": {
          "base_uri": "https://localhost:8080/",
          "height": 34
        },
        "outputId": "5d5d7b40-7e8b-49c6-9462-e454e46a1c28"
      },
      "source": [
        "#Apply stemming(PorterStemmer) to the text we got after stopword removal and store the resulting list in a\n",
        "# variable called \"stemmed_text\"\n",
        "# Write code here\n",
        "from nltk.stem import PorterStemmer\n",
        "\n",
        "ps = PorterStemmer()\n",
        "stemmed_text = []\n",
        "for word in no_stop_text:\n",
        "  stemmed_text.append(ps.stem(word))\n",
        "\n",
        "# DO NOT CHANGE\n",
        "assert stemmed_text == ['small','sampl','text','project','gutenberg','appear','nltk','corpu','collect','howev','may','interest','analyz','text','project','gutenberg','brows','catalog','free','onlin','book','obtain','url','ascii','text','file','although','text','project','gutenberg','english','includ','materi','languag','includ','catalan','chines','dutch','finnish','french','german','italian','portugues','spanish','text','text','number','english','translat','crime','punish','access','follow'], \\\n",
        "       \"Hmmm...your list doesn't seem to match with ours.\"\n",
        "HTML('<div class=\"alert alert-block alert-success\">Your list look good!</div>')"
      ],
      "execution_count": null,
      "outputs": [
        {
          "output_type": "execute_result",
          "data": {
            "text/html": [
              "<div class=\"alert alert-block alert-success\">Your list look good!</div>"
            ],
            "text/plain": [
              "<IPython.core.display.HTML object>"
            ]
          },
          "metadata": {},
          "execution_count": 9
        }
      ]
    },
    {
      "cell_type": "markdown",
      "metadata": {
        "id": "iYJxJRxJkRES"
      },
      "source": [
        "## Lemmatization:"
      ]
    },
    {
      "cell_type": "code",
      "metadata": {
        "id": "0__C4BLOkRES",
        "colab": {
          "base_uri": "https://localhost:8080/",
          "height": 34
        },
        "outputId": "95597394-8659-48e1-d7e8-78dd2102554d"
      },
      "source": [
        "#Apply lemmatization (WordNetLemmatizer) to the text we got after stopword removal, and store the resulting list in a\n",
        "# variable called \"lemmatized_text\":\n",
        "# Write code here\n",
        "\n",
        "from nltk.stem import WordNetLemmatizer\n",
        " \n",
        "wnl = WordNetLemmatizer()\n",
        "lemmatized_text = []\n",
        "for word in no_stop_text:\n",
        "  lemmatized_text.append(wnl.lemmatize(word))\n",
        "\n",
        "# DO NOT CHANGE\n",
        "assert lemmatized_text == ['small', 'sample', 'text', 'project', 'gutenberg', 'appears', 'nltk', 'corpus', 'collection', 'however', 'may', 'interested', 'analyzing', 'text', 'project', 'gutenberg', 'browse', 'catalog', 'free', 'online', 'book', 'obtain', 'url', 'ascii', 'text', 'file', 'although', 'text', 'project', 'gutenberg', 'english', 'includes', 'material', 'language', 'including', 'catalan', 'chinese', 'dutch', 'finnish', 'french', 'german', 'italian', 'portuguese', 'spanish', 'text', 'text', 'number', 'english', 'translation', 'crime', 'punishment', 'access', 'follows'], \\\n",
        "       \"Hmmm...your list doesn't seem to match with ours.\"\n",
        "HTML('<div class=\"alert alert-block alert-success\">Your list look good!</div>')"
      ],
      "execution_count": null,
      "outputs": [
        {
          "output_type": "execute_result",
          "data": {
            "text/html": [
              "<div class=\"alert alert-block alert-success\">Your list look good!</div>"
            ],
            "text/plain": [
              "<IPython.core.display.HTML object>"
            ]
          },
          "metadata": {},
          "execution_count": 10
        }
      ]
    },
    {
      "cell_type": "markdown",
      "metadata": {
        "id": "D6PpMAhQJ_XR"
      },
      "source": [
        "### Now that the text is cleaned, the next step is to transform it into a form that can be fed into a machine learning model. We'll dive deeper into this next week, but let's go through one technique and see what word embeddings are!"
      ]
    },
    {
      "cell_type": "markdown",
      "metadata": {
        "id": "BgD99T-QJ_XR"
      },
      "source": [
        "# An Introduction to Word Embeddings"
      ]
    },
    {
      "cell_type": "markdown",
      "metadata": {
        "id": "CHcKa7Y9J_XS"
      },
      "source": [
        "Many people would say the breakthrough of deep learning in Natural Language Processing started with the introduction of word embeddings. Rather than using the words themselves as features, neural network methods typically take as input dense, relatively low-dimensional vectors that model the meaning and usage of a word. Word embeddings were first popularized through the [Word2Vec](https://arxiv.org/abs/1301.3781) model, developed by Thomas Mikolov and colleagues at Google. Since then, scores of alternative approaches have been developed, such as [GloVe](https://nlp.stanford.edu/projects/glove/) and [FastText](https://fasttext.cc/) embeddings. In this notebook, we'll explore word embeddings with the original Word2Vec approach, as implemented in the [Gensim](https://radimrehurek.com/gensim/) library. "
      ]
    },
    {
      "cell_type": "markdown",
      "metadata": {
        "id": "wowMOzkJJ_XS"
      },
      "source": [
        "## Training word embeddings"
      ]
    },
    {
      "cell_type": "markdown",
      "metadata": {
        "id": "coEZW3t6J_XS"
      },
      "source": [
        "Training word embeddings with Gensim couldn't be easier. The only thing we need is a corpus of sentences in the language under investigation. For our experiments, we're going to use the abstracts of all ArXiv papers in the category cs.CL (computation and language) that were published before mid-April 2021 — a total of around 25,000 documents. We tokenize these abstracts with spaCy. "
      ]
    },
    {
      "cell_type": "code",
      "metadata": {
        "colab": {
          "base_uri": "https://localhost:8080/"
        },
        "id": "uQ49-DgseM6C",
        "outputId": "7c1cafa8-438b-4a0f-96bf-bb6701385734"
      },
      "source": [
        "from google.colab import drive\n",
        "drive.mount(\"/content/gdrive\")\n"
      ],
      "execution_count": null,
      "outputs": [
        {
          "output_type": "stream",
          "name": "stdout",
          "text": [
            "Mounted at /content/gdrive\n"
          ]
        }
      ]
    },
    {
      "cell_type": "code",
      "metadata": {
        "id": "c4q6zei8J_XS"
      },
      "source": [
        "import os\n",
        "import csv\n",
        "import spacy\n",
        "\n",
        "class Corpus(object):\n",
        "\n",
        "    def __init__(self, filename):\n",
        "        self.filename = filename\n",
        "        self.nlp = spacy.blank(\"en\")\n",
        "        \n",
        "    def __iter__(self):\n",
        "        with open(self.filename, encoding=\"utf8\") as i:\n",
        "            reader = csv.reader(i, delimiter=\",\")\n",
        "            for _, abstract in reader:\n",
        "                tokens = [t.text.lower() for t in self.nlp(abstract)]\n",
        "                yield tokens\n",
        "                            \n",
        "                    \n",
        "documents = Corpus(\"/content/gdrive/MyDrive/Week 6 NLP/arxiv.csv\")"
      ],
      "execution_count": null,
      "outputs": []
    },
    {
      "cell_type": "markdown",
      "metadata": {
        "id": "qeZPbKZwJ_XT"
      },
      "source": [
        "When we train our word embeddings, gensim allows us to set a number of parameters. The most important of these are `min_count`, `window`, `vector_size` and `sg`:\n",
        "\n",
        "- `min_count` is the minimum frequency of the words in our corpus. For infrequent words, we just don't have enough information to train reliable word embeddings. It therefore makes sense to set this minimum frequency to at least 10. In these experiments, we'll set it to 100 to limit the size of our model even more.\n",
        "- `window` is the number of words to the left and to the right that make up the context that word2vec will take into account.\n",
        "- `vector_size` is the dimensionality of the word vectors. This is generally between 100 and 1000. This dimensionality often forces us to make a trade-off: embeddings with a higher dimensionality are able to model more information, but also need more data to train.\n",
        "- `sg`: there are two algorithms to train word2vec: skip-gram and CBOW. Skip-gram tries to predict the context on the basis of the target word; CBOW tries to find the target on the basis of the context. By default, Gensim uses CBOW (`sg=0`).\n",
        "\n",
        "We'll investigate the impact of some of these parameters later."
      ]
    },
    {
      "cell_type": "code",
      "metadata": {
        "id": "7Xm0VXwsJ_XT"
      },
      "source": [
        " import gensim\n",
        "# will take some time to run\n",
        "model = gensim.models.Word2Vec(documents, min_count=100, window=5, size=100)"
      ],
      "execution_count": null,
      "outputs": []
    },
    {
      "cell_type": "markdown",
      "metadata": {
        "id": "k-zCbY-dJ_XT"
      },
      "source": [
        "## Using word embeddings"
      ]
    },
    {
      "cell_type": "markdown",
      "metadata": {
        "id": "lrUxu0zmJ_XT"
      },
      "source": [
        "Let's take a look at the trained model. The word embeddings are on its `wv` attribute, and we can access them by the using the token as key. For example, here is the embedding for *nlp*, with the requested 100 dimensions."
      ]
    },
    {
      "cell_type": "code",
      "metadata": {
        "id": "j8t1fKmkJ_XU",
        "colab": {
          "base_uri": "https://localhost:8080/"
        },
        "outputId": "a2317db6-314c-4b35-bffc-729dbcbb5b99"
      },
      "source": [
        "model.wv[\"nlp\"]"
      ],
      "execution_count": null,
      "outputs": [
        {
          "output_type": "execute_result",
          "data": {
            "text/plain": [
              "array([-0.9116053 , -2.965513  ,  0.47489363,  0.09667607,  2.7268543 ,\n",
              "       -0.11169188,  0.7621104 , -2.3448303 , -1.2218007 , -1.1129942 ,\n",
              "       -2.0189393 ,  0.30525172, -3.1798768 , -2.054118  ,  1.609742  ,\n",
              "        1.6911311 , -2.5617008 , -0.63373196, -2.2439837 ,  1.1389228 ,\n",
              "       -1.4253004 , -1.4484138 ,  1.006539  , -0.69368356,  1.3376311 ,\n",
              "       -0.55412424,  0.50727767,  2.952512  , -1.1965094 ,  1.0725707 ,\n",
              "        0.31474417,  1.7337786 ,  2.1792789 ,  1.4775729 ,  1.5037911 ,\n",
              "       -0.455674  ,  0.07254469, -2.7869003 ,  1.4847922 ,  0.08020453,\n",
              "        1.796183  , -1.9339464 , -0.17343141, -0.03963549, -1.1967704 ,\n",
              "        0.981536  ,  2.602295  ,  1.8533624 ,  1.3336778 ,  0.5071122 ,\n",
              "        0.516074  , -3.726528  , -1.4132893 , -0.6149967 , -1.8607855 ,\n",
              "       -0.77941275,  1.2809349 , -0.8657066 , -1.7945969 ,  1.751383  ,\n",
              "       -0.32337117,  1.4612651 , -0.8083901 , -1.2236816 , -1.4406576 ,\n",
              "       -0.16093272, -1.6859213 ,  0.8872588 ,  0.6772536 ,  0.57298774,\n",
              "        1.0847658 , -2.036851  ,  0.3301692 ,  1.951379  ,  0.6743546 ,\n",
              "        1.1510105 ,  0.9145217 , -1.2065023 ,  0.83502364, -0.71086663,\n",
              "        1.8757309 ,  0.21261947,  1.0556461 , -0.3668062 ,  0.1328833 ,\n",
              "       -0.00429406, -1.7850575 ,  0.85344404,  0.34169862,  0.15295456,\n",
              "        0.46953204,  0.9581442 ,  0.30073556, -0.2882738 , -1.7770429 ,\n",
              "       -1.1913472 ,  0.90894026, -0.11014611,  0.45427623,  0.6758271 ],\n",
              "      dtype=float32)"
            ]
          },
          "metadata": {},
          "execution_count": 17
        }
      ]
    },
    {
      "cell_type": "markdown",
      "metadata": {
        "id": "eY8k1ANJJ_XU"
      },
      "source": [
        "We can also easily find the similarity between two words. Similarity is measured as the cosine between the two word embeddings, and therefore ranges between -1 and +1. The higher the cosine, the more similar two words are. As expected, the figures below show that *nmt* (neural machine translation) is closer to *smt* (statistical machine translation) than to *ner* (named entity recognition)."
      ]
    },
    {
      "cell_type": "code",
      "metadata": {
        "id": "SRsm8uzSJ_XU",
        "colab": {
          "base_uri": "https://localhost:8080/"
        },
        "outputId": "e1299b85-cc58-4967-d488-690b81583d4b"
      },
      "source": [
        "print(model.wv.similarity(\"nmt\", \"smt\"))\n",
        "print(model.wv.similarity(\"nmt\", \"ner\"))"
      ],
      "execution_count": null,
      "outputs": [
        {
          "output_type": "stream",
          "name": "stdout",
          "text": [
            "0.6611309\n",
            "0.4215188\n"
          ]
        }
      ]
    },
    {
      "cell_type": "markdown",
      "metadata": {
        "id": "qYqI9kbHJ_XU"
      },
      "source": [
        "In a similar vein, we can find the words that are most similar to a target word. The words with the most similar embedding to *bert* are all semantically related to it: other types of pretrained models such as *roberta*, *mbert*, *xlm*, as well as the more general model type BERT represents (*transformer* and *transformers*), and more generally related words (*pretrained*)."
      ]
    },
    {
      "cell_type": "code",
      "metadata": {
        "id": "oy2Puof_J_XU",
        "colab": {
          "base_uri": "https://localhost:8080/"
        },
        "outputId": "d37808e8-9353-4c27-d1c7-e0c40941a1ee"
      },
      "source": [
        "model.wv.similar_by_word(\"bert\", topn=10)"
      ],
      "execution_count": null,
      "outputs": [
        {
          "output_type": "execute_result",
          "data": {
            "text/plain": [
              "[('roberta', 0.7773196697235107),\n",
              " ('transformer', 0.7737826108932495),\n",
              " ('transformers', 0.7131725549697876),\n",
              " ('elmo', 0.6901297569274902),\n",
              " ('pretrained', 0.6807119846343994),\n",
              " ('gpt-2', 0.6450963020324707),\n",
              " ('lstm', 0.6440267562866211),\n",
              " ('xlnet', 0.6379806995391846),\n",
              " ('xlm', 0.6309302449226379),\n",
              " ('mbert', 0.6102205514907837)]"
            ]
          },
          "metadata": {},
          "execution_count": 19
        }
      ]
    },
    {
      "cell_type": "markdown",
      "metadata": {
        "id": "dafgU4Z1J_XV"
      },
      "source": [
        "Interestingly, we can look for words that are similar to a set of words and dissimilar to another set of words at the same time. This allows us to look for analogies of the type *BERT is to a transformer like an LSTM is to ...*. Our embedding model correctly predicts that LSTMs are a type of RNN, just like BERT is a particular type of transformer."
      ]
    },
    {
      "cell_type": "code",
      "metadata": {
        "id": "NJvu7ltIJ_XV",
        "colab": {
          "base_uri": "https://localhost:8080/"
        },
        "outputId": "a82bcee9-a18b-4fc4-e89a-a2b6922b6456"
      },
      "source": [
        "model.wv.most_similar(positive=[\"transformer\", \"lstm\"], negative=[\"bert\"], topn=1)"
      ],
      "execution_count": null,
      "outputs": [
        {
          "output_type": "execute_result",
          "data": {
            "text/plain": [
              "[('rnn', 0.8332663774490356)]"
            ]
          },
          "metadata": {},
          "execution_count": 20
        }
      ]
    },
    {
      "cell_type": "markdown",
      "metadata": {
        "id": "y-_KlbraJ_XV"
      },
      "source": [
        "Similarly, we can also zoom in on one of the meanings of ambiguous words. For example, in NLP *tree* has a very specific meaning, which is obvious from its nearest neighbours *constituency*, *parse*, *dependency* and *syntax*. "
      ]
    },
    {
      "cell_type": "code",
      "metadata": {
        "id": "LHggBmXNJ_XV",
        "colab": {
          "base_uri": "https://localhost:8080/"
        },
        "outputId": "7ef950dd-3aaa-45a6-84bf-a339b7f89de6"
      },
      "source": [
        "model.wv.most_similar(positive=[\"tree\"], topn=10)"
      ],
      "execution_count": null,
      "outputs": [
        {
          "output_type": "execute_result",
          "data": {
            "text/plain": [
              "[('trees', 0.7896065711975098),\n",
              " ('parse', 0.6936428546905518),\n",
              " ('constituency', 0.6894986629486084),\n",
              " ('recursive', 0.6667784452438354),\n",
              " ('constituent', 0.620308518409729),\n",
              " ('formalism', 0.6181507110595703),\n",
              " ('syntax', 0.6138830184936523),\n",
              " ('path', 0.6137829422950745),\n",
              " ('parser', 0.6088786125183105),\n",
              " ('grammars', 0.6086362600326538)]"
            ]
          },
          "metadata": {},
          "execution_count": 21
        }
      ]
    },
    {
      "cell_type": "markdown",
      "metadata": {
        "id": "cBMF1GvuJ_XV"
      },
      "source": [
        "However, if we specify we're looking for words that are similar to *tree*, but dissimilar to *syntax*, suddenly its standard meaning takes over, and *forest* crops up in its nearest neighbours."
      ]
    },
    {
      "cell_type": "code",
      "metadata": {
        "id": "tabYZoEgJ_XV",
        "colab": {
          "base_uri": "https://localhost:8080/"
        },
        "outputId": "ef93e7d8-7377-4cdf-9b25-8800a0323794"
      },
      "source": [
        "model.wv.most_similar(positive=[\"tree\"], negative=[\"syntax\"], topn=10)"
      ],
      "execution_count": null,
      "outputs": [
        {
          "output_type": "execute_result",
          "data": {
            "text/plain": [
              "[('forest', 0.5294276475906372),\n",
              " ('greedy', 0.4482787847518921),\n",
              " ('bayes', 0.44075697660446167),\n",
              " ('logistic', 0.4360007047653198),\n",
              " ('normalized', 0.4294506013393402),\n",
              " ('crf', 0.42792028188705444),\n",
              " ('regression', 0.4002816677093506),\n",
              " ('feed', 0.3994893431663513),\n",
              " ('modified', 0.3991941213607788),\n",
              " ('softmax', 0.3935477137565613)]"
            ]
          },
          "metadata": {},
          "execution_count": 22
        }
      ]
    },
    {
      "cell_type": "markdown",
      "metadata": {
        "id": "swPMmWNUJ_XW"
      },
      "source": [
        "Finally, we can present the word2vec model with a list of words and ask it to identify the odd one out. It then uses the word embeddings to identify the word that is least similar to the other ones. For example, in the list *lstm cnn gru svm transformer*, it correctly identifies *svm* as the only non-neural model. In the list *bert word2vec gpt-2 roberta xlnet*, it correctly singles out *word2vec* as the only non-transormer model. In *word2vec bert glove fasttext elmo*, *bert* is singled out as the only transformer."
      ]
    },
    {
      "cell_type": "code",
      "metadata": {
        "id": "zxh1mT3gJ_XW",
        "colab": {
          "base_uri": "https://localhost:8080/"
        },
        "outputId": "9d363cf9-8255-4a34-ed3c-49cae4478a4c"
      },
      "source": [
        "print(model.wv.doesnt_match(\"lstm cnn gru svm transformer\".split()))\n",
        "print(model.wv.doesnt_match(\"bert word2vec gpt-2 roberta xlnet\".split()))\n",
        "print(model.wv.doesnt_match(\"word2vec bert glove fasttext elmo\".split()))"
      ],
      "execution_count": null,
      "outputs": [
        {
          "output_type": "stream",
          "name": "stdout",
          "text": [
            "svm\n",
            "word2vec\n",
            "bert\n"
          ]
        },
        {
          "output_type": "stream",
          "name": "stderr",
          "text": [
            "/usr/local/lib/python3.7/dist-packages/gensim/models/keyedvectors.py:895: FutureWarning: arrays to stack must be passed as a \"sequence\" type such as list or tuple. Support for non-sequence iterables such as generators is deprecated as of NumPy 1.16 and will raise an error in the future.\n",
            "  vectors = vstack(self.word_vec(word, use_norm=True) for word in used_words).astype(REAL)\n"
          ]
        }
      ]
    },
    {
      "cell_type": "markdown",
      "metadata": {
        "id": "GYxi3f07J_XW"
      },
      "source": [
        "## Plotting embeddings"
      ]
    },
    {
      "cell_type": "markdown",
      "metadata": {
        "id": "RDMD9IUgJ_XW"
      },
      "source": [
        "Let's now visualize some of our embeddings. To plot embeddings with a dimensionality of 100 or more, we first need to map them to a dimensionality of 2. We do this with the popular [t-SNE](https://lvdmaaten.github.io/tsne/) method. T-SNE, short for t-distributed Stochastic Neighbor Embedding, helps us visualize high-dimensional data by mapping similar data to nearby points and dissimilar data to distance points in the low-dimensional space.\n",
        "\n",
        "T-SNE is present in [Scikit-learn](https://scikit-learn.org/stable/modules/generated/sklearn.manifold.TSNE.html). To run it, we just have to specify the number of dimensions we'd like to map the data to (`n_components`), and the similarity metric that t-SNE should use to compute the similarity between two data points (`metric`). We're going to map to 2 dimensions and use the cosine as our similarity metric. Additionally, we use PCA as an initialization method to remove some noise and speed up computation. The [Scikit-learn user guide](https://scikit-learn.org/stable/modules/manifold.html#t-sne) contains some additional tips for optimizing performance. \n",
        "\n",
        "Plotting all the embeddings in our vector space would result in a very crowded figure where the labels are hardly legible. Therefore we'll focus on a subset of embeddings by selecting the 200 most similar words to a target word. "
      ]
    },
    {
      "cell_type": "code",
      "metadata": {
        "id": "KvaMyh8gJ_XX",
        "colab": {
          "base_uri": "https://localhost:8080/"
        },
        "outputId": "24755cd1-2130-4457-e76a-c79b99d5365a"
      },
      "source": [
        "%matplotlib inline\n",
        "\n",
        "import pandas as pd\n",
        "import matplotlib\n",
        "import matplotlib.pyplot as plt\n",
        "\n",
        "from sklearn.manifold import TSNE\n",
        "\n",
        "target_word = \"bert\"\n",
        "selected_words = [w[0] for w in model.wv.most_similar(positive=[target_word], topn=200)] + [target_word]\n",
        "embeddings = [model.wv[w] for w in selected_words] + model.wv[\"bert\"]\n",
        "\n",
        "mapped_embeddings = TSNE(n_components=2, metric='cosine', init='pca').fit_transform(embeddings)\n",
        "mapped_embeddings"
      ],
      "execution_count": null,
      "outputs": [
        {
          "output_type": "execute_result",
          "data": {
            "text/plain": [
              "array([[ 1.5802501 ,  3.191577  ],\n",
              "       [-2.0862591 , -6.140106  ],\n",
              "       [ 0.820532  , -1.6983348 ],\n",
              "       [ 0.72077584,  2.2423012 ],\n",
              "       [-2.2552648 ,  3.514285  ],\n",
              "       [ 0.49783656,  3.0311837 ],\n",
              "       [-1.124397  , -5.365649  ],\n",
              "       [ 1.3254868 ,  2.7248452 ],\n",
              "       [ 1.8219249 ,  3.0170681 ],\n",
              "       [ 1.5836824 ,  2.2492285 ],\n",
              "       [ 2.2439573 ,  2.5421236 ],\n",
              "       [-1.2459519 ,  1.5034279 ],\n",
              "       [-0.9486938 , -5.810005  ],\n",
              "       [-1.0600972 , -3.410769  ],\n",
              "       [-1.9537596 ,  4.632938  ],\n",
              "       [-0.79158014, -4.5364337 ],\n",
              "       [ 0.6948273 , -2.7236288 ],\n",
              "       [-0.08231197,  1.7568177 ],\n",
              "       [ 0.43234196,  1.7892658 ],\n",
              "       [-2.8388991 , -8.31878   ],\n",
              "       [-0.78478235,  3.3786235 ],\n",
              "       [ 0.12880819,  1.8270837 ],\n",
              "       [ 5.279716  ,  2.437587  ],\n",
              "       [-1.949507  , -3.8895564 ],\n",
              "       [ 1.7215421 , -3.3789725 ],\n",
              "       [-4.863173  ,  3.7157273 ],\n",
              "       [-0.06454033, -4.7017336 ],\n",
              "       [10.088006  , -1.0578005 ],\n",
              "       [ 9.3131895 , -4.7220516 ],\n",
              "       [ 0.57212263, -2.4828267 ],\n",
              "       [ 5.6903143 , -1.9758091 ],\n",
              "       [-0.1530556 , -0.8316571 ],\n",
              "       [-2.1178753 , -4.8555512 ],\n",
              "       [-0.03475475, -6.6517544 ],\n",
              "       [ 1.1503353 , -8.419503  ],\n",
              "       [-0.92740095, -3.9218574 ],\n",
              "       [ 6.1308002 , -7.7005954 ],\n",
              "       [-8.3988285 , -7.29764   ],\n",
              "       [-4.729398  ,  3.612152  ],\n",
              "       [ 2.067536  , -2.2410836 ],\n",
              "       [-3.9917338 , -4.0697007 ],\n",
              "       [-5.9995756 , -8.997855  ],\n",
              "       [ 1.5237117 ,  0.8775565 ],\n",
              "       [-7.916076  , -2.1451292 ],\n",
              "       [ 5.267504  , -4.383807  ],\n",
              "       [11.986851  ,  3.9461164 ],\n",
              "       [-5.9662914 ,  7.6169095 ],\n",
              "       [-7.680422  ,  0.6721836 ],\n",
              "       [-3.4208999 , -6.3958817 ],\n",
              "       [-2.5805357 , -8.331155  ],\n",
              "       [ 9.101428  , -4.515762  ],\n",
              "       [-0.01626594, -2.1014647 ],\n",
              "       [-5.213068  , -8.455008  ],\n",
              "       [ 1.8496766 , -6.176213  ],\n",
              "       [ 4.2145696 ,  5.958079  ],\n",
              "       [-1.9520781 ,  2.0862806 ],\n",
              "       [ 4.1128287 ,  5.751763  ],\n",
              "       [-5.9677997 ,  7.6180573 ],\n",
              "       [ 2.752361  ,  7.37874   ],\n",
              "       [-0.45662466, -7.3378854 ],\n",
              "       [ 5.074505  ,  8.001671  ],\n",
              "       [-1.9145261 , -7.4372716 ],\n",
              "       [ 0.3180204 ,  6.526148  ],\n",
              "       [-4.7533216 , -5.74539   ],\n",
              "       [ 4.0295296 ,  7.624707  ],\n",
              "       [ 0.38491476,  4.296716  ],\n",
              "       [ 0.16089767, -6.860112  ],\n",
              "       [12.003962  ,  3.9289246 ],\n",
              "       [ 8.520932  , 10.860222  ],\n",
              "       [ 2.777076  ,  1.6768743 ],\n",
              "       [-2.07337   ,  7.432972  ],\n",
              "       [-2.814804  ,  3.6486032 ],\n",
              "       [ 3.060974  , -8.013468  ],\n",
              "       [ 3.8709424 ,  5.464804  ],\n",
              "       [-4.3664675 ,  0.02715516],\n",
              "       [10.054294  ,  2.825875  ],\n",
              "       [ 2.172918  ,  1.8261774 ],\n",
              "       [-4.734628  , -5.886655  ],\n",
              "       [-0.54126316, -2.5470252 ],\n",
              "       [-1.511789  ,  7.5630226 ],\n",
              "       [ 1.403155  , -2.503149  ],\n",
              "       [ 1.7361243 ,  9.704542  ],\n",
              "       [-1.1264925 ,  4.3915644 ],\n",
              "       [-0.9913926 , -1.2409102 ],\n",
              "       [ 5.0378656 ,  2.4464176 ],\n",
              "       [-1.4955175 , -2.7417498 ],\n",
              "       [ 4.5274706 ,  7.833587  ],\n",
              "       [-6.284183  ,  0.55096525],\n",
              "       [-8.130854  , -6.800445  ],\n",
              "       [ 8.483998  ,  3.1942053 ],\n",
              "       [ 8.519863  ,  9.893998  ],\n",
              "       [-2.8378155 ,  5.5584383 ],\n",
              "       [ 0.44429177, -5.499107  ],\n",
              "       [ 6.83358   , -8.169795  ],\n",
              "       [-7.0308304 , -3.0435536 ],\n",
              "       [-2.0745754 , -4.625563  ],\n",
              "       [ 7.2757764 , -8.135896  ],\n",
              "       [ 3.7052402 , -0.11352427],\n",
              "       [ 5.24367   , -4.7652016 ],\n",
              "       [-3.2700634 , -3.287995  ],\n",
              "       [-2.3928442 ,  0.99811393],\n",
              "       [-3.4713597 , -2.4162626 ],\n",
              "       [-6.708668  , -0.43374017],\n",
              "       [-6.3269396 ,  0.6337879 ],\n",
              "       [ 0.6132219 ,  0.16704853],\n",
              "       [-3.1573045 , -3.8837514 ],\n",
              "       [-5.4021096 ,  4.151929  ],\n",
              "       [-2.2066016 ,  0.07981459],\n",
              "       [-2.8341272 , -0.47682267],\n",
              "       [-0.14477319, -8.833994  ],\n",
              "       [ 6.316997  ,  4.808051  ],\n",
              "       [ 8.320246  ,  3.2766004 ],\n",
              "       [ 5.6986747 ,  5.421627  ],\n",
              "       [-0.32889858, -3.7020974 ],\n",
              "       [ 1.1065265 , -4.687981  ],\n",
              "       [-1.714923  , -1.5282185 ],\n",
              "       [ 6.2142086 , -7.7154307 ],\n",
              "       [ 3.0366235 , -4.315754  ],\n",
              "       [-7.7801523 , -4.9756927 ],\n",
              "       [-3.1417172 ,  9.276416  ],\n",
              "       [-0.81082165,  6.781102  ],\n",
              "       [ 9.661581  , -5.0249476 ],\n",
              "       [-3.5641685 , -1.825844  ],\n",
              "       [ 4.4437437 ,  4.148046  ],\n",
              "       [-0.09421358, 10.340517  ],\n",
              "       [10.50898   ,  5.5005774 ],\n",
              "       [ 1.3172835 , -7.9875054 ],\n",
              "       [ 4.863779  , -0.6573606 ],\n",
              "       [ 0.81243813,  6.895869  ],\n",
              "       [ 5.8797684 ,  2.374536  ],\n",
              "       [-4.362135  , -2.9251487 ],\n",
              "       [ 8.518547  , 10.42866   ],\n",
              "       [-2.77702   , -1.0658764 ],\n",
              "       [ 9.822063  ,  5.9747252 ],\n",
              "       [ 2.7696013 ,  9.428239  ],\n",
              "       [10.103856  , -1.0517056 ],\n",
              "       [-0.5928153 , -7.7967405 ],\n",
              "       [ 3.9092493 ,  8.291786  ],\n",
              "       [-4.9796605 , -2.129152  ],\n",
              "       [ 0.04803115,  6.691875  ],\n",
              "       [ 7.321417  ,  3.402027  ],\n",
              "       [-5.6377554 , -5.1702623 ],\n",
              "       [-1.9770312 , -2.7962892 ],\n",
              "       [ 1.3098733 , -9.27833   ],\n",
              "       [ 1.3262769 , -1.4343579 ],\n",
              "       [-1.8030142 ,  0.2154836 ],\n",
              "       [ 2.2524815 ,  4.5900774 ],\n",
              "       [ 1.3350393 , -0.02625561],\n",
              "       [ 1.6190825 , -5.9779634 ],\n",
              "       [ 4.105834  , -2.7866416 ],\n",
              "       [ 9.748148  ,  5.6555037 ],\n",
              "       [-6.8135386 , -3.1476092 ],\n",
              "       [ 2.2971666 ,  0.7168916 ],\n",
              "       [ 1.2276994 ,  9.316692  ],\n",
              "       [ 4.8742323 ,  4.423343  ],\n",
              "       [-4.124302  ,  1.6056573 ],\n",
              "       [ 7.8589563 ,  9.222344  ],\n",
              "       [ 7.314243  , -1.8458776 ],\n",
              "       [ 8.814595  ,  9.515302  ],\n",
              "       [ 3.7076378 ,  4.27868   ],\n",
              "       [ 3.817119  , -0.6786792 ],\n",
              "       [ 7.208743  ,  6.4153457 ],\n",
              "       [ 2.6410866 ,  3.1374142 ],\n",
              "       [ 0.40442905,  6.3268156 ],\n",
              "       [-6.040263  ,  0.4450001 ],\n",
              "       [-8.534254  , -7.431748  ],\n",
              "       [ 3.7623234 ,  8.89282   ],\n",
              "       [ 7.583952  , -0.23582888],\n",
              "       [ 5.809815  ,  0.7365989 ],\n",
              "       [ 2.8619585 , -6.851923  ],\n",
              "       [ 2.3539681 ,  3.779021  ],\n",
              "       [ 4.7428994 ,  0.47120303],\n",
              "       [ 3.4954252 ,  2.5510223 ],\n",
              "       [ 9.791609  , -5.119135  ],\n",
              "       [10.093763  ,  2.7551603 ],\n",
              "       [-3.993897  , -0.28631446],\n",
              "       [ 5.62552   , -4.470395  ],\n",
              "       [-0.9443756 ,  3.0969853 ],\n",
              "       [-4.116271  ,  1.617907  ],\n",
              "       [ 2.2135646 , -0.7914904 ],\n",
              "       [-0.58844787,  0.5971818 ],\n",
              "       [ 5.785995  ,  8.126769  ],\n",
              "       [ 3.804184  ,  7.2454486 ],\n",
              "       [-6.182852  ,  4.2561316 ],\n",
              "       [ 3.2295063 , -7.3263464 ],\n",
              "       [-2.2297106 , -3.3233414 ],\n",
              "       [-1.5960562 , -0.14369166],\n",
              "       [ 0.36972442, -4.4999986 ],\n",
              "       [-6.076834  , -9.115087  ],\n",
              "       [-3.4744983 ,  5.7874527 ],\n",
              "       [-3.3900728 , -5.347057  ],\n",
              "       [-0.10425817,  7.937395  ],\n",
              "       [ 2.9811807 ,  0.21998373],\n",
              "       [ 2.9815733 ,  6.692372  ],\n",
              "       [-7.487145  ,  2.6760812 ],\n",
              "       [ 3.4448323 , -2.2897248 ],\n",
              "       [ 8.822559  ,  5.257311  ],\n",
              "       [ 5.7315764 , -7.39079   ],\n",
              "       [ 4.0934186 ,  9.7708645 ],\n",
              "       [ 7.341568  , -0.39376196],\n",
              "       [ 1.3962723 ,  1.3343632 ]], dtype=float32)"
            ]
          },
          "metadata": {},
          "execution_count": 30
        }
      ]
    },
    {
      "cell_type": "markdown",
      "metadata": {
        "id": "QUXnH3ATJ_XX"
      },
      "source": [
        "If we take *bert* as our target word, the figure shows some interesting patterns. In the immediate vicinity of *bert*, we find the similar transformer models that we already identified as its nearest neighbours earlier: *xlm*, *mbert*, *gpt-2*, and so on. Other parts of the picture have equally informative clusters of NLP tasks and benchmarks (*squad* and *glue*), languages (*german* and *english*), neural-network architectures (*lstm*, *gru*, etc.), embedding types (*word2vec*, *glove*, *fasttext*, *elmo*), etc. "
      ]
    },
    {
      "cell_type": "code",
      "metadata": {
        "id": "6wdn6q4OJ_XX",
        "colab": {
          "base_uri": "https://localhost:8080/",
          "height": 1000
        },
        "outputId": "6837435b-805f-43b9-a28e-9ceed09047cb"
      },
      "source": [
        "plt.figure(figsize=(20,20))\n",
        "x = mapped_embeddings[:,0]\n",
        "y = mapped_embeddings[:,1]\n",
        "plt.scatter(x, y)\n",
        "\n",
        "for i, txt in enumerate(selected_words):\n",
        "    plt.annotate(txt, (x[i], y[i]))"
      ],
      "execution_count": null,
      "outputs": [
        {
          "output_type": "display_data",
          "data": {
            "image/png": "[encoded data removed]",
            "text/plain": [
              "<Figure size 1440x1440 with 1 Axes>"
            ]
          },
          "metadata": {
            "needs_background": "light"
          }
        }
      ]
    },
    {
      "cell_type": "markdown",
      "metadata": {
        "id": "5b_IE83yJ_XX"
      },
      "source": [
        "## Conclusions"
      ]
    },
    {
      "cell_type": "markdown",
      "metadata": {
        "id": "tJnxvWm4J_XX"
      },
      "source": [
        "Word embeddings are one of the most exciting trends on Natural Language Processing since the 2000s. They allow us to model the meaning and usage of a word, and discover words that behave similarly. This is crucial for the generalization capacity of many machine learning models. Moving from raw strings to embeddings allows them to generalize across words that have a similar meaning, and discover patterns that had previously escaped them."
      ]
    }
  ]
}